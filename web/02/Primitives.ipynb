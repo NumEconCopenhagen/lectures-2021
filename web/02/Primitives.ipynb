{
 "cells": [
  {
   "cell_type": "markdown",
   "metadata": {},
   "source": [
    "# Lecture 02: Primitives"
   ]
  },
  {
   "cell_type": "markdown",
   "metadata": {},
   "source": [
    "[Download on GitHub](https://github.com/NumEconCopenhagen/lectures-2021)\n",
    "\n",
    "[<img src=\"https://mybinder.org/badge_logo.svg\">](https://mybinder.org/v2/gh/NumEconCopenhagen/lectures-2021/master?urlpath=lab/tree/02/Primitives.ipynb)"
   ]
  },
  {
   "cell_type": "markdown",
   "metadata": {},
   "source": [
    "1. [Your first notebook session](#Your-first-notebook-session)\n",
    "2. [Fundamentals](#Fundamentals)\n",
    "3. [Containers](#Containers)\n",
    "4. [Conditionals and loops](#Conditionals-and-loops)\n",
    "5. [Functions](#Functions)\n",
    "6. [Floating point numbers](#Floating-point-numbers)\n",
    "7. [Classes (user-defined types)](#Classes-(user-defined-types))\n",
    "8. [Summary](#Summary)\n",
    "9. [Extra: Iterators](#Extra:-Iterators)\n",
    "10. [Extra: More on functions](#Extra:-More-on-functions)\n"
   ]
  },
  {
   "cell_type": "markdown",
   "metadata": {},
   "source": [
    "You will be given an in-depth introduction to the **fundamentals of Python** (objects, variables, operators, classes, methods, functions, conditionals, loops). You learn to discriminate between different **types** such as integers, floats, strings, lists, tuples and dictionaries, and determine whether they are **subscriptable** (slicable) and/or **mutable**. You will learn about **referencing** and **scope**. You will learn a tiny bit about **floating point arithmetics**."
   ]
  },
  {
   "cell_type": "markdown",
   "metadata": {},
   "source": [
    "**Take-away:** This lecture is rather abstract compared to the rest of the course. The central take-away is **a language** to speak about programming in. An overview of the map, later we will study the terrain in detail. It is not about **memorizing**. Almost no code projects begin from scratch, you start by copying in similar code you have written for another project."
   ]
  },
  {
   "cell_type": "markdown",
   "metadata": {},
   "source": [
    "Hopefully, this notebook can later be used as a **reference sheet**. When you are done with the DataCamp courses, read through this notebook, play around with the code, and ask questions if there is stuff you do not understand. "
   ]
  },
  {
   "cell_type": "markdown",
   "metadata": {},
   "source": [
    "**Links:**\n",
    "\n",
    "* **Tutorial:** A more detailed tutorial is provided [here](https://www.python-course.eu/python3_course.php).\n",
    "* **Markdown:** All text cells are written in *Markdown*. A guide is provided [here](https://www.markdownguide.org/basic-syntax/)."
   ]
  },
  {
   "cell_type": "markdown",
   "metadata": {},
   "source": [
    "<a id=\"Your-first-notebook-session\"></a>\n",
    "\n",
    "# 1. Your first notebook session"
   ]
  },
  {
   "cell_type": "markdown",
   "metadata": {},
   "source": [
    "**Optimally:** You have this notebook open as well on your own computer."
   ]
  },
  {
   "cell_type": "markdown",
   "metadata": {},
   "source": [
    "**Download guide:**\n",
    "\n",
    "1. Follow the [installation guide](https://numeconcopenhagen.netlify.com/guides/python-setup/) in detail\n",
    "2. Open VScode\n",
    "3. Pres <kbd>Ctrl</kbd>+<kbd>Shift</kbd>+<kbd>P</kbd> \n",
    "4. Write `git: clone` + <kbd>Enter</kbd>\n",
    "5. Write `https://github.com/NumEconCopenhagen/lectures-2021` + <kbd>Enter</kbd>\n",
    "6. You can always update to the newest version of the code with `git: sync` + <kbd>Enter</kbd>\n",
    "7. Create a copy of the cloned folder, where you work with the code (otherwise you can not sync with updates)"
   ]
  },
  {
   "cell_type": "markdown",
   "metadata": {},
   "source": [
    "**PROBLEMS?** Ask your teaching asssistant ASAP."
   ]
  },
  {
   "cell_type": "markdown",
   "metadata": {},
   "source": [
    "**Execution:**\n",
    "\n",
    "* **Movements**: Arrows and scrolling\n",
    "* **Run cell and advance:** <kbd>Shift</kbd>+<kbd>Enter</kbd>\n",
    "* **Run cell**: <kbd>Ctrl</kbd>+<kbd>Enter</kbd>\n",
    "* **Edit:** <kbd>Enter</kbd>\n",
    "* **Toggle sidebar:** <kbd>Ctrl</kbd>+<kbd>B</kbd>\n",
    "* **Change to markdown cell:** <kbd>M</kbd>\n",
    "* **Change to code cell:** <kbd>Y</kbd>"
   ]
  },
  {
   "cell_type": "markdown",
   "metadata": {},
   "source": [
    "<a id=\"Fundamentals\"></a>\n",
    "\n",
    "# 2. Fundamentals"
   ]
  },
  {
   "cell_type": "markdown",
   "metadata": {},
   "source": [
    "All **variables** in Python is a **reference** to an **object** of some **type**."
   ]
  },
  {
   "cell_type": "markdown",
   "metadata": {},
   "source": [
    "## 2.1 Atomic types"
   ]
  },
  {
   "cell_type": "markdown",
   "metadata": {},
   "source": [
    "The most simple types are called **atomic**. Atomic indicates that they cannot be changed - only overwritten. "
   ]
  },
  {
   "cell_type": "markdown",
   "metadata": {},
   "source": [
    "**Integers (int):** -3, -2, -1, 0, 1, 2, 3, etc."
   ]
  },
  {
   "cell_type": "code",
   "execution_count": 46,
   "metadata": {},
   "outputs": [
    {
     "name": "stdout",
     "output_type": "stream",
     "text": [
      "<class 'int'>\n",
      "1\n"
     ]
    }
   ],
   "source": [
    "x = 1\n",
    "# variable x references an integer type object with a value of 1\n",
    "\n",
    "print(type(x)) # prints the type of x\n",
    "print(x) # prints the value of x"
   ]
  },
  {
   "cell_type": "markdown",
   "metadata": {},
   "source": [
    "**Decimal numbers (float)**: 3.14, 2.72, 1.0, etc."
   ]
  },
  {
   "cell_type": "code",
   "execution_count": 47,
   "metadata": {},
   "outputs": [
    {
     "name": "stdout",
     "output_type": "stream",
     "text": [
      "<class 'float'>\n",
      "1.2\n"
     ]
    }
   ],
   "source": [
    "x = 1.2\n",
    "# variable x references an floating point (decimal number) type object \n",
    "# with a value of 1.2 \n",
    "\n",
    "print(type(x))\n",
    "print(x)"
   ]
  },
  {
   "cell_type": "markdown",
   "metadata": {},
   "source": [
    "**Strings (str)**: 'abc', '123', 'this is a full sentence', etc."
   ]
  },
  {
   "cell_type": "code",
   "execution_count": 48,
   "metadata": {},
   "outputs": [
    {
     "name": "stdout",
     "output_type": "stream",
     "text": [
      "<class 'str'>\n",
      "abc\n"
     ]
    }
   ],
   "source": [
    "x = 'abc' \n",
    "# variable x references a string type opbject \n",
    "# with a value of 'abc'\n",
    "\n",
    "print(type(x))\n",
    "print(x)"
   ]
  },
  {
   "cell_type": "markdown",
   "metadata": {},
   "source": [
    "**Note:** Alternatively, use double quotes instead of single quotes."
   ]
  },
  {
   "cell_type": "code",
   "execution_count": null,
   "metadata": {},
   "outputs": [],
   "source": [
    "x = \"abc\" \n",
    "# variable x reference a string type opbject \n",
    "# with a value of 'abc'\n",
    "\n",
    "print(type(x))\n",
    "print(x)"
   ]
  },
  {
   "cell_type": "markdown",
   "metadata": {},
   "source": [
    "**Booleans (bool)**: True and False"
   ]
  },
  {
   "cell_type": "code",
   "execution_count": null,
   "metadata": {},
   "outputs": [],
   "source": [
    "x = True \n",
    "# variable x reference a boolean type opbject \n",
    "# with a value of False\n",
    "\n",
    "print(type(x))\n",
    "print(x)"
   ]
  },
  {
   "cell_type": "markdown",
   "metadata": {},
   "source": [
    "**Atomic types:**\n",
    "\n",
    "1. Integers, *int*\n",
    "2. Floating point numbers, *float*\n",
    "3. Strings, *str*\n",
    "4. Booleans, *bool*"
   ]
  },
  {
   "cell_type": "markdown",
   "metadata": {},
   "source": [
    "## 2.2 Type conversion"
   ]
  },
  {
   "cell_type": "markdown",
   "metadata": {},
   "source": [
    "Objects of one type can (sometimes) be **converted** into another type.<br>For example, from float to string:"
   ]
  },
  {
   "cell_type": "code",
   "execution_count": 49,
   "metadata": {},
   "outputs": [
    {
     "name": "stdout",
     "output_type": "stream",
     "text": [
      "1.2 <class 'str'>\n"
     ]
    }
   ],
   "source": [
    "x = 1.2\n",
    "# variable x references an floating point (decimal number) type object \n",
    "# with a value of 1.2 \n",
    "\n",
    "y = str(x) \n",
    "# variable y now references a string type object \n",
    "# with a value created based on x \n",
    "\n",
    "print(y,type(y))"
   ]
  },
  {
   "cell_type": "markdown",
   "metadata": {},
   "source": [
    "or from float to integer:"
   ]
  },
  {
   "cell_type": "code",
   "execution_count": 50,
   "metadata": {},
   "outputs": [
    {
     "name": "stdout",
     "output_type": "stream",
     "text": [
      "2 <class 'int'>\n"
     ]
    }
   ],
   "source": [
    "x = 2.9\n",
    "y = int(x) \n",
    "# variable x now references an integer type object \n",
    "# with a value created based on x (here rounded down)\n",
    "\n",
    "print(y,type(y))"
   ]
  },
  {
   "cell_type": "markdown",
   "metadata": {},
   "source": [
    "**Limitation:** You can, however, e.g. not convert a string to an integer."
   ]
  },
  {
   "cell_type": "code",
   "execution_count": 52,
   "metadata": {},
   "outputs": [
    {
     "name": "stdout",
     "output_type": "stream",
     "text": [
      "canNOT be done\n"
     ]
    }
   ],
   "source": [
    "try: # try to run this block\n",
    "    x = int('222a')\n",
    "    print('can be done')\n",
    "    print(x)\n",
    "except: # if any error found run this block instead\n",
    "    print('canNOT be done')"
   ]
  },
  {
   "cell_type": "markdown",
   "metadata": {},
   "source": [
    "**Note**: The identation is required (typically 4 spaces)."
   ]
  },
  {
   "cell_type": "markdown",
   "metadata": {},
   "source": [
    "**Question**: Can you convert a boolean variable `x = False` to an integer?\n",
    "\n",
    "- **A:** No\n",
    "- **B:** Yes, and the result is 0\n",
    "- **C:** Yes, and the result is 1\n",
    "- **D:** Yes, and the result is -1\n",
    "- **E:** Don't know"
   ]
  },
  {
   "cell_type": "markdown",
   "metadata": {},
   "source": [
    "**Socrative room:** *NUMECON*"
   ]
  },
  {
   "cell_type": "markdown",
   "metadata": {},
   "source": [
    "## 2.3 Operators"
   ]
  },
  {
   "cell_type": "markdown",
   "metadata": {},
   "source": [
    "Variables can be combined using **operators** (e.g. +, -, /, **).<br>For numbers we have:"
   ]
  },
  {
   "cell_type": "code",
   "execution_count": null,
   "metadata": {},
   "outputs": [],
   "source": [
    "x = 3\n",
    "y = 2\n",
    "print(x+y)\n",
    "print(x-y)\n",
    "print(x/y)\n",
    "print(x*y)"
   ]
  },
  {
   "cell_type": "markdown",
   "metadata": {},
   "source": [
    "For strings we can use an overloaded '+' for concatenation:"
   ]
  },
  {
   "cell_type": "code",
   "execution_count": 53,
   "metadata": {},
   "outputs": [
    {
     "name": "stdout",
     "output_type": "stream",
     "text": [
      "abcdef\n"
     ]
    }
   ],
   "source": [
    "x = 'abc'\n",
    "y = 'def'\n",
    "print(x+y)"
   ]
  },
  {
   "cell_type": "markdown",
   "metadata": {},
   "source": [
    "A string can also be multiplied by an integer:"
   ]
  },
  {
   "cell_type": "code",
   "execution_count": null,
   "metadata": {},
   "outputs": [],
   "source": [
    "x = 'abc'\n",
    "y = 2\n",
    "print(x*y)"
   ]
  },
  {
   "cell_type": "markdown",
   "metadata": {},
   "source": [
    "**Question**: What is the result of `x = 3**2`?\n",
    "\n",
    "- **A:** `x = 3`\n",
    "- **B:** `x = 6`\n",
    "- **C:** `x = 9`\n",
    "- **D:** `x = 12`\n",
    "- **E:** Don't know\n",
    "\n",
    "**Socrative room:** *NUMECON*"
   ]
  },
  {
   "cell_type": "markdown",
   "metadata": {},
   "source": [
    "**Note:** Standard division converts integers to floating point numbers."
   ]
  },
  {
   "cell_type": "code",
   "execution_count": 54,
   "metadata": {},
   "outputs": [
    {
     "name": "stdout",
     "output_type": "stream",
     "text": [
      "4.0 <class 'float'>\n",
      "2 <class 'int'>\n"
     ]
    }
   ],
   "source": [
    "x = 8\n",
    "y = x/2 # standard division\n",
    "z = x//3 # integer division\n",
    "print(y,type(y))\n",
    "print(z,type(z))"
   ]
  },
  {
   "cell_type": "markdown",
   "metadata": {},
   "source": [
    "## 2.4 Augmentation"
   ]
  },
  {
   "cell_type": "markdown",
   "metadata": {},
   "source": [
    "Variables can be changed using **augmentation operators** (e.g. +=, -=, *=, /=)"
   ]
  },
  {
   "cell_type": "code",
   "execution_count": null,
   "metadata": {},
   "outputs": [],
   "source": [
    "x = 3 \n",
    "print(x)\n",
    "x += 1 # same result as x = x+1\n",
    "print(x)\n",
    "x *= 2 # same result as x = x*2\n",
    "print(x)\n",
    "x /= 2 # same result as x = x/2\n",
    "print(x)"
   ]
  },
  {
   "cell_type": "markdown",
   "metadata": {},
   "source": [
    "## 2.5 Comparision"
   ]
  },
  {
   "cell_type": "markdown",
   "metadata": {},
   "source": [
    "Variables can be compared using **boolean operators** (e.g. ==, !=, <, <=, >, >=). "
   ]
  },
  {
   "cell_type": "code",
   "execution_count": null,
   "metadata": {},
   "outputs": [],
   "source": [
    "x = 3\n",
    "y = 2\n",
    "z = 10\n",
    "print(x < y) # less than\n",
    "print(x <= y) # less than or equal\n",
    "print(x != y) # not equal\n",
    "print(x == y) # equal"
   ]
  },
  {
   "cell_type": "markdown",
   "metadata": {},
   "source": [
    "The comparison returns a boolean variable:"
   ]
  },
  {
   "cell_type": "code",
   "execution_count": 55,
   "metadata": {},
   "outputs": [
    {
     "name": "stdout",
     "output_type": "stream",
     "text": [
      "False\n"
     ]
    }
   ],
   "source": [
    "z = x < y # z is now a boolean variable\n",
    "print(z)"
   ]
  },
  {
   "cell_type": "code",
   "execution_count": 56,
   "metadata": {},
   "outputs": [
    {
     "data": {
      "text/plain": [
       "bool"
      ]
     },
     "execution_count": 56,
     "metadata": {},
     "output_type": "execute_result"
    }
   ],
   "source": [
    "type(z)"
   ]
  },
  {
   "cell_type": "markdown",
   "metadata": {},
   "source": [
    "## 2.6 Summary"
   ]
  },
  {
   "cell_type": "markdown",
   "metadata": {},
   "source": [
    "The new central concepts are:\n",
    "\n",
    "1. Variable\n",
    "2. Reference\n",
    "3. Object\n",
    "4. Type (int, float, str, bool)\n",
    "5. Value\n",
    "6. Operator (+, -, *, **, /, //, % etc.)\n",
    "7. Augmentation (+=, -=, *=, /= etc.)\n",
    "8. Comparison (==, !=, <, <= etc.)"
   ]
  },
  {
   "cell_type": "markdown",
   "metadata": {},
   "source": [
    "<a id=\"Containers\"></a>\n",
    "\n",
    "# 3. Containers"
   ]
  },
  {
   "cell_type": "markdown",
   "metadata": {},
   "source": [
    "A more complicated type of object is a **container**. This is an object, which consists of serveral objects of e.g. an atomic type. They are also called **collection types**. "
   ]
  },
  {
   "cell_type": "markdown",
   "metadata": {},
   "source": [
    "## 3.1 Lists"
   ]
  },
  {
   "cell_type": "markdown",
   "metadata": {},
   "source": [
    "A first example is a **list**.  A list contains **variables** each **referencing** some **object**."
   ]
  },
  {
   "cell_type": "code",
   "execution_count": null,
   "metadata": {},
   "outputs": [],
   "source": [
    "x = [1,'abc'] \n",
    "# variable x references a list type object with elements\n",
    "# referencing 1 and 'abc'\n",
    "\n",
    "print(x,type(x))"
   ]
  },
  {
   "cell_type": "markdown",
   "metadata": {},
   "source": [
    "The **length** of a list can be found with the **len** function."
   ]
  },
  {
   "cell_type": "code",
   "execution_count": null,
   "metadata": {},
   "outputs": [],
   "source": [
    "print(f'the number of elements in x is {len(x)}')"
   ]
  },
  {
   "cell_type": "markdown",
   "metadata": {},
   "source": [
    "A list is **subscriptable** and starts, like everything in Python, from **index 0**. Beware!"
   ]
  },
  {
   "cell_type": "code",
   "execution_count": null,
   "metadata": {},
   "outputs": [],
   "source": [
    "print(x[0]) # 1st element \n",
    "print(x[1]) # 2nd element"
   ]
  },
  {
   "cell_type": "markdown",
   "metadata": {},
   "source": [
    "A list is **mutable**, i.e. you can change its elements on the fly. Ie., you can change its **references** to objects."
   ]
  },
  {
   "cell_type": "code",
   "execution_count": null,
   "metadata": {},
   "outputs": [],
   "source": [
    "x[0] = 'def'\n",
    "x[1] = 2\n",
    "print(x)"
   ]
  },
  {
   "cell_type": "markdown",
   "metadata": {},
   "source": [
    "and add more elements"
   ]
  },
  {
   "cell_type": "code",
   "execution_count": null,
   "metadata": {},
   "outputs": [],
   "source": [
    "x.append('new_element') # add new element to end of list\n",
    "print(x)"
   ]
  },
  {
   "cell_type": "markdown",
   "metadata": {},
   "source": [
    "**Link:** [Why is 0 the first index?](http://python-history.blogspot.com/2013/10/why-python-uses-0-based-indexing.html)  "
   ]
  },
  {
   "cell_type": "markdown",
   "metadata": {},
   "source": [
    "### Slicing"
   ]
  },
  {
   "cell_type": "markdown",
   "metadata": {},
   "source": [
    "A list is **slicable**, i.e. you can extract a list from a list."
   ]
  },
  {
   "cell_type": "code",
   "execution_count": null,
   "metadata": {},
   "outputs": [],
   "source": [
    "x = [0,1,2,3,4,5]\n",
    "print(x[0:3]) # x[0] included, x[3] not included\n",
    "print(x[1:3])\n",
    "print(x[:3])\n",
    "print(x[1:])\n",
    "print(x[:99]) # This is very particular to Python. Normally you'd get an error.  \n",
    "print(x[:-1]) # x[-1] is the last element\n",
    "\n",
    "print(type(x[:-1])) # Slicing yields a list\n",
    "print(type(x[-1])) # Unless only 1 element"
   ]
  },
  {
   "cell_type": "markdown",
   "metadata": {},
   "source": [
    "**Explantion:** Slices are half-open intervals. I.e. ``x[i:i+n]`` means starting from element ``x[i]`` and create a list of (up to) ``n`` elements."
   ]
  },
  {
   "cell_type": "code",
   "execution_count": null,
   "metadata": {},
   "outputs": [],
   "source": [
    "# splitting a list at x[3] and x[5] is: \n",
    "print(x[0:3])\n",
    "print(x[3:5])\n",
    "print(x[5:])"
   ]
  },
  {
   "cell_type": "markdown",
   "metadata": {},
   "source": [
    "**Question**: Consider the following code:"
   ]
  },
  {
   "cell_type": "code",
   "execution_count": 20,
   "metadata": {},
   "outputs": [],
   "source": [
    "x = [0,1,2,3,4,5]"
   ]
  },
  {
   "cell_type": "markdown",
   "metadata": {},
   "source": [
    "What is the result of `print(x[-4:-2])`?\n",
    "\n",
    "- **A:** [1,2,3]\n",
    "- **B:** [2,3,4]\n",
    "- **C:** [2,3]\n",
    "- **D:** [3,4]\n",
    "- **E:** Don't know"
   ]
  },
  {
   "cell_type": "markdown",
   "metadata": {},
   "source": [
    "### Referencing"
   ]
  },
  {
   "cell_type": "markdown",
   "metadata": {},
   "source": [
    "**Important**: Multiple variables can refer to the **same** list. "
   ]
  },
  {
   "cell_type": "code",
   "execution_count": null,
   "metadata": {},
   "outputs": [],
   "source": [
    "x = [1,2,3]\n",
    "y = x # y now references the same list as x\n",
    "y[0] = 2 # change the first element in the list y\n",
    "print(x) # x is also changed because it references the same list as y"
   ]
  },
  {
   "cell_type": "markdown",
   "metadata": {},
   "source": [
    "If you want to know if two variables contain the same reference, use the **is** operator. "
   ]
  },
  {
   "cell_type": "code",
   "execution_count": null,
   "metadata": {},
   "outputs": [],
   "source": [
    "print(y is x) \n",
    "z = [1,2]\n",
    "w = [1,2] \n",
    "print(z is w) # z and w have the same numerical content, but do not reference the same object. "
   ]
  },
  {
   "cell_type": "markdown",
   "metadata": {},
   "source": [
    "**Conclusion:** The `=` sign copy the reference, not the content! What about the atomic types? "
   ]
  },
  {
   "cell_type": "code",
   "execution_count": null,
   "metadata": {},
   "outputs": [],
   "source": [
    "z = 10\n",
    "w = z\n",
    "print(z is w) # w is now the same reference as z\n",
    "z += 5\n",
    "print(z, w)\n",
    "print(z is w) # z was overwritten in the augmentation statement. "
   ]
  },
  {
   "cell_type": "markdown",
   "metadata": {},
   "source": [
    "If one variable is deleted, the other one still references the list."
   ]
  },
  {
   "cell_type": "code",
   "execution_count": null,
   "metadata": {},
   "outputs": [],
   "source": [
    "del x # delete the variable x\n",
    "print(y)"
   ]
  },
  {
   "cell_type": "markdown",
   "metadata": {},
   "source": [
    "Instead, lists can by **copied** by using the copy-module:"
   ]
  },
  {
   "cell_type": "code",
   "execution_count": null,
   "metadata": {},
   "outputs": [],
   "source": [
    "from copy import copy\n",
    "\n",
    "x = [1,2,3]\n",
    "y = copy(x) # y now a copy of x\n",
    "y[0] = 2\n",
    "print(y)\n",
    "print(x) # x is not changed when y is changed\n",
    "print(x is y) # as they are not the same reference"
   ]
  },
  {
   "cell_type": "markdown",
   "metadata": {},
   "source": [
    "or by slicing:"
   ]
  },
  {
   "cell_type": "code",
   "execution_count": null,
   "metadata": {},
   "outputs": [],
   "source": [
    "x = [1,2,3]\n",
    "y = x[:] # y now a copy of x\n",
    "y[0] = 2\n",
    "print(y)\n",
    "print(x) # x is not changed when y is changed"
   ]
  },
  {
   "cell_type": "markdown",
   "metadata": {},
   "source": [
    "**Advanced**: A **deepcopy** is necessary, when the list contains mutable objects:"
   ]
  },
  {
   "cell_type": "code",
   "execution_count": null,
   "metadata": {},
   "outputs": [],
   "source": [
    "from copy import deepcopy\n",
    "\n",
    "a = [1,2,3]\n",
    "x = [a,2,3] # x is a list of a list and two integers\n",
    "y1 = copy(x) # y1 now a copy x\n",
    "y2 = deepcopy(x) # y2 is a deep copy\n",
    "\n",
    "a[0] = 10 # change1\n",
    "x[-1] = 1 # change2\n",
    "print(x) # Both changes happened\n",
    "print(y1) # y1[0] reference the same list as x[0]. Only change1 happened \n",
    "print(y2) # y2[0] is a copy of the original list referenced by x[0]"
   ]
  },
  {
   "cell_type": "markdown",
   "metadata": {},
   "source": [
    "**Question**: Consider the following code:"
   ]
  },
  {
   "cell_type": "code",
   "execution_count": 23,
   "metadata": {},
   "outputs": [],
   "source": [
    "x = [1,2,3]\n",
    "y = [x,x]\n",
    "z = x\n",
    "z[0] = 3\n",
    "z[2] = 1"
   ]
  },
  {
   "cell_type": "markdown",
   "metadata": {},
   "source": [
    "What is the result of `print(y[0])`?\n",
    "\n",
    "- **A:** 1\n",
    "- **B:** 3\n",
    "- **C:** [3,2,1]\n",
    "- **D:** [1,2,3]\n",
    "- **E:** Don't know"
   ]
  },
  {
   "cell_type": "markdown",
   "metadata": {},
   "source": [
    "## 3.2 Tuples"
   ]
  },
  {
   "cell_type": "markdown",
   "metadata": {},
   "source": [
    "A **tuple** is an **immutable list**.<br>It is similar when extracting information:"
   ]
  },
  {
   "cell_type": "code",
   "execution_count": null,
   "metadata": {},
   "outputs": [],
   "source": [
    "x = (1,2,3) # note: parentheses instead of square backets\n",
    "print(x,type(x))\n",
    "print(x[2])\n",
    "print(x[:2])"
   ]
  },
  {
   "cell_type": "markdown",
   "metadata": {},
   "source": [
    "But it **cannot be changed** (it is immutable):"
   ]
  },
  {
   "cell_type": "code",
   "execution_count": null,
   "metadata": {},
   "outputs": [],
   "source": [
    "try: # try to run this block\n",
    "    x[0] = 2\n",
    "    print('did succeed in setting x[0]=2')\n",
    "except: # if any error found run this block instead\n",
    "    print('did NOT succeed in setting x[0]=2')\n",
    "print(x)"
   ]
  },
  {
   "cell_type": "markdown",
   "metadata": {},
   "source": [
    "## 3.3 Dictionaries"
   ]
  },
  {
   "cell_type": "markdown",
   "metadata": {},
   "source": [
    "A **dictionary** is a **key-based** (instead of index-based) container. \n",
    "\n",
    "* **Keys:** All immutable objects are valid keys.\n",
    "* **Values:** Fully unrestricted. "
   ]
  },
  {
   "cell_type": "code",
   "execution_count": null,
   "metadata": {},
   "outputs": [],
   "source": [
    "x = {} # create x as an empty dictionary\n",
    "x['abc'] = '1' # key='abc', value = '1'\n",
    "print(x['abc'])\n",
    "x[('abc',1)] = 2 # key=('abc',1), value = 2"
   ]
  },
  {
   "cell_type": "markdown",
   "metadata": {},
   "source": [
    "Elements of a dictionary are **extracted** using their keyword: "
   ]
  },
  {
   "cell_type": "code",
   "execution_count": null,
   "metadata": {},
   "outputs": [],
   "source": [
    "key = 'abc'\n",
    "value = x[key]\n",
    "print(value)"
   ]
  },
  {
   "cell_type": "code",
   "execution_count": null,
   "metadata": {},
   "outputs": [],
   "source": [
    "key = ('abc',1)\n",
    "value = x[key]\n",
    "print(value)"
   ]
  },
  {
   "cell_type": "markdown",
   "metadata": {},
   "source": [
    "Dictionaries can also be **created with content**:"
   ]
  },
  {
   "cell_type": "code",
   "execution_count": null,
   "metadata": {},
   "outputs": [],
   "source": [
    "y = {'abc': '1', 'a': 1, 'b': 2, 'c': 3}\n",
    "print(y['c'])"
   ]
  },
  {
   "cell_type": "markdown",
   "metadata": {},
   "source": [
    "**Content is deleted** using its key:"
   ]
  },
  {
   "cell_type": "code",
   "execution_count": null,
   "metadata": {},
   "outputs": [],
   "source": [
    "print(y)\n",
    "del y['abc']\n",
    "print(y)"
   ]
  },
  {
   "cell_type": "markdown",
   "metadata": {},
   "source": [
    "**Task:** Create a dictionary called `capitals` with the capital names of Denmark, Sweden and Norway as values and country names as keys."
   ]
  },
  {
   "cell_type": "markdown",
   "metadata": {},
   "source": [
    "**Answer:**"
   ]
  },
  {
   "cell_type": "code",
   "execution_count": null,
   "metadata": {
    "jupyter": {
     "source_hidden": true
    }
   },
   "outputs": [],
   "source": [
    "capitals = {}\n",
    "capitals['denmark'] = 'copenhagen'\n",
    "capitals['sweden'] = 'stockholm'\n",
    "capitals['norway'] = 'oslo'\n",
    "\n",
    "capital_of_sweden = capitals['sweden']\n",
    "print(capital_of_sweden)"
   ]
  },
  {
   "cell_type": "markdown",
   "metadata": {},
   "source": [
    "## 3.4 Summary"
   ]
  },
  {
   "cell_type": "markdown",
   "metadata": {},
   "source": [
    "The new central concepts are:\n",
    "\n",
    "1. Containers (lists, tuples, dictionaries)\n",
    "2. Mutable/immutable\n",
    "3. Slicing of lists and tuples\n",
    "4. Referencing (copy and deepcopy)\n",
    "5. Key-value pairs for dictionaries"
   ]
  },
  {
   "cell_type": "markdown",
   "metadata": {},
   "source": [
    "**Note:** All atomic types as immutable, and only strings are subscriptable."
   ]
  },
  {
   "cell_type": "code",
   "execution_count": null,
   "metadata": {},
   "outputs": [],
   "source": [
    "x = 'abcdef'\n",
    "print(x[:3])\n",
    "print(x[3:5])\n",
    "print(x[5:])\n",
    "try:\n",
    "    x[0] = 'f'\n",
    "except:\n",
    "    print('strings are immutable')"
   ]
  },
  {
   "cell_type": "markdown",
   "metadata": {},
   "source": [
    "**Advanced:** Other interesting containers are e.g. **namedtuple** and **OrderDict** (see [collections](https://docs.python.org/2/library/collections.html)), and [**sets**](https://docs.python.org/2/library/sets.html)."
   ]
  },
  {
   "cell_type": "markdown",
   "metadata": {},
   "source": [
    "<a id=\"Conditionals-and-loops\"></a>\n",
    "\n",
    "# 4. Conditionals and loops"
   ]
  },
  {
   "cell_type": "markdown",
   "metadata": {},
   "source": [
    "## 4.1 Conditionals"
   ]
  },
  {
   "cell_type": "markdown",
   "metadata": {},
   "source": [
    "You typically want your program to do one thing if some condition is met, and another thing if another condition is met. \n",
    "\n",
    "In Python this is done with **conditional statments**:"
   ]
  },
  {
   "cell_type": "code",
   "execution_count": 57,
   "metadata": {},
   "outputs": [
    {
     "name": "stdout",
     "output_type": "stream",
     "text": [
      "fourth possiblity\n"
     ]
    }
   ],
   "source": [
    "x = 3\n",
    "if x < 2: \n",
    "    # happens if x is smaller than 2\n",
    "    print('first possibility')\n",
    "elif x > 4: # elif = else if\n",
    "    # happens if x is not smaller than 2 and x is larger than 4\n",
    "    print('second possibility')\n",
    "elif x < 0:\n",
    "    # happens if x is not smaller than 2, x is not larger than 4\n",
    "    #  and x is smaller than 0\n",
    "    print('third posibility') # note: this can never happen\n",
    "else:\n",
    "    # happens if x is not smaller than 2, x is not larger than 4\n",
    "    #  and x is not smaller than 0\n",
    "    print('fourth possiblity')  "
   ]
  },
  {
   "cell_type": "markdown",
   "metadata": {},
   "source": [
    "**Note:**\n",
    "\n",
    "1. \"elif\" is short for \"else if\" \n",
    "2. the **indentation** after if, elif and else is required (typically 4 spaces)"
   ]
  },
  {
   "cell_type": "markdown",
   "metadata": {},
   "source": [
    "An **equivalent formulation** of the above if-elif-else statement is:"
   ]
  },
  {
   "cell_type": "code",
   "execution_count": 25,
   "metadata": {},
   "outputs": [
    {
     "name": "stdout",
     "output_type": "stream",
     "text": [
      "first possibility\n",
      "y is not empty\n"
     ]
    }
   ],
   "source": [
    "x = -1\n",
    "cond_1 = x < 2 # a boolean (True or False)\n",
    "cond_2 = x > 4 # a boolean (True or False)\n",
    "cond_3 = x < 0 # a boolean (True or False)\n",
    "if cond_1: \n",
    "    print('first possibility')\n",
    "elif cond_2:\n",
    "    print('second possibility')\n",
    "elif cond_3:\n",
    "    print('third posibility')\n",
    "else:\n",
    "    print('fourth possiblity')\n",
    "\n",
    "y = [1, 2]\n",
    "if y:\n",
    "    print('y is not empty')"
   ]
  },
  {
   "cell_type": "markdown",
   "metadata": {},
   "source": [
    "The above can also be written purely in terms of if-statements:"
   ]
  },
  {
   "cell_type": "code",
   "execution_count": null,
   "metadata": {},
   "outputs": [],
   "source": [
    "if cond_1: \n",
    "    print('first possibility')\n",
    "if not cond_1 and cond_2:\n",
    "    print('second possibility')\n",
    "if not (cond_1 or cond_2) and cond_3:\n",
    "    print('third posibility')\n",
    "if not (cond_1 or cond_2 or cond_3):\n",
    "    print('fourth possiblity')"
   ]
  },
  {
   "cell_type": "markdown",
   "metadata": {},
   "source": [
    "## 4.2 Simple loops"
   ]
  },
  {
   "cell_type": "markdown",
   "metadata": {},
   "source": [
    "You typically also want to **repeat a task multiple times**. But it is time-consuming and **error prone** to write: "
   ]
  },
  {
   "cell_type": "code",
   "execution_count": 58,
   "metadata": {},
   "outputs": [
    {
     "name": "stdout",
     "output_type": "stream",
     "text": [
      "[0, 1, 4, 9, 16]\n"
     ]
    }
   ],
   "source": [
    "x_list = [0,1,2,3,4]\n",
    "y_list = [] # empty list\n",
    "y_list.append(x_list[0]**2)\n",
    "y_list.append(x_list[1]**2)\n",
    "y_list.append(x_list[2]**2)\n",
    "y_list.append(x_list[3]**2)\n",
    "y_list.append(x_list[4]**2)\n",
    "print(y_list)"
   ]
  },
  {
   "cell_type": "markdown",
   "metadata": {},
   "source": [
    "You should at **all costs** avoid repeating code. Therefore use a **for loop** instead:"
   ]
  },
  {
   "cell_type": "code",
   "execution_count": null,
   "metadata": {},
   "outputs": [],
   "source": [
    "y_list = [] # empty list\n",
    "for x in x_list:\n",
    "    y_list.append(x**2)\n",
    "print(y_list)"
   ]
  },
  {
   "cell_type": "markdown",
   "metadata": {},
   "source": [
    "Use a **while loop**:"
   ]
  },
  {
   "cell_type": "code",
   "execution_count": null,
   "metadata": {},
   "outputs": [],
   "source": [
    "y_list = [] # empty list\n",
    "i = 0\n",
    "while i <= 4:\n",
    "    y_list.append(x_list[i]**2)\n",
    "    i += 1\n",
    "print(y_list)"
   ]
  },
  {
   "cell_type": "markdown",
   "metadata": {},
   "source": [
    "Use a **for loop** with **range** instead:"
   ]
  },
  {
   "cell_type": "code",
   "execution_count": null,
   "metadata": {},
   "outputs": [],
   "source": [
    "y_list = [] # empty list\n",
    "for x in range(5):\n",
    "    print(x)\n",
    "    y_list.append(x**2)\n",
    "print(y_list)"
   ]
  },
  {
   "cell_type": "markdown",
   "metadata": {},
   "source": [
    "Use a **list comprehension**:"
   ]
  },
  {
   "cell_type": "code",
   "execution_count": null,
   "metadata": {},
   "outputs": [],
   "source": [
    "y_list = [x**2 for x in x_list]\n",
    "print(y_list)"
   ]
  },
  {
   "cell_type": "markdown",
   "metadata": {},
   "source": [
    "**Note:** List comprehension is the shortest (and fastest) code, but can become messy in more complicated situations."
   ]
  },
  {
   "cell_type": "markdown",
   "metadata": {},
   "source": [
    "## 4.3 More complex loops"
   ]
  },
  {
   "cell_type": "markdown",
   "metadata": {},
   "source": [
    "For loops can also be **enumerated**."
   ]
  },
  {
   "cell_type": "code",
   "execution_count": null,
   "metadata": {},
   "outputs": [],
   "source": [
    "y_list = []\n",
    "for i,x in enumerate(x_list):\n",
    "    print(i)\n",
    "    y_list.append(x**2)\n",
    "print(y_list)"
   ]
  },
  {
   "cell_type": "markdown",
   "metadata": {},
   "source": [
    "Loops can be fine-tuned with **continue** and **break**."
   ]
  },
  {
   "cell_type": "code",
   "execution_count": 26,
   "metadata": {},
   "outputs": [
    {
     "name": "stdout",
     "output_type": "stream",
     "text": [
      "[0, 4, 9]\n"
     ]
    }
   ],
   "source": [
    "y_list = []\n",
    "x_list = [*range(10)]\n",
    "\n",
    "for i,x in enumerate(x_list):\n",
    "    if i == 1:\n",
    "        continue # go to next iteration \n",
    "    elif i == 4:\n",
    "        break # stop loop prematurely\n",
    "    y_list.append(x**2)\n",
    "print(y_list)"
   ]
  },
  {
   "cell_type": "markdown",
   "metadata": {},
   "source": [
    "**Task:** Create a list with the 10 first positive uneven numbers."
   ]
  },
  {
   "cell_type": "code",
   "execution_count": 32,
   "metadata": {},
   "outputs": [],
   "source": [
    "# write your code here"
   ]
  },
  {
   "cell_type": "markdown",
   "metadata": {},
   "source": [
    "**Answer:**"
   ]
  },
  {
   "cell_type": "code",
   "execution_count": null,
   "metadata": {
    "jupyter": {
     "source_hidden": true
    }
   },
   "outputs": [],
   "source": [
    "my_list = []\n",
    "for i in range(10):\n",
    "    my_list.append((i+1)*2-1)\n",
    "print(my_list)"
   ]
  },
  {
   "cell_type": "markdown",
   "metadata": {},
   "source": [
    "**Zip:** We can loop over **2 lists at the same time**:"
   ]
  },
  {
   "cell_type": "code",
   "execution_count": 59,
   "metadata": {},
   "outputs": [
    {
     "name": "stdout",
     "output_type": "stream",
     "text": [
      "Ia\n",
      "IIb\n",
      "IIIc\n"
     ]
    }
   ],
   "source": [
    "x = ['I', 'II', 'III']\n",
    "y = ['a', 'b', 'c']\n",
    "\n",
    "for i,j in zip(x,y):\n",
    "    print(i+j)"
   ]
  },
  {
   "cell_type": "markdown",
   "metadata": {},
   "source": [
    "Iter(ation)tools enable us do complicated loops in a smart way. We can e.g. loop through **all combinations of elements in 2 lists**:"
   ]
  },
  {
   "cell_type": "code",
   "execution_count": 60,
   "metadata": {},
   "outputs": [
    {
     "name": "stdout",
     "output_type": "stream",
     "text": [
      "Ia\n",
      "Ib\n",
      "Ic\n",
      "IIa\n",
      "IIb\n",
      "IIc\n",
      "IIIa\n",
      "IIIb\n",
      "IIIc\n"
     ]
    }
   ],
   "source": [
    "for i in x:\n",
    "    for j in y:\n",
    "        print(i+j)"
   ]
  },
  {
   "cell_type": "code",
   "execution_count": 61,
   "metadata": {},
   "outputs": [
    {
     "name": "stdout",
     "output_type": "stream",
     "text": [
      "I a\n",
      "I b\n",
      "I c\n",
      "II a\n",
      "II b\n",
      "II c\n",
      "III a\n",
      "III b\n",
      "III c\n"
     ]
    }
   ],
   "source": [
    "import itertools as it\n",
    "for i,j in it.product(x,y):\n",
    "    print(i,j)"
   ]
  },
  {
   "cell_type": "markdown",
   "metadata": {},
   "source": [
    "## 4.4 Dictionaries"
   ]
  },
  {
   "cell_type": "markdown",
   "metadata": {},
   "source": [
    "We can loop throug keys, values or key-value pairs of a dictionary."
   ]
  },
  {
   "cell_type": "code",
   "execution_count": 63,
   "metadata": {},
   "outputs": [
    {
     "name": "stdout",
     "output_type": "stream",
     "text": [
      "a\n",
      "b\n",
      "c\n"
     ]
    }
   ],
   "source": [
    "my_dict = {'a': '-', 'b': '--', 'c': '---'}\n",
    "for key in my_dict.keys():\n",
    "    print(key)"
   ]
  },
  {
   "cell_type": "code",
   "execution_count": null,
   "metadata": {},
   "outputs": [],
   "source": [
    "for val in my_dict.values():\n",
    "    print(val)"
   ]
  },
  {
   "cell_type": "code",
   "execution_count": null,
   "metadata": {},
   "outputs": [],
   "source": [
    "for key,val in my_dict.items():\n",
    "    print(key,val)"
   ]
  },
  {
   "cell_type": "markdown",
   "metadata": {},
   "source": [
    "We can also **check whether a key exists**:"
   ]
  },
  {
   "cell_type": "code",
   "execution_count": 64,
   "metadata": {},
   "outputs": [
    {
     "name": "stdout",
     "output_type": "stream",
     "text": [
      "a is in my_dict with the value -\n"
     ]
    }
   ],
   "source": [
    "if 'a' in my_dict:\n",
    "    print('a is in my_dict with the value ' + my_dict['a'])\n",
    "else:\n",
    "    print('a is not in my_dict')"
   ]
  },
  {
   "cell_type": "code",
   "execution_count": null,
   "metadata": {},
   "outputs": [],
   "source": [
    "if 'd' in my_dict:\n",
    "    print('d is in my_dict with the value ' + my_dict['d'])\n",
    "else:\n",
    "    print('d is not in my_dict')"
   ]
  },
  {
   "cell_type": "markdown",
   "metadata": {},
   "source": [
    "**Note:** dictionaries can do this operation very quickly without looping through all elements. So use a dictionary when lookups are relevant."
   ]
  },
  {
   "cell_type": "markdown",
   "metadata": {
    "code_folding": [],
    "heading_collapsed": true,
    "hidden": true
   },
   "source": [
    "## 4.5 Summary"
   ]
  },
  {
   "cell_type": "markdown",
   "metadata": {},
   "source": [
    "The new central concepts are:\n",
    "\n",
    "1. Conditionals (if, elif, else)\n",
    "2. Loops (for, while, range, enumerate, continue, break, zip)\n",
    "3. List comprehensions\n",
    "4. Itertools (product)"
   ]
  },
  {
   "cell_type": "markdown",
   "metadata": {},
   "source": [
    "<a id=\"Functions\"></a>\n",
    "\n",
    "# 5. Functions"
   ]
  },
  {
   "cell_type": "markdown",
   "metadata": {},
   "source": [
    "The most simple function takes **one argument** and returns **one output**:"
   ]
  },
  {
   "cell_type": "code",
   "execution_count": null,
   "metadata": {},
   "outputs": [],
   "source": [
    "def f(x):\n",
    "    return x**2\n",
    "\n",
    "print(f(2))"
   ]
  },
  {
   "cell_type": "markdown",
   "metadata": {},
   "source": [
    "**Note:** The identation after `def` is again required (typically 4 spaces)."
   ]
  },
  {
   "cell_type": "markdown",
   "metadata": {},
   "source": [
    "Alternatively, you can use a single-line **lambda formulation**:"
   ]
  },
  {
   "cell_type": "code",
   "execution_count": null,
   "metadata": {},
   "outputs": [],
   "source": [
    "g = lambda x: x**2 \n",
    "print(g(2))"
   ]
  },
  {
   "cell_type": "markdown",
   "metadata": {},
   "source": [
    "Introducing **multiple arguments** are straigtforward:"
   ]
  },
  {
   "cell_type": "code",
   "execution_count": null,
   "metadata": {},
   "outputs": [],
   "source": [
    "def f(x,y):\n",
    "    return x**2 + y**2\n",
    "\n",
    "print(f(2,2))"
   ]
  },
  {
   "cell_type": "markdown",
   "metadata": {},
   "source": [
    "So are **multiple outputs**:"
   ]
  },
  {
   "cell_type": "code",
   "execution_count": null,
   "metadata": {},
   "outputs": [],
   "source": [
    "def f(x,y):\n",
    "    z = x**2\n",
    "    q = y**2\n",
    "    return z,q\n",
    "\n",
    "full_output = f(2,2) # returns a tuple\n",
    "print(full_output)"
   ]
  },
  {
   "cell_type": "markdown",
   "metadata": {},
   "source": [
    "The output tuple can be unpacked:"
   ]
  },
  {
   "cell_type": "code",
   "execution_count": null,
   "metadata": {},
   "outputs": [],
   "source": [
    "z,q = full_output # unpacking\n",
    "print(z)\n",
    "print(q)"
   ]
  },
  {
   "cell_type": "markdown",
   "metadata": {},
   "source": [
    "## 5.1 No outputs..."
   ]
  },
  {
   "cell_type": "markdown",
   "metadata": {},
   "source": [
    "Functions without *any* output can be useful when arguments are mutable:"
   ]
  },
  {
   "cell_type": "code",
   "execution_count": null,
   "metadata": {},
   "outputs": [],
   "source": [
    "def f(x): # assume x is a list\n",
    "    new_element = x[-1]+1\n",
    "    x.append(new_element) \n",
    "    \n",
    "x = [1,2,3] # original list\n",
    "f(x) # update list (appending the element 4)\n",
    "f(x) # update list (appending the element 5)\n",
    "f(x)\n",
    "print(x)"
   ]
  },
  {
   "cell_type": "markdown",
   "metadata": {},
   "source": [
    "Note: this is called a side-effect, which is often best avoided. "
   ]
  },
  {
   "cell_type": "markdown",
   "metadata": {},
   "source": [
    "## 5.2 Keyword arguments"
   ]
  },
  {
   "cell_type": "markdown",
   "metadata": {},
   "source": [
    "We can also have **keyword arguments** with default values (instead of **positionel** arguments):"
   ]
  },
  {
   "cell_type": "code",
   "execution_count": null,
   "metadata": {},
   "outputs": [],
   "source": [
    "def f(x,y,a=2,b=2):\n",
    "    return x**a + y**b\n",
    "\n",
    "print(f(2,4)) # 2**2 + 2**2\n",
    "print(f(2,2,b=3)) # 2**3 + 2**2\n",
    "print(f(2,2,a=3,b=3)) # 2**3 + 2**3"
   ]
  },
  {
   "cell_type": "markdown",
   "metadata": {},
   "source": [
    "**Note:** Keyword arguments must come after positional arguments."
   ]
  },
  {
   "cell_type": "markdown",
   "metadata": {},
   "source": [
    "**Advanced:** We can also use undefined keyword arguments:"
   ]
  },
  {
   "cell_type": "code",
   "execution_count": null,
   "metadata": {},
   "outputs": [],
   "source": [
    "def f(**kwargs):\n",
    "    # kwargs (= \"keyword arguments\") is a dictionary\n",
    "    for key,value in kwargs.items():\n",
    "        print(key,value)\n",
    "f(a='abc',b='2',c=[1,2,3])"
   ]
  },
  {
   "cell_type": "markdown",
   "metadata": {},
   "source": [
    "and these keywords can come from *unpacking a dictionary*: "
   ]
  },
  {
   "cell_type": "code",
   "execution_count": null,
   "metadata": {},
   "outputs": [],
   "source": [
    "my_dict = {'a': 'abc', 'b': '2', 'c': [1,2,3]}\n",
    "f(**my_dict)"
   ]
  },
  {
   "cell_type": "markdown",
   "metadata": {},
   "source": [
    "## 5.3 A function is an object"
   ]
  },
  {
   "cell_type": "markdown",
   "metadata": {},
   "source": [
    "A function is an object and can be given to another functions as an argument."
   ]
  },
  {
   "cell_type": "code",
   "execution_count": null,
   "metadata": {},
   "outputs": [],
   "source": [
    "def f(x):\n",
    "    return x**2\n",
    "\n",
    "def g(x,h):\n",
    "    temp = h(x) # call function h with argument x\n",
    "    return temp+1\n",
    "\n",
    "print(g(2,f))"
   ]
  },
  {
   "cell_type": "markdown",
   "metadata": {},
   "source": [
    "## 5.4 Scope"
   ]
  },
  {
   "cell_type": "markdown",
   "metadata": {},
   "source": [
    "**Important:** Variables in functions can be either **local** or **global** in scope.  "
   ]
  },
  {
   "cell_type": "code",
   "execution_count": 34,
   "metadata": {},
   "outputs": [
    {
     "name": "stdout",
     "output_type": "stream",
     "text": [
      "4 4 4\n",
      "incrementing the global variable:\n",
      "8 4 4\n"
     ]
    }
   ],
   "source": [
    "a = 2 # a global variable\n",
    "def f(x):\n",
    "    return x**a # a is global\n",
    "\n",
    "def g(x,a=2):\n",
    "    # a's default value is fixed when the function is defined\n",
    "    return x**a \n",
    "\n",
    "def h(x):\n",
    "    a = 2 # a is local\n",
    "    return x**a\n",
    "\n",
    "print(f(2), g(2), h(2))\n",
    "print('incrementing the global variable:')\n",
    "a += 1 \n",
    "print(f(2), g(2), h(2)) # output is only changed for f"
   ]
  },
  {
   "cell_type": "markdown",
   "metadata": {},
   "source": [
    "**Recommendation:** Never rely on global variables, they make it hard to understand what your code is doing."
   ]
  },
  {
   "cell_type": "markdown",
   "metadata": {},
   "source": [
    "## 5.5 Summary"
   ]
  },
  {
   "cell_type": "markdown",
   "metadata": {},
   "source": [
    "**Functions:** \n",
    "\n",
    "1. are **objects**\n",
    "2. can have multiple (or no) **arguments** and **outputs**\n",
    "3. can have **positional** and **keyword** arguments\n",
    "4. can use **local** or **global** variables (**scope**)"
   ]
  },
  {
   "cell_type": "markdown",
   "metadata": {},
   "source": [
    "**Task:** Create a function returning a person's full name from her first name and family name with middle name as an optional keyword argument with empty as a default."
   ]
  },
  {
   "cell_type": "code",
   "execution_count": 41,
   "metadata": {},
   "outputs": [],
   "source": [
    "# write your code here"
   ]
  },
  {
   "cell_type": "markdown",
   "metadata": {},
   "source": [
    "**Answer:**"
   ]
  },
  {
   "cell_type": "code",
   "execution_count": null,
   "metadata": {
    "jupyter": {
     "source_hidden": true
    }
   },
   "outputs": [],
   "source": [
    "def full_name(first_name,family_name,middle_name=''):\n",
    "    name = first_name\n",
    "    if middle_name != '':\n",
    "        name += ' '\n",
    "        name += middle_name\n",
    "    name += ' '\n",
    "    name += family_name\n",
    "    return name\n",
    "    \n",
    "print(full_name('Jeppe','Druedahl','\"Economist\"'))"
   ]
  },
  {
   "cell_type": "markdown",
   "metadata": {},
   "source": [
    "**Alternative answer** (more advanced, using a built-in list function):"
   ]
  },
  {
   "cell_type": "code",
   "execution_count": 45,
   "metadata": {
    "collapsed": true,
    "jupyter": {
     "outputs_hidden": true,
     "source_hidden": true
    }
   },
   "outputs": [
    {
     "name": "stdout",
     "output_type": "stream",
     "text": [
      "Jeppe Druedahl\n"
     ]
    }
   ],
   "source": [
    "def full_name(first_name,family_name,middle_name=''):\n",
    "    name = [first_name]\n",
    "    \n",
    "    if middle_name != '':\n",
    "        name.append(middle_name)\n",
    "        \n",
    "    name.append(family_name)\n",
    "    return ' '.join(name)\n",
    "\n",
    "print(full_name('Jeppe','Druedahl','\"Economist\"'))"
   ]
  },
  {
   "cell_type": "markdown",
   "metadata": {},
   "source": [
    "<a id=\"Floating-point-numbers\"></a>\n",
    "\n",
    "# 6. Floating point numbers"
   ]
  },
  {
   "cell_type": "markdown",
   "metadata": {},
   "source": [
    "There are uncountable many real numbers. On a computer the real line is approximated with numbers on the form:\n",
    "\n",
    "$$\\text{number} = \\text{significand} \\times \\text{base}^{exponent}$$\n",
    "\n",
    "* **significand**: 1 bit, positive or negative\n",
    "* **base**: 52 bits\n",
    "* **exponent**: 11 bits"
   ]
  },
  {
   "cell_type": "markdown",
   "metadata": {},
   "source": [
    "All numbers is therefore *not* represented, but a *close* neighboring number is used."
   ]
  },
  {
   "cell_type": "code",
   "execution_count": 8,
   "metadata": {},
   "outputs": [
    {
     "name": "stdout",
     "output_type": "stream",
     "text": [
      "0.1000000000000000055511151231257827021181583404541015625000000000000000000000000000000000000000000000\n",
      "17.1999999999999992894572642398998141288757324218750000000000000000000000000000000000000000000000000000\n"
     ]
    }
   ],
   "source": [
    "x = 0.1\n",
    "print(f'{x:.100f}') # printing x with 100 decimals\n",
    "x = 17.2\n",
    "print(f'{x:.100f}') # printing x with 100 decimals"
   ]
  },
  {
   "cell_type": "markdown",
   "metadata": {},
   "source": [
    "Simple sums might, consequently, not be exactly what you expect."
   ]
  },
  {
   "cell_type": "code",
   "execution_count": 9,
   "metadata": {},
   "outputs": [
    {
     "name": "stdout",
     "output_type": "stream",
     "text": [
      "0.9999999999999999\n"
     ]
    }
   ],
   "source": [
    "print(0.1 + 0.1 + 0.1 + 0.1 + 0.1 + 0.1 + 0.1 + 0.1 + 0.1 + 0.1)"
   ]
  },
  {
   "cell_type": "markdown",
   "metadata": {},
   "source": [
    "And just as surprising:"
   ]
  },
  {
   "cell_type": "code",
   "execution_count": 39,
   "metadata": {},
   "outputs": [
    {
     "name": "stdout",
     "output_type": "stream",
     "text": [
      "True\n"
     ]
    }
   ],
   "source": [
    "print(0.1 == 0.10000000000000001)"
   ]
  },
  {
   "cell_type": "markdown",
   "metadata": {},
   "source": [
    "**Comparisions of floating point numbers** is therefore always problematic.<br>\n",
    "We know that \n",
    "\n",
    "$$\\frac{a \\cdot c}{b \\cdot c} = \\frac{a}{b}$$\n",
    "\n",
    "but:"
   ]
  },
  {
   "cell_type": "code",
   "execution_count": 21,
   "metadata": {},
   "outputs": [
    {
     "name": "stdout",
     "output_type": "stream",
     "text": [
      "False\n"
     ]
    }
   ],
   "source": [
    "a = 0.001\n",
    "b = 11.11\n",
    "c = 1000\n",
    "test = (a*c)/(b*c) == a/b\n",
    "print(test)"
   ]
  },
  {
   "cell_type": "markdown",
   "metadata": {},
   "source": [
    "However, rounding off the numbers to a close neighbor may help:"
   ]
  },
  {
   "cell_type": "code",
   "execution_count": 35,
   "metadata": {},
   "outputs": [
    {
     "name": "stdout",
     "output_type": "stream",
     "text": [
      "True\n"
     ]
    }
   ],
   "source": [
    "test = round((a*c)/(b*c), 10) == round(a/b, 10)\n",
    "print(test)"
   ]
  },
  {
   "cell_type": "markdown",
   "metadata": {},
   "source": [
    "You may also use the np.isclose function to test if 2 floats are numerically very close, i.e. practically the same:"
   ]
  },
  {
   "cell_type": "code",
   "execution_count": 38,
   "metadata": {},
   "outputs": [
    {
     "name": "stdout",
     "output_type": "stream",
     "text": [
      "True\n"
     ]
    }
   ],
   "source": [
    "import numpy as np\n",
    "print(np.isclose((a*c)/(b*c), a/b))"
   ]
  },
  {
   "cell_type": "markdown",
   "metadata": {},
   "source": [
    "**Underflow**: Multiplying many small numbers can result in an exact zero:"
   ]
  },
  {
   "cell_type": "code",
   "execution_count": 4,
   "metadata": {},
   "outputs": [
    {
     "name": "stdout",
     "output_type": "stream",
     "text": [
      "1e-60\n",
      "1e-120\n",
      "1e-180\n",
      "1e-240\n",
      "9.999999999999999e-301\n",
      "0.0\n"
     ]
    }
   ],
   "source": [
    "x = 1e-60\n",
    "y = 1\n",
    "for _ in range(6):\n",
    "    y *= x\n",
    "    print(y)"
   ]
  },
  {
   "cell_type": "markdown",
   "metadata": {},
   "source": [
    "**Overflow**: If intermediate results are too large to be represented, the final result may be wrong or not possible to calculate:"
   ]
  },
  {
   "cell_type": "code",
   "execution_count": 19,
   "metadata": {},
   "outputs": [
    {
     "name": "stdout",
     "output_type": "stream",
     "text": [
      "nan\n",
      "inf inf\n"
     ]
    }
   ],
   "source": [
    "x = 1.0\n",
    "y = 2.7\n",
    "for i in range(200):    \n",
    "    x *= (i+1)\n",
    "    y *= (i+1) \n",
    "print(y/x) # should be 2.7\n",
    "print(x,y)"
   ]
  },
  {
   "cell_type": "markdown",
   "metadata": {},
   "source": [
    "**Note:** `nan` is not-a-number. `inf` is infinite."
   ]
  },
  {
   "cell_type": "markdown",
   "metadata": {},
   "source": [
    "**Note:** Order of additions matter, but not by that much:"
   ]
  },
  {
   "cell_type": "code",
   "execution_count": 20,
   "metadata": {},
   "outputs": [
    {
     "name": "stdout",
     "output_type": "stream",
     "text": [
      "1.862645149230957e-09\n"
     ]
    }
   ],
   "source": [
    "sum1 = 10001234.0 + 0.12012 + 0.12312 + 1e-5\n",
    "sum2 = 1e-5 + 0.12312 + 0.12012 + 10001234.0\n",
    "print(sum1-sum2)"
   ]
  },
  {
   "cell_type": "markdown",
   "metadata": {},
   "source": [
    "## 6.1 Summary"
   ]
  },
  {
   "cell_type": "markdown",
   "metadata": {},
   "source": [
    "The take-aways are:\n",
    "\n",
    "1. Decimal numbers are **approximate** on a computer!\n",
    "2. **Never compare floats with equality** (only use strict inequalities)\n",
    "3. Underflow and overflow can create problem (not very important in practice) \n",
    "\n",
    "For further details see [here](https://docs.python.org/3/tutorial/floatingpoint.html).\n",
    "\n",
    "**Videos:**\n",
    "\n",
    "* [Why computers are bad at algebra - Infinite Series](https://www.youtube.com/watch?v=pQs_wx8eoQ8)\n",
    "* [Floating point numbers - Computerphile](https://www.youtube.com/watch?v=PZRI1IfStY0)"
   ]
  },
  {
   "cell_type": "markdown",
   "metadata": {},
   "source": [
    "<a id=\"Classes-(user-defined-types)\"></a>\n",
    "\n",
    "# 7. Classes (user-defined types)"
   ]
  },
  {
   "cell_type": "markdown",
   "metadata": {},
   "source": [
    "**Advanced:** New types of objects can be defined using **classes**."
   ]
  },
  {
   "cell_type": "code",
   "execution_count": 1,
   "metadata": {},
   "outputs": [],
   "source": [
    "class human():\n",
    "    \n",
    "    def __init__(self,name,height,weight): # called when created\n",
    "        \n",
    "        # save the inputs as attributes\n",
    "        self.name = name # an attribute\n",
    "        self.height = height # an attribute\n",
    "        self.weight = weight # an attribute\n",
    "    \n",
    "    def bmi(self): # a method\n",
    "        \n",
    "        bmi = self.weight/(self.height/100)**2 # calculate bmi\n",
    "        return bmi # output bmi\n",
    "    \n",
    "    def print_bmi(self):\n",
    "        print(self.bmi())\n"
   ]
  },
  {
   "cell_type": "markdown",
   "metadata": {},
   "source": [
    "A class is used as follows:"
   ]
  },
  {
   "cell_type": "code",
   "execution_count": 3,
   "metadata": {},
   "outputs": [
    {
     "name": "stdout",
     "output_type": "stream",
     "text": [
      "<class '__main__.human'>\n",
      "182\n",
      "24.151672503320853\n"
     ]
    }
   ],
   "source": [
    "# a. create an instance of the human object called \"jeppe\"        \n",
    "jeppe = human('jeppe',182,80) # height=182, weight=80\n",
    "print(type(jeppe))\n",
    "\n",
    "# b. print an attribute\n",
    "print(jeppe.height)\n",
    "\n",
    "# c. print the result of calling a method\n",
    "print(jeppe.bmi())"
   ]
  },
  {
   "cell_type": "markdown",
   "metadata": {},
   "source": [
    "**Methods** are like functions, but can automatically use all the attributes of the class (saved in *self.*) without getting them as arguments."
   ]
  },
  {
   "cell_type": "markdown",
   "metadata": {},
   "source": [
    "**Attributes** can be changed and extracted with **.-notation**"
   ]
  },
  {
   "cell_type": "code",
   "execution_count": 25,
   "metadata": {},
   "outputs": [
    {
     "name": "stdout",
     "output_type": "stream",
     "text": [
      "160\n",
      "31.249999999999993\n"
     ]
    }
   ],
   "source": [
    "jeppe.height = 160\n",
    "print(jeppe.height)\n",
    "print(jeppe.bmi())"
   ]
  },
  {
   "cell_type": "markdown",
   "metadata": {},
   "source": [
    "Or with **setattr- and getatrr-notation**"
   ]
  },
  {
   "cell_type": "code",
   "execution_count": null,
   "metadata": {},
   "outputs": [],
   "source": [
    "setattr(jeppe,'height',182) # jeppe.height = 182\n",
    "height = getattr(jeppe,'height') # height = jeppe.height\n",
    "print(height)\n",
    "print(jeppe.bmi())"
   ]
  },
  {
   "cell_type": "markdown",
   "metadata": {},
   "source": [
    "## 7.1 Operator methods"
   ]
  },
  {
   "cell_type": "markdown",
   "metadata": {},
   "source": [
    "If the **appropriate methods** are defined, standard operators, e.g. +, and general functions such as print can be used.\n",
    "\n",
    "Define a new type of object called a **fraction**:"
   ]
  },
  {
   "cell_type": "code",
   "execution_count": null,
   "metadata": {
    "code_folding": [],
    "hidden": true
   },
   "outputs": [],
   "source": [
    "class fraction:\n",
    "    \n",
    "    def __init__(self,numerator,denominator): # called when created\n",
    "        self.num = numerator\n",
    "        self.denom = denominator\n",
    "    \n",
    "    def __str__(self): # called when using print\n",
    "        \n",
    "        return f'{self.num}/{self.denom}' # string = self.nom/self.denom\n",
    "    \n",
    "    def __add__(self,other): # called when using +\n",
    "        \n",
    "        new_num = self.num*other.denom + other.num*self.denom\n",
    "        new_denom = self.denom*other.denom\n",
    "        \n",
    "        return fraction(new_num,new_denom)"
   ]
  },
  {
   "cell_type": "markdown",
   "metadata": {},
   "source": [
    "**Note:** We use that \n",
    "\n",
    "$$\\frac{a}{b}+\\frac{c}{d}=\\frac{a \\cdot d+c \\cdot b}{b \\cdot d}$$"
   ]
  },
  {
   "cell_type": "markdown",
   "metadata": {},
   "source": [
    "We can now **add fractions**:"
   ]
  },
  {
   "cell_type": "code",
   "execution_count": null,
   "metadata": {},
   "outputs": [],
   "source": [
    "x = fraction(1,3)\n",
    "print(x)"
   ]
  },
  {
   "cell_type": "code",
   "execution_count": null,
   "metadata": {},
   "outputs": [],
   "source": [
    "x = fraction(1,3) # 1/3 = 5/15\n",
    "y = fraction(2,5) # 2/5 = 6/15\n",
    "z = x+y # 5/15 + 6/15 = 11/15\n",
    "print(z,type(z))"
   ]
  },
  {
   "cell_type": "markdown",
   "metadata": {},
   "source": [
    "Equivalent to:"
   ]
  },
  {
   "cell_type": "code",
   "execution_count": null,
   "metadata": {},
   "outputs": [],
   "source": [
    "z_alt = x.__add__(y)\n",
    "print(z,type(z))"
   ]
  },
  {
   "cell_type": "markdown",
   "metadata": {},
   "source": [
    "But we **cannot multiply** fractions (yet):"
   ]
  },
  {
   "cell_type": "code",
   "execution_count": null,
   "metadata": {},
   "outputs": [],
   "source": [
    "try:\n",
    "    z = x*y\n",
    "    print(z)\n",
    "except:\n",
    "    print('multiplication is not defined for the fraction type')"
   ]
  },
  {
   "cell_type": "markdown",
   "metadata": {},
   "source": [
    "**Extra task:** Implement multiplication for fractions."
   ]
  },
  {
   "cell_type": "markdown",
   "metadata": {},
   "source": [
    "## 7.2 Summary"
   ]
  },
  {
   "cell_type": "markdown",
   "metadata": {},
   "source": [
    "The take-aways are:\n",
    "\n",
    "1. **A class is a user-defined type**\n",
    "2. **Attributes** are like **variables** encapsulated in the class\n",
    "3. **Methods** are like **functions** encapsulated in the class\n",
    "4. Operators are fundamentally defined in terms of methods"
   ]
  },
  {
   "cell_type": "markdown",
   "metadata": {},
   "source": [
    "<a id=\"Summary\"></a>\n",
    "\n",
    "# 8. Summary"
   ]
  },
  {
   "cell_type": "markdown",
   "metadata": {},
   "source": [
    "**This lecture:** We have talked about:\n",
    "1. Types (int, str, float, bool, list, tuple, dict)\n",
    "2. Operators (+, *, /, +=, *=, /=, ==, !=, <)\n",
    "3. Referencing (=) vs. copying (copy, deepcopy)\n",
    "4. Conditionals (if-elif-else) and loops (for, while, range, enumerate, zip, product)\n",
    "5. Functions (positional and keyword arguments) and scope\n",
    "6. Floating points\n",
    "7. Classes (attributes, methods)"
   ]
  },
  {
   "cell_type": "markdown",
   "metadata": {},
   "source": [
    "**You work:** When you are done with the DataCamp courses read through this notebook, play around with the code and ask questions if there is stuff you don't understand."
   ]
  },
  {
   "cell_type": "markdown",
   "metadata": {},
   "source": [
    "**Next lecture:** We will solve the consumer problem from microeconomics numerically."
   ]
  },
  {
   "cell_type": "markdown",
   "metadata": {},
   "source": [
    "**Your to-do list:** You should be running JupyterLab on your own computer."
   ]
  },
  {
   "cell_type": "markdown",
   "metadata": {},
   "source": [
    "<a id=\"Extra:-Iterators\"></a>\n",
    "\n",
    "# 9. Extra: Iterators"
   ]
  },
  {
   "cell_type": "markdown",
   "metadata": {},
   "source": [
    "Consider the following loop, where my_list is said to be **iterable**."
   ]
  },
  {
   "cell_type": "code",
   "execution_count": null,
   "metadata": {},
   "outputs": [],
   "source": [
    "my_list = [0,2,4,6,8]\n",
    "for i in my_list:\n",
    "    print(i)"
   ]
  },
  {
   "cell_type": "markdown",
   "metadata": {},
   "source": [
    "Consider the same loop generated with an **iterator**."
   ]
  },
  {
   "cell_type": "code",
   "execution_count": null,
   "metadata": {},
   "outputs": [],
   "source": [
    "for i in range(0,10,2):\n",
    "    print(i)"
   ]
  },
  {
   "cell_type": "markdown",
   "metadata": {},
   "source": [
    "This can also be written as:"
   ]
  },
  {
   "cell_type": "code",
   "execution_count": null,
   "metadata": {},
   "outputs": [],
   "source": [
    "x = iter(range(0,10,2))\n",
    "print(x)\n",
    "print(next(x))\n",
    "print(next(x))\n",
    "print(next(x))"
   ]
  },
  {
   "cell_type": "markdown",
   "metadata": {},
   "source": [
    "The main benefit here is that the, potentially long, my_list, is never created."
   ]
  },
  {
   "cell_type": "markdown",
   "metadata": {},
   "source": [
    "We can also write **our own iterator class**:"
   ]
  },
  {
   "cell_type": "code",
   "execution_count": null,
   "metadata": {},
   "outputs": [],
   "source": [
    "class range_two_step:\n",
    "    \n",
    "    def __init__(self, N):\n",
    "        self.i = 0\n",
    "        self.N = N\n",
    "        \n",
    "    def __iter__(self):\n",
    "        return self\n",
    "    \n",
    "    def __next__(self):\n",
    "        \n",
    "        if self.i >= self.N:\n",
    "            raise StopIteration\n",
    "        \n",
    "        temp = self.i\n",
    "        self.i = self.i + 2\n",
    "        return temp "
   ]
  },
  {
   "cell_type": "markdown",
   "metadata": {},
   "source": [
    "Can then be used as follows:"
   ]
  },
  {
   "cell_type": "code",
   "execution_count": null,
   "metadata": {},
   "outputs": [],
   "source": [
    "x = iter(range_two_step(10))\n",
    "print(next(x))\n",
    "print(next(x))\n",
    "print(next(x))"
   ]
  },
  {
   "cell_type": "markdown",
   "metadata": {},
   "source": [
    "Or in a loop:"
   ]
  },
  {
   "cell_type": "code",
   "execution_count": null,
   "metadata": {},
   "outputs": [],
   "source": [
    "for i in range_two_step(10):\n",
    "    print(i)"
   ]
  },
  {
   "cell_type": "markdown",
   "metadata": {},
   "source": [
    "<a id=\"Extra:-More-on-functions\"></a>\n",
    "\n",
    "# 10. Extra: More on functions"
   ]
  },
  {
   "cell_type": "markdown",
   "metadata": {},
   "source": [
    "We can have an **undefined number of input arguments**:"
   ]
  },
  {
   "cell_type": "code",
   "execution_count": null,
   "metadata": {},
   "outputs": [],
   "source": [
    "def f(*args):\n",
    "    out = 0\n",
    "    for x in args:\n",
    "        out += x**2\n",
    "    return out\n",
    "print(f(2,2))\n",
    "print(f(2,2,2,2))"
   ]
  },
  {
   "cell_type": "markdown",
   "metadata": {},
   "source": [
    "We can have **recursive functions** to calculate the Fibonacci sequence:"
   ]
  },
  {
   "cell_type": "markdown",
   "metadata": {},
   "source": [
    "$$\n",
    "\\begin{aligned}\n",
    "F_0 &= 0 \\\\\n",
    "F_1 &= 1 \\\\\n",
    "F_n &= F_{n-1} + F_{n-2} \\\\\n",
    "\\end{aligned}\n",
    "$$"
   ]
  },
  {
   "cell_type": "code",
   "execution_count": null,
   "metadata": {},
   "outputs": [],
   "source": [
    "def fibonacci(n):\n",
    "    if n == 0:\n",
    "        return 0\n",
    "    elif n == 1:\n",
    "        return 1\n",
    "    else:\n",
    "        return fibonacci(n-1) + fibonacci(n-2)\n",
    "    \n",
    "y = fibonacci(7)\n",
    "print(y)"
   ]
  }
 ],
 "metadata": {
  "kernelspec": {
   "display_name": "Python 3",
   "language": "python",
   "name": "python3"
  },
  "language_info": {
   "codemirror_mode": {
    "name": "ipython",
    "version": 3
   },
   "file_extension": ".py",
   "mimetype": "text/x-python",
   "name": "python",
   "nbconvert_exporter": "python",
   "pygments_lexer": "ipython3",
   "version": "3.8.5"
  },
  "toc-autonumbering": false,
  "toc-showcode": false,
  "toc-showmarkdowntxt": false,
  "toc-showtags": false
 },
 "nbformat": 4,
 "nbformat_minor": 4
}
