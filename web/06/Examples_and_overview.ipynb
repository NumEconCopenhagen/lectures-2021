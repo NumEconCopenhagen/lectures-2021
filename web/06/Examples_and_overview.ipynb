{
 "cells": [
  {
   "cell_type": "markdown",
   "metadata": {},
   "source": [
    "# Lecture 06: Examples and overview"
   ]
  },
  {
   "cell_type": "markdown",
   "metadata": {},
   "source": [
    "[Download on GitHub](https://github.com/NumEconCopenhagen/lectures-2021)\n",
    "\n",
    "[<img src=\"https://mybinder.org/badge_logo.svg\">](https://mybinder.org/v2/gh/NumEconCopenhagen/lectures-2021/master?urlpath=lab/tree/06/Examples_and_overview.ipynb)"
   ]
  },
  {
   "cell_type": "markdown",
   "metadata": {},
   "source": [
    "1. [Recap](#Recap)\n",
    "2. [The consumer problem](#The-consumer-problem)\n",
    "3. [A worker-capitalist production economy](#A-worker-capitalist-production-economy)\n",
    "4. [Inuagural project from last year (labor supply and taxation)](#Inuagural-project-from-last-year-(labor-supply-and-taxation))\n",
    "5. [Summary](#Summary)\n"
   ]
  },
  {
   "cell_type": "markdown",
   "metadata": {},
   "source": [
    "You now have all the basic tools to solve interesting economic models. The trick is to be able to combine what you know to solve problems in practice. We firstly briefly recap, with a focus solving optimization problems and non-linear equations. Afterwards, we consider a number of examples.\n",
    "\n",
    "1. The consumer problem\n",
    "2. A worker-capitalist production economy\n",
    "3. The inaugurual project from 2020 (labor supply and taxation)"
   ]
  },
  {
   "cell_type": "code",
   "execution_count": 1,
   "metadata": {},
   "outputs": [],
   "source": [
    "# magic to reload modules automatically\n",
    "%load_ext autoreload\n",
    "%autoreload 2\n",
    "\n",
    "# standard imports\n",
    "from types import SimpleNamespace # new? explained below\n",
    "import numpy as np\n",
    "from scipy import optimize\n",
    "import matplotlib.pyplot as plt\n",
    "plt.style.use('seaborn-whitegrid')"
   ]
  },
  {
   "cell_type": "markdown",
   "metadata": {},
   "source": [
    "<a id=\"Recap\"></a>\n",
    "\n",
    "# 1. Recap"
   ]
  },
  {
   "cell_type": "markdown",
   "metadata": {},
   "source": [
    "2. **Primitives:** types, operators, copy vs. view, conditionals, loops, functions, classes\n",
    "3. **Optimize, print and plot:** mathematics (numpy), printing, figures (matplotlib), solving optimization problems and equations (scipy.optimize)\n",
    "4. **Random numbers and simulation:** random numbers (numpy.random), save/load (pickle), interactive figures (ipywidgets)\n",
    "5. **Workflow and debugging:** structuring, naming, commenting, debugging (assert, try-except), modules"
   ]
  },
  {
   "cell_type": "markdown",
   "metadata": {},
   "source": [
    "**Sum up:** Lots and lots of information. The important thing is not to remember it all, but to know where to look for answers."
   ]
  },
  {
   "cell_type": "markdown",
   "metadata": {},
   "source": [
    "## 1.1 Optimize, optimize, optimize"
   ]
  },
  {
   "cell_type": "markdown",
   "metadata": {},
   "source": [
    "**The two most important tools:** \n",
    "\n",
    "1. Solving optimization problems with `scipy.optimize.minimize` and `scipy.optimize.minimize_scalar`\n",
    "2. Solving equations with `scipy.optimize.root` and `scipy.optimize.root_scalar`"
   ]
  },
  {
   "cell_type": "markdown",
   "metadata": {},
   "source": [
    "**Problem:** A bit of a black box...\n",
    "\n",
    "* **Lecture 10:** Details on solving equations.\n",
    "* **Lecture 11:** Details on numerical optimization.\n",
    "* **Now:** Compare with a) a *loop search* and b) a *hand-written optimizer*."
   ]
  },
  {
   "cell_type": "markdown",
   "metadata": {},
   "source": [
    "### Loops vs. optimizer"
   ]
  },
  {
   "cell_type": "markdown",
   "metadata": {},
   "source": [
    "**Define function:** Simple polynomial with maximum at $x = 2.0$"
   ]
  },
  {
   "cell_type": "code",
   "execution_count": 2,
   "metadata": {},
   "outputs": [],
   "source": [
    "def f_func(x):\n",
    "    return -3*(x-2)**2 + 1"
   ]
  },
  {
   "cell_type": "markdown",
   "metadata": {},
   "source": [
    "**Rough solution with loop:**"
   ]
  },
  {
   "cell_type": "code",
   "execution_count": 3,
   "metadata": {},
   "outputs": [
    {
     "name": "stdout",
     "output_type": "stream",
     "text": [
      "best with loop is 0.98041016 at x = 1.91919192\n"
     ]
    }
   ],
   "source": [
    "N = 100\n",
    "x_vec = np.linspace(-10,10,N)\n",
    "f_vec = np.empty(N)\n",
    "\n",
    "f_best = -np.inf # initial maximum\n",
    "x_best = np.nan # not-a-number\n",
    "\n",
    "for i,x in enumerate(x_vec):\n",
    "    f_now = f_vec[i] = f_func(x)\n",
    "    if f_now > f_best:\n",
    "        x_best = x\n",
    "        f_best = f_now\n",
    "\n",
    "print(f'best with loop is {f_best:.8f} at x = {x_best:.8f}')"
   ]
  },
  {
   "cell_type": "markdown",
   "metadata": {},
   "source": [
    "**Question:** Not quite right, how to improve?"
   ]
  },
  {
   "cell_type": "markdown",
   "metadata": {},
   "source": [
    "**Plot:**"
   ]
  },
  {
   "cell_type": "code",
   "execution_count": 4,
   "metadata": {},
   "outputs": [
    {
     "data": {
      "image/png": "[encoded data removed]",
      "text/plain": [
       "<Figure size 432x288 with 1 Axes>"
      ]
     },
     "metadata": {},
     "output_type": "display_data"
    }
   ],
   "source": [
    "fig = plt.figure()\n",
    "ax = fig.add_subplot(1,1,1)\n",
    "\n",
    "ax.plot(x_vec,f_vec,ls='--',lw=2,color='black',label='$f(x)$')\n",
    "ax.plot(x_best,f_best,ls='',marker='s',label='best')\n",
    "\n",
    "ax.set_xlabel('x')\n",
    "ax.set_ylabel('f')\n",
    "ax.legend(loc='lower center',frameon=True);"
   ]
  },
  {
   "cell_type": "markdown",
   "metadata": {},
   "source": [
    "**Solution with** `scipy.optimize.minimize_scalar` ([documentation](https://docs.scipy.org/doc/scipy/reference/generated/scipy.optimize.minimize_scalar.html#scipy.optimize.minimize_scalar)):"
   ]
  },
  {
   "cell_type": "code",
   "execution_count": 5,
   "metadata": {},
   "outputs": [
    {
     "name": "stdout",
     "output_type": "stream",
     "text": [
      "best is 1.00000000 at x = 2.00000000\n"
     ]
    }
   ],
   "source": [
    "obj = lambda x: -f_func(x)\n",
    "res = optimize.minimize_scalar(obj,bracket=(-10,10),method='brent')\n",
    "x = res.x\n",
    "f = -res.fun\n",
    "\n",
    "print(f'best is {f:.8f} at x = {x:.8f}')"
   ]
  },
  {
   "cell_type": "markdown",
   "metadata": {},
   "source": [
    "**Solution with** `scipy.optimize.minimize` ([documentation](https://docs.scipy.org/doc/scipy/reference/generated/scipy.optimize.minimize.html#scipy.optimize.minimize)):"
   ]
  },
  {
   "cell_type": "code",
   "execution_count": 6,
   "metadata": {},
   "outputs": [
    {
     "name": "stdout",
     "output_type": "stream",
     "text": [
      "best is 1.00000000 at x = 2.00000000\n"
     ]
    }
   ],
   "source": [
    "x_guess = [0]\n",
    "obj = lambda x: -f_func(x[0])\n",
    "res = optimize.minimize(obj, x_guess, method='Nelder-Mead')\n",
    "x = res.x[0]\n",
    "f = -res.fun\n",
    "\n",
    "print(f'best is {f:.8f} at x = {x:.8f}')"
   ]
  },
  {
   "cell_type": "markdown",
   "metadata": {},
   "source": [
    "**Solution with** `scipy.optimize.root_scalar` ([documentation](https://docs.scipy.org/doc/scipy/reference/generated/scipy.optimize.root_scalar.html)):"
   ]
  },
  {
   "cell_type": "markdown",
   "metadata": {},
   "source": [
    "Find derivative and solve via FOC:"
   ]
  },
  {
   "cell_type": "code",
   "execution_count": 7,
   "metadata": {},
   "outputs": [],
   "source": [
    "def fp_func(x):\n",
    "    return -6*(x-2)"
   ]
  },
  {
   "cell_type": "code",
   "execution_count": 8,
   "metadata": {},
   "outputs": [
    {
     "name": "stdout",
     "output_type": "stream",
     "text": [
      "best is 1.00000000 at x = 2.00000000\n"
     ]
    }
   ],
   "source": [
    "x_guess = [0]    \n",
    "obj = lambda x: fp_func(x[0])\n",
    "res = optimize.root(obj,x_guess,method='hybr')\n",
    "x = res.x[0]\n",
    "f = f_func(x)\n",
    "\n",
    "print(f'best is {f:.8f} at x = {x:.8f}')"
   ]
  },
  {
   "cell_type": "markdown",
   "metadata": {},
   "source": [
    "**Solution with** `scipy.optimize.root` ([documentation](https://docs.scipy.org/doc/scipy/reference/generated/scipy.optimize.root.html)):"
   ]
  },
  {
   "cell_type": "code",
   "execution_count": 9,
   "metadata": {},
   "outputs": [
    {
     "name": "stdout",
     "output_type": "stream",
     "text": [
      "best is 1.00000000 at x = 2.00000000\n"
     ]
    }
   ],
   "source": [
    "obj = lambda x: fp_func(x)\n",
    "res = optimize.root_scalar(obj,bracket=(-10,10),method='bisect')\n",
    "x = res.root\n",
    "f = f_func(res.root)\n",
    "\n",
    "print(f'best is {f:.8f} at x = {x:.8f}')"
   ]
  },
  {
   "cell_type": "markdown",
   "metadata": {},
   "source": [
    "### Gradient descent optimizer"
   ]
  },
  {
   "cell_type": "markdown",
   "metadata": {},
   "source": [
    "**Algorithm:** `minimize_gradient_descent()`\n",
    "\n",
    "1. Choose tolerance $\\epsilon>0$, step size $\\alpha > 0$, and guess on $x_0$, set $n=0$.\n",
    "2. Compute  $f(x_n)$ and $f^\\prime(x_n) \\approx \\frac{f(\\boldsymbol{x}_{n}+\\Delta)-f(\\boldsymbol{x}_{n})}{\\Delta}$.\n",
    "3. If $|f^\\prime(x_n)| < \\epsilon$ then stop.\n",
    "4. Compute new guess \"down the hill\":\n",
    "\n",
    "  $$\n",
    "  x_{n+1} = x_{n} - \\alpha f^\\prime(x_n)\n",
    "  $$\n",
    "\n",
    "\n",
    "5. Set $n = n + 1$ and return to step 2."
   ]
  },
  {
   "cell_type": "markdown",
   "metadata": {},
   "source": [
    "**Code for algorithm:**"
   ]
  },
  {
   "cell_type": "code",
   "execution_count": 10,
   "metadata": {},
   "outputs": [],
   "source": [
    "def gradient_descent(f,x0,alpha=1,Delta=1e-8,max_iter=500,eps=1e-8):\n",
    "    \"\"\" minimize function with gradient descent\n",
    "        \n",
    "    Args:\n",
    "\n",
    "        f (callable): function\n",
    "        x0 (float): initial value\n",
    "        alpha (float,optional): step size factor in search\n",
    "        Delta (float,optional): step size in numerical derivative\n",
    "        max_iter (int,optional): maximum number of iterations\n",
    "        eps (float,optional): tolerance\n",
    "        \n",
    "    Returns:\n",
    "    \n",
    "        x (float): minimum\n",
    "        fx (float): funciton value at minimum\n",
    "        trials (list): list with tuple (x,value,derivative)\n",
    "        \n",
    "    \"\"\"\n",
    "    \n",
    "    # step 1: initialize\n",
    "    x = x0\n",
    "    n = 0\n",
    "    trials = []\n",
    "    \n",
    "    # step 2-4:\n",
    "    while n < max_iter:\n",
    "            \n",
    "        # step 2: compute function value and derivative\n",
    "        fx = f(x)\n",
    "        fp = (f(x+Delta)-fx)/Delta\n",
    "        \n",
    "        trials.append({'x':x,'fx':fx,'fp':fp}) \n",
    "        \n",
    "        # step 3: check convergence\n",
    "        print(f'n = {n:3d}: x = {x:12.8f}, f = {fx:12.8f}, fp = {fp:12.8f}')\n",
    "        if np.abs(fp) < eps:\n",
    "            break\n",
    "                  \n",
    "        # step 4: update x\n",
    "        x -= alpha*fp\n",
    "        \n",
    "        # step 5: update n\n",
    "        n += 1\n",
    "        \n",
    "    return x,fx,trials"
   ]
  },
  {
   "cell_type": "markdown",
   "metadata": {},
   "source": [
    "**Call the optimizer:**"
   ]
  },
  {
   "cell_type": "code",
   "execution_count": 11,
   "metadata": {},
   "outputs": [
    {
     "name": "stdout",
     "output_type": "stream",
     "text": [
      "n =   0: x =   0.00000000, f =   0.00000000, fp =  -1.00000000\n",
      "n =   1: x =   0.50000000, f =  -0.46692554, fp =  -0.82758256\n",
      "n =   2: x =   0.91379128, f =  -0.75007422, fp =  -0.51936899\n",
      "n =   3: x =   1.17347578, f =  -0.85324884, fp =  -0.26960142\n",
      "n =   4: x =   1.30827649, f =  -0.88015974, fp =  -0.12868722\n",
      "n =   5: x =   1.37262010, f =  -0.88622298, fp =  -0.05961956\n",
      "n =   6: x =   1.40242988, f =  -0.88751934, fp =  -0.02732913\n",
      "n =   7: x =   1.41609444, f =  -0.88779134, fp =  -0.01247611\n",
      "n =   8: x =   1.42233250, f =  -0.88784799, fp =  -0.00568577\n",
      "n =   9: x =   1.42517538, f =  -0.88785975, fp =  -0.00258928\n",
      "n =  10: x =   1.42647003, f =  -0.88786219, fp =  -0.00117876\n",
      "n =  11: x =   1.42705940, f =  -0.88786269, fp =  -0.00053654\n",
      "n =  12: x =   1.42732767, f =  -0.88786280, fp =  -0.00024420\n",
      "n =  13: x =   1.42744978, f =  -0.88786282, fp =  -0.00011116\n",
      "n =  14: x =   1.42750535, f =  -0.88786283, fp =  -0.00005059\n",
      "n =  15: x =   1.42753065, f =  -0.88786283, fp =  -0.00002303\n",
      "n =  16: x =   1.42754216, f =  -0.88786283, fp =  -0.00001048\n",
      "n =  17: x =   1.42754740, f =  -0.88786283, fp =  -0.00000477\n",
      "n =  18: x =   1.42754979, f =  -0.88786283, fp =  -0.00000216\n",
      "n =  19: x =   1.42755087, f =  -0.88786283, fp =  -0.00000098\n",
      "n =  20: x =   1.42755136, f =  -0.88786283, fp =  -0.00000046\n",
      "n =  21: x =   1.42755159, f =  -0.88786283, fp =  -0.00000020\n",
      "n =  22: x =   1.42755169, f =  -0.88786283, fp =  -0.00000009\n",
      "n =  23: x =   1.42755173, f =  -0.88786283, fp =  -0.00000004\n",
      "n =  24: x =   1.42755175, f =  -0.88786283, fp =  -0.00000002\n",
      "n =  25: x =   1.42755177, f =  -0.88786283, fp =  -0.00000001\n",
      "n =  26: x =   1.42755177, f =  -0.88786283, fp =   0.00000000\n",
      "best with gradient_descent is -0.88786283 at x = 1.42755177\n"
     ]
    }
   ],
   "source": [
    "x0 = 0\n",
    "alpha = 0.5\n",
    "f = lambda x: -np.sin(x)+0.05*x**2\n",
    "\n",
    "x,fx,trials = gradient_descent(f,x0,alpha)\n",
    "\n",
    "print(f'best with gradient_descent is {fx:.8f} at x = {x:.8f}')"
   ]
  },
  {
   "cell_type": "markdown",
   "metadata": {},
   "source": [
    "**Illusstration:**"
   ]
  },
  {
   "cell_type": "code",
   "execution_count": 12,
   "metadata": {},
   "outputs": [
    {
     "data": {
      "image/png": "[encoded data removed]",
      "text/plain": [
       "<Figure size 720x720 with 3 Axes>"
      ]
     },
     "metadata": {},
     "output_type": "display_data"
    }
   ],
   "source": [
    "fig = plt.figure(figsize=(10,10))\n",
    "\n",
    "# a. main figure\n",
    "ax = fig.add_subplot(2,2,(1,2))\n",
    "\n",
    "trial_x_vec = [trial['x'] for trial in trials]\n",
    "trial_f_vec = [trial['fx'] for trial in trials]\n",
    "trial_fp_vec = [trial['fp'] for trial in trials]\n",
    "\n",
    "ax.plot(x_vec,f(x_vec),ls='--',lw=2,color='black',label='$f(x)$')\n",
    "ax.plot(trial_x_vec,trial_f_vec,ls='',marker='s',ms=4,color='blue',label='iterations')\n",
    "\n",
    "ax.set_xlabel('$x$')\n",
    "ax.set_ylabel('$f$')\n",
    "ax.legend(loc='upper center',frameon=True)\n",
    "\n",
    "# sub figure 1\n",
    "ax = fig.add_subplot(2,2,3)\n",
    "ax.plot(np.arange(len(trials)),trial_x_vec)\n",
    "ax.set_xlabel('iteration')\n",
    "ax.set_ylabel('x')\n",
    "\n",
    "# sub figure 2\n",
    "ax = fig.add_subplot(2,2,4)\n",
    "ax.plot(np.arange(len(trials)),trial_fp_vec)\n",
    "ax.set_xlabel('iteration')\n",
    "ax.set_ylabel('derivative of f');"
   ]
  },
  {
   "cell_type": "markdown",
   "metadata": {},
   "source": [
    "**Question:** Can we guess on any initial value of $x_0$?"
   ]
  },
  {
   "cell_type": "markdown",
   "metadata": {},
   "source": [
    "<a id=\"The-consumer-problem\"></a>\n",
    "\n",
    "# 2. The consumer problem"
   ]
  },
  {
   "cell_type": "markdown",
   "metadata": {},
   "source": [
    "$$\n",
    "\\begin{aligned}\n",
    "V(p_{1},p_{2},I) & = \\max_{x_{1},x_{2}} \\left(\\alpha^{\\frac{1}{\\sigma}}x_{1}^{\\frac{\\sigma-1}{\\sigma}}+(1-\\alpha)^{\\frac{1}{\\sigma}}x_{2}^{\\frac{\\sigma-1}{\\sigma}}\\right)^{\\frac{\\sigma}{\\sigma-1}}\\\\\n",
    " \\text{s.t.}\\\\\n",
    "p_{1}x_{1}+p_{2}x_{2} & \\leq I,\\,\\,\\,p_{1},p_{2},I>0\\\\\n",
    "x_{1},x_{2} & \\geq 0\n",
    "\\end{aligned}\n",
    "$$"
   ]
  },
  {
   "cell_type": "markdown",
   "metadata": {},
   "source": [
    "**Goal:** Create a model-class to solve this problem."
   ]
  },
  {
   "cell_type": "markdown",
   "metadata": {},
   "source": [
    "**Utility function:**"
   ]
  },
  {
   "cell_type": "code",
   "execution_count": 13,
   "metadata": {},
   "outputs": [],
   "source": [
    "def u_func(model,x1,x2):\n",
    "    \n",
    "    u_x1 = model.alpha**(1/model.sigma)*x1**((model.sigma-1)/model.sigma)\n",
    "    u_x2 = (1-model.alpha)**(1/model.sigma)*x2**((model.sigma-1)/model.sigma)\n",
    "    \n",
    "    return (u_x1+u_x2)**(model.sigma/(model.sigma-1))"
   ]
  },
  {
   "cell_type": "markdown",
   "metadata": {},
   "source": [
    "**Solution function:**"
   ]
  },
  {
   "cell_type": "code",
   "execution_count": 14,
   "metadata": {},
   "outputs": [],
   "source": [
    "def solve(model):\n",
    "        \n",
    "    # a. objective function (to minimize) \n",
    "    obj = lambda x: -model.u_func(x[0],x[1]) # minimize -> negtive of utility\n",
    "        \n",
    "    # b. constraints and bounds\n",
    "    budget_constraint = lambda x: model.I-model.p1*x[0]-model.p2*x[1] # violated if negative\n",
    "    constraints = ({'type':'ineq','fun':budget_constraint})\n",
    "    bounds = ((1e-8,model.I/model.p1-1e-8),(1e-8,model.I/model.p2-1e-8))\n",
    "    \n",
    "    # why all these 1e-8? To avoid ever having x1 = 0 or x2 = 0\n",
    "    \n",
    "    # c. call solver\n",
    "    x0 = [(model.I/model.p1)/2,(model.I/model.p2)/2]\n",
    "    sol = optimize.minimize(obj,x0,method='SLSQP',bounds=bounds,constraints=constraints)\n",
    "        \n",
    "    # d. save\n",
    "    model.x1 = sol.x[0]\n",
    "    model.x2 = sol.x[1]\n",
    "    model.u = model.u_func(model.x1,model.x2)"
   ]
  },
  {
   "cell_type": "markdown",
   "metadata": {},
   "source": [
    "**Create consumer class:**"
   ]
  },
  {
   "cell_type": "code",
   "execution_count": 15,
   "metadata": {},
   "outputs": [],
   "source": [
    "class ConsumerClass:\n",
    "    \n",
    "    def __init__(self):\n",
    "        \n",
    "        self.alpha = 0.5\n",
    "        self.sigma = 0.1\n",
    "        self.p1 = 1\n",
    "        self.p2 = 2\n",
    "        self.I = 10\n",
    "            \n",
    "    u_func = u_func\n",
    "    solve = solve"
   ]
  },
  {
   "cell_type": "markdown",
   "metadata": {},
   "source": [
    "**Solve consumer problem**:"
   ]
  },
  {
   "cell_type": "code",
   "execution_count": 16,
   "metadata": {},
   "outputs": [
    {
     "name": "stdout",
     "output_type": "stream",
     "text": [
      "(x1,x2) = (3.489,3.256), u = 6.705\n"
     ]
    }
   ],
   "source": [
    "jeppe = ConsumerClass() # calls __init__()\n",
    "jeppe.solve()\n",
    "print(f'(x1,x2) = ({jeppe.x1:.3f},{jeppe.x2:.3f}), u = {jeppe.u:.3f}')"
   ]
  },
  {
   "cell_type": "markdown",
   "metadata": {},
   "source": [
    "Easy to loop over:"
   ]
  },
  {
   "cell_type": "code",
   "execution_count": 17,
   "metadata": {},
   "outputs": [
    {
     "name": "stdout",
     "output_type": "stream",
     "text": [
      "alpha = 0.100 -> (x1,x2) = (0.562,4.719), u = 5.271\n",
      "alpha = 0.200 -> (x1,x2) = (1.182,4.409), u = 5.572\n",
      "alpha = 0.300 -> (x1,x2) = (1.868,4.066), u = 5.906\n",
      "alpha = 0.400 -> (x1,x2) = (2.632,3.684), u = 6.282\n",
      "alpha = 0.500 -> (x1,x2) = (3.489,3.256), u = 6.705\n",
      "alpha = 0.600 -> (x1,x2) = (4.456,2.772), u = 7.186\n",
      "alpha = 0.700 -> (x1,x2) = (5.556,2.222), u = 7.737\n",
      "alpha = 0.800 -> (x1,x2) = (6.819,1.591), u = 8.374\n",
      "alpha = 0.900 -> (x1,x2) = (8.282,0.859), u = 9.118\n"
     ]
    }
   ],
   "source": [
    "for alpha in np.linspace(0.1,0.9,9):\n",
    "    jeppe.alpha = alpha\n",
    "    jeppe.solve()\n",
    "    print(f'alpha = {alpha:.3f} -> (x1,x2) = ({jeppe.x1:.3f},{jeppe.x2:.3f}), u = {jeppe.u:.3f}')"
   ]
  },
  {
   "cell_type": "markdown",
   "metadata": {},
   "source": [
    "**Question:** Anything you want to test?"
   ]
  },
  {
   "cell_type": "markdown",
   "metadata": {},
   "source": [
    "<a id=\"A-worker-capitalist-production-economy\"></a>\n",
    "\n",
    "# 3. A worker-capitalist production economy"
   ]
  },
  {
   "cell_type": "markdown",
   "metadata": {},
   "source": [
    "Consider an economy consisting of $N_w$ **workers**, and $N_c$ **capitalists** and a single **firm** owned equally by the capitalists."
   ]
  },
  {
   "cell_type": "markdown",
   "metadata": {},
   "source": [
    "**Workers:** Consume, $c_w$, at a price $p$, and supply labor, $\\ell_w$, at a wage of $w$. Maximize utility:\n",
    "        \n",
    "$$\\max_{c_w\\geq0,\\ell_w\\in[0,1]} \\log (c_w+\\kappa)- \\omega \\ell_w^{\\eta} \\text{ s.t } pc_w \\leq w \\ell_w,\\,\\,\\,\\omega,\\kappa > 0, \\eta \\geq 1$$ \n",
    "\n",
    "Equivalently, substituting in the budget constraint with equality:\n",
    "\n",
    "$$\\max_{\\ell_w\\in[0,1]} \\log \\left( \\frac{w \\ell_w}{p}+\\kappa \\right)- \\omega \\ell_w^{\\eta}$$ \n",
    "\n",
    "Denote ***optimal behavior*** $c_w^{\\star}(p,w)$ and $\\ell_w^{\\star}(p,w)$."
   ]
  },
  {
   "cell_type": "markdown",
   "metadata": {},
   "source": [
    "**Capitalists:** Consume, $c_c$, at a price $p$, supply labor, $\\ell_c$, at a wage $w$, and receives profits $\\pi$. Maximize utility:\n",
    "        \n",
    "$$\\max_{c_c\\geq0,\\ell_c\\in[0,1]} \\log (c_c+\\kappa) - \\omega \\ell_c^{\\eta} \\text{ s.t } pc_c = w \\ell_c + \\pi, ,\\,\\,\\,\\omega,\\kappa > 0, \\eta \\geq 1$$ \n",
    "\n",
    "Equivalently, substituting in the budget constraint with equality:\n",
    "\n",
    "$$\\max_{\\ell_c\\in[0,1]} \\log \\left( \\frac{w \\ell_c + \\pi}{p}+\\kappa \\right)- \\omega \\ell_c^{\\eta}$$ \n",
    "\n",
    "Denote ***optimal behavior*** $c_c^{\\star}(p,w,\\pi)$ and $\\ell_c^{\\star}(p,w,\\pi)$."
   ]
  },
  {
   "cell_type": "markdown",
   "metadata": {},
   "source": [
    "**Firm:** Use the production function $f(\\ell) = \\ell^\\alpha, \\alpha \\in (0,1)$. Maximize profits:\n",
    "\n",
    "$$\\max_{\\ell\\geq0} p f(\\ell) - w\\ell $$ \n",
    "\n",
    "Denote ***optional behavior*** by $\\ell^{\\star}(p,w)$. \n",
    "\n",
    "Implied ***production*** is $y^{\\star}(p,w) = f(\\ell^{\\star}(p,w))$ and implied ***total profits*** are $\\Pi^\\star(p,w) = py^{\\star}(p,w) - w\\ell^{\\star}(p,w)$ "
   ]
  },
  {
   "cell_type": "markdown",
   "metadata": {},
   "source": [
    "**Equilibrium:** A set of prices $(p,w)$ such that workers, capitalists and firms act optimally given prices and profit, and\n",
    "\n",
    "1. **Goods market clears**: $N_w c_w^{\\star}(p,w) + N_c c_c^{\\star}(p,w,\\pi) = y^\\star(p,w)$\n",
    "2. **Labor market clears**: $N_w \\ell_w^{\\star}(p,w) + N_c \\ell_c^{\\star}(p,w,\\pi) = \\ell^\\star(p,w)$\n",
    "3. **Profits received equal profits distributed**: $\\pi = \\frac{py^{\\star}(p,w) - w\\ell^{\\star}(p,w)}{N_c}$\n",
    "\n",
    "**Note I:** We can use $p=1$ as numeraire.\n",
    "\n",
    "**Note II:** *Walras' Law* imply that if one of the markets clear, then the other one does too."
   ]
  },
  {
   "cell_type": "markdown",
   "metadata": {},
   "source": [
    "## 3.1 Parameters"
   ]
  },
  {
   "cell_type": "markdown",
   "metadata": {},
   "source": [
    "Choose parameters:"
   ]
  },
  {
   "cell_type": "code",
   "execution_count": 18,
   "metadata": {},
   "outputs": [],
   "source": [
    "par = SimpleNamespace()\n",
    "par.kappa = 0.1\n",
    "par.omega = 10\n",
    "par.eta = 1.50\n",
    "par.alpha = 0.50\n",
    "par.Nw = 99\n",
    "par.Nc = 1"
   ]
  },
  {
   "cell_type": "markdown",
   "metadata": {},
   "source": [
    "**SimpleNamespace():** Like a dictionary, but e.g. `par.kappa` instead of `par['kappa']`.  \n",
    "\n",
    "Can always be interfaced as a dictionary with `__dict__`:"
   ]
  },
  {
   "cell_type": "code",
   "execution_count": 19,
   "metadata": {},
   "outputs": [
    {
     "name": "stdout",
     "output_type": "stream",
     "text": [
      "kappa  =  0.100\n",
      "omega  = 10.000\n",
      "eta    =  1.500\n",
      "alpha  =  0.500\n",
      "Nw     = 99.000\n",
      "Nc     =  1.000\n"
     ]
    }
   ],
   "source": [
    "for k,v in par.__dict__.items():\n",
    "    print(f'{k:6s} = {v:6.3f}')"
   ]
  },
  {
   "cell_type": "markdown",
   "metadata": {},
   "source": [
    "## 3.2 Workers"
   ]
  },
  {
   "cell_type": "code",
   "execution_count": 20,
   "metadata": {},
   "outputs": [],
   "source": [
    "def utility_w(c,l,par):\n",
    "    \"\"\" utility of workers \"\"\"\n",
    "    \n",
    "    return np.log(c+par.kappa)-par.omega*l**par.eta\n",
    "\n",
    "def workers(p,w,par):\n",
    "    \"\"\" maximize utility for workers \"\"\"\n",
    "    \n",
    "    # a. solve\n",
    "    obj = lambda l: -utility_w((w*l)/p,l,par)\n",
    "    res = optimize.minimize_scalar(obj,bounds=(0,1),method='bounded')\n",
    "    \n",
    "    # b. save\n",
    "    l_w_star = res.x\n",
    "    c_w_star = (w*l_w_star)/p\n",
    "    \n",
    "    return c_w_star,l_w_star"
   ]
  },
  {
   "cell_type": "markdown",
   "metadata": {},
   "source": [
    "**Small test:**"
   ]
  },
  {
   "cell_type": "code",
   "execution_count": 21,
   "metadata": {},
   "outputs": [
    {
     "name": "stdout",
     "output_type": "stream",
     "text": [
      "w = 0.50 -> c = 0.03, l = 0.06\n",
      "w = 1.00 -> c = 0.11, l = 0.11\n",
      "w = 1.50 -> c = 0.18, l = 0.12\n"
     ]
    }
   ],
   "source": [
    "p = 1\n",
    "for w in [0.5,1,1.5]:\n",
    "    c,l = workers(p,w,par)\n",
    "    print(f'w = {w:.2f} -> c = {c:.2f}, l = {l:.2f}')"
   ]
  },
  {
   "cell_type": "markdown",
   "metadata": {},
   "source": [
    "## 3.3 Capitalists"
   ]
  },
  {
   "cell_type": "code",
   "execution_count": 22,
   "metadata": {},
   "outputs": [],
   "source": [
    "def utility_c(c,l,par):\n",
    "    \"\"\" utility of capitalists \"\"\"\n",
    "    \n",
    "    return np.log(c+par.kappa)-par.omega*l**par.eta\n",
    "\n",
    "def capitalists(p,w,pi,par):\n",
    "    \"\"\" maximize utility of capitalists \"\"\"\n",
    "    \n",
    "    # a. solve\n",
    "    obj = lambda l: -utility_c((w*l+pi)/p,l,par) # subsittute in the budget constraint\n",
    "    res = optimize.minimize_scalar(obj,bounds=(0,1),method='bounded')\n",
    "    \n",
    "    # b. save\n",
    "    l_c_star = res.x\n",
    "    c_c_star = (w*l_c_star+pi)/p\n",
    "    \n",
    "    return c_c_star,l_c_star"
   ]
  },
  {
   "cell_type": "markdown",
   "metadata": {},
   "source": [
    "**Small test:**"
   ]
  },
  {
   "cell_type": "code",
   "execution_count": 23,
   "metadata": {},
   "outputs": [
    {
     "name": "stdout",
     "output_type": "stream",
     "text": [
      "w = 0.50 -> c = 0.11, l = 0.02\n",
      "w = 1.00 -> c = 0.16, l = 0.06\n",
      "w = 1.50 -> c = 0.23, l = 0.09\n"
     ]
    }
   ],
   "source": [
    "p = 1\n",
    "pi = 0.1\n",
    "for w in [0.5,1,1.5]:\n",
    "    c,l = capitalists(p,w,pi,par)\n",
    "    print(f'w = {w:.2f} -> c = {c:.2f}, l = {l:.2f}')"
   ]
  },
  {
   "cell_type": "markdown",
   "metadata": {},
   "source": [
    "**Question:** Any idea for another test?"
   ]
  },
  {
   "cell_type": "markdown",
   "metadata": {},
   "source": [
    "## 3.4 Firm"
   ]
  },
  {
   "cell_type": "code",
   "execution_count": 24,
   "metadata": {},
   "outputs": [],
   "source": [
    "def firm(p,w,par):\n",
    "    \"\"\" maximize firm profits \"\"\"\n",
    "    \n",
    "    # a. solve\n",
    "    f = lambda l: l**par.alpha\n",
    "    obj = lambda l: -(p*f(l)-w*l)\n",
    "    x0 = [0.0]\n",
    "    res = optimize.minimize(obj,x0,bounds=((0,None),),method='L-BFGS-B')\n",
    "    \n",
    "    # b. save\n",
    "    l_star = res.x[0]\n",
    "    y_star = f(l_star)\n",
    "    Pi = p*y_star - w*l_star\n",
    "    \n",
    "    return y_star,l_star,Pi"
   ]
  },
  {
   "cell_type": "markdown",
   "metadata": {},
   "source": [
    "**Small test:**"
   ]
  },
  {
   "cell_type": "code",
   "execution_count": 25,
   "metadata": {},
   "outputs": [
    {
     "name": "stdout",
     "output_type": "stream",
     "text": [
      "w = 0.50 -> y = 1.00, l = 1.00, Pi = 0.50\n",
      "w = 1.00 -> y = 0.50, l = 0.25, Pi = 0.25\n",
      "w = 1.50 -> y = 0.33, l = 0.11, Pi = 0.17\n"
     ]
    }
   ],
   "source": [
    "p = 1\n",
    "for w in [0.5,1,1.5]:\n",
    "    y,l,Pi = firm(p,w,par)\n",
    "    print(f'w = {w:.2f} -> y = {y:.2f}, l = {l:.2f}, Pi = {Pi:.2f}')"
   ]
  },
  {
   "cell_type": "markdown",
   "metadata": {},
   "source": [
    "## 3.5 Equilibrium"
   ]
  },
  {
   "cell_type": "code",
   "execution_count": 26,
   "metadata": {},
   "outputs": [],
   "source": [
    "def evaluate_equilibrium(w,par,p=None,do_print=False):\n",
    "    \"\"\" evaluate equilirium \"\"\"\n",
    "    \n",
    "    # a. normalize output price\n",
    "    p = 1 if p is None else p\n",
    "    \n",
    "    # b. optimal behavior of firm\n",
    "    y_star,l_star,Pi = firm(p,w,par)\n",
    "    pi = Pi/par.Nc\n",
    "    \n",
    "    # c. optimal behavior of households\n",
    "    c_w_star,l_w_star = workers(p,w,par)\n",
    "    c_c_star,l_c_star = capitalists(p,w,pi,par)\n",
    "    \n",
    "    # d. market clearing\n",
    "    goods_mkt_clearing = par.Nw*c_w_star + par.Nc*c_c_star - y_star\n",
    "    labor_mkt_clearing = par.Nw*l_w_star + par.Nc*l_c_star - l_star\n",
    "    \n",
    "    if do_print:\n",
    "        \n",
    "        u_w = utility_w(c_w_star,l_w_star,par)\n",
    "        print(f'workers      : c = {c_w_star:6.4f}, l = {l_w_star:6.4f}, u = {u_w:7.4f}')\n",
    "        u_c = utility_c(c_c_star,l_c_star,par)\n",
    "        print(f'capitalists  : c = {c_c_star:6.4f}, l = {l_c_star:6.4f}, u = {u_c:7.4f}')        \n",
    "        print(f'goods market : {goods_mkt_clearing:.8f}')\n",
    "        print(f'labor market : {labor_mkt_clearing:.8f}')\n",
    "        \n",
    "    else:\n",
    "    \n",
    "        return goods_mkt_clearing\n"
   ]
  },
  {
   "cell_type": "markdown",
   "metadata": {},
   "source": [
    "**Step 1:** Perform rough grid search to check when the goods market clears."
   ]
  },
  {
   "cell_type": "code",
   "execution_count": 27,
   "metadata": {},
   "outputs": [
    {
     "name": "stdout",
     "output_type": "stream",
     "text": [
      "w = 0.10 -> excess demand =  -2.45597063\n",
      "w = 0.26 -> excess demand =  -0.33115179\n",
      "w = 0.41 -> excess demand =   1.47824268\n",
      "w = 0.57 -> excess demand =   3.60037473\n",
      "w = 0.72 -> excess demand =   5.89988125\n",
      "w = 0.88 -> excess demand =   8.29317023\n",
      "w = 1.03 -> excess demand =  10.74049294\n",
      "w = 1.19 -> excess demand =  13.22157416\n",
      "w = 1.34 -> excess demand =  15.72439188\n",
      "w = 1.50 -> excess demand =  18.24150339\n"
     ]
    }
   ],
   "source": [
    "num_w = 10\n",
    "grid_w = np.linspace(0.1,1.5,num_w)\n",
    "grid_mkt_clearing = np.zeros(num_w)\n",
    "\n",
    "for i,w in enumerate(grid_w):\n",
    "    grid_mkt_clearing[i] = evaluate_equilibrium(w,par)\n",
    "    print(f'w = {w:.2f} -> excess demand = {grid_mkt_clearing[i]:12.8f}')"
   ]
  },
  {
   "cell_type": "markdown",
   "metadata": {},
   "source": [
    "**Step 2:** Find where *excess demand* changes sign - the equilibrium price must be within this range"
   ]
  },
  {
   "cell_type": "code",
   "execution_count": 28,
   "metadata": {},
   "outputs": [
    {
     "name": "stdout",
     "output_type": "stream",
     "text": [
      "equilibrium price must be in [0.26,0.41]\n"
     ]
    }
   ],
   "source": [
    "left = np.max(grid_w[grid_mkt_clearing < 0])\n",
    "right = np.min(grid_w[grid_mkt_clearing > 0])\n",
    "print(f'equilibrium price must be in [{left:.2f},{right:.2f}]')"
   ]
  },
  {
   "cell_type": "markdown",
   "metadata": {},
   "source": [
    "**Step 3:** Use equation-solver / root-finder"
   ]
  },
  {
   "cell_type": "code",
   "execution_count": 29,
   "metadata": {},
   "outputs": [
    {
     "name": "stdout",
     "output_type": "stream",
     "text": [
      "the equilibrium wage is 0.2864\n"
     ]
    }
   ],
   "source": [
    "res = optimize.root_scalar(evaluate_equilibrium,bracket=[left,right],method='bisect',args=(par,))\n",
    "w_eq = res.root\n",
    "print(f'the equilibrium wage is {w_eq:.4f}')"
   ]
  },
  {
   "cell_type": "markdown",
   "metadata": {},
   "source": [
    "**Show details:**"
   ]
  },
  {
   "cell_type": "code",
   "execution_count": 30,
   "metadata": {},
   "outputs": [
    {
     "name": "stdout",
     "output_type": "stream",
     "text": [
      "workers      : c = 0.0088, l = 0.0308, u = -2.2721\n",
      "capitalists  : c = 0.8731, l = 0.0004, u = -0.0274\n",
      "goods market : 0.00000004\n",
      "labor market : 0.00000013\n"
     ]
    }
   ],
   "source": [
    "evaluate_equilibrium(w_eq,par,do_print=True)"
   ]
  },
  {
   "cell_type": "markdown",
   "metadata": {},
   "source": [
    "**Check I:** Does both markets clear?\n",
    "\n",
    "**Check II:** Can we multiply both prices with the same factor? I.e. can we change the numeraire?"
   ]
  },
  {
   "cell_type": "code",
   "execution_count": 31,
   "metadata": {},
   "outputs": [
    {
     "name": "stdout",
     "output_type": "stream",
     "text": [
      "workers      : c = 0.0088, l = 0.0308, u = -2.2721\n",
      "capitalists  : c = 0.8731, l = 0.0004, u = -0.0274\n",
      "goods market : -0.00000240\n",
      "labor market : -0.00000840\n"
     ]
    }
   ],
   "source": [
    "fac = 100\n",
    "p_eq_ = fac*1.0 \n",
    "w_eq_ = fac*w_eq\n",
    "evaluate_equilibrium(w_eq_,par,p=p_eq_,do_print=True)"
   ]
  },
  {
   "cell_type": "markdown",
   "metadata": {},
   "source": [
    "## 3.6 Experiments"
   ]
  },
  {
   "cell_type": "markdown",
   "metadata": {},
   "source": [
    "It is easy to extend this model in many directions: \n",
    "\n",
    "1. Should workers and capitalists have different tastes or producitvity?\n",
    "2. Should workers differ wrt. tastes or producitvity?\n",
    "3. Should there be government redistribution?\n",
    "4. Other ideas?"
   ]
  },
  {
   "cell_type": "markdown",
   "metadata": {},
   "source": [
    "## 3.7 Using a class"
   ]
  },
  {
   "cell_type": "code",
   "execution_count": 32,
   "metadata": {},
   "outputs": [],
   "source": [
    "from WorkerCapitalistEconomy import WorkerCapitalistEconomyClass"
   ]
  },
  {
   "cell_type": "markdown",
   "metadata": {},
   "source": [
    "**Look at `WorkerCapitalistEconomy.py`:** Same code, but written as a class! "
   ]
  },
  {
   "cell_type": "code",
   "execution_count": 33,
   "metadata": {},
   "outputs": [
    {
     "name": "stdout",
     "output_type": "stream",
     "text": [
      "0.1\n"
     ]
    }
   ],
   "source": [
    "model = WorkerCapitalistEconomyClass()\n",
    "print(model.par.kappa) # excess the class data with \"\".property\""
   ]
  },
  {
   "cell_type": "code",
   "execution_count": 34,
   "metadata": {},
   "outputs": [
    {
     "name": "stdout",
     "output_type": "stream",
     "text": [
      "grid search:\n",
      " w = 0.10 ->  -2.45597063\n",
      " w = 0.26 ->  -0.33115179\n",
      " w = 0.41 ->   1.47824268\n",
      " w = 0.57 ->   3.60037473\n",
      " w = 0.72 ->   5.89988125\n",
      " w = 0.88 ->   8.29317023\n",
      " w = 1.03 ->  10.74049294\n",
      " w = 1.19 ->  13.22157416\n",
      " w = 1.34 ->  15.72439188\n",
      " w = 1.50 ->  18.24150339\n",
      "\n",
      "equilibrium price must be in [0.26,0.41]\n",
      "\n",
      "the equilibrium wage is 0.2864\n",
      "\n",
      "workers      : c = 0.0088, l = 0.0308, u = -2.2721\n",
      "capitalists  : c = 0.8731, l = 0.0004, u = -0.0274\n",
      "goods market : 0.00000004\n",
      "labor market : 0.00000013\n"
     ]
    }
   ],
   "source": [
    "model.find_equilibrium()"
   ]
  },
  {
   "cell_type": "markdown",
   "metadata": {},
   "source": [
    "**Benefit I:** Fewer inputs and outputs, less risk of wrong ordering."
   ]
  },
  {
   "cell_type": "markdown",
   "metadata": {},
   "source": [
    "**Benefit II of class-based solution:** Easy access to all data.\n",
    "E.g. capitalists share of total consumption."
   ]
  },
  {
   "cell_type": "code",
   "execution_count": 35,
   "metadata": {},
   "outputs": [
    {
     "name": "stdout",
     "output_type": "stream",
     "text": [
      "capitalists share of total consumption is: 0.50\n"
     ]
    }
   ],
   "source": [
    "C_w = model.par.Nw*model.c_w_star\n",
    "C_c = model.par.Nc*model.c_c_star\n",
    "print(f'capitalists share of total consumption is: {C_c/(C_c+C_w):.2f}')"
   ]
  },
  {
   "cell_type": "markdown",
   "metadata": {},
   "source": [
    "**Benefit III of class-based solution:** Easy to experiment with different parameters."
   ]
  },
  {
   "cell_type": "code",
   "execution_count": 36,
   "metadata": {},
   "outputs": [
    {
     "name": "stdout",
     "output_type": "stream",
     "text": [
      "grid search:\n",
      " w = 0.10 ->  -0.93720172\n",
      " w = 0.26 ->   3.11578788\n",
      " w = 0.41 ->   6.01856761\n",
      " w = 0.57 ->   8.72067391\n",
      " w = 0.72 ->  11.35650742\n",
      " w = 0.88 ->  13.96702518\n",
      " w = 1.03 ->  16.56693675\n",
      " w = 1.19 ->  19.16044548\n",
      " w = 1.34 ->  21.74865061\n",
      " w = 1.50 ->  24.33227156\n",
      "\n",
      "equilibrium price must be in [0.10,0.26]\n",
      "\n",
      "the equilibrium wage is 0.1260\n",
      "\n",
      "workers      : c = 0.0200, l = 0.1592, u = -4.4959\n",
      "capitalists  : c = 1.9848, l = 0.0000, u =  0.6860\n",
      "goods market : 0.00000037\n",
      "labor market : 0.00000291\n"
     ]
    }
   ],
   "source": [
    "model.par.kappa = model.par.kappa/100 # lower kappa\n",
    "model.find_equilibrium()"
   ]
  },
  {
   "cell_type": "markdown",
   "metadata": {},
   "source": [
    "<a id=\"Inuagural-project-from-last-year-(labor-supply-and-taxation)\"></a>\n",
    "\n",
    "# 4. Inuagural project from last year (labor supply and taxation)"
   ]
  },
  {
   "cell_type": "markdown",
   "metadata": {},
   "source": [
    "Consider a consumer solving the following maximization problem\n",
    "\n",
    "$$\\begin{eqnarray}\n",
    "c^{\\star},\\ell^{\\star} & = & \\arg\\max_{c,\\ell}\\log(c)-\\nu\\frac{\\ell^{1+\\frac{1}{\\varepsilon}}}{1+\\frac{1}{\\varepsilon}}\\\\\n",
    " & \\text{s.t.} \\\\\n",
    "x & = & m+w\\ell-\\left[\\tau_{0}w\\ell+\\tau_{1}\\max\\{w\\ell-\\kappa,0\\}\\right] \\\\\n",
    "c & \\in & [0,x] \\\\\n",
    "\\ell & \\in & [0,1]\n",
    "\\end{eqnarray}$$\n",
    "\n",
    "where $c$ is consumption, $\\ell$ is labor supply, $m$ is cash-on-hand,\n",
    "$w$ is the wage rate, $\\tau_{0}$ is the standard labor income tax,\n",
    "$\\tau_{1}$ is the top bracket labor income tax, $\\kappa$ is the\n",
    "cut-off for the top labor income bracket, $x$ is total resources,\n",
    "$\\nu$ scales the disutility of labor, and $\\varepsilon$ is the Frisch\n",
    "elasticity of labor supply."
   ]
  },
  {
   "cell_type": "markdown",
   "metadata": {},
   "source": [
    "Note that utility is monotonically increasing in consumption. This implies that\n",
    "$$\\begin{equation}\n",
    "c^{\\star}=x\n",
    "\\end{equation}$$"
   ]
  },
  {
   "cell_type": "markdown",
   "metadata": {},
   "source": [
    "**Question 1:** Construct a function which solves the consumer given the parameters."
   ]
  },
  {
   "cell_type": "markdown",
   "metadata": {},
   "source": [
    "We choose the following parameter values\n",
    "\n",
    "$$\n",
    "m=1,\\,\\nu=10,\\,\\varepsilon=0.3,\\,\\tau_{0}=0.4,\\,\\tau_{1}=0.1,\\,\\kappa=0.4\n",
    "$$"
   ]
  },
  {
   "cell_type": "markdown",
   "metadata": {},
   "source": [
    "**Question 2:** Plot $\\ell^{\\star}$ and $c^{\\star}$ as functions of $w$ in\n",
    "the range $0.5$ to $1.5$."
   ]
  },
  {
   "cell_type": "markdown",
   "metadata": {},
   "source": [
    "Consider a population with $N=1,000$ individuals indexed by $i$.\n",
    "\n",
    "Assume the distribution of wages is uniform such that\n",
    "\n",
    "$$w_{i}\\sim\\mathcal{U}(0.5,1.5).$$\n",
    "\n",
    "Denote the optimal choices of individual $i$ by $\\ell_{i}^{\\star}$ and $c_{i}^{\\star}$.\n"
   ]
  },
  {
   "cell_type": "markdown",
   "metadata": {},
   "source": [
    "**Question 3:** Calculate the total tax revenue given by $T=\\sum_{i=1}^{N}\\left[\\tau_{0}w_{i}\\ell_{i}^{\\star}+\\tau_{1}\\max\\{w_{i}\\ell_{i}^{\\star}-\\kappa,0\\}\\right].$"
   ]
  },
  {
   "cell_type": "markdown",
   "metadata": {},
   "source": [
    "**Question 4:** What would the tax revenue be if instead $\\varepsilon=0.1$?"
   ]
  },
  {
   "cell_type": "markdown",
   "metadata": {},
   "source": [
    "Consider a politician who wishes to maximize the tax revenue."
   ]
  },
  {
   "cell_type": "markdown",
   "metadata": {},
   "source": [
    "**Question 5:** Which $\\tau_{0}$, $\\tau_{1}$ and $\\kappa$ would you suggest her to implement? Report the tax revenue you expect to obtain."
   ]
  },
  {
   "cell_type": "markdown",
   "metadata": {},
   "source": [
    "## 4.1 Solution of question 1+2"
   ]
  },
  {
   "cell_type": "markdown",
   "metadata": {},
   "source": [
    "All the basic functions are written in `LaborSupplyModel.py`."
   ]
  },
  {
   "cell_type": "code",
   "execution_count": 37,
   "metadata": {},
   "outputs": [],
   "source": [
    "import LaborSupplyModel as LSM"
   ]
  },
  {
   "cell_type": "markdown",
   "metadata": {},
   "source": [
    "Define all **parameters**:"
   ]
  },
  {
   "cell_type": "code",
   "execution_count": 38,
   "metadata": {},
   "outputs": [],
   "source": [
    "m = 1\n",
    "nu = 10\n",
    "frisch = 0.3\n",
    "tau0 = 0.4\n",
    "tau1 = 0.1\n",
    "kappa = 0.4"
   ]
  },
  {
   "cell_type": "markdown",
   "metadata": {},
   "source": [
    "**Allocate** arrays for solutions:"
   ]
  },
  {
   "cell_type": "code",
   "execution_count": 39,
   "metadata": {},
   "outputs": [],
   "source": [
    "N = 1_000\n",
    "w_vec = np.linspace(0.5,1.5,N)\n",
    "l_vec = np.zeros(N)\n",
    "c_vec = np.zeros(N)"
   ]
  },
  {
   "cell_type": "markdown",
   "metadata": {},
   "source": [
    "**Solve:**"
   ]
  },
  {
   "cell_type": "code",
   "execution_count": 40,
   "metadata": {},
   "outputs": [],
   "source": [
    "for i in range(N):\n",
    "    l_vec[i] = LSM.find_optimal_labor_supply(nu,frisch,m,w_vec[i],tau0,tau1,kappa)\n",
    "    c_vec[i] = LSM.implied_c(l_vec[i],m,w_vec[i],tau0,tau1,kappa)"
   ]
  },
  {
   "cell_type": "markdown",
   "metadata": {},
   "source": [
    "**Plot results:**"
   ]
  },
  {
   "cell_type": "code",
   "execution_count": 41,
   "metadata": {},
   "outputs": [
    {
     "data": {
      "image/png": "[encoded data removed]",
      "text/plain": [
       "<Figure size 864x288 with 2 Axes>"
      ]
     },
     "metadata": {},
     "output_type": "display_data"
    }
   ],
   "source": [
    "fig = plt.figure(figsize=(12,4))\n",
    "\n",
    "ax = fig.add_subplot(1,2,1)\n",
    "ax.plot(w_vec,l_vec,'-')\n",
    "ax.set_ylabel('labor supply, $\\ell$')\n",
    "ax.set_xlabel('wage, $w$')\n",
    "ax.set_title('Labor suppply')\n",
    "\n",
    "ax = fig.add_subplot(1,2,2)\n",
    "ax.plot(w_vec,c_vec,'-')\n",
    "ax.set_ylabel('consumption, $c$')\n",
    "ax.set_xlabel('consumption, $c$')\n",
    "ax.set_title('Consumption');"
   ]
  },
  {
   "cell_type": "markdown",
   "metadata": {},
   "source": [
    "## 4.2 Solution of question 3"
   ]
  },
  {
   "cell_type": "markdown",
   "metadata": {},
   "source": [
    "Calculate **tax revnue** using that a equally spaced vector approximates a uniform distribution: "
   ]
  },
  {
   "cell_type": "code",
   "execution_count": 42,
   "metadata": {},
   "outputs": [
    {
     "name": "stdout",
     "output_type": "stream",
     "text": [
      "total tax revenue is: 163.0262\n"
     ]
    }
   ],
   "source": [
    "T = np.sum(LSM.implied_tax(l_vec,w_vec,tau0,tau1,kappa))\n",
    "print(f'total tax revenue is: {T:.4f}')"
   ]
  },
  {
   "cell_type": "markdown",
   "metadata": {},
   "source": [
    "Using **random sampling** is also a possibility:"
   ]
  },
  {
   "cell_type": "code",
   "execution_count": 43,
   "metadata": {},
   "outputs": [
    {
     "name": "stdout",
     "output_type": "stream",
     "text": [
      " 0: 159.7256\n",
      " 1: 164.1675\n",
      " 2: 166.3045\n",
      " 3: 164.1948\n",
      " 4: 162.4999\n",
      " 5: 162.3964\n",
      " 6: 164.1743\n",
      " 7: 162.2987\n",
      " 8: 163.5471\n",
      " 9: 159.5859\n",
      "10: 165.9245\n",
      "20: 165.1277\n",
      "30: 162.2696\n",
      "40: 160.8294\n",
      "mean: 162.8388 [159.4760 166.3045]\n"
     ]
    }
   ],
   "source": [
    "# a. set seed\n",
    "np.random.seed(1917)\n",
    "\n",
    "# b. run replications\n",
    "reps = 50\n",
    "T_vec = np.zeros(reps)\n",
    "for rep in range(reps):\n",
    "    \n",
    "    # i. draw randow wages\n",
    "    w_vec_ = np.random.uniform(0.5,1.5,size=N)\n",
    "    \n",
    "    # ii. find labor supply\n",
    "    l_vec_ = np.zeros(N)\n",
    "    for i in range(N):\n",
    "        l_vec_[i] = LSM.find_optimal_labor_supply(nu,frisch,m,w_vec_[i],tau0,tau1,kappa)\n",
    "\n",
    "    # iii. find tax revenue\n",
    "    T_vec[rep] = np.sum(LSM.implied_tax(l_vec_,w_vec_,tau0,tau1,kappa))\n",
    "    \n",
    "    if rep < 10 or rep%10 == 0:\n",
    "        print(f'{rep:2d}: {T_vec[rep]:.4f}')\n",
    "\n",
    "# c. mean\n",
    "print(f'mean: {np.mean(T_vec):.4f} [{np.min(T_vec):.4f} {np.max(T_vec):.4f}]')"
   ]
  },
  {
   "cell_type": "markdown",
   "metadata": {},
   "source": [
    "## 4.3 Question 4"
   ]
  },
  {
   "cell_type": "markdown",
   "metadata": {},
   "source": [
    "**Re-solve** with $\\epsilon = 0.1$:"
   ]
  },
  {
   "cell_type": "code",
   "execution_count": 44,
   "metadata": {},
   "outputs": [],
   "source": [
    "frisch_low = 0.1\n",
    "l_vec_frisch_low = np.zeros(N)\n",
    "for i in range(N):\n",
    "    l_vec_frisch_low[i] = LSM.find_optimal_labor_supply(nu,frisch_low,m,w_vec[i],tau0,tau1,kappa)"
   ]
  },
  {
   "cell_type": "markdown",
   "metadata": {},
   "source": [
    "Re-calculate **tax revenue**:"
   ]
  },
  {
   "cell_type": "code",
   "execution_count": 45,
   "metadata": {},
   "outputs": [
    {
     "name": "stdout",
     "output_type": "stream",
     "text": [
      "total tax revenue is: 319.6932\n"
     ]
    }
   ],
   "source": [
    "T_frisch_low = np.sum(LSM.implied_tax(l_vec_frisch_low,w_vec,tau0,tau1,kappa))\n",
    "print(f'total tax revenue is: {T_frisch_low:.4f}')"
   ]
  },
  {
   "cell_type": "markdown",
   "metadata": {},
   "source": [
    "**Conclusion:** Higher tax revenue because of lower Frish elasticity."
   ]
  },
  {
   "cell_type": "markdown",
   "metadata": {},
   "source": [
    "## 4.4 Question 5"
   ]
  },
  {
   "cell_type": "markdown",
   "metadata": {},
   "source": [
    "Define function to calculate **tax revenue for guess of tax parameters**:"
   ]
  },
  {
   "cell_type": "code",
   "execution_count": 46,
   "metadata": {},
   "outputs": [],
   "source": [
    "def tax_revenue(nu,frisch,m,w_vec,tau0,tau1,kappa):\n",
    "    \"\"\" find total tax revenue and labor and consumpty\n",
    "    \n",
    "    Args:\n",
    "    \n",
    "        nu (float): disutility of labor supply\n",
    "        frisch (float): frisch elasticity of labor supply        \n",
    "        m (float): cash-on-hand\n",
    "        w_vec (np.array): wage\n",
    "        tau0 (float): standard labor tax\n",
    "        tau1 (float): top bracket labor income tax\n",
    "        kappa (float): cut-off for the top labor income bracket\n",
    "        \n",
    "    Returns:\n",
    "    \n",
    "        (float): total tax revenue\n",
    "        \n",
    "    \"\"\"\n",
    "    \n",
    "    # a. optimal labor supply\n",
    "    N = w_vec.size\n",
    "    l_vec = np.zeros(N)\n",
    "    for i in range(N):\n",
    "        l_vec[i] = LSM.find_optimal_labor_supply(nu,frisch,m,w_vec[i],tau0,tau1,kappa)\n",
    "        \n",
    "    # b. taxes\n",
    "    T = np.sum(LSM.implied_tax(l_vec,w_vec,tau0,tau1,kappa))    \n",
    "    \n",
    "    return T"
   ]
  },
  {
   "cell_type": "markdown",
   "metadata": {},
   "source": [
    "Define **objective function for optimizer**:"
   ]
  },
  {
   "cell_type": "code",
   "execution_count": 47,
   "metadata": {},
   "outputs": [],
   "source": [
    "def obj(x,nu,frisch_low,m,w_vec):\n",
    "    \"\"\" find negative of total tax revenue \n",
    "    \n",
    "    Args:\n",
    "        \n",
    "        x (np.array): tax parameters\n",
    "        nu (float): disutility of labor supply\n",
    "        frisch (float): frisch elasticity of labor supply        \n",
    "        m (float): cash-on-hand\n",
    "        w_vec (np.array): wage\n",
    "        \n",
    "    Returns:\n",
    "    \n",
    "        (float): minus total tax revenue\n",
    "        \n",
    "    \"\"\"\n",
    "    \n",
    "    global it\n",
    "    \n",
    "    # a. determine parameters\n",
    "    tau0 = x[0]\n",
    "    if x.size > 1:\n",
    "        tau1 = x[1]\n",
    "        kappa = x[2]\n",
    "    else:\n",
    "        tau1 = 0.0\n",
    "        kappa = 0.0\n",
    "       \n",
    "    # b. calculate tax revnue\n",
    "    T = tax_revenue(nu,frisch_low,m,w_vec,tau0,tau1,kappa)\n",
    "    \n",
    "    # c. print\n",
    "    print(f'{it:3d}: tau0 = {tau0:10.8f}, tau1 = {tau1:10.8f}, kappa = {kappa:10.8f} -> T = {T:12.8f},')        \n",
    "    \n",
    "    it += 1\n",
    "    \n",
    "    return -T"
   ]
  },
  {
   "cell_type": "markdown",
   "metadata": {},
   "source": [
    "**Solve:**"
   ]
  },
  {
   "cell_type": "code",
   "execution_count": 48,
   "metadata": {},
   "outputs": [
    {
     "name": "stdout",
     "output_type": "stream",
     "text": [
      "  0: tau0 = 0.40000000, tau1 = 0.10000000, kappa = 0.40000000 -> T = 163.02616378,\n",
      "  1: tau0 = 0.40000001, tau1 = 0.10000000, kappa = 0.40000000 -> T = 163.02616851,\n",
      "  2: tau0 = 0.40000000, tau1 = 0.10000001, kappa = 0.40000000 -> T = 163.02616360,\n",
      "  3: tau0 = 0.40000000, tau1 = 0.10000000, kappa = 0.40000001 -> T = 163.02616297,\n",
      "  4: tau0 = 0.99000000, tau1 = 0.00000000, kappa = 0.00000000 -> T = 126.64019548,\n",
      "  5: tau0 = 0.65141630, tau1 = 0.05738707, kappa = 0.22954827 -> T = 229.72387032,\n",
      "  6: tau0 = 0.65141632, tau1 = 0.05738707, kappa = 0.22954827 -> T = 229.72387232,\n",
      "  7: tau0 = 0.65141630, tau1 = 0.05738708, kappa = 0.22954827 -> T = 229.72386916,\n",
      "  8: tau0 = 0.65141630, tau1 = 0.05738707, kappa = 0.22954828 -> T = 229.72386990,\n",
      "  9: tau0 = 0.83055594, tau1 = 0.00000000, kappa = 0.00000000 -> T = 244.37775906,\n",
      " 10: tau0 = 0.83055595, tau1 = 0.00000000, kappa = 0.00000000 -> T = 244.37775743,\n",
      " 11: tau0 = 0.83055594, tau1 = 0.00000002, kappa = 0.00000000 -> T = 244.37775743,\n",
      " 12: tau0 = 0.83055594, tau1 = 0.00000000, kappa = 0.00000002 -> T = 244.37775906,\n",
      " 13: tau0 = 0.74158445, tau1 = 0.00000000, kappa = 0.00000000 -> T = 244.91817967,\n",
      " 14: tau0 = 0.78344698, tau1 = 0.00000000, kappa = 0.00000000 -> T = 246.68817873,\n",
      " 15: tau0 = 0.78344700, tau1 = 0.00000000, kappa = 0.00000000 -> T = 246.68817879,\n",
      " 16: tau0 = 0.78344698, tau1 = 0.00000002, kappa = 0.00000000 -> T = 246.68817879,\n",
      " 17: tau0 = 0.78344698, tau1 = 0.00000000, kappa = 0.00000002 -> T = 246.68817873,\n",
      " 18: tau0 = 0.78292530, tau1 = 0.00218034, kappa = 0.00231170 -> T = 246.68671540,\n",
      " 19: tau0 = 0.78323341, tau1 = 0.00089262, kappa = 0.00094640 -> T = 246.68955160,\n",
      " 20: tau0 = 0.78323342, tau1 = 0.00089262, kappa = 0.00094640 -> T = 246.68955164,\n",
      " 21: tau0 = 0.78323341, tau1 = 0.00089263, kappa = 0.00094640 -> T = 246.68955162,\n",
      " 22: tau0 = 0.78323341, tau1 = 0.00089262, kappa = 0.00094641 -> T = 246.68955158,\n",
      " 23: tau0 = 0.78944641, tau1 = 0.00000000, kappa = 0.00000000 -> T = 246.67582763,\n",
      " 24: tau0 = 0.78489861, tau1 = 0.00065338, kappa = 0.00069275 -> T = 246.69171799,\n",
      " 25: tau0 = 0.78489863, tau1 = 0.00065338, kappa = 0.00069275 -> T = 246.69171798,\n",
      " 26: tau0 = 0.78489861, tau1 = 0.00065339, kappa = 0.00069275 -> T = 246.69171797,\n",
      " 27: tau0 = 0.78489861, tau1 = 0.00065338, kappa = 0.00069276 -> T = 246.69171798,\n",
      " 28: tau0 = 0.78529735, tau1 = 0.00000000, kappa = 0.00000000 -> T = 246.69219011,\n",
      " 29: tau0 = 0.78529737, tau1 = 0.00000000, kappa = 0.00000000 -> T = 246.69219012,\n",
      " 30: tau0 = 0.78529735, tau1 = 0.00000001, kappa = 0.00000000 -> T = 246.69219012,\n",
      " 31: tau0 = 0.78529735, tau1 = 0.00000000, kappa = 0.00000001 -> T = 246.69219011,\n",
      " 32: tau0 = 0.78563630, tau1 = 0.00000000, kappa = 0.00000000 -> T = 246.69217763,\n",
      " 33: tau0 = 0.78544626, tau1 = 0.00000000, kappa = 0.00000000 -> T = 246.69221629,\n",
      " 34: tau0 = 0.78544627, tau1 = 0.00000000, kappa = 0.00000000 -> T = 246.69221629,\n",
      " 35: tau0 = 0.78544626, tau1 = 0.00000001, kappa = 0.00000000 -> T = 246.69221629,\n",
      " 36: tau0 = 0.78544626, tau1 = 0.00000000, kappa = 0.00000001 -> T = 246.69221629,\n"
     ]
    }
   ],
   "source": [
    "# a. initial guess and bounds\n",
    "x0 = np.array([tau0,tau1,kappa])\n",
    "bounds = ((0,0.99),(0,0.99),(0,1.5))\n",
    "\n",
    "# b. call solver\n",
    "it = 0\n",
    "result = optimize.minimize(obj,x0,\n",
    "    method='SLSQP',bounds=bounds,\n",
    "    args=(nu,frisch,m,w_vec)\n",
    ")"
   ]
  },
  {
   "cell_type": "markdown",
   "metadata": {},
   "source": [
    "**Have we found the global optimum?**"
   ]
  },
  {
   "cell_type": "markdown",
   "metadata": {},
   "source": [
    "**Same result with another initial guess?**"
   ]
  },
  {
   "cell_type": "code",
   "execution_count": 49,
   "metadata": {},
   "outputs": [
    {
     "name": "stdout",
     "output_type": "stream",
     "text": [
      "  0: tau0 = 0.10000000, tau1 = 0.10000000, kappa = 0.10000000 -> T =  76.28076412,\n",
      "  1: tau0 = 0.10000001, tau1 = 0.10000000, kappa = 0.10000000 -> T =  76.28077023,\n",
      "  2: tau0 = 0.10000000, tau1 = 0.10000001, kappa = 0.10000000 -> T =  76.28076871,\n",
      "  3: tau0 = 0.10000000, tau1 = 0.10000000, kappa = 0.10000001 -> T =  76.28076261,\n",
      "  4: tau0 = 0.99000000, tau1 = 0.99000000, kappa = 0.00000000 -> T =   0.01035071,\n",
      "  5: tau0 = 0.49818245, tau1 = 0.49818245, kappa = 0.05526040 -> T =  67.40157676,\n",
      "  6: tau0 = 0.29318084, tau1 = 0.29318084, kappa = 0.07829429 -> T = 194.35829361,\n",
      "  7: tau0 = 0.29318085, tau1 = 0.29318084, kappa = 0.07829429 -> T = 194.35829721,\n",
      "  8: tau0 = 0.29318084, tau1 = 0.29318085, kappa = 0.07829429 -> T = 194.35829598,\n",
      "  9: tau0 = 0.29318084, tau1 = 0.29318084, kappa = 0.07829430 -> T = 194.35828902,\n",
      " 10: tau0 = 0.98999997, tau1 = 0.02089256, kappa = 0.00000004 -> T =   0.00506983,\n",
      " 11: tau0 = 0.44431374, tau1 = 0.23412431, kappa = 0.06131307 -> T = 222.07538676,\n",
      " 12: tau0 = 0.44431375, tau1 = 0.23412431, kappa = 0.06131307 -> T = 222.07538912,\n",
      " 13: tau0 = 0.44431374, tau1 = 0.23412433, kappa = 0.06131307 -> T = 222.07538815,\n",
      " 14: tau0 = 0.44431374, tau1 = 0.23412431, kappa = 0.06131309 -> T = 222.07538306,\n",
      " 15: tau0 = 0.80863245, tau1 = 0.00000000, kappa = 0.00000000 -> T = 246.11525914,\n",
      " 16: tau0 = 0.80863247, tau1 = 0.00000000, kappa = 0.00000000 -> T = 246.11525838,\n",
      " 17: tau0 = 0.80863245, tau1 = 0.00000001, kappa = 0.00000000 -> T = 246.11525838,\n",
      " 18: tau0 = 0.80863245, tau1 = 0.00000000, kappa = 0.00000001 -> T = 246.11525914,\n",
      " 19: tau0 = 0.74188618, tau1 = 0.00000000, kappa = 0.00000000 -> T = 244.94144160,\n",
      " 20: tau0 = 0.78380481, tau1 = 0.00000000, kappa = 0.00000000 -> T = 246.68949142,\n",
      " 21: tau0 = 0.78380483, tau1 = 0.00000000, kappa = 0.00000000 -> T = 246.68949147,\n",
      " 22: tau0 = 0.78380481, tau1 = 0.00000001, kappa = 0.00000000 -> T = 246.68949147,\n",
      " 23: tau0 = 0.78380481, tau1 = 0.00000000, kappa = 0.00000001 -> T = 246.68949142,\n",
      " 24: tau0 = 0.78530195, tau1 = 0.00000000, kappa = 0.00001074 -> T = 246.69219127,\n",
      " 25: tau0 = 0.78530197, tau1 = 0.00000000, kappa = 0.00001074 -> T = 246.69219128,\n",
      " 26: tau0 = 0.78530195, tau1 = 0.00000001, kappa = 0.00001074 -> T = 246.69219128,\n",
      " 27: tau0 = 0.78530195, tau1 = 0.00000000, kappa = 0.00001076 -> T = 246.69219127,\n",
      " 28: tau0 = 0.78542437, tau1 = 0.00000000, kappa = 0.00001058 -> T = 246.69221412,\n",
      " 29: tau0 = 0.78542438, tau1 = 0.00000000, kappa = 0.00001058 -> T = 246.69221412,\n",
      " 30: tau0 = 0.78542437, tau1 = 0.00000001, kappa = 0.00001058 -> T = 246.69221412,\n",
      " 31: tau0 = 0.78542437, tau1 = 0.00000000, kappa = 0.00001060 -> T = 246.69221412,\n"
     ]
    }
   ],
   "source": [
    "# a. initial guess and bounds\n",
    "x0 = np.array([0.1,0.1,0.1])\n",
    "bounds = ((0,0.99),(0,0.99),(0,1.5))\n",
    "\n",
    "# b. call solver\n",
    "it = 0\n",
    "result = optimize.minimize(obj,x0,\n",
    "    method='SLSQP',bounds=bounds,\n",
    "    args=(nu,frisch,m,w_vec)\n",
    ")"
   ]
  },
  {
   "cell_type": "markdown",
   "metadata": {},
   "source": [
    "**Can we improve if we force $\\tau_1 = \\kappa = 0$?**"
   ]
  },
  {
   "cell_type": "code",
   "execution_count": 50,
   "metadata": {},
   "outputs": [
    {
     "name": "stdout",
     "output_type": "stream",
     "text": [
      "  0: tau0 = 0.78542437, tau1 = 0.00000000, kappa = 0.00000000 -> T = 246.69221412,\n",
      "  1: tau0 = 0.78542438, tau1 = 0.00000000, kappa = 0.00000000 -> T = 246.69221412,\n",
      "  2: tau0 = 0.80214800, tau1 = 0.00000000, kappa = 0.00000000 -> T = 246.39765662,\n",
      "  3: tau0 = 0.78709673, tau1 = 0.00000000, kappa = 0.00000000 -> T = 246.68943799,\n",
      "  4: tau0 = 0.78559161, tau1 = 0.00000000, kappa = 0.00000000 -> T = 246.69219185,\n",
      "  5: tau0 = 0.78544109, tau1 = 0.00000000, kappa = 0.00000000 -> T = 246.69221634,\n",
      "  6: tau0 = 0.78544111, tau1 = 0.00000000, kappa = 0.00000000 -> T = 246.69221634,\n"
     ]
    }
   ],
   "source": [
    "# a. initial guess and bounds\n",
    "x0 = np.array([result.x[0]])\n",
    "bounds = ((0,0.99),)\n",
    "\n",
    "# b. call solver\n",
    "it = 0\n",
    "result = optimize.minimize(obj,x0,\n",
    "    method='SLSQP',bounds=bounds,\n",
    "    args=(nu,frisch,m,w_vec)\n",
    ")"
   ]
  },
  {
   "cell_type": "markdown",
   "metadata": {},
   "source": [
    "**Can we improve if fix $\\kappa$ to some value?**"
   ]
  },
  {
   "cell_type": "code",
   "execution_count": 51,
   "metadata": {},
   "outputs": [],
   "source": [
    "def obj_kappa(x,nu,frisch_low,m,w_vec,kappa):\n",
    "    \"\"\" find negative of total tax revenue \n",
    "    \n",
    "    Args:\n",
    "        \n",
    "        x (np.array): tax parameters\n",
    "        nu (float): disutility of labor supply\n",
    "        frisch (float): frisch elasticity of labor supply        \n",
    "        m (float): cash-on-hand\n",
    "        w_vec (np.array): wage\n",
    "        kappa (float): cut-off for the top labor income bracket\n",
    "        \n",
    "    Returns:\n",
    "    \n",
    "        (float): minus total tax revenue\n",
    "        \n",
    "    \"\"\"\n",
    "    \n",
    "    global it\n",
    "    \n",
    "    # a. determine parameters\n",
    "    tau0 = x[0]\n",
    "    tau1 = x[1]\n",
    "       \n",
    "    # b. calculate tax revnue\n",
    "    T = tax_revenue(nu,frisch_low,m,w_vec,tau0,tau1,kappa)\n",
    "    \n",
    "    # c. print\n",
    "    print(f' {it:3d}: tau0 = {tau0:10.8f}, tau1 = {tau1:10.8f} -> T = {T:12.8f},')        \n",
    "    \n",
    "    it += 1\n",
    "    \n",
    "    return -T"
   ]
  },
  {
   "cell_type": "code",
   "execution_count": 52,
   "metadata": {},
   "outputs": [
    {
     "name": "stdout",
     "output_type": "stream",
     "text": [
      "kappa = 0.050\n",
      "   0: tau0 = 0.10000000, tau1 = 0.10000000 -> T =  81.36739300,\n",
      "   1: tau0 = 0.10000001, tau1 = 0.10000000 -> T =  81.36739911,\n",
      "   2: tau0 = 0.10000000, tau1 = 0.10000001 -> T =  81.36739835,\n",
      "   3: tau0 = 0.99000000, tau1 = 0.99000000 -> T =  49.49767585,\n",
      "   4: tau0 = 0.52520516, tau1 = 0.52520516 -> T =  26.26236071,\n",
      "   5: tau0 = 0.28194740, tau1 = 0.28194740 -> T = 198.06712916,\n",
      "   6: tau0 = 0.28194741, tau1 = 0.28194740 -> T = 198.06713300,\n",
      "   7: tau0 = 0.28194740, tau1 = 0.28194741 -> T = 198.06713222,\n",
      "   8: tau0 = 0.99000000, tau1 = 0.06545131 -> T =  49.49844200,\n",
      "   9: tau0 = 0.45250159, tau1 = 0.22979829 -> T = 225.71732910,\n",
      "  10: tau0 = 0.45250160, tau1 = 0.22979829 -> T = 225.71733140,\n",
      "  11: tau0 = 0.45250159, tau1 = 0.22979830 -> T = 225.71733061,\n",
      "  12: tau0 = 0.85947869, tau1 = 0.00000000 -> T = 239.89872701,\n",
      "  13: tau0 = 0.85947871, tau1 = 0.00000000 -> T = 239.89872396,\n",
      "  14: tau0 = 0.85947869, tau1 = 0.00000001 -> T = 239.89872316,\n",
      "  15: tau0 = 0.75860649, tau1 = 0.00000000 -> T = 246.00412507,\n",
      "  16: tau0 = 0.75860651, tau1 = 0.00000000 -> T = 246.00412582,\n",
      "  17: tau0 = 0.75860649, tau1 = 0.00000001 -> T = 246.00412502,\n",
      "  18: tau0 = 0.77834099, tau1 = 0.00000000 -> T = 246.64182853,\n",
      "  19: tau0 = 0.77834101, tau1 = 0.00000000 -> T = 246.64182874,\n",
      "  20: tau0 = 0.77834099, tau1 = 0.00000001 -> T = 246.64182795,\n",
      "  21: tau0 = 0.78606953, tau1 = 0.00000000 -> T = 246.69181708,\n",
      "  22: tau0 = 0.78606955, tau1 = 0.00000000 -> T = 246.69181707,\n",
      "  23: tau0 = 0.78606953, tau1 = 0.00000001 -> T = 246.69181627,\n",
      "  24: tau0 = 0.78548170, tau1 = 0.00000000 -> T = 246.69221392,\n",
      "  25: tau0 = 0.78548171, tau1 = 0.00000000 -> T = 246.69221392,\n",
      "  26: tau0 = 0.78548170, tau1 = 0.00000001 -> T = 246.69221313,\n",
      "  27: tau0 = 0.78542392, tau1 = 0.00000000 -> T = 246.69221411,\n",
      "  28: tau0 = 0.78545186, tau1 = 0.00000000 -> T = 246.69221609,\n",
      "  29: tau0 = 0.78545187, tau1 = 0.00000000 -> T = 246.69221609,\n",
      "  30: tau0 = 0.78545186, tau1 = 0.00000001 -> T = 246.69221529,\n",
      "  31: tau0 = 0.78542858, tau1 = 0.00000000 -> T = 246.69221416,\n",
      "  32: tau0 = 0.78544774, tau1 = 0.00000000 -> T = 246.69221625,\n",
      "\n",
      "kappa = 0.100\n",
      "   0: tau0 = 0.10000000, tau1 = 0.10000000 -> T =  76.28076412,\n",
      "   1: tau0 = 0.10000001, tau1 = 0.10000000 -> T =  76.28077023,\n",
      "   2: tau0 = 0.10000000, tau1 = 0.10000001 -> T =  76.28076871,\n",
      "   3: tau0 = 0.98999999, tau1 = 0.98999999 -> T =  90.59922224,\n",
      "   4: tau0 = 0.55520801, tau1 = 0.55520802 -> T =  55.52239483,\n",
      "   5: tau0 = 0.31400131, tau1 = 0.31400131 -> T = 194.79427716,\n",
      "   6: tau0 = 0.31400132, tau1 = 0.31400131 -> T = 194.79428024,\n",
      "   7: tau0 = 0.31400131, tau1 = 0.31400132 -> T = 194.79427867,\n",
      "   8: tau0 = 0.99000000, tau1 = 0.00000000 -> T = 126.64019550,\n",
      "   9: tau0 = 0.52121141, tau1 = 0.21775224 -> T = 221.53210126,\n",
      "  10: tau0 = 0.52121143, tau1 = 0.21775224 -> T = 221.53210246,\n",
      "  11: tau0 = 0.52121141, tau1 = 0.21775225 -> T = 221.53210087,\n",
      "  12: tau0 = 0.81041550, tau1 = 0.00000000 -> T = 246.02007389,\n",
      "  13: tau0 = 0.81041552, tau1 = 0.00000000 -> T = 246.02007306,\n",
      "  14: tau0 = 0.81041550, tau1 = 0.00000001 -> T = 246.02007147,\n",
      "  15: tau0 = 0.78172715, tau1 = 0.00000000 -> T = 246.67830312,\n",
      "  16: tau0 = 0.78172717, tau1 = 0.00000000 -> T = 246.67830323,\n",
      "  17: tau0 = 0.78172715, tau1 = 0.00000001 -> T = 246.67830164,\n",
      "  18: tau0 = 0.78510558, tau1 = 0.00000000 -> T = 246.69209528,\n",
      "  19: tau0 = 0.78510559, tau1 = 0.00000000 -> T = 246.69209529,\n",
      "  20: tau0 = 0.78510558, tau1 = 0.00000001 -> T = 246.69209370,\n",
      "  21: tau0 = 0.78543659, tau1 = 0.00000000 -> T = 246.69221396,\n",
      "  22: tau0 = 0.78543661, tau1 = 0.00000000 -> T = 246.69221396,\n",
      "  23: tau0 = 0.78543659, tau1 = 0.00000001 -> T = 246.69221237,\n",
      "\n",
      "kappa = 0.150\n",
      "   0: tau0 = 0.10000000, tau1 = 0.10000000 -> T =  71.19449111,\n",
      "   1: tau0 = 0.10000001, tau1 = 0.10000000 -> T =  71.19449721,\n",
      "   2: tau0 = 0.10000000, tau1 = 0.10000001 -> T =  71.19449494,\n",
      "   3: tau0 = 0.99000000, tau1 = 0.99000000 -> T = 115.66422795,\n",
      "   4: tau0 = 0.58111293, tau1 = 0.58111293 -> T =  87.16776654,\n",
      "   5: tau0 = 0.35318417, tau1 = 0.35318417 -> T = 185.23989576,\n",
      "   6: tau0 = 0.35318419, tau1 = 0.35318417 -> T = 185.23989691,\n",
      "   7: tau0 = 0.35318417, tau1 = 0.35318419 -> T = 185.23989606,\n",
      "   8: tau0 = 0.70496498, tau1 = 0.00000000 -> T = 241.12513664,\n",
      "   9: tau0 = 0.70496500, tau1 = 0.00000000 -> T = 241.12513855,\n",
      "  10: tau0 = 0.70496498, tau1 = 0.00000001 -> T = 241.12513622,\n",
      "  11: tau0 = 0.76468955, tau1 = 0.00000010 -> T = 246.27526239,\n",
      "  12: tau0 = 0.76468956, tau1 = 0.00000010 -> T = 246.27526298,\n",
      "  13: tau0 = 0.76468955, tau1 = 0.00000011 -> T = 246.27526071,\n",
      "  14: tau0 = 0.79120338, tau1 = 0.00000000 -> T = 246.65813176,\n",
      "  15: tau0 = 0.79120340, tau1 = 0.00000000 -> T = 246.65813158,\n",
      "  16: tau0 = 0.79120338, tau1 = 0.00000001 -> T = 246.65812937,\n",
      "  17: tau0 = 0.78503003, tau1 = 0.00000003 -> T = 246.69203732,\n",
      "  18: tau0 = 0.78503004, tau1 = 0.00000003 -> T = 246.69203733,\n",
      "  19: tau0 = 0.78503003, tau1 = 0.00000004 -> T = 246.69203511,\n",
      "  20: tau0 = 0.78541803, tau1 = 0.00000008 -> T = 246.69220251,\n",
      "  21: tau0 = 0.78541805, tau1 = 0.00000008 -> T = 246.69220251,\n",
      "  22: tau0 = 0.78541803, tau1 = 0.00000009 -> T = 246.69220029,\n",
      "  23: tau0 = 0.78543099, tau1 = 0.00000004 -> T = 246.69220883,\n",
      "  24: tau0 = 0.78543100, tau1 = 0.00000004 -> T = 246.69220883,\n",
      "  25: tau0 = 0.78543099, tau1 = 0.00000005 -> T = 246.69220661,\n",
      "  26: tau0 = 0.78543063, tau1 = 0.00000000 -> T = 246.69221417,\n",
      "\n"
     ]
    }
   ],
   "source": [
    "# a. initial guess and bounds\n",
    "x0 = np.array([0.1,0.1])\n",
    "bounds = ((0,0.99),(0,0.99))\n",
    "\n",
    "# b. call solver\n",
    "for kappa in [0.05,0.1,0.15]:\n",
    "    \n",
    "    print(f'kappa = {kappa:.3f}')\n",
    "    it = 0\n",
    "    result = optimize.minimize(obj_kappa,x0,\n",
    "        method='SLSQP',bounds=bounds,\n",
    "        args=(nu,frisch,m,w_vec,kappa)\n",
    "    )\n",
    "    print('')\n",
    "    "
   ]
  },
  {
   "cell_type": "markdown",
   "metadata": {},
   "source": [
    "**Suggestions for other tests?**"
   ]
  },
  {
   "cell_type": "markdown",
   "metadata": {},
   "source": [
    "<a id=\"Summary\"></a>\n",
    "\n",
    "# 5. Summary"
   ]
  },
  {
   "cell_type": "markdown",
   "metadata": {},
   "source": [
    "1. **Main takeway:** You are actually already equipped to solve a lot of interesting economic models.\n",
    "2. **Next time:** Pandas, the central Python package for working with data."
   ]
  }
 ],
 "metadata": {
  "kernelspec": {
   "display_name": "Python 3",
   "language": "python",
   "name": "python3"
  },
  "language_info": {
   "codemirror_mode": {
    "name": "ipython",
    "version": 3
   },
   "file_extension": ".py",
   "mimetype": "text/x-python",
   "name": "python",
   "nbconvert_exporter": "python",
   "pygments_lexer": "ipython3",
   "version": "3.8.6"
  },
  "toc-autonumbering": false
 },
 "nbformat": 4,
 "nbformat_minor": 4
}
