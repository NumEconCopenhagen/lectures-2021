{
 "cells": [
  {
   "cell_type": "markdown",
   "metadata": {},
   "source": [
    "# Appendix Lecture A: Other programming languages"
   ]
  },
  {
   "cell_type": "markdown",
   "metadata": {},
   "source": [
    "[Download on GitHub](https://github.com/NumEconCopenhagen/lectures-2021)\n",
    "\n",
    "[<img src=\"https://mybinder.org/badge_logo.svg\">](https://mybinder.org/v2/gh/NumEconCopenhagen/lectures-2021/master?urlpath=lab/tree/A/Other_programming_languages.ipynb)"
   ]
  },
  {
   "cell_type": "markdown",
   "metadata": {},
   "source": [
    "1. [High-level programming languages](#High-level-programming-languages)\n",
    "2. [Low-level programming languages](#Low-level-programming-languages)\n"
   ]
  },
  {
   "cell_type": "markdown",
   "metadata": {},
   "source": [
    "**Today we talk about various programming languages:** If you have learned one programming language, it is easy to learn the next.\n",
    "\n",
    "**Different kinds** of programming languages:\n",
    "\n",
    "1. **Low-level, compiled (C/C++, Fortran):** You are in full control, but need to specify types, allocate memory and clean up after your-self\n",
    "2. **High-level, interpreted (MATLAB, Python, Julia, R):** Types are inferred, memory is allocated automatically, and there is automatic garbage collection"
   ]
  },
  {
   "cell_type": "markdown",
   "metadata": {},
   "source": [
    "**Others:** \n",
    "\n",
    "1. **[Wolfram Mathematica](https://www.wolfram.com/mathematica/)**: A mathematical programming langauge. The inspiration for **sympy**.\n",
    "2. **[STATA](https://www.stata.com/)**: For many economists still the prefered statistical program, because it is so good at panel data and provides standard errors for a lot of the commonly used estimators. \n",
    "\n",
    "> **Note:** Data cleaning and structuring is increasingly done in **R** or **Python**, and **STATA** is then only used for estimation. "
   ]
  },
  {
   "cell_type": "markdown",
   "metadata": {},
   "source": [
    "**Comparison:** We solve the same Simulated Minimum Distance (SMD) problem in MATLAB, Python and Julia."
   ]
  },
  {
   "cell_type": "markdown",
   "metadata": {},
   "source": [
    "**Observations:**\n",
    "\n",
    "1. Any language can typically be used to solve a task. But some have a **comparative advantage**.\n",
    "2. If a **syntax** in a language irritates you, you will write worse code.\n",
    "3. A **community** in your field around a language is important.\n",
    "4. **No language is the best at everything**."
   ]
  },
  {
   "cell_type": "markdown",
   "metadata": {},
   "source": [
    "**Comparisons:**\n",
    "\n",
    "- Coleman et al. (2020): MATLAB, [Python and Julia: What to choose in economics?](https://lmaliar.ws.gc.cuny.edu/files/2019/01/CEPR-DP13210.pdf)\n",
    "- Fernández-Villaverde and Valencia (2019): [A Practical Guide to Parallization in Economics](https://www.sas.upenn.edu/~jesusfv/Guide_Parallel.pdf)\n"
   ]
  },
  {
   "cell_type": "markdown",
   "metadata": {},
   "source": [
    "<a id=\"High-level-programming-languages\"></a>\n",
    "\n",
    "# 1. High-level programming languages"
   ]
  },
  {
   "cell_type": "markdown",
   "metadata": {},
   "source": [
    "## 1.1 MATLAB"
   ]
  },
  {
   "cell_type": "markdown",
   "metadata": {},
   "source": [
    "The **godfather** of high-level scientific programming. *The main source of inspiration for numpy and Julia*.\n",
    "\n",
    "The **good** things:\n",
    "\n",
    "1. Full scientific programming langauge \n",
    "2. Especially good at optimization and (sparse) matrix algebra \n",
    "3. Well-developed interface (IDE) and debugger \n",
    "4. Integration with C++ through mex functions\n",
    "\n",
    "The **bad** things:\n",
    "\n",
    "1. Not open source and costly outside of academia\n",
    "2. Not always easy to parallelize natively\n",
    "3. Not complete programming langauge\n",
    "4. Not in JupyterLab"
   ]
  },
  {
   "cell_type": "markdown",
   "metadata": {},
   "source": [
    "**Download:** Available in the Absalon software library.\n",
    "\n",
    "**Example:** `SMD_MATLAB.mlx`\n",
    "\n",
    "**More:** \n",
    "\n",
    "1. **Mini-course in MATLAB:** See the folder `\\MATLAB_course`\n",
    "2. [NumPy for Matlab users](https://docs.scipy.org/doc/numpy/user/numpy-for-matlab-users.html)"
   ]
  },
  {
   "cell_type": "markdown",
   "metadata": {},
   "source": [
    "## 1.2 Python"
   ]
  },
  {
   "cell_type": "markdown",
   "metadata": {},
   "source": [
    "The **swiss-knife** of programming languages.\n",
    "\n",
    "The **good** things:\n",
    "\n",
    "1. Allround programming language\n",
    "2. Full scientific programming (numpy+scipy)\n",
    "3. Good at statistics (in particular data handling and machine learning)\n",
    "4. Just-in-time (jit) compilation availible (numba)\n",
    "4. Easy to integrate with C++ (ctypes, cffi)\n",
    "\n",
    "The **bad** things:\n",
    "\n",
    "1. Messy package system at times\n",
    "2. Sometimes hard to jit-compile and parallelize"
   ]
  },
  {
   "cell_type": "markdown",
   "metadata": {},
   "source": [
    "**Example:** `SMD_Python.ipynb`"
   ]
  },
  {
   "cell_type": "markdown",
   "metadata": {},
   "source": [
    "## 1.3 Julia"
   ]
  },
  {
   "cell_type": "markdown",
   "metadata": {},
   "source": [
    "The **newcomer** of scientific programming languages.\n",
    "\n",
    "1. All-round programming language\n",
    "2. Automatic just-in-time compilation with native parallization - almost as fast as C++\n",
    "3. Focused on scientific computing and high performance computing\n",
    "\n",
    "The **bad** things:\n",
    "\n",
    "1. Young language, with smallish, but growing, community\n",
    "2. Sometimes hard to ensure that the just-in-time compliation works efficiently"
   ]
  },
  {
   "cell_type": "markdown",
   "metadata": {},
   "source": [
    "**Example:** `SMD_Julia.ipynb`"
   ]
  },
  {
   "cell_type": "markdown",
   "metadata": {},
   "source": [
    "**Download Julia:**\n",
    "\n",
    "- [Open source version](https://julialang.org/downloads/)\n",
    "- [JuliaPro from Julia Computing (bundled with IDE and notebook support)](https://juliacomputing.com/products/juliapro)\n",
    "- [Documentation (language and about 1900 packages)](https://pkg.julialang.org/docs/)"
   ]
  },
  {
   "cell_type": "markdown",
   "metadata": {},
   "source": [
    "**Julia community:**\n",
    "- [Discourse](https://discourse.julialang.org)\n",
    "- [Slack](https://julialang.slack.com)"
   ]
  },
  {
   "cell_type": "markdown",
   "metadata": {},
   "source": [
    "For **introductory material on Julia for economists**, see [https://lectures.quantecon.org/jl/](https://lectures.quantecon.org/jl/)."
   ]
  },
  {
   "cell_type": "markdown",
   "metadata": {},
   "source": [
    "## 1.4 R"
   ]
  },
  {
   "cell_type": "markdown",
   "metadata": {},
   "source": [
    "The **statistician favorite choice** of programming language.\n",
    "\n",
    "1. Great package system\n",
    "2. The best statistical packages\n",
    "3. Well-developed interface (IDE) (Rstudio) \n",
    "4. Easy to integrate with C++ (Rcpp)\n",
    "\n",
    "The **bad** things:\n",
    "\n",
    "1. Not designed to be a scientific programming langauge\n",
    "2. Not a complete programming langauge\n",
    "\n",
    "**Download:** https://www.rstudio.com/"
   ]
  },
  {
   "cell_type": "markdown",
   "metadata": {},
   "source": [
    "<a id=\"Low-level-programming-languages\"></a>\n",
    "\n",
    "# 2. Low-level programming languages"
   ]
  },
  {
   "cell_type": "markdown",
   "metadata": {},
   "source": [
    "## 2.1 Fortran"
   ]
  },
  {
   "cell_type": "markdown",
   "metadata": {},
   "source": [
    "What I have nightmares about...\n",
    "\n",
    "In the old days, it was a bit faster than C++. This is no longer true."
   ]
  },
  {
   "cell_type": "markdown",
   "metadata": {},
   "source": [
    "## 2.2 C/C++"
   ]
  },
  {
   "cell_type": "markdown",
   "metadata": {},
   "source": [
    "**The fastest you can get.** A very powerfull tool, but hard to learn, and impossible to master."
   ]
  },
  {
   "cell_type": "code",
   "execution_count": 1,
   "metadata": {},
   "outputs": [],
   "source": [
    "import numpy as np\n",
    "import ctypes as ct\n",
    "import callcpp # local library"
   ]
  },
  {
   "cell_type": "code",
   "execution_count": 2,
   "metadata": {},
   "outputs": [
    {
     "name": "stdout",
     "output_type": "stream",
     "text": [
      "this computer has 8 CPUs\n"
     ]
    }
   ],
   "source": [
    "import psutil\n",
    "CPUs = psutil.cpu_count()\n",
    "CPUs_list = set(np.sort([1,2,4,*np.arange(8,CPUs+1,4)])) \n",
    "print(f'this computer has {CPUs} CPUs')"
   ]
  },
  {
   "cell_type": "markdown",
   "metadata": {},
   "source": [
    "## 2.3 Calling C++ from Python"
   ]
  },
  {
   "cell_type": "markdown",
   "metadata": {},
   "source": [
    "> **Note I:** This section can only be run on a Windows computer with the free  **Microsoft Visual Studio 2017 Community Edition** ([download here](https://visualstudio.microsoft.com/downloads/)) installed.\n",
    ">\n",
    "> **Note II:** Learning C++ is somewhat hard. These [tutorials](http://www.cplusplus.com/doc/tutorial/) are helpful.\n",
    "\n",
    "\n",
    "Pyton contains multiple ways of calling functions written in C++. Here I use **ctypes**.\n",
    "\n",
    "**C++ file:** example.cpp in the current folder."
   ]
  },
  {
   "cell_type": "markdown",
   "metadata": {},
   "source": [
    "**Step 1:** Compile C++ to a .dll file"
   ]
  },
  {
   "cell_type": "code",
   "execution_count": 3,
   "metadata": {},
   "outputs": [
    {
     "name": "stdout",
     "output_type": "stream",
     "text": [
      "cpp files compiled\n"
     ]
    }
   ],
   "source": [
    "callcpp.compile_cpp('example') # compiles example.cpp"
   ]
  },
  {
   "cell_type": "markdown",
   "metadata": {},
   "source": [
    "> **Details:** Write a file called ``compile.bat`` and run it in a terminal under the hood."
   ]
  },
  {
   "cell_type": "markdown",
   "metadata": {},
   "source": [
    "**Step 2:** Link to .dll file"
   ]
  },
  {
   "cell_type": "code",
   "execution_count": 4,
   "metadata": {},
   "outputs": [
    {
     "name": "stdout",
     "output_type": "stream",
     "text": [
      "cpp files loaded\n"
     ]
    }
   ],
   "source": [
    "# funcs (list): list of functions with elements (functionname,[argtype1,argtype2,etc.])\n",
    "funcs = [('myfun_cpp',[ct.POINTER(ct.c_double),ct.POINTER(ct.c_double),ct.POINTER(ct.c_double),\n",
    "                       ct.c_long,ct.c_long,ct.c_long])]\n",
    "\n",
    "# ct.POINTER(ct.c_double) to a double\n",
    "# ct.c_long interger\n",
    "\n",
    "cppfile = callcpp.link_cpp('example',funcs)"
   ]
  },
  {
   "cell_type": "markdown",
   "metadata": {},
   "source": [
    "**Step 3:** Call function"
   ]
  },
  {
   "cell_type": "code",
   "execution_count": 5,
   "metadata": {},
   "outputs": [
    {
     "name": "stdout",
     "output_type": "stream",
     "text": [
      "2.51 s ± 842 ms per loop (mean ± std. dev. of 7 runs, 1 loop each)\n"
     ]
    }
   ],
   "source": [
    "def myfun_numpy_vec(x1,x2):\n",
    "    y = np.empty((1,x1.size))\n",
    "    I = x1 < 0.5\n",
    "    y[I] = np.sum(np.exp(x2*x1[I]),axis=0)\n",
    "    y[~I] = np.sum(np.log(x2*x1[~I]),axis=0)\n",
    "    return y\n",
    "\n",
    "# setup\n",
    "x1 = np.random.uniform(size=10**6)\n",
    "x2 = np.random.uniform(size=np.int(100*CPUs/8)) # adjust the size of the problem\n",
    "x1_np = x1.reshape((1,x1.size))\n",
    "x2_np = x2.reshape((x2.size,1))\n",
    "\n",
    "# timing\n",
    "%timeit myfun_numpy_vec(x1_np,x2_np)"
   ]
  },
  {
   "cell_type": "code",
   "execution_count": 6,
   "metadata": {},
   "outputs": [
    {
     "name": "stdout",
     "output_type": "stream",
     "text": [
      "threads = 8\n",
      "271 ms ± 7.85 ms per loop (mean ± std. dev. of 7 runs, 1 loop each)\n",
      "\n",
      "threads = 1\n",
      "1.05 s ± 60.8 ms per loop (mean ± std. dev. of 7 runs, 1 loop each)\n",
      "\n",
      "threads = 2\n",
      "668 ms ± 52.1 ms per loop (mean ± std. dev. of 7 runs, 1 loop each)\n",
      "\n",
      "threads = 4\n",
      "388 ms ± 9.3 ms per loop (mean ± std. dev. of 7 runs, 1 loop each)\n",
      "\n"
     ]
    }
   ],
   "source": [
    "def myfun_cpp(x1,x2,threads):\n",
    "    y = np.empty(x1.size)\n",
    "    p_x1 = np.ctypeslib.as_ctypes(x1) # pointer to x1\n",
    "    p_x2 = np.ctypeslib.as_ctypes(x2) # pointer to x2\n",
    "    p_y = np.ctypeslib.as_ctypes(y) # pointer to y\n",
    "    cppfile.myfun_cpp(p_x1,p_x2,p_y,x1.size,x2.size,threads)\n",
    "    return y\n",
    "\n",
    "assert np.allclose(myfun_numpy_vec(x1_np,x2_np),myfun_cpp(x1,x2,1))\n",
    "for threads in CPUs_list:\n",
    "    print(f'threads = {threads}')\n",
    "    %timeit myfun_cpp(x1,x2,threads)\n",
    "    print('')"
   ]
  },
  {
   "cell_type": "markdown",
   "metadata": {},
   "source": [
    "**Observation:** Compare with results in lecture 12. Numba is roughly as fast as C++ here (I get different results across different computers). In larger problems, C++ is usually faster, and while Numba is limited in terms of which Python and Numpy features it supports, everything can be coded in C++."
   ]
  },
  {
   "cell_type": "markdown",
   "metadata": {},
   "source": [
    "**Step 4:** Delink .dll file"
   ]
  },
  {
   "cell_type": "code",
   "execution_count": 7,
   "metadata": {},
   "outputs": [
    {
     "name": "stdout",
     "output_type": "stream",
     "text": [
      "cpp files delinked\n"
     ]
    }
   ],
   "source": [
    "callcpp.delink_cpp(cppfile,'example')"
   ]
  },
  {
   "cell_type": "markdown",
   "metadata": {},
   "source": [
    "**More information:** See the folder \"Numba and C++\" in the [ConsumptionSavingNotebooks](https://github.com/NumEconCopenhagen/ConsumptionSavingNotebooks) repository. Incudes, an explanation on how to use the **NLopt optimizers** in C++."
   ]
  }
 ],
 "metadata": {
  "kernelspec": {
   "display_name": "Python 3",
   "language": "python",
   "name": "python3"
  },
  "language_info": {
   "codemirror_mode": {
    "name": "ipython",
    "version": 3
   },
   "file_extension": ".py",
   "mimetype": "text/x-python",
   "name": "python",
   "nbconvert_exporter": "python",
   "pygments_lexer": "ipython3",
   "version": "3.8.5"
  },
  "toc-autonumbering": false
 },
 "nbformat": 4,
 "nbformat_minor": 4
}
