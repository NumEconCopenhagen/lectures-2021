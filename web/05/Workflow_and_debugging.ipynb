{
 "cells": [
  {
   "cell_type": "markdown",
   "metadata": {},
   "source": [
    "# Lecture 05: A bit about Jupyter"
   ]
  },
  {
   "cell_type": "markdown",
   "metadata": {},
   "source": [
    "[Download on GitHub](https://github.com/NumEconCopenhagen/lectures-2021)\n",
    "\n",
    "[<img src=\"https://mybinder.org/badge_logo.svg\">](https://mybinder.org/v2/gh/NumEconCopenhagen/lectures-2021/master?urlpath=lab/tree/05/Workflow_and_debugging.ipynb)"
   ]
  },
  {
   "cell_type": "markdown",
   "metadata": {},
   "source": [
    "1. [Workflow and debugging](#Workflow-and-debugging)\n",
    "2. [Programming is more than writing code](#Programming-is-more-than-writing-code)\n",
    "3. [Design patterns  ](#Design-patterns--)\n",
    "4. [Debugging](#Debugging)\n",
    "5. [VSCode](#VSCode)\n",
    "6. [Modules](#Modules)\n",
    "7. [Git](#Git)\n",
    "8. [Summary](#Summary)\n"
   ]
  },
  {
   "cell_type": "markdown",
   "metadata": {},
   "source": [
    "A few pointers about working in JupyterLab\n",
    "\n",
    "* Basically, there are 2 kinds of cells: code (press `y`) and markdown (press `m`)\n",
    "* Run a cell: `Ctrl + Enter`\n",
    "* Delete a cell: `x`\n",
    "* Create a cell above current cell: `a`\n",
    "* Create a cell below current cell: `b`\n",
    "* Write inline latex in markdown cell, eg. an $\\alpha$ : `$\\alpha$`\n",
    "* Write separate equation line latex in markdown cell: use 2 dollar signs : `$$\\alpha = \\beta$$`\n",
    "* Create titles in markdown cell: `#` for top level section, `##` for second level, etc.\n",
    "\n",
    "See <img src=\"jupytericon.png\" alt=\"Drawing\" style=\"width: 20px;\"/>  icon on the left bar for many more commands and hot keys."
   ]
  },
  {
   "cell_type": "markdown",
   "metadata": {},
   "source": [
    "Lets quickly look at some variable through the **Variable Inspector**, also found at the bottom of  <img src=\"jupytericon.png\" alt=\"Drawing\" style=\"width: 20px;\"/> "
   ]
  },
  {
   "cell_type": "code",
   "execution_count": 42,
   "metadata": {},
   "outputs": [],
   "source": [
    "# An example for Inspector Variable:\n",
    "x = {\"first\":True, \"second\":False}\n",
    "items = [\"first\", \"second\"]\n",
    "y = [k in x and x[k] for k in items]"
   ]
  },
  {
   "cell_type": "markdown",
   "metadata": {},
   "source": [
    "<a id=\"Workflow-and-debugging\"></a>\n",
    "\n",
    "# 1. Workflow and debugging"
   ]
  },
  {
   "cell_type": "code",
   "execution_count": 18,
   "metadata": {},
   "outputs": [],
   "source": [
    "#from IPython.display import YouTubeVideo\n",
    "#YouTubeVideo('ABx55cEop-o', width=800, height=300)"
   ]
  },
  {
   "cell_type": "markdown",
   "metadata": {
    "slideshow": {
     "slide_type": "slide"
    }
   },
   "source": [
    "You will learn how to **structure** and **comment** your code and **document** it for later use. You will learn how to **debug** your code using print, **assert** and try/except statements. You will learn how to write **modules** and **run scripts** from a terminal in **VSCode** and how to share your code with others through **Git**."
   ]
  },
  {
   "cell_type": "code",
   "execution_count": 43,
   "metadata": {},
   "outputs": [],
   "source": [
    "import math\n",
    "import numpy as np\n",
    "from IPython.display import Image"
   ]
  },
  {
   "cell_type": "markdown",
   "metadata": {},
   "source": [
    "<a id=\"Programming-is-more-than-writing-code\"></a>\n",
    "\n",
    "# 2. Programming is more than writing code"
   ]
  },
  {
   "cell_type": "markdown",
   "metadata": {},
   "source": [
    "You seldom write some code, run it, get the right results, and then never use it again.\n",
    "\n",
    " * Firstly: You make errors (bugs) when you code.\n",
    " * Secondly: You need to share your code with colleagues and your future self."
   ]
  },
  {
   "cell_type": "markdown",
   "metadata": {},
   "source": [
    "Transparent **macro- and microstructure** is important. For preventing errors. For finding errors. For making your code interpretable for others and your future-self. **No code is self-explanatory** - even though if might seem so when you write it. "
   ]
  },
  {
   "cell_type": "markdown",
   "metadata": {},
   "source": [
    "**Cleaning, commenting and documenting code takes time**, but is a crucial aspect of good programming."
   ]
  },
  {
   "cell_type": "markdown",
   "metadata": {},
   "source": [
    "In **scientific programming**, a transparent program structure and good documentation is also a cornerstone in securing **replicability**. "
   ]
  },
  {
   "cell_type": "markdown",
   "metadata": {},
   "source": [
    "## 2.1 Structure"
   ]
  },
  {
   "cell_type": "markdown",
   "metadata": {},
   "source": [
    "**Macro structure** (wrt. folders and files):\n",
    "\n",
    "1. **One folder** for each project with ALL required files.\n",
    "2. **End goal**: One file to run it all. *Very important!*\n",
    "3. **Module files** (.py): Define functions, classes, etc. Perhaps different modules for different kind of tasks (solving, simulating, plotting).\n",
    "4. **Notebook files** (.ipynb): Call functions, classes etc. and explain and present the results.\n",
    "5. **Larger projects:** Sub-folders for data, figures, etc. (*not relevant now*)."
   ]
  },
  {
   "cell_type": "markdown",
   "metadata": {},
   "source": [
    "**Workflow:**\n",
    "\n",
    "1. **Notebooks (.ipynb):** Work with them in JupyterLab.\n",
    "2. **Modules (.py):** Work with them in VSCode."
   ]
  },
  {
   "cell_type": "markdown",
   "metadata": {},
   "source": [
    "**Microstructure:** Official [PEP8 guideline](https://www.python.org/dev/peps/pep-0008/)."
   ]
  },
  {
   "cell_type": "markdown",
   "metadata": {},
   "source": [
    "**Recommendations:**"
   ]
  },
  {
   "cell_type": "markdown",
   "metadata": {},
   "source": [
    "1. **Code layout:**\n",
    "    * **Indentation:** Four spaces\n",
    "    * **Line length:** Max of 79 characters (wrap line + indent properly)\n",
    "    * **Strings:** Use single or double quote (be consistent)\n",
    "    * **White space:**\n",
    "        * After comma: ``x = [1, 2, 3]`` (not required)\n",
    "        * Around assignment: ``x = y``\n",
    "        * After colon: ``if x == 2: print(x)``\n",
    "2. **Naming conventions:** Short, but also precise\n",
    "    * **Modules:** Lower case with potential underscores (e.g. ``numecon`` or ``num_econ``)\n",
    "    * **Classes:** Camel case (e.g. ``ConsumerClass``)\n",
    "    * **Variables, functions and methods:** Lower case with potential underscores     \n",
    "3. **Ordered section comments:** Break your code into sections\n",
    "    * Give each section a name and a place in the ordering\n",
    "    * Level 1: a, b, c etc.\n",
    "    * Level 2: i, ii, iii, iv etc.\n",
    "    * Level 3: o, oo, ooo, oooo etc.\n",
    "4. **Line comments:** Small additional hints\n",
    "    * Again, short and precise\n",
    "    * Avoid just explaining what the code does (must provide additional information)\n",
    "5. **Docstrings:** Should be written for all functions, methods and classes (see how below)."
   ]
  },
  {
   "cell_type": "markdown",
   "metadata": {},
   "source": [
    "**More on names:**\n",
    "\n",
    "1. Name functions after their **intended use**. Verbs can be handy for such naming. (*But its doing many things?* Not a good sign, see design patterns below) \n",
    "1. Help your self in debugging and name variables in a **searchable way** (unless they are super local). You cannot search for the name *i* in a bunch of code files.\n",
    "1. Normally avoid using ``l``, ``I``, ``O`` or any special characters.\n",
    "2. Unused variables and non-public methods should start with a ``_``\n"
   ]
  },
  {
   "cell_type": "markdown",
   "metadata": {},
   "source": [
    "**Two different perspectives on comments:**\n",
    "\n",
    "1. The comments explain humans what the code does.\n",
    "2. The code makes the computer do what the comments say."
   ]
  },
  {
   "cell_type": "markdown",
   "metadata": {},
   "source": [
    "**Note:** A style guide is about consistency. Consistency with this style guide is important. Consistency within a project is more important. Consistency within one module or function is the most important."
   ]
  },
  {
   "cell_type": "markdown",
   "metadata": {},
   "source": [
    "**Example:**"
   ]
  },
  {
   "cell_type": "code",
   "execution_count": 2,
   "metadata": {},
   "outputs": [
    {
     "name": "stdout",
     "output_type": "stream",
     "text": [
      "2.1972245773362196\n",
      "1.3862943611198906\n",
      "0.0\n",
      "0.0\n",
      "1.3862943611198906\n",
      "2.1972245773362196\n"
     ]
    }
   ],
   "source": [
    "import math\n",
    "\n",
    "# a. name for section\n",
    "alpha = 1\n",
    "beta = 2\n",
    "x = [-3, -2, -1, 1, 2, 3]\n",
    "\n",
    "# b. name for section\n",
    "def my_function(x,alpha,beta):\n",
    "    \"\"\" explain what the function does (docstring)\n",
    "    \n",
    "    Args:\n",
    "    \n",
    "        x (float): explanation\n",
    "        alpha (float): explanation\n",
    "        beta (float): explanation\n",
    "        \n",
    "    Returns:\n",
    "    \n",
    "        y (float): explanation\n",
    "    \n",
    "    \"\"\"\n",
    "    \n",
    "    y = x**2 \n",
    "    return y\n",
    "\n",
    "# c. name for section\n",
    "for i in range(len(x)):\n",
    "    \n",
    "    # i. name for sub-section\n",
    "    y = my_function(x[i],alpha,alpha)\n",
    "    \n",
    "    # ii. name for sub-section\n",
    "    cond = y > 0 # non-positive not allowed due to log (line comment)\n",
    "    \n",
    "    # iii. name for sub-section\n",
    "    if cond:\n",
    "        print(math.log(y))"
   ]
  },
  {
   "cell_type": "markdown",
   "metadata": {},
   "source": [
    "**Try:** Write ``my_function(`` and press <kbd>Shift</kbd>+<kbd>Tab</kbd> "
   ]
  },
  {
   "cell_type": "markdown",
   "metadata": {},
   "source": [
    "**Recommendation:** Try to think about which sections and sub-sections you need beforehand. You can even write *before* you write code! "
   ]
  },
  {
   "cell_type": "markdown",
   "metadata": {},
   "source": [
    "<a id=\"Design-patterns--\"></a>\n",
    "\n",
    "# 3. Design patterns  \n",
    "When thinking about how organize your functions and objects, few commandments that will serve you well: \n",
    "\n",
    "1. **DRY:** Do not Repeat Yourself. A specific line of code must only appear once in your script. Get rid of code repetitions by looping or create functions for the lines that are being repeated. Code repetition induces bugs when you change code.     \n",
    "2. **1 job:** A function has *1 job only*. That is, it should only try to accomplish one well-defined task. Sub-tasks within the main task is delegated to other functions.   \n",
    "3. **No side effects:** A corollary of *1 job*. If a function returns $x$, then it should *not also* produce lasting changes to $y$ if $y$ lives outside the local scope of the function. \n",
    "4. **1 screen fits all:** A handy rule-of-thumb is that the body of code (not including doc strings) in a function should fit into your screen in a readable way. One should not be too religious about this principle, though. But if you have one long function after the other, you have probably violated the commandments above.  "
   ]
  },
  {
   "cell_type": "markdown",
   "metadata": {},
   "source": [
    "**More on design patterns**:  \n",
    "\n",
    "* You can check out [**Google's Python style guide**](https://google.github.io/styleguide/pyguide.html) to catch a quick glimpse of how they organize their work. \n",
    "\n",
    "* One of the bibles on design patterns is edited by the famous **Uncle Bob**. The code examples are not based on Python, but the logic and insights still apply. It's actually fun and not-that-hard to read - and full of wisdom!\n",
    "\n",
    "\n",
    "<img src=\"cleancode_book.jpg\" alt=\"Drawing\" style=\"width: 300px;\"/>  "
   ]
  },
  {
   "cell_type": "markdown",
   "metadata": {},
   "source": [
    "<a id=\"Debugging\"></a>\n",
    "\n",
    "# 4. Debugging"
   ]
  },
  {
   "cell_type": "markdown",
   "metadata": {},
   "source": [
    "[Why is a programming error called a bug?](https://www.youtube.com/watch?v=rhFSG-VyR_E)"
   ]
  },
  {
   "cell_type": "markdown",
   "metadata": {},
   "source": [
    "**General advice:**\n",
    "\n",
    "1. Code is always partly a black box: Print and plot results to convince yourself (and others) that your results are sensible.\n",
    "2. Errors are typically something very very simple, look after that.\n",
    "3. If Python raises an error first try to locate the line where the error occurs.\n",
    "3. Your code can often run, but give you unexpected behavior.\n",
    "4. Include ``if``, ``print`` and ``assert`` statements to catch errors."
   ]
  },
  {
   "cell_type": "markdown",
   "metadata": {},
   "source": [
    "**Most of the time spend programming is debugging!!** Even when the final code is simple, it can take a lot of trial-and-error to get there."
   ]
  },
  {
   "cell_type": "markdown",
   "metadata": {},
   "source": [
    "**Assertions:** Whenever you know something about your variables (e.g. that they should be positive), you should assert this. If the assertion does not hold Python raises an error.  \n",
    "**Exceptions:** When code fails, it generates ('raises') an exception. "
   ]
  },
  {
   "cell_type": "code",
   "execution_count": 15,
   "metadata": {},
   "outputs": [],
   "source": [
    "x = -2\n",
    "y = x**2\n",
    "assert y > 0, f'x = {x}, y = {y}'"
   ]
  },
  {
   "cell_type": "markdown",
   "metadata": {},
   "source": [
    "**Task:** Make the above assertion fail."
   ]
  },
  {
   "cell_type": "markdown",
   "metadata": {},
   "source": [
    "## 4.1 Example"
   ]
  },
  {
   "cell_type": "markdown",
   "metadata": {},
   "source": [
    "Consider the following code:"
   ]
  },
  {
   "cell_type": "code",
   "execution_count": 26,
   "metadata": {},
   "outputs": [
    {
     "data": {
      "text/plain": [
       "(3.340308817497993+0.5877852522924732j)"
      ]
     },
     "execution_count": 26,
     "metadata": {},
     "output_type": "execute_result"
    }
   ],
   "source": [
    "a = 0.8\n",
    "xlist = [-1,2,3]\n",
    "\n",
    "def myfun(xlist,a):\n",
    "    y = 0\n",
    "    for x in xlist:\n",
    "        z = x**a\n",
    "        y += z\n",
    "    return y\n",
    "\n",
    "myfun(xlist,a)"
   ]
  },
  {
   "cell_type": "markdown",
   "metadata": {},
   "source": [
    "**Problem:** Our result is a complex number. We did not expect that. Why does this problem arise?"
   ]
  },
  {
   "cell_type": "markdown",
   "metadata": {},
   "source": [
    "**Find the error with print:**"
   ]
  },
  {
   "cell_type": "code",
   "execution_count": 5,
   "metadata": {},
   "outputs": [
    {
     "name": "stdout",
     "output_type": "stream",
     "text": [
      "x = -1 -> (-0.8090169943749473+0.5877852522924732j)\n",
      "x = 2 -> 1.7411011265922482\n",
      "x = 3 -> 2.4082246852806923\n"
     ]
    },
    {
     "data": {
      "text/plain": [
       "(3.340308817497993+0.5877852522924732j)"
      ]
     },
     "execution_count": 5,
     "metadata": {},
     "output_type": "execute_result"
    }
   ],
   "source": [
    "def myfun(xlist,a):\n",
    "    y = 0\n",
    "    for x in xlist:\n",
    "        z = x**a\n",
    "        print(f'x = {x} -> {z}') # temp\n",
    "        y += z\n",
    "    return y\n",
    "\n",
    "myfun(xlist,a)"
   ]
  },
  {
   "cell_type": "markdown",
   "metadata": {},
   "source": [
    "**Solution with an assert:**"
   ]
  },
  {
   "cell_type": "code",
   "execution_count": 19,
   "metadata": {},
   "outputs": [
    {
     "name": "stdout",
     "output_type": "stream",
     "text": [
      "assertion failed\n"
     ]
    }
   ],
   "source": [
    "def myfun(xlist,a):\n",
    "    y = 0\n",
    "    for x in xlist:\n",
    "        z = x**a\n",
    "        assert np.isreal(z), f'z is not real for x = {x}, but {z}'\n",
    "        y += z\n",
    "    return y\n",
    "try:\n",
    "    myfun(xlist,a)\n",
    "except:\n",
    "    print('assertion failed')\n",
    "    "
   ]
  },
  {
   "cell_type": "code",
   "execution_count": 30,
   "metadata": {},
   "outputs": [
    {
     "ename": "AssertionError",
     "evalue": "z is not real for x = -1, but (-0.8090169943749473+0.5877852522924732j)",
     "output_type": "error",
     "traceback": [
      "\u001b[0;31m---------------------------------------------------------------------------\u001b[0m",
      "\u001b[0;31mAssertionError\u001b[0m                            Traceback (most recent call last)",
      "\u001b[0;32m<ipython-input-30-d50980ce821b>\u001b[0m in \u001b[0;36m<module>\u001b[0;34m\u001b[0m\n\u001b[1;32m      1\u001b[0m \u001b[0;31m# Running the function to generate error messsage\u001b[0m\u001b[0;34m\u001b[0m\u001b[0;34m\u001b[0m\u001b[0;34m\u001b[0m\u001b[0m\n\u001b[0;32m----> 2\u001b[0;31m \u001b[0mmyfun\u001b[0m\u001b[0;34m(\u001b[0m\u001b[0mxlist\u001b[0m\u001b[0;34m,\u001b[0m\u001b[0ma\u001b[0m\u001b[0;34m)\u001b[0m\u001b[0;34m\u001b[0m\u001b[0;34m\u001b[0m\u001b[0m\n\u001b[0m",
      "\u001b[0;32m<ipython-input-29-53e6d399cdc1>\u001b[0m in \u001b[0;36mmyfun\u001b[0;34m(xlist, a)\u001b[0m\n\u001b[1;32m      3\u001b[0m     \u001b[0;32mfor\u001b[0m \u001b[0mx\u001b[0m \u001b[0;32min\u001b[0m \u001b[0mxlist\u001b[0m\u001b[0;34m:\u001b[0m\u001b[0;34m\u001b[0m\u001b[0;34m\u001b[0m\u001b[0m\n\u001b[1;32m      4\u001b[0m         \u001b[0mz\u001b[0m \u001b[0;34m=\u001b[0m \u001b[0mx\u001b[0m\u001b[0;34m**\u001b[0m\u001b[0ma\u001b[0m\u001b[0;34m\u001b[0m\u001b[0;34m\u001b[0m\u001b[0m\n\u001b[0;32m----> 5\u001b[0;31m         \u001b[0;32massert\u001b[0m \u001b[0mnp\u001b[0m\u001b[0;34m.\u001b[0m\u001b[0misreal\u001b[0m\u001b[0;34m(\u001b[0m\u001b[0mz\u001b[0m\u001b[0;34m)\u001b[0m\u001b[0;34m,\u001b[0m \u001b[0;34mf'z is not real for x = {x}, but {z}'\u001b[0m\u001b[0;34m\u001b[0m\u001b[0;34m\u001b[0m\u001b[0m\n\u001b[0m\u001b[1;32m      6\u001b[0m         \u001b[0my\u001b[0m \u001b[0;34m+=\u001b[0m \u001b[0mz\u001b[0m\u001b[0;34m\u001b[0m\u001b[0;34m\u001b[0m\u001b[0m\n\u001b[1;32m      7\u001b[0m     \u001b[0;32mreturn\u001b[0m \u001b[0my\u001b[0m\u001b[0;34m\u001b[0m\u001b[0;34m\u001b[0m\u001b[0m\n",
      "\u001b[0;31mAssertionError\u001b[0m: z is not real for x = -1, but (-0.8090169943749473+0.5877852522924732j)"
     ]
    }
   ],
   "source": [
    "# Running the function to generate error messsage\n",
    "myfun(xlist,a)"
   ]
  },
  {
   "cell_type": "markdown",
   "metadata": {},
   "source": [
    "**Solution with if and raise exception:**"
   ]
  },
  {
   "cell_type": "code",
   "execution_count": 34,
   "metadata": {},
   "outputs": [
    {
     "name": "stdout",
     "output_type": "stream",
     "text": [
      "z is not real for x = -1, but (-0.8090169943749473+0.5877852522924732j)\n",
      "assertion failed\n"
     ]
    }
   ],
   "source": [
    "def myfun(xlist,a):\n",
    "    y = 0\n",
    "    for x in xlist:\n",
    "        z = x**a\n",
    "        if not np.isreal(z):\n",
    "            print(f'z is not real for x = {x}, but {z}')\n",
    "            raise # an exception will be raised here  \n",
    "        y += z\n",
    "    return y\n",
    "\n",
    "try:\n",
    "    myfun(xlist,a)\n",
    "except:\n",
    "    # we'll end up down here because the exception was raised. \n",
    "    print('assertion failed')"
   ]
  },
  {
   "cell_type": "markdown",
   "metadata": {},
   "source": [
    "**Note:** You could also decide that the function should return e.g. \\\\( -\\infty \\\\) when experiencing a complex number."
   ]
  },
  {
   "cell_type": "code",
   "execution_count": 8,
   "metadata": {},
   "outputs": [
    {
     "data": {
      "text/plain": [
       "-inf"
      ]
     },
     "execution_count": 8,
     "metadata": {},
     "output_type": "execute_result"
    }
   ],
   "source": [
    "def myfun(xlist,a):\n",
    "    y = 0\n",
    "    for x in xlist:\n",
    "        z = x**a\n",
    "        if not np.isreal(z):\n",
    "            return -np.inf\n",
    "        y += z\n",
    "    return y\n",
    "\n",
    "myfun(xlist,a)"
   ]
  },
  {
   "cell_type": "markdown",
   "metadata": {},
   "source": [
    "## 4.2 Numpy warnings"
   ]
  },
  {
   "cell_type": "markdown",
   "metadata": {},
   "source": [
    "Here we see an example of an error warning thrown by numpy. Notice the term *RuntimeWarning*. **Run time** is the moment a function is executed by the computer - so a run time error is a kind of error that *cannot* be detected *before* the program actually runs. In the present case: Jupyter/Python simply *cannot detect* that the -1 in xlist will get in conflict with the log function before the cell is run. However, you may see that the VS Code Intellisense informs you that perhaps some syntax is wrong or that a variable has not been defined before it is put in use.  "
   ]
  },
  {
   "cell_type": "code",
   "execution_count": 10,
   "metadata": {},
   "outputs": [
    {
     "name": "stderr",
     "output_type": "stream",
     "text": [
      "<ipython-input-10-84e873880b4c>:6: RuntimeWarning: invalid value encountered in log\n",
      "  y[i] = np.log(x)\n"
     ]
    },
    {
     "data": {
      "text/plain": [
       "array([       nan, 0.69314718, 1.09861229])"
      ]
     },
     "execution_count": 10,
     "metadata": {},
     "output_type": "execute_result"
    }
   ],
   "source": [
    "import numpy as np\n",
    "xlist = [-1,2,3]\n",
    "def f(xlist):\n",
    "    y = np.empty(len(xlist))\n",
    "    for i,x in enumerate(xlist):\n",
    "        y[i] = np.log(x)\n",
    "    return y\n",
    "\n",
    "f(xlist)"
   ]
  },
  {
   "cell_type": "markdown",
   "metadata": {},
   "source": [
    "You can **ignore all warnings**:"
   ]
  },
  {
   "cell_type": "code",
   "execution_count": 10,
   "metadata": {},
   "outputs": [
    {
     "data": {
      "text/plain": [
       "array([       nan, 0.69314718, 1.09861229])"
      ]
     },
     "execution_count": 10,
     "metadata": {},
     "output_type": "execute_result"
    }
   ],
   "source": [
    "def f(xlist):\n",
    "    y = np.empty(len(xlist))\n",
    "    for i,x in enumerate(xlist):\n",
    "        with np.errstate(all='ignore'):\n",
    "            y[i] = np.log(x)\n",
    "    return y\n",
    "\n",
    "f(xlist)"
   ]
  },
  {
   "cell_type": "markdown",
   "metadata": {},
   "source": [
    "**Better:** Decide what the code should do."
   ]
  },
  {
   "cell_type": "code",
   "execution_count": 11,
   "metadata": {},
   "outputs": [
    {
     "data": {
      "text/plain": [
       "array([      -inf, 0.69314718, 1.09861229])"
      ]
     },
     "execution_count": 11,
     "metadata": {},
     "output_type": "execute_result"
    }
   ],
   "source": [
    "def f(xlist):\n",
    "    y = np.empty(len(xlist))\n",
    "    for i,x in enumerate(xlist):\n",
    "        if x <= 0:\n",
    "            y[i] = -np.inf\n",
    "        else:\n",
    "            y[i] = np.log(x)\n",
    "    return y\n",
    "\n",
    "f(xlist)"
   ]
  },
  {
   "cell_type": "markdown",
   "metadata": {},
   "source": [
    "## 4.3 Scope bugs"
   ]
  },
  {
   "cell_type": "markdown",
   "metadata": {},
   "source": [
    "Global variables are dangerous:"
   ]
  },
  {
   "cell_type": "code",
   "execution_count": 12,
   "metadata": {},
   "outputs": [
    {
     "name": "stdout",
     "output_type": "stream",
     "text": [
      "9.0\n"
     ]
    }
   ],
   "source": [
    "# a. define a function to multiple a variable with 5\n",
    "a = 5\n",
    "def f(x):\n",
    "    return a*x\n",
    "\n",
    "# many lines of code\n",
    "# many lines of code\n",
    "# many lines of code\n",
    "\n",
    "# z. setup the input and call f\n",
    "y = np.array([3,3])\n",
    "a = np.mean(y)\n",
    "b = np.mean(f(y))\n",
    "print(b)"
   ]
  },
  {
   "cell_type": "markdown",
   "metadata": {},
   "source": [
    "**Question:** What is the error?"
   ]
  },
  {
   "cell_type": "markdown",
   "metadata": {},
   "source": [
    "**Conclusion:** Never use global variables, they can give poisonous **side effects**. Use a positional or a keyword argument instead. "
   ]
  },
  {
   "cell_type": "markdown",
   "metadata": {},
   "source": [
    "**Useful tool I:** The variable inspector. \n",
    "\n",
    "1. **Install:** Step 3.5 [here](https://numeconcopenhagen.netlify.com/guides/python-setup/)\n",
    "2. **Open it:** Right-click and choose \"Open Variable Inspector\"\n",
    "\n",
    "**Useful tool II:** The console. \n",
    "\n",
    "1. **Install:** Done automatically\n",
    "2. **Open it:** Right-click and choose \"New Console for Notebook\""
   ]
  },
  {
   "cell_type": "markdown",
   "metadata": {},
   "source": [
    "## 4.4 Index bugs"
   ]
  },
  {
   "cell_type": "code",
   "execution_count": 25,
   "metadata": {},
   "outputs": [
    {
     "name": "stdout",
     "output_type": "stream",
     "text": [
      "error found\n"
     ]
    }
   ],
   "source": [
    "# a. setup\n",
    "N = 10\n",
    "x = np.linspace(1.3,8.2,N)\n",
    "y = 9.2\n",
    "\n",
    "# b. count all entries in x below y\n",
    "i = 0\n",
    "try:\n",
    "    while x[i] < y:\n",
    "        i += 1\n",
    "except:\n",
    "    print('error found')"
   ]
  },
  {
   "cell_type": "markdown",
   "metadata": {},
   "source": [
    "**Task:** Solve the problem."
   ]
  },
  {
   "cell_type": "markdown",
   "metadata": {},
   "source": [
    "<a id=\"VSCode\"></a>\n",
    "\n",
    "# 5. VSCode"
   ]
  },
  {
   "cell_type": "markdown",
   "metadata": {},
   "source": [
    "**Central benefits of VSCode:**\n",
    "\n",
    "1. **Good editor** (easy to move across and with-in files)\n",
    "2. **Linting** (find errors before you run the code)\n",
    "3. **Run scripts**\n",
    "4. **Interactive sessions**\n",
    "5. **Integrated git** (to share your code online) (see below)\n",
    "6. **Debugging** (not today)"
   ]
  },
  {
   "cell_type": "markdown",
   "metadata": {},
   "source": [
    "**Example:** We go through this [guide](https://numeconcopenhagen.netlify.com/guides/vscode-basics/) together."
   ]
  },
  {
   "cell_type": "markdown",
   "metadata": {},
   "source": [
    "<a id=\"Modules\"></a>\n",
    "\n",
    "# 6. Modules"
   ]
  },
  {
   "cell_type": "markdown",
   "metadata": {},
   "source": [
    "Long notebooks can be very hard to read. Code is structured better in modules saved in .py files.\n",
    "\n",
    "1. Open VSCode\n",
    "2. Locate the folder with your notebook\n",
    "3. Create mymodule.py\n",
    "4. In the notebook: ``import mymodule``\n",
    "5. All functions in mymodule.py is now avaliable in the notebook with the prefix ``mymodule.``"
   ]
  },
  {
   "cell_type": "markdown",
   "metadata": {},
   "source": [
    "**Important:** if you write changes in the code of your own module, eg. mymodule, and if mymodule has **already** been imported to Jupyter before the changes, then simply running the *import mymodule* statement again will **not** import your changes. Python sees that mymodule is already imported, and thus does nothing.    "
   ]
  },
  {
   "cell_type": "markdown",
   "metadata": {},
   "source": [
    "**Solution:** Use the ``%load_ext autoreload`` magic with ``%autoreload 2``. Then your modules are automatically reloaded each time you run a cell. Without the module is never reloaded."
   ]
  },
  {
   "cell_type": "code",
   "execution_count": 32,
   "metadata": {},
   "outputs": [
    {
     "name": "stdout",
     "output_type": "stream",
     "text": [
      "The autoreload extension is already loaded. To reload it, use:\n",
      "  %reload_ext autoreload\n"
     ]
    }
   ],
   "source": [
    "%load_ext autoreload\n",
    "%autoreload 2"
   ]
  },
  {
   "cell_type": "code",
   "execution_count": 39,
   "metadata": {},
   "outputs": [],
   "source": [
    "import mymodule"
   ]
  },
  {
   "cell_type": "code",
   "execution_count": 40,
   "metadata": {},
   "outputs": [
    {
     "name": "stdout",
     "output_type": "stream",
     "text": [
      "error found\n"
     ]
    }
   ],
   "source": [
    "try:\n",
    "    mymodule.myfun(2)\n",
    "except:\n",
    "    print('error found')"
   ]
  },
  {
   "cell_type": "markdown",
   "metadata": {},
   "source": [
    "Another solution is to use importlib"
   ]
  },
  {
   "cell_type": "code",
   "execution_count": 39,
   "metadata": {},
   "outputs": [],
   "source": [
    "import importlib\n",
    "import mymodule\n",
    "# something happens..\n",
    "importlib.reload(mymodule)"
   ]
  },
  {
   "cell_type": "markdown",
   "metadata": {},
   "source": [
    "**Extra: Locating modules**  \n",
    "\n",
    "You may wonder: *how does Python actually **find modules** on my computer?* And: *what if I made 2 modules with the same name, or created a module with a name that was already present in Anaconda?*   \n",
    "**Simple answer:** when loading modules, Python browses through a predetermined set of folders on your computer, defined by the **sys.path**. The **first time** it encounters a module with the name of the module to be loaded, it brings that one up. If have 2 similarly named modules, the first on the list would therefore be chosen. You can inspect the order of folders where Python searches for modules on *your* computer by running the cell below. Notice that your current working directory is second on the list.  "
   ]
  },
  {
   "cell_type": "code",
   "execution_count": 4,
   "metadata": {},
   "outputs": [
    {
     "name": "stdout",
     "output_type": "stream",
     "text": [
      "\n",
      "/Users/jzk870/.ipython\n",
      "/Users/jzk870/Dropbox/Work/Undervisning/NumericalMethods/Lectures2021/05\n",
      "/Users/jzk870/opt/anaconda3/lib/python3.8\n",
      "/Users/jzk870/opt/anaconda3/lib/python3.8/lib-dynload\n",
      "/Users/jzk870/opt/anaconda3/lib/python3.8/site-packages\n",
      "/Users/jzk870/opt/anaconda3/lib/python3.8/site-packages/IPython/extensions\n",
      "/Users/jzk870/opt/anaconda3/lib/python3.8/site-packages/aeosa\n",
      "/Users/jzk870/opt/anaconda3/lib/python3.8/site-packages/locket-0.2.1-py3.8.egg\n",
      "/Users/jzk870/opt/anaconda3/lib/python38.zip\n"
     ]
    }
   ],
   "source": [
    "import sys\n",
    "sp = sorted(sys.path)\n",
    "for p in sp:\n",
    "    print(p)"
   ]
  },
  {
   "cell_type": "markdown",
   "metadata": {},
   "source": [
    "<a id=\"Git\"></a>\n",
    "\n",
    "# 7. Git"
   ]
  },
  {
   "cell_type": "markdown",
   "metadata": {},
   "source": [
    "The purpose of git is to allow you to easily share your code with collaborators and track the changes each of you make."
   ]
  },
  {
   "cell_type": "markdown",
   "metadata": {},
   "source": [
    "We go through this [guide](https://numeconcopenhagen.netlify.com/guides/vscode-git/) together."
   ]
  },
  {
   "cell_type": "markdown",
   "metadata": {},
   "source": [
    "**Note:** You will be given repositories named **github.com/NumEconCopenhagen/projects-2021-YOURGROUPNAME**"
   ]
  },
  {
   "cell_type": "markdown",
   "metadata": {},
   "source": [
    "**Essential Git terms:**  \n",
    "* **Local** *your* computer.\n",
    "* **Remotes** the code on Github and on other computers.\n",
    "* **Branch** a branch of code is a separate track or copy of the code base on which you can develop new stuff. There is normally a structure of a *main branch* that holds the current working version of code and then several testing branches where new stuff is developed. After development, those braches are merged onto the main branch. \n",
    "* **.gitignore** a file that contains specifications on which types of files that are **not included** in process of sending changes back and forth.\n",
    "* **.git** there is a **hidden folder** in all git repositories. This folder includes the *diff and head files* that contain the whole history of changes to code so far. Delete .git, and your code folders are no longer a working repository. Now it's just regular code.   \n",
    "\n",
    "\n",
    "**Essential Git commands:**  \n",
    "* **Fetch** is the process of getting *aware* of any changes to code outside the *local* repository on *your* computer. Does not happen automatically! You are **not** importing changes by fetching, you just make your local **check** if anything has happened on the remote repo(s). \n",
    "* **Stage** before you can send off your own changes to code, you need to decide which chunks of code specifically to send. Mostly, you will just *stage all*, that is, send off all changes you have made. \n",
    "* **Commit** the process of making your changes **available** to the remote repo.\n",
    "* **Merge** when you let changes to code **from remotes** get weaved into your own code.\n",
    "* **Push** after committing, you **order** the remote take the changes you made. The remote will not automatically accept the order, if you are not the *admin* of the remote repo. \n",
    "* **Pull** is *fetching*  and *merging* with the remote.\n",
    "* **Sync** is *pulling* and then *pushing* to the remote.  \n",
    "\n",
    "To get new updates from the eg. lectures2021 repo: just run a `Git: Pull` command in VSCode, when you have opened that repository/folder."
   ]
  },
  {
   "cell_type": "markdown",
   "metadata": {},
   "source": [
    "**Recommendation for Inaugral Project:** if you are new to git, just work as you normally would and then commit the final product to your repo when you are done."
   ]
  },
  {
   "cell_type": "markdown",
   "metadata": {},
   "source": [
    "<a id=\"Summary\"></a>\n",
    "\n",
    "# 8. Summary"
   ]
  },
  {
   "cell_type": "markdown",
   "metadata": {},
   "source": [
    "**This lecture:** We have discussed\n",
    "\n",
    "1. Structuring and commenting on code\n",
    "2. Debugging (try-except, assert, warnings)\n",
    "4. Writing and running Python in VSCode\n",
    "3. Git (version control)"
   ]
  },
  {
   "cell_type": "markdown",
   "metadata": {},
   "source": [
    "**Inaugural project and group-sign up:** See the details under *Project 0: Inaugural project* [here](https://numeconcopenhagen.netlify.com/exercises/)."
   ]
  },
  {
   "cell_type": "markdown",
   "metadata": {},
   "source": [
    "**Need help finding a group:** Write in Absalon discussion thread."
   ]
  },
  {
   "cell_type": "markdown",
   "metadata": {},
   "source": [
    "**Remember** deadline for hand-in of inaugural project is **21th of March**."
   ]
  }
 ],
 "metadata": {
  "kernelspec": {
   "display_name": "Python 3",
   "language": "python",
   "name": "python3"
  },
  "language_info": {
   "codemirror_mode": {
    "name": "ipython",
    "version": 3
   },
   "file_extension": ".py",
   "mimetype": "text/x-python",
   "name": "python",
   "nbconvert_exporter": "python",
   "pygments_lexer": "ipython3",
   "version": "3.8.5"
  },
  "toc-autonumbering": false
 },
 "nbformat": 4,
 "nbformat_minor": 4
}
