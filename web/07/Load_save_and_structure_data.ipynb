{
 "cells": [
  {
   "cell_type": "markdown",
   "metadata": {},
   "source": [
    "# Lecture 07: Load/save and structure data"
   ]
  },
  {
   "cell_type": "markdown",
   "metadata": {},
   "source": [
    "[Download on GitHub](https://github.com/NumEconCopenhagen/lectures-2021)\n",
    "\n",
    "[<img src=\"https://mybinder.org/badge_logo.svg\">](https://mybinder.org/v2/gh/NumEconCopenhagen/lectures-2021/master?urlpath=lab/tree/07/Load_save_and_structure_data.ipynb)"
   ]
  },
  {
   "cell_type": "markdown",
   "metadata": {},
   "source": [
    "1. [Pandas dataframes](#Pandas-dataframes)\n",
    "2. [Reading and writing data](#Reading-and-writing-data)\n",
    "3. [Summary](#Summary)\n"
   ]
  },
  {
   "cell_type": "markdown",
   "metadata": {},
   "source": [
    "Let's first take a quick survey on the Inaugural assignment process, found [here](https://forms.office.com/Pages/ResponsePage.aspx?id=kX-So6HNlkaviYyfHO_6kckJrnVYqJlJgGf8Jm3FvY9UMEZTODYyVjJWSFBPNTVRMzBMQzFYOE5JQiQlQCN0PWcu)."
   ]
  },
  {
   "cell_type": "markdown",
   "metadata": {},
   "source": [
    "You will learn to **load and save data** both to and from offline sources (e.g. CSV or Excel). You will learn about **pandas series and dataframes**, and how to clean, rename, structure and index your data."
   ]
  },
  {
   "cell_type": "markdown",
   "metadata": {},
   "source": [
    "**Links:**\n",
    "\n",
    "1. Official [tutorials](https://pandas.pydata.org/pandas-docs/stable/getting_started/tutorials.html)\n",
    "2. DataCamp's [pandas' cheat sheet](https://www.datacamp.com/community/blog/python-pandas-cheat-sheet)"
   ]
  },
  {
   "cell_type": "code",
   "execution_count": 48,
   "metadata": {
    "collapsed": true,
    "jupyter": {
     "outputs_hidden": true
    }
   },
   "outputs": [],
   "source": [
    "import pandas as pd\n",
    "from IPython.display import display\n",
    "import matplotlib.pyplot as plt\n",
    "plt.style.use('seaborn-whitegrid')"
   ]
  },
  {
   "cell_type": "markdown",
   "metadata": {},
   "source": [
    "<a id=\"Pandas-dataframes\"></a>\n",
    "\n",
    "# 1. Pandas dataframes"
   ]
  },
  {
   "cell_type": "markdown",
   "metadata": {},
   "source": [
    "In Pandas, the fundamental object of interest is a **pandas dataframe**. For example:"
   ]
  },
  {
   "cell_type": "code",
   "execution_count": 164,
   "metadata": {},
   "outputs": [
    {
     "data": {
      "text/html": [
       "<div>\n",
       "<style scoped>\n",
       "    .dataframe tbody tr th:only-of-type {\n",
       "        vertical-align: middle;\n",
       "    }\n",
       "\n",
       "    .dataframe tbody tr th {\n",
       "        vertical-align: top;\n",
       "    }\n",
       "\n",
       "    .dataframe thead th {\n",
       "        text-align: right;\n",
       "    }\n",
       "</style>\n",
       "<table border=\"1\" class=\"dataframe\">\n",
       "  <thead>\n",
       "    <tr style=\"text-align: right;\">\n",
       "      <th></th>\n",
       "      <th>id</th>\n",
       "      <th>inc</th>\n",
       "      <th>name</th>\n",
       "    </tr>\n",
       "  </thead>\n",
       "  <tbody>\n",
       "    <tr>\n",
       "      <th>0</th>\n",
       "      <td>1</td>\n",
       "      <td>11.7</td>\n",
       "      <td>Vitus</td>\n",
       "    </tr>\n",
       "    <tr>\n",
       "      <th>1</th>\n",
       "      <td>2</td>\n",
       "      <td>13.9</td>\n",
       "      <td>Maximilian</td>\n",
       "    </tr>\n",
       "    <tr>\n",
       "      <th>2</th>\n",
       "      <td>3</td>\n",
       "      <td>14.6</td>\n",
       "      <td>Bo-Bob</td>\n",
       "    </tr>\n",
       "  </tbody>\n",
       "</table>\n",
       "</div>"
      ],
      "text/plain": [
       "   id   inc        name\n",
       "0   1  11.7       Vitus\n",
       "1   2  13.9  Maximilian\n",
       "2   3  14.6      Bo-Bob"
      ]
     },
     "execution_count": 164,
     "metadata": {},
     "output_type": "execute_result"
    }
   ],
   "source": [
    "X = pd.DataFrame(data = [[1,11.7,'Vitus'],[2,13.9,'Maximilian'],[3,14.6,'Bo-Bob']], \n",
    "                 columns=['id','inc','name'])\n",
    "X"
   ]
  },
  {
   "cell_type": "markdown",
   "metadata": {},
   "source": [
    "**A dataframe is essentially a matrix.**\n",
    "\n",
    "* rows = observations \n",
    "* columns = variables "
   ]
  },
  {
   "cell_type": "markdown",
   "metadata": {},
   "source": [
    "**General information:**"
   ]
  },
  {
   "cell_type": "code",
   "execution_count": 165,
   "metadata": {},
   "outputs": [
    {
     "name": "stdout",
     "output_type": "stream",
     "text": [
      "<class 'pandas.core.frame.DataFrame'>\n",
      "RangeIndex: 3 entries, 0 to 2\n",
      "Data columns (total 3 columns):\n",
      " #   Column  Non-Null Count  Dtype  \n",
      "---  ------  --------------  -----  \n",
      " 0   id      3 non-null      int64  \n",
      " 1   inc     3 non-null      float64\n",
      " 2   name    3 non-null      object \n",
      "dtypes: float64(1), int64(1), object(1)\n",
      "memory usage: 200.0+ bytes\n"
     ]
    }
   ],
   "source": [
    "X.info()"
   ]
  },
  {
   "cell_type": "markdown",
   "metadata": {},
   "source": [
    "**What does `object` mean?** In practice it is a `str`."
   ]
  },
  {
   "cell_type": "markdown",
   "metadata": {},
   "source": [
    "**Note:** You can also show a dataframe in the  middle of some code."
   ]
  },
  {
   "cell_type": "code",
   "execution_count": 166,
   "metadata": {},
   "outputs": [
    {
     "name": "stdout",
     "output_type": "stream",
     "text": [
      "before\n"
     ]
    },
    {
     "data": {
      "text/html": [
       "<div>\n",
       "<style scoped>\n",
       "    .dataframe tbody tr th:only-of-type {\n",
       "        vertical-align: middle;\n",
       "    }\n",
       "\n",
       "    .dataframe tbody tr th {\n",
       "        vertical-align: top;\n",
       "    }\n",
       "\n",
       "    .dataframe thead th {\n",
       "        text-align: right;\n",
       "    }\n",
       "</style>\n",
       "<table border=\"1\" class=\"dataframe\">\n",
       "  <thead>\n",
       "    <tr style=\"text-align: right;\">\n",
       "      <th></th>\n",
       "      <th>id</th>\n",
       "      <th>inc</th>\n",
       "      <th>name</th>\n",
       "    </tr>\n",
       "  </thead>\n",
       "  <tbody>\n",
       "    <tr>\n",
       "      <th>0</th>\n",
       "      <td>1</td>\n",
       "      <td>11.7</td>\n",
       "      <td>Vitus</td>\n",
       "    </tr>\n",
       "    <tr>\n",
       "      <th>1</th>\n",
       "      <td>2</td>\n",
       "      <td>13.9</td>\n",
       "      <td>Maximilian</td>\n",
       "    </tr>\n",
       "    <tr>\n",
       "      <th>2</th>\n",
       "      <td>3</td>\n",
       "      <td>14.6</td>\n",
       "      <td>Bo-Bob</td>\n",
       "    </tr>\n",
       "  </tbody>\n",
       "</table>\n",
       "</div>"
      ],
      "text/plain": [
       "   id   inc        name\n",
       "0   1  11.7       Vitus\n",
       "1   2  13.9  Maximilian\n",
       "2   3  14.6      Bo-Bob"
      ]
     },
     "metadata": {},
     "output_type": "display_data"
    },
    {
     "name": "stdout",
     "output_type": "stream",
     "text": [
      "after\n"
     ]
    }
   ],
   "source": [
    "print('before')\n",
    "display(X)\n",
    "print('after')"
   ]
  },
  {
   "cell_type": "markdown",
   "metadata": {},
   "source": [
    "## 1.1 Indexing (\"subsetting\") "
   ]
  },
  {
   "cell_type": "markdown",
   "metadata": {},
   "source": [
    "**Choosing a subset of the rows and/or columns of a dataframe is known as \"indexing\"**. \n",
    "\n",
    "Recall the stuff about ***slicing*** and ***logical indices*** from previous lectures. Since Pandas is build in Numpy, we can do the same here.\n",
    "\n",
    "All pandas dataframes are born with the method `.loc[]` and `.iloc[]`. `.iloc[]` is for numeric indexing and `.loc[]` for logical and name-based indexing. \n",
    "\n",
    "* `df.loc[:, ['year']]` selects all rows (indicated by `:`) but only the column (variable) `year`. \n",
    "* `df.loc[df['year'] == 2002, :]` selects the rows where the variable `year` is equal to 2002 and all columns (indicated by `:`)\n",
    "* `df.loc[df['year'] == 2002, ['name']]` selects the variable `name` and shows the rows where `year` is equal to 2002. "
   ]
  },
  {
   "cell_type": "markdown",
   "metadata": {},
   "source": [
    "In general, the **syntax** is `df.loc[CONDITION, [VARLIST]]`, where `CONDITION` is a vector of logical statements with the same length as the number of rows in the dataframe, and `VARLIST` is a list over variables. "
   ]
  },
  {
   "cell_type": "code",
   "execution_count": 167,
   "metadata": {},
   "outputs": [
    {
     "data": {
      "text/html": [
       "<div>\n",
       "<style scoped>\n",
       "    .dataframe tbody tr th:only-of-type {\n",
       "        vertical-align: middle;\n",
       "    }\n",
       "\n",
       "    .dataframe tbody tr th {\n",
       "        vertical-align: top;\n",
       "    }\n",
       "\n",
       "    .dataframe thead th {\n",
       "        text-align: right;\n",
       "    }\n",
       "</style>\n",
       "<table border=\"1\" class=\"dataframe\">\n",
       "  <thead>\n",
       "    <tr style=\"text-align: right;\">\n",
       "      <th></th>\n",
       "      <th>name</th>\n",
       "    </tr>\n",
       "  </thead>\n",
       "  <tbody>\n",
       "    <tr>\n",
       "      <th>1</th>\n",
       "      <td>Maximilian</td>\n",
       "    </tr>\n",
       "    <tr>\n",
       "      <th>2</th>\n",
       "      <td>Bo-Bob</td>\n",
       "    </tr>\n",
       "  </tbody>\n",
       "</table>\n",
       "</div>"
      ],
      "text/plain": [
       "         name\n",
       "1  Maximilian\n",
       "2      Bo-Bob"
      ]
     },
     "execution_count": 167,
     "metadata": {},
     "output_type": "execute_result"
    }
   ],
   "source": [
    "X.loc[X['id'] > 1, ['name']]"
   ]
  },
  {
   "cell_type": "markdown",
   "metadata": {},
   "source": [
    "All variables:"
   ]
  },
  {
   "cell_type": "code",
   "execution_count": 169,
   "metadata": {},
   "outputs": [
    {
     "data": {
      "text/html": [
       "<div>\n",
       "<style scoped>\n",
       "    .dataframe tbody tr th:only-of-type {\n",
       "        vertical-align: middle;\n",
       "    }\n",
       "\n",
       "    .dataframe tbody tr th {\n",
       "        vertical-align: top;\n",
       "    }\n",
       "\n",
       "    .dataframe thead th {\n",
       "        text-align: right;\n",
       "    }\n",
       "</style>\n",
       "<table border=\"1\" class=\"dataframe\">\n",
       "  <thead>\n",
       "    <tr style=\"text-align: right;\">\n",
       "      <th></th>\n",
       "      <th>id</th>\n",
       "      <th>inc</th>\n",
       "      <th>name</th>\n",
       "    </tr>\n",
       "  </thead>\n",
       "  <tbody>\n",
       "    <tr>\n",
       "      <th>1</th>\n",
       "      <td>2</td>\n",
       "      <td>13.9</td>\n",
       "      <td>Maximilian</td>\n",
       "    </tr>\n",
       "    <tr>\n",
       "      <th>2</th>\n",
       "      <td>3</td>\n",
       "      <td>14.6</td>\n",
       "      <td>Bo-Bob</td>\n",
       "    </tr>\n",
       "  </tbody>\n",
       "</table>\n",
       "</div>"
      ],
      "text/plain": [
       "   id   inc        name\n",
       "1   2  13.9  Maximilian\n",
       "2   3  14.6      Bo-Bob"
      ]
     },
     "execution_count": 169,
     "metadata": {},
     "output_type": "execute_result"
    }
   ],
   "source": [
    "X.loc[X['id'] > 1]"
   ]
  },
  {
   "cell_type": "markdown",
   "metadata": {},
   "source": [
    "**Alternatives:**"
   ]
  },
  {
   "cell_type": "markdown",
   "metadata": {},
   "source": [
    "Use a boolean series"
   ]
  },
  {
   "cell_type": "code",
   "execution_count": 170,
   "metadata": {},
   "outputs": [
    {
     "name": "stdout",
     "output_type": "stream",
     "text": [
      "0    False\n",
      "1     True\n",
      "2     True\n",
      "Name: id, dtype: bool\n"
     ]
    },
    {
     "data": {
      "text/html": [
       "<div>\n",
       "<style scoped>\n",
       "    .dataframe tbody tr th:only-of-type {\n",
       "        vertical-align: middle;\n",
       "    }\n",
       "\n",
       "    .dataframe tbody tr th {\n",
       "        vertical-align: top;\n",
       "    }\n",
       "\n",
       "    .dataframe thead th {\n",
       "        text-align: right;\n",
       "    }\n",
       "</style>\n",
       "<table border=\"1\" class=\"dataframe\">\n",
       "  <thead>\n",
       "    <tr style=\"text-align: right;\">\n",
       "      <th></th>\n",
       "      <th>name</th>\n",
       "    </tr>\n",
       "  </thead>\n",
       "  <tbody>\n",
       "    <tr>\n",
       "      <th>1</th>\n",
       "      <td>Maximilian</td>\n",
       "    </tr>\n",
       "    <tr>\n",
       "      <th>2</th>\n",
       "      <td>Bo-Bob</td>\n",
       "    </tr>\n",
       "  </tbody>\n",
       "</table>\n",
       "</div>"
      ],
      "text/plain": [
       "         name\n",
       "1  Maximilian\n",
       "2      Bo-Bob"
      ]
     },
     "execution_count": 170,
     "metadata": {},
     "output_type": "execute_result"
    }
   ],
   "source": [
    "I = X['id'] > 1\n",
    "print(I)\n",
    "X.loc[I, ['name']]"
   ]
  },
  {
   "cell_type": "markdown",
   "metadata": {},
   "source": [
    "Use `.VARIABLE` notation"
   ]
  },
  {
   "cell_type": "code",
   "execution_count": 173,
   "metadata": {},
   "outputs": [
    {
     "data": {
      "text/html": [
       "<div>\n",
       "<style scoped>\n",
       "    .dataframe tbody tr th:only-of-type {\n",
       "        vertical-align: middle;\n",
       "    }\n",
       "\n",
       "    .dataframe tbody tr th {\n",
       "        vertical-align: top;\n",
       "    }\n",
       "\n",
       "    .dataframe thead th {\n",
       "        text-align: right;\n",
       "    }\n",
       "</style>\n",
       "<table border=\"1\" class=\"dataframe\">\n",
       "  <thead>\n",
       "    <tr style=\"text-align: right;\">\n",
       "      <th></th>\n",
       "      <th>id</th>\n",
       "      <th>name</th>\n",
       "    </tr>\n",
       "  </thead>\n",
       "  <tbody>\n",
       "    <tr>\n",
       "      <th>2</th>\n",
       "      <td>3</td>\n",
       "      <td>Bo-Bob</td>\n",
       "    </tr>\n",
       "  </tbody>\n",
       "</table>\n",
       "</div>"
      ],
      "text/plain": [
       "   id    name\n",
       "2   3  Bo-Bob"
      ]
     },
     "execution_count": 173,
     "metadata": {},
     "output_type": "execute_result"
    }
   ],
   "source": [
    "X.loc[(X.id > 1) & (X.inc > 14), ['id','name']]"
   ]
  },
  {
   "cell_type": "markdown",
   "metadata": {},
   "source": [
    "Why do you think the `.VARIABLE` notation works at all? What does it make you suspect a variable is to the DataFrame?"
   ]
  },
  {
   "cell_type": "markdown",
   "metadata": {},
   "source": [
    "<span style=\"color:red\"> **WARNING!**</span> you can in fact subset with a numeric index by `.loc`. **But** then we are **not** in half-open intervals. We are in **closed intervals**. So for your own sake, *never* do that. Use `.iloc` for numeric index. "
   ]
  },
  {
   "cell_type": "markdown",
   "metadata": {},
   "source": [
    "Subsetting with numerical indexing works the same way as lists and arrays.  \n",
    "**Syntax:** `df.iloc[ROW INDICES, [COLUMN INDICES]]`"
   ]
  },
  {
   "cell_type": "code",
   "execution_count": 174,
   "metadata": {},
   "outputs": [
    {
     "data": {
      "text/html": [
       "<div>\n",
       "<style scoped>\n",
       "    .dataframe tbody tr th:only-of-type {\n",
       "        vertical-align: middle;\n",
       "    }\n",
       "\n",
       "    .dataframe tbody tr th {\n",
       "        vertical-align: top;\n",
       "    }\n",
       "\n",
       "    .dataframe thead th {\n",
       "        text-align: right;\n",
       "    }\n",
       "</style>\n",
       "<table border=\"1\" class=\"dataframe\">\n",
       "  <thead>\n",
       "    <tr style=\"text-align: right;\">\n",
       "      <th></th>\n",
       "      <th>id</th>\n",
       "      <th>name</th>\n",
       "    </tr>\n",
       "  </thead>\n",
       "  <tbody>\n",
       "    <tr>\n",
       "      <th>0</th>\n",
       "      <td>1</td>\n",
       "      <td>Vitus</td>\n",
       "    </tr>\n",
       "    <tr>\n",
       "      <th>1</th>\n",
       "      <td>2</td>\n",
       "      <td>Maximilian</td>\n",
       "    </tr>\n",
       "  </tbody>\n",
       "</table>\n",
       "</div>"
      ],
      "text/plain": [
       "   id        name\n",
       "0   1       Vitus\n",
       "1   2  Maximilian"
      ]
     },
     "metadata": {},
     "output_type": "display_data"
    }
   ],
   "source": [
    "display(X.iloc[0:2,[0,2]])"
   ]
  },
  {
   "cell_type": "markdown",
   "metadata": {},
   "source": [
    "Remember the **half-open** intervals!"
   ]
  },
  {
   "cell_type": "markdown",
   "metadata": {},
   "source": [
    "## 1.2 Adding a variable\n",
    "\n",
    "Variables are added with `df['newvar'] = SOMETHING`. The length must match."
   ]
  },
  {
   "cell_type": "code",
   "execution_count": 175,
   "metadata": {},
   "outputs": [
    {
     "data": {
      "text/html": [
       "<div>\n",
       "<style scoped>\n",
       "    .dataframe tbody tr th:only-of-type {\n",
       "        vertical-align: middle;\n",
       "    }\n",
       "\n",
       "    .dataframe tbody tr th {\n",
       "        vertical-align: top;\n",
       "    }\n",
       "\n",
       "    .dataframe thead th {\n",
       "        text-align: right;\n",
       "    }\n",
       "</style>\n",
       "<table border=\"1\" class=\"dataframe\">\n",
       "  <thead>\n",
       "    <tr style=\"text-align: right;\">\n",
       "      <th></th>\n",
       "      <th>id</th>\n",
       "      <th>inc</th>\n",
       "      <th>name</th>\n",
       "      <th>year</th>\n",
       "    </tr>\n",
       "  </thead>\n",
       "  <tbody>\n",
       "    <tr>\n",
       "      <th>0</th>\n",
       "      <td>1</td>\n",
       "      <td>11.7</td>\n",
       "      <td>Vitus</td>\n",
       "      <td>2003</td>\n",
       "    </tr>\n",
       "    <tr>\n",
       "      <th>1</th>\n",
       "      <td>2</td>\n",
       "      <td>13.9</td>\n",
       "      <td>Maximilian</td>\n",
       "      <td>2005</td>\n",
       "    </tr>\n",
       "    <tr>\n",
       "      <th>2</th>\n",
       "      <td>3</td>\n",
       "      <td>14.6</td>\n",
       "      <td>Bo-Bob</td>\n",
       "      <td>2010</td>\n",
       "    </tr>\n",
       "  </tbody>\n",
       "</table>\n",
       "</div>"
      ],
      "text/plain": [
       "   id   inc        name  year\n",
       "0   1  11.7       Vitus  2003\n",
       "1   2  13.9  Maximilian  2005\n",
       "2   3  14.6      Bo-Bob  2010"
      ]
     },
     "execution_count": 175,
     "metadata": {},
     "output_type": "execute_result"
    }
   ],
   "source": [
    "X['year'] = [2003, 2005, 2010]\n",
    "X"
   ]
  },
  {
   "cell_type": "markdown",
   "metadata": {},
   "source": [
    "**Note:** You canNOT write `df.newvar = SOMETHING`. Some of you will forget. I promise.  \n",
    "**Also:** note that you could add the year-variable even though it does not have an explicit row dimension. "
   ]
  },
  {
   "cell_type": "markdown",
   "metadata": {},
   "source": [
    "The *something* can be an **expression based on other variables**."
   ]
  },
  {
   "cell_type": "code",
   "execution_count": 176,
   "metadata": {},
   "outputs": [
    {
     "data": {
      "text/html": [
       "<div>\n",
       "<style scoped>\n",
       "    .dataframe tbody tr th:only-of-type {\n",
       "        vertical-align: middle;\n",
       "    }\n",
       "\n",
       "    .dataframe tbody tr th {\n",
       "        vertical-align: top;\n",
       "    }\n",
       "\n",
       "    .dataframe thead th {\n",
       "        text-align: right;\n",
       "    }\n",
       "</style>\n",
       "<table border=\"1\" class=\"dataframe\">\n",
       "  <thead>\n",
       "    <tr style=\"text-align: right;\">\n",
       "      <th></th>\n",
       "      <th>id</th>\n",
       "      <th>inc</th>\n",
       "      <th>name</th>\n",
       "      <th>year</th>\n",
       "      <th>inc_adj</th>\n",
       "    </tr>\n",
       "  </thead>\n",
       "  <tbody>\n",
       "    <tr>\n",
       "      <th>0</th>\n",
       "      <td>1</td>\n",
       "      <td>11.7</td>\n",
       "      <td>Vitus</td>\n",
       "      <td>2003</td>\n",
       "      <td>12.17268</td>\n",
       "    </tr>\n",
       "    <tr>\n",
       "      <th>1</th>\n",
       "      <td>2</td>\n",
       "      <td>13.9</td>\n",
       "      <td>Maximilian</td>\n",
       "      <td>2005</td>\n",
       "      <td>13.90000</td>\n",
       "    </tr>\n",
       "    <tr>\n",
       "      <th>2</th>\n",
       "      <td>3</td>\n",
       "      <td>14.6</td>\n",
       "      <td>Bo-Bob</td>\n",
       "      <td>2010</td>\n",
       "      <td>13.22367</td>\n",
       "    </tr>\n",
       "  </tbody>\n",
       "</table>\n",
       "</div>"
      ],
      "text/plain": [
       "   id   inc        name  year   inc_adj\n",
       "0   1  11.7       Vitus  2003  12.17268\n",
       "1   2  13.9  Maximilian  2005  13.90000\n",
       "2   3  14.6      Bo-Bob  2010  13.22367"
      ]
     },
     "execution_count": 176,
     "metadata": {},
     "output_type": "execute_result"
    }
   ],
   "source": [
    "X['inc_adj'] = X.inc / 1.02**(X.year-2005)\n",
    "X"
   ]
  },
  {
   "cell_type": "markdown",
   "metadata": {},
   "source": [
    "## 1.3 Assignments to a subset of rows"
   ]
  },
  {
   "cell_type": "markdown",
   "metadata": {},
   "source": [
    "**LHS:** Selected using logical statement.<br>\n",
    "**RHS:** Must either be:\n",
    "\n",
    "1. a **single value** (all rows are set to this) \n",
    "2. a **list of values** with same length as the number of selected rows"
   ]
  },
  {
   "cell_type": "markdown",
   "metadata": {},
   "source": [
    "**Multiple rows, one value:**"
   ]
  },
  {
   "cell_type": "code",
   "execution_count": 177,
   "metadata": {},
   "outputs": [
    {
     "name": "stdout",
     "output_type": "stream",
     "text": [
      "Y After change in names:\n"
     ]
    },
    {
     "data": {
      "text/html": [
       "<div>\n",
       "<style scoped>\n",
       "    .dataframe tbody tr th:only-of-type {\n",
       "        vertical-align: middle;\n",
       "    }\n",
       "\n",
       "    .dataframe tbody tr th {\n",
       "        vertical-align: top;\n",
       "    }\n",
       "\n",
       "    .dataframe thead th {\n",
       "        text-align: right;\n",
       "    }\n",
       "</style>\n",
       "<table border=\"1\" class=\"dataframe\">\n",
       "  <thead>\n",
       "    <tr style=\"text-align: right;\">\n",
       "      <th></th>\n",
       "      <th>id</th>\n",
       "      <th>inc</th>\n",
       "      <th>name</th>\n",
       "      <th>year</th>\n",
       "    </tr>\n",
       "  </thead>\n",
       "  <tbody>\n",
       "    <tr>\n",
       "      <th>0</th>\n",
       "      <td>1</td>\n",
       "      <td>11.7</td>\n",
       "      <td>Vitus</td>\n",
       "      <td>2003</td>\n",
       "    </tr>\n",
       "    <tr>\n",
       "      <th>1</th>\n",
       "      <td>2</td>\n",
       "      <td>13.9</td>\n",
       "      <td>no name</td>\n",
       "      <td>2005</td>\n",
       "    </tr>\n",
       "    <tr>\n",
       "      <th>2</th>\n",
       "      <td>3</td>\n",
       "      <td>14.6</td>\n",
       "      <td>no name</td>\n",
       "      <td>2010</td>\n",
       "    </tr>\n",
       "  </tbody>\n",
       "</table>\n",
       "</div>"
      ],
      "text/plain": [
       "   id   inc     name  year\n",
       "0   1  11.7    Vitus  2003\n",
       "1   2  13.9  no name  2005\n",
       "2   3  14.6  no name  2010"
      ]
     },
     "execution_count": 177,
     "metadata": {},
     "output_type": "execute_result"
    }
   ],
   "source": [
    "# Create copy of X to avoid overwriting it.\n",
    "Y = X.iloc[:,0:4].copy()\n",
    "Y.loc[Y.id > 1, ['name']] = 'no name'\n",
    "print('Y After change in names:')\n",
    "Y"
   ]
  },
  {
   "cell_type": "markdown",
   "metadata": {},
   "source": [
    "**Multiple rows, multiple values:**"
   ]
  },
  {
   "cell_type": "code",
   "execution_count": 180,
   "metadata": {},
   "outputs": [
    {
     "name": "stdout",
     "output_type": "stream",
     "text": [
      "Original df:\n"
     ]
    },
    {
     "data": {
      "text/html": [
       "<div>\n",
       "<style scoped>\n",
       "    .dataframe tbody tr th:only-of-type {\n",
       "        vertical-align: middle;\n",
       "    }\n",
       "\n",
       "    .dataframe tbody tr th {\n",
       "        vertical-align: top;\n",
       "    }\n",
       "\n",
       "    .dataframe thead th {\n",
       "        text-align: right;\n",
       "    }\n",
       "</style>\n",
       "<table border=\"1\" class=\"dataframe\">\n",
       "  <thead>\n",
       "    <tr style=\"text-align: right;\">\n",
       "      <th></th>\n",
       "      <th>id</th>\n",
       "      <th>inc</th>\n",
       "      <th>name</th>\n",
       "      <th>year</th>\n",
       "    </tr>\n",
       "  </thead>\n",
       "  <tbody>\n",
       "    <tr>\n",
       "      <th>0</th>\n",
       "      <td>1</td>\n",
       "      <td>11.7</td>\n",
       "      <td>Vitus</td>\n",
       "      <td>2003</td>\n",
       "    </tr>\n",
       "    <tr>\n",
       "      <th>1</th>\n",
       "      <td>2</td>\n",
       "      <td>13.9</td>\n",
       "      <td>Maximilian</td>\n",
       "      <td>2005</td>\n",
       "    </tr>\n",
       "    <tr>\n",
       "      <th>2</th>\n",
       "      <td>3</td>\n",
       "      <td>14.6</td>\n",
       "      <td>Bo-Bob</td>\n",
       "      <td>2010</td>\n",
       "    </tr>\n",
       "  </tbody>\n",
       "</table>\n",
       "</div>"
      ],
      "text/plain": [
       "   id   inc        name  year\n",
       "0   1  11.7       Vitus  2003\n",
       "1   2  13.9  Maximilian  2005\n",
       "2   3  14.6      Bo-Bob  2010"
      ]
     },
     "metadata": {},
     "output_type": "display_data"
    },
    {
     "name": "stdout",
     "output_type": "stream",
     "text": [
      "Subset of Y, LHS in assignment:\n"
     ]
    },
    {
     "data": {
      "text/html": [
       "<div>\n",
       "<style scoped>\n",
       "    .dataframe tbody tr th:only-of-type {\n",
       "        vertical-align: middle;\n",
       "    }\n",
       "\n",
       "    .dataframe tbody tr th {\n",
       "        vertical-align: top;\n",
       "    }\n",
       "\n",
       "    .dataframe thead th {\n",
       "        text-align: right;\n",
       "    }\n",
       "</style>\n",
       "<table border=\"1\" class=\"dataframe\">\n",
       "  <thead>\n",
       "    <tr style=\"text-align: right;\">\n",
       "      <th></th>\n",
       "      <th>id</th>\n",
       "      <th>inc</th>\n",
       "      <th>name</th>\n",
       "      <th>year</th>\n",
       "    </tr>\n",
       "  </thead>\n",
       "  <tbody>\n",
       "    <tr>\n",
       "      <th>0</th>\n",
       "      <td>1</td>\n",
       "      <td>11.7</td>\n",
       "      <td>Vitus</td>\n",
       "      <td>2003</td>\n",
       "    </tr>\n",
       "    <tr>\n",
       "      <th>2</th>\n",
       "      <td>3</td>\n",
       "      <td>14.6</td>\n",
       "      <td>Bo-Bob</td>\n",
       "      <td>2010</td>\n",
       "    </tr>\n",
       "  </tbody>\n",
       "</table>\n",
       "</div>"
      ],
      "text/plain": [
       "   id   inc    name  year\n",
       "0   1  11.7   Vitus  2003\n",
       "2   3  14.6  Bo-Bob  2010"
      ]
     },
     "metadata": {},
     "output_type": "display_data"
    },
    {
     "name": "stdout",
     "output_type": "stream",
     "text": [
      "Final Y:\n"
     ]
    },
    {
     "data": {
      "text/html": [
       "<div>\n",
       "<style scoped>\n",
       "    .dataframe tbody tr th:only-of-type {\n",
       "        vertical-align: middle;\n",
       "    }\n",
       "\n",
       "    .dataframe tbody tr th {\n",
       "        vertical-align: top;\n",
       "    }\n",
       "\n",
       "    .dataframe thead th {\n",
       "        text-align: right;\n",
       "    }\n",
       "</style>\n",
       "<table border=\"1\" class=\"dataframe\">\n",
       "  <thead>\n",
       "    <tr style=\"text-align: right;\">\n",
       "      <th></th>\n",
       "      <th>id</th>\n",
       "      <th>inc</th>\n",
       "      <th>name</th>\n",
       "      <th>year</th>\n",
       "    </tr>\n",
       "  </thead>\n",
       "  <tbody>\n",
       "    <tr>\n",
       "      <th>0</th>\n",
       "      <td>1</td>\n",
       "      <td>11.7</td>\n",
       "      <td>Bib</td>\n",
       "      <td>2003</td>\n",
       "    </tr>\n",
       "    <tr>\n",
       "      <th>1</th>\n",
       "      <td>2</td>\n",
       "      <td>13.9</td>\n",
       "      <td>Maximilian</td>\n",
       "      <td>2005</td>\n",
       "    </tr>\n",
       "    <tr>\n",
       "      <th>2</th>\n",
       "      <td>3</td>\n",
       "      <td>14.6</td>\n",
       "      <td>Peter</td>\n",
       "      <td>2010</td>\n",
       "    </tr>\n",
       "  </tbody>\n",
       "</table>\n",
       "</div>"
      ],
      "text/plain": [
       "   id   inc        name  year\n",
       "0   1  11.7         Bib  2003\n",
       "1   2  13.9  Maximilian  2005\n",
       "2   3  14.6       Peter  2010"
      ]
     },
     "execution_count": 180,
     "metadata": {},
     "output_type": "execute_result"
    }
   ],
   "source": [
    "print('Original df:')\n",
    "Y = X.iloc[:,0:4].copy()\n",
    "display(Y)\n",
    "\n",
    "# Subset the rows, where name is Vitus or year is 2005. LHS is incidentally only 2 rows, which match the RHS!\n",
    "I = (Y.name == 'Vitus') | (Y.year == 2010)\n",
    "\n",
    "# Print LHS\n",
    "print('Subset of Y, LHS in assignment:')\n",
    "display(Y.loc[I,:])\n",
    "\n",
    "# Assignment\n",
    "Y.loc[I, ['name']] = ['Bib', 'Peter']\n",
    "\n",
    "print('Final Y:')\n",
    "Y"
   ]
  },
  {
   "cell_type": "markdown",
   "metadata": {},
   "source": [
    "## 1.4 Copies vs. views"
   ]
  },
  {
   "cell_type": "markdown",
   "metadata": {},
   "source": [
    "Remember the stuff about references to objects from L02 and how making changes in a reference also causes changes in the \"original\" object? Pandas sort of shields you from that trap.  \n",
    "Here is how:\n",
    "When **looking** at the data it is natural to just avoid the `.loc` (as in most other languages):"
   ]
  },
  {
   "cell_type": "code",
   "execution_count": 181,
   "metadata": {},
   "outputs": [
    {
     "data": {
      "text/html": [
       "<div>\n",
       "<style scoped>\n",
       "    .dataframe tbody tr th:only-of-type {\n",
       "        vertical-align: middle;\n",
       "    }\n",
       "\n",
       "    .dataframe tbody tr th {\n",
       "        vertical-align: top;\n",
       "    }\n",
       "\n",
       "    .dataframe thead th {\n",
       "        text-align: right;\n",
       "    }\n",
       "</style>\n",
       "<table border=\"1\" class=\"dataframe\">\n",
       "  <thead>\n",
       "    <tr style=\"text-align: right;\">\n",
       "      <th></th>\n",
       "      <th>id</th>\n",
       "      <th>name</th>\n",
       "    </tr>\n",
       "  </thead>\n",
       "  <tbody>\n",
       "    <tr>\n",
       "      <th>0</th>\n",
       "      <td>1</td>\n",
       "      <td>Bib</td>\n",
       "    </tr>\n",
       "    <tr>\n",
       "      <th>1</th>\n",
       "      <td>2</td>\n",
       "      <td>Maximilian</td>\n",
       "    </tr>\n",
       "    <tr>\n",
       "      <th>2</th>\n",
       "      <td>3</td>\n",
       "      <td>Peter</td>\n",
       "    </tr>\n",
       "  </tbody>\n",
       "</table>\n",
       "</div>"
      ],
      "text/plain": [
       "   id        name\n",
       "0   1         Bib\n",
       "1   2  Maximilian\n",
       "2   3       Peter"
      ]
     },
     "execution_count": 181,
     "metadata": {},
     "output_type": "execute_result"
    }
   ],
   "source": [
    "# Here I'm NOT using the .loc function\n",
    "Z = Y[['id','name']]\n",
    "Z"
   ]
  },
  {
   "cell_type": "markdown",
   "metadata": {},
   "source": [
    "You can even make subsets without it:"
   ]
  },
  {
   "cell_type": "code",
   "execution_count": 182,
   "metadata": {},
   "outputs": [
    {
     "data": {
      "text/html": [
       "<div>\n",
       "<style scoped>\n",
       "    .dataframe tbody tr th:only-of-type {\n",
       "        vertical-align: middle;\n",
       "    }\n",
       "\n",
       "    .dataframe tbody tr th {\n",
       "        vertical-align: top;\n",
       "    }\n",
       "\n",
       "    .dataframe thead th {\n",
       "        text-align: right;\n",
       "    }\n",
       "</style>\n",
       "<table border=\"1\" class=\"dataframe\">\n",
       "  <thead>\n",
       "    <tr style=\"text-align: right;\">\n",
       "      <th></th>\n",
       "      <th>id</th>\n",
       "      <th>name</th>\n",
       "    </tr>\n",
       "  </thead>\n",
       "  <tbody>\n",
       "    <tr>\n",
       "      <th>1</th>\n",
       "      <td>2</td>\n",
       "      <td>Maximilian</td>\n",
       "    </tr>\n",
       "    <tr>\n",
       "      <th>2</th>\n",
       "      <td>3</td>\n",
       "      <td>Peter</td>\n",
       "    </tr>\n",
       "  </tbody>\n",
       "</table>\n",
       "</div>"
      ],
      "text/plain": [
       "   id        name\n",
       "1   2  Maximilian\n",
       "2   3       Peter"
      ]
     },
     "execution_count": 182,
     "metadata": {},
     "output_type": "execute_result"
    }
   ],
   "source": [
    "I = Y['id'] > 1\n",
    "Z[I]"
   ]
  },
  {
   "cell_type": "markdown",
   "metadata": {},
   "source": [
    "Importantly, this **does not work with assignment**."
   ]
  },
  {
   "cell_type": "markdown",
   "metadata": {},
   "source": [
    "**Case 1:** Sometimes it does not work outright."
   ]
  },
  {
   "cell_type": "code",
   "execution_count": 183,
   "metadata": {},
   "outputs": [
    {
     "data": {
      "text/html": [
       "<div>\n",
       "<style scoped>\n",
       "    .dataframe tbody tr th:only-of-type {\n",
       "        vertical-align: middle;\n",
       "    }\n",
       "\n",
       "    .dataframe tbody tr th {\n",
       "        vertical-align: top;\n",
       "    }\n",
       "\n",
       "    .dataframe thead th {\n",
       "        text-align: right;\n",
       "    }\n",
       "</style>\n",
       "<table border=\"1\" class=\"dataframe\">\n",
       "  <thead>\n",
       "    <tr style=\"text-align: right;\">\n",
       "      <th></th>\n",
       "      <th>id</th>\n",
       "      <th>inc</th>\n",
       "      <th>name</th>\n",
       "      <th>year</th>\n",
       "      <th>inc_adj</th>\n",
       "    </tr>\n",
       "  </thead>\n",
       "  <tbody>\n",
       "    <tr>\n",
       "      <th>0</th>\n",
       "      <td>1</td>\n",
       "      <td>11.7</td>\n",
       "      <td>Vitus</td>\n",
       "      <td>2003</td>\n",
       "      <td>12.17268</td>\n",
       "    </tr>\n",
       "    <tr>\n",
       "      <th>1</th>\n",
       "      <td>2</td>\n",
       "      <td>13.9</td>\n",
       "      <td>Maximilian</td>\n",
       "      <td>2005</td>\n",
       "      <td>13.90000</td>\n",
       "    </tr>\n",
       "    <tr>\n",
       "      <th>2</th>\n",
       "      <td>3</td>\n",
       "      <td>14.6</td>\n",
       "      <td>Bo-Bob</td>\n",
       "      <td>2010</td>\n",
       "      <td>13.22367</td>\n",
       "    </tr>\n",
       "  </tbody>\n",
       "</table>\n",
       "</div>"
      ],
      "text/plain": [
       "   id   inc        name  year   inc_adj\n",
       "0   1  11.7       Vitus  2003  12.17268\n",
       "1   2  13.9  Maximilian  2005  13.90000\n",
       "2   3  14.6      Bo-Bob  2010  13.22367"
      ]
     },
     "metadata": {},
     "output_type": "display_data"
    }
   ],
   "source": [
    "display(X)\n",
    "Y = X.copy() # Create Y as a new instance by copying\n",
    "Z1 = Y[['id','name']] # returns a view through chained assignment\n",
    "Z2 = Y.loc[:, ['id','name']] \n",
    "I = Y['id'] > 1"
   ]
  },
  {
   "cell_type": "code",
   "execution_count": 184,
   "metadata": {},
   "outputs": [
    {
     "name": "stderr",
     "output_type": "stream",
     "text": [
      "/Users/jzk870/opt/anaconda3/lib/python3.8/site-packages/pandas/core/indexing.py:1720: SettingWithCopyWarning: \n",
      "A value is trying to be set on a copy of a slice from a DataFrame.\n",
      "Try using .loc[row_indexer,col_indexer] = value instead\n",
      "\n",
      "See the caveats in the documentation: https://pandas.pydata.org/pandas-docs/stable/user_guide/indexing.html#returning-a-view-versus-a-copy\n",
      "  self._setitem_single_column(loc, value, pi)\n"
     ]
    }
   ],
   "source": [
    "# We canNot change Z1 due to the assignment method\n",
    "Z1.loc[I, ['name']] = 'test'"
   ]
  },
  {
   "cell_type": "code",
   "execution_count": 185,
   "metadata": {},
   "outputs": [
    {
     "data": {
      "text/html": [
       "<div>\n",
       "<style scoped>\n",
       "    .dataframe tbody tr th:only-of-type {\n",
       "        vertical-align: middle;\n",
       "    }\n",
       "\n",
       "    .dataframe tbody tr th {\n",
       "        vertical-align: top;\n",
       "    }\n",
       "\n",
       "    .dataframe thead th {\n",
       "        text-align: right;\n",
       "    }\n",
       "</style>\n",
       "<table border=\"1\" class=\"dataframe\">\n",
       "  <thead>\n",
       "    <tr style=\"text-align: right;\">\n",
       "      <th></th>\n",
       "      <th>id</th>\n",
       "      <th>inc</th>\n",
       "      <th>name</th>\n",
       "      <th>year</th>\n",
       "      <th>inc_adj</th>\n",
       "    </tr>\n",
       "  </thead>\n",
       "  <tbody>\n",
       "    <tr>\n",
       "      <th>0</th>\n",
       "      <td>1</td>\n",
       "      <td>11.7</td>\n",
       "      <td>Vitus</td>\n",
       "      <td>2003</td>\n",
       "      <td>12.17268</td>\n",
       "    </tr>\n",
       "    <tr>\n",
       "      <th>1</th>\n",
       "      <td>2</td>\n",
       "      <td>13.9</td>\n",
       "      <td>Maximilian</td>\n",
       "      <td>2005</td>\n",
       "      <td>13.90000</td>\n",
       "    </tr>\n",
       "    <tr>\n",
       "      <th>2</th>\n",
       "      <td>3</td>\n",
       "      <td>14.6</td>\n",
       "      <td>Bo-Bob</td>\n",
       "      <td>2010</td>\n",
       "      <td>13.22367</td>\n",
       "    </tr>\n",
       "  </tbody>\n",
       "</table>\n",
       "</div>"
      ],
      "text/plain": [
       "   id   inc        name  year   inc_adj\n",
       "0   1  11.7       Vitus  2003  12.17268\n",
       "1   2  13.9  Maximilian  2005  13.90000\n",
       "2   3  14.6      Bo-Bob  2010  13.22367"
      ]
     },
     "metadata": {},
     "output_type": "display_data"
    },
    {
     "data": {
      "text/html": [
       "<div>\n",
       "<style scoped>\n",
       "    .dataframe tbody tr th:only-of-type {\n",
       "        vertical-align: middle;\n",
       "    }\n",
       "\n",
       "    .dataframe tbody tr th {\n",
       "        vertical-align: top;\n",
       "    }\n",
       "\n",
       "    .dataframe thead th {\n",
       "        text-align: right;\n",
       "    }\n",
       "</style>\n",
       "<table border=\"1\" class=\"dataframe\">\n",
       "  <thead>\n",
       "    <tr style=\"text-align: right;\">\n",
       "      <th></th>\n",
       "      <th>id</th>\n",
       "      <th>name</th>\n",
       "    </tr>\n",
       "  </thead>\n",
       "  <tbody>\n",
       "    <tr>\n",
       "      <th>0</th>\n",
       "      <td>1</td>\n",
       "      <td>Vitus</td>\n",
       "    </tr>\n",
       "    <tr>\n",
       "      <th>1</th>\n",
       "      <td>2</td>\n",
       "      <td>test</td>\n",
       "    </tr>\n",
       "    <tr>\n",
       "      <th>2</th>\n",
       "      <td>3</td>\n",
       "      <td>test</td>\n",
       "    </tr>\n",
       "  </tbody>\n",
       "</table>\n",
       "</div>"
      ],
      "text/plain": [
       "   id   name\n",
       "0   1  Vitus\n",
       "1   2   test\n",
       "2   3   test"
      ]
     },
     "metadata": {},
     "output_type": "display_data"
    }
   ],
   "source": [
    "# But it works with Z2 \n",
    "Z2.loc[I, ['name']] = 'test'\n",
    "display(Y) # However, we did not change names in Y\n",
    "display(Z2)"
   ]
  },
  {
   "cell_type": "markdown",
   "metadata": {},
   "source": [
    "**Case 2:** Sometimes it works, but it is not intended use."
   ]
  },
  {
   "cell_type": "code",
   "execution_count": 186,
   "metadata": {},
   "outputs": [
    {
     "name": "stderr",
     "output_type": "stream",
     "text": [
      "<ipython-input-186-dd6c8d07fdaf>:6: SettingWithCopyWarning: \n",
      "A value is trying to be set on a copy of a slice from a DataFrame\n",
      "\n",
      "See the caveats in the documentation: https://pandas.pydata.org/pandas-docs/stable/user_guide/indexing.html#returning-a-view-versus-a-copy\n",
      "  Z[I] = 'test' # Reassigning values to the view of name in Y\n"
     ]
    },
    {
     "data": {
      "text/html": [
       "<div>\n",
       "<style scoped>\n",
       "    .dataframe tbody tr th:only-of-type {\n",
       "        vertical-align: middle;\n",
       "    }\n",
       "\n",
       "    .dataframe tbody tr th {\n",
       "        vertical-align: top;\n",
       "    }\n",
       "\n",
       "    .dataframe thead th {\n",
       "        text-align: right;\n",
       "    }\n",
       "</style>\n",
       "<table border=\"1\" class=\"dataframe\">\n",
       "  <thead>\n",
       "    <tr style=\"text-align: right;\">\n",
       "      <th></th>\n",
       "      <th>id</th>\n",
       "      <th>inc</th>\n",
       "      <th>name</th>\n",
       "      <th>year</th>\n",
       "      <th>inc_adj</th>\n",
       "    </tr>\n",
       "  </thead>\n",
       "  <tbody>\n",
       "    <tr>\n",
       "      <th>0</th>\n",
       "      <td>1</td>\n",
       "      <td>11.7</td>\n",
       "      <td>Vitus</td>\n",
       "      <td>2003</td>\n",
       "      <td>12.17268</td>\n",
       "    </tr>\n",
       "    <tr>\n",
       "      <th>1</th>\n",
       "      <td>2</td>\n",
       "      <td>13.9</td>\n",
       "      <td>test</td>\n",
       "      <td>2005</td>\n",
       "      <td>13.90000</td>\n",
       "    </tr>\n",
       "    <tr>\n",
       "      <th>2</th>\n",
       "      <td>3</td>\n",
       "      <td>14.6</td>\n",
       "      <td>test</td>\n",
       "      <td>2010</td>\n",
       "      <td>13.22367</td>\n",
       "    </tr>\n",
       "  </tbody>\n",
       "</table>\n",
       "</div>"
      ],
      "text/plain": [
       "   id   inc   name  year   inc_adj\n",
       "0   1  11.7  Vitus  2003  12.17268\n",
       "1   2  13.9   test  2005  13.90000\n",
       "2   3  14.6   test  2010  13.22367"
      ]
     },
     "execution_count": 186,
     "metadata": {},
     "output_type": "execute_result"
    }
   ],
   "source": [
    "#display(X)\n",
    "Y = X.copy()\n",
    "\n",
    "I = Y['id'] > 1\n",
    "Z = Y['name'] # returns a view of the column (same with Y.name)\n",
    "Z[I] = 'test' # Reassigning values to the view of name in Y\n",
    "Y"
   ]
  },
  {
   "cell_type": "markdown",
   "metadata": {},
   "source": [
    "**Solution:** Do the assignment in one step."
   ]
  },
  {
   "cell_type": "code",
   "execution_count": null,
   "metadata": {
    "collapsed": true,
    "jupyter": {
     "outputs_hidden": true
    }
   },
   "outputs": [],
   "source": [
    "I = Y['id'] > 1\n",
    "Y.loc[I, ['name']] = 'test'\n",
    "Y"
   ]
  },
  {
   "cell_type": "markdown",
   "metadata": {},
   "source": [
    "Lets have a [**quizz**](https://forms.office.com/Pages/ResponsePage.aspx?id=kX-So6HNlkaviYyfHO_6kckJrnVYqJlJgGf8Jm3FvY9UNDdSQTgzRU1XMlc3MzJEQUo5UjNCRURDSCQlQCN0PWcu) on subsetting."
   ]
  },
  {
   "cell_type": "markdown",
   "metadata": {},
   "source": [
    "## 1.5 The index\n",
    "\n",
    "The **first column** in the dataset is referred to as the `index` of the dataframe.<br>\n",
    "**Baseline:** If you haven't done anything, it is just `[0, 1, 2, ....]`."
   ]
  },
  {
   "cell_type": "code",
   "execution_count": 187,
   "metadata": {},
   "outputs": [
    {
     "name": "stdout",
     "output_type": "stream",
     "text": [
      "[0 1 2]\n"
     ]
    }
   ],
   "source": [
    "X.loc[0]\n",
    "# See the indices of X\n",
    "print(X.index.values)"
   ]
  },
  {
   "cell_type": "markdown",
   "metadata": {},
   "source": [
    "**Custom:** You can actually use any **unique** identifier. It does not have to be numbers. For example, you can assign the name column to be the index instead."
   ]
  },
  {
   "cell_type": "code",
   "execution_count": 188,
   "metadata": {},
   "outputs": [
    {
     "data": {
      "text/html": [
       "<div>\n",
       "<style scoped>\n",
       "    .dataframe tbody tr th:only-of-type {\n",
       "        vertical-align: middle;\n",
       "    }\n",
       "\n",
       "    .dataframe tbody tr th {\n",
       "        vertical-align: top;\n",
       "    }\n",
       "\n",
       "    .dataframe thead th {\n",
       "        text-align: right;\n",
       "    }\n",
       "</style>\n",
       "<table border=\"1\" class=\"dataframe\">\n",
       "  <thead>\n",
       "    <tr style=\"text-align: right;\">\n",
       "      <th></th>\n",
       "      <th>id</th>\n",
       "      <th>inc</th>\n",
       "      <th>year</th>\n",
       "      <th>inc_adj</th>\n",
       "    </tr>\n",
       "    <tr>\n",
       "      <th>name</th>\n",
       "      <th></th>\n",
       "      <th></th>\n",
       "      <th></th>\n",
       "      <th></th>\n",
       "    </tr>\n",
       "  </thead>\n",
       "  <tbody>\n",
       "    <tr>\n",
       "      <th>Vitus</th>\n",
       "      <td>1</td>\n",
       "      <td>11.7</td>\n",
       "      <td>2003</td>\n",
       "      <td>12.17268</td>\n",
       "    </tr>\n",
       "    <tr>\n",
       "      <th>Maximilian</th>\n",
       "      <td>2</td>\n",
       "      <td>13.9</td>\n",
       "      <td>2005</td>\n",
       "      <td>13.90000</td>\n",
       "    </tr>\n",
       "    <tr>\n",
       "      <th>Bo-Bob</th>\n",
       "      <td>3</td>\n",
       "      <td>14.6</td>\n",
       "      <td>2010</td>\n",
       "      <td>13.22367</td>\n",
       "    </tr>\n",
       "  </tbody>\n",
       "</table>\n",
       "</div>"
      ],
      "text/plain": [
       "            id   inc  year   inc_adj\n",
       "name                                \n",
       "Vitus        1  11.7  2003  12.17268\n",
       "Maximilian   2  13.9  2005  13.90000\n",
       "Bo-Bob       3  14.6  2010  13.22367"
      ]
     },
     "execution_count": 188,
     "metadata": {},
     "output_type": "execute_result"
    }
   ],
   "source": [
    "Y = X.set_index('name') # returns a copy\n",
    "Y # notice name is now below the other variables"
   ]
  },
  {
   "cell_type": "code",
   "execution_count": 189,
   "metadata": {},
   "outputs": [
    {
     "data": {
      "text/plain": [
       "id            1.00000\n",
       "inc          11.70000\n",
       "year       2003.00000\n",
       "inc_adj      12.17268\n",
       "Name: Vitus, dtype: float64"
      ]
     },
     "execution_count": 189,
     "metadata": {},
     "output_type": "execute_result"
    }
   ],
   "source": [
    "Y.loc['Vitus']"
   ]
  },
  {
   "cell_type": "code",
   "execution_count": 190,
   "metadata": {},
   "outputs": [
    {
     "name": "stdout",
     "output_type": "stream",
     "text": [
      "['Vitus' 'Maximilian' 'Bo-Bob']\n"
     ]
    }
   ],
   "source": [
    "# See the indices of Y\n",
    "print(Y.index.values)"
   ]
  },
  {
   "cell_type": "markdown",
   "metadata": {},
   "source": [
    "## 1.6 Series and numpy arrays"
   ]
  },
  {
   "cell_type": "markdown",
   "metadata": {},
   "source": [
    "When you select an individual variable, it has the data type `Series`. Some functions work on a pandas series (e.g. most numpy functions), but it is sometimes nice to extract the underlying numpy objects: \n",
    "\n",
    "* `df`: **pandas dataframe** \n",
    "* `df['variable']`: **pandas series**\n",
    "* `df['variabe'].values` (or `.to_numpy()`): **numpy array**"
   ]
  },
  {
   "cell_type": "code",
   "execution_count": 191,
   "metadata": {},
   "outputs": [
    {
     "data": {
      "text/plain": [
       "pandas.core.frame.DataFrame"
      ]
     },
     "execution_count": 191,
     "metadata": {},
     "output_type": "execute_result"
    }
   ],
   "source": [
    "type(X)"
   ]
  },
  {
   "cell_type": "markdown",
   "metadata": {},
   "source": [
    "A subset of a DataFrame is a DataFrame"
   ]
  },
  {
   "cell_type": "code",
   "execution_count": 192,
   "metadata": {},
   "outputs": [
    {
     "data": {
      "text/plain": [
       "pandas.core.frame.DataFrame"
      ]
     },
     "execution_count": 192,
     "metadata": {},
     "output_type": "execute_result"
    }
   ],
   "source": [
    "type(X[['year','inc_adj']]) # returns a copy"
   ]
  },
  {
   "cell_type": "code",
   "execution_count": 193,
   "metadata": {},
   "outputs": [
    {
     "data": {
      "text/plain": [
       "pandas.core.series.Series"
      ]
     },
     "execution_count": 193,
     "metadata": {},
     "output_type": "execute_result"
    }
   ],
   "source": [
    "type(X['year']) # returns a view"
   ]
  },
  {
   "cell_type": "code",
   "execution_count": 197,
   "metadata": {},
   "outputs": [
    {
     "name": "stdout",
     "output_type": "stream",
     "text": [
      "[2003, 2005, 2010]\n"
     ]
    }
   ],
   "source": [
    "print([*X['year'].values]) # returns a view"
   ]
  },
  {
   "cell_type": "markdown",
   "metadata": {},
   "source": [
    "**Note:** A pd.Series can live outside a DataFrame"
   ]
  },
  {
   "cell_type": "code",
   "execution_count": 198,
   "metadata": {},
   "outputs": [
    {
     "name": "stdout",
     "output_type": "stream",
     "text": [
      "0    0.1\n",
      "1    0.2\n",
      "2    1.3\n",
      "dtype: float64 <class 'pandas.core.series.Series'>\n"
     ]
    }
   ],
   "source": [
    "d = [0.1,0.2,1.3]\n",
    "s = pd.Series(d)\n",
    "print(s, type(s))"
   ]
  },
  {
   "cell_type": "markdown",
   "metadata": {},
   "source": [
    "## 1.7 Calling functions"
   ]
  },
  {
   "cell_type": "markdown",
   "metadata": {},
   "source": [
    "**Row-by-row** Create function that takes row as an argument, and then **apply** the action of the function along the row dimension (axis=1)."
   ]
  },
  {
   "cell_type": "code",
   "execution_count": 199,
   "metadata": {},
   "outputs": [
    {
     "data": {
      "text/html": [
       "<div>\n",
       "<style scoped>\n",
       "    .dataframe tbody tr th:only-of-type {\n",
       "        vertical-align: middle;\n",
       "    }\n",
       "\n",
       "    .dataframe tbody tr th {\n",
       "        vertical-align: top;\n",
       "    }\n",
       "\n",
       "    .dataframe thead th {\n",
       "        text-align: right;\n",
       "    }\n",
       "</style>\n",
       "<table border=\"1\" class=\"dataframe\">\n",
       "  <thead>\n",
       "    <tr style=\"text-align: right;\">\n",
       "      <th></th>\n",
       "      <th>id</th>\n",
       "      <th>inc</th>\n",
       "      <th>name</th>\n",
       "      <th>year</th>\n",
       "      <th>inc_adj</th>\n",
       "      <th>year_name</th>\n",
       "    </tr>\n",
       "  </thead>\n",
       "  <tbody>\n",
       "    <tr>\n",
       "      <th>0</th>\n",
       "      <td>1</td>\n",
       "      <td>11.7</td>\n",
       "      <td>Vitus</td>\n",
       "      <td>2003</td>\n",
       "      <td>12.17268</td>\n",
       "      <td>2003 - Vitus</td>\n",
       "    </tr>\n",
       "    <tr>\n",
       "      <th>1</th>\n",
       "      <td>2</td>\n",
       "      <td>13.9</td>\n",
       "      <td>Maximilian</td>\n",
       "      <td>2005</td>\n",
       "      <td>13.90000</td>\n",
       "      <td>2005 - Maximilian</td>\n",
       "    </tr>\n",
       "    <tr>\n",
       "      <th>2</th>\n",
       "      <td>3</td>\n",
       "      <td>14.6</td>\n",
       "      <td>Bo-Bob</td>\n",
       "      <td>2010</td>\n",
       "      <td>13.22367</td>\n",
       "      <td>2010 - Bo-Bob</td>\n",
       "    </tr>\n",
       "  </tbody>\n",
       "</table>\n",
       "</div>"
      ],
      "text/plain": [
       "   id   inc        name  year   inc_adj          year_name\n",
       "0   1  11.7       Vitus  2003  12.17268       2003 - Vitus\n",
       "1   2  13.9  Maximilian  2005  13.90000  2005 - Maximilian\n",
       "2   3  14.6      Bo-Bob  2010  13.22367      2010 - Bo-Bob"
      ]
     },
     "execution_count": 199,
     "metadata": {},
     "output_type": "execute_result"
    }
   ],
   "source": [
    "Y = X.copy()\n",
    "\n",
    "# Notice that row is an input argument here\n",
    "def conc_row_wise(row):\n",
    "    return str(row['year']) + ' - ' + row['name'] \n",
    "\n",
    "# The fact that row is an input argument in the conc_row_wise function is implicitly understood by .apply()\n",
    "Y['year_name'] = Y.apply(conc_row_wise, axis=1) # Notice that axis = 1 is going down rows. Kind of confusing. \n",
    "Y"
   ]
  },
  {
   "cell_type": "markdown",
   "metadata": {},
   "source": [
    "**Function for numpy arrays:** use the fact that a Pandas df is based on Numpy arrays to create a function that operate on the rows. This may involve broadcasting (see L03). "
   ]
  },
  {
   "cell_type": "code",
   "execution_count": 200,
   "metadata": {},
   "outputs": [
    {
     "data": {
      "text/html": [
       "<div>\n",
       "<style scoped>\n",
       "    .dataframe tbody tr th:only-of-type {\n",
       "        vertical-align: middle;\n",
       "    }\n",
       "\n",
       "    .dataframe tbody tr th {\n",
       "        vertical-align: top;\n",
       "    }\n",
       "\n",
       "    .dataframe thead th {\n",
       "        text-align: right;\n",
       "    }\n",
       "</style>\n",
       "<table border=\"1\" class=\"dataframe\">\n",
       "  <thead>\n",
       "    <tr style=\"text-align: right;\">\n",
       "      <th></th>\n",
       "      <th>id</th>\n",
       "      <th>inc</th>\n",
       "      <th>name</th>\n",
       "      <th>year</th>\n",
       "      <th>inc_adj</th>\n",
       "      <th>year_name</th>\n",
       "      <th>inc_adj_year</th>\n",
       "    </tr>\n",
       "  </thead>\n",
       "  <tbody>\n",
       "    <tr>\n",
       "      <th>0</th>\n",
       "      <td>1</td>\n",
       "      <td>11.7</td>\n",
       "      <td>Vitus</td>\n",
       "      <td>2003</td>\n",
       "      <td>12.17268</td>\n",
       "      <td>2003 - Vitus</td>\n",
       "      <td>23517.0</td>\n",
       "    </tr>\n",
       "    <tr>\n",
       "      <th>1</th>\n",
       "      <td>2</td>\n",
       "      <td>13.9</td>\n",
       "      <td>Maximilian</td>\n",
       "      <td>2005</td>\n",
       "      <td>13.90000</td>\n",
       "      <td>2005 - Maximilian</td>\n",
       "      <td>27939.0</td>\n",
       "    </tr>\n",
       "    <tr>\n",
       "      <th>2</th>\n",
       "      <td>3</td>\n",
       "      <td>14.6</td>\n",
       "      <td>Bo-Bob</td>\n",
       "      <td>2010</td>\n",
       "      <td>13.22367</td>\n",
       "      <td>2010 - Bo-Bob</td>\n",
       "      <td>29346.0</td>\n",
       "    </tr>\n",
       "  </tbody>\n",
       "</table>\n",
       "</div>"
      ],
      "text/plain": [
       "   id   inc        name  year   inc_adj          year_name  inc_adj_year\n",
       "0   1  11.7       Vitus  2003  12.17268       2003 - Vitus       23517.0\n",
       "1   2  13.9  Maximilian  2005  13.90000  2005 - Maximilian       27939.0\n",
       "2   3  14.6      Bo-Bob  2010  13.22367      2010 - Bo-Bob       29346.0"
      ]
     },
     "execution_count": 200,
     "metadata": {},
     "output_type": "execute_result"
    }
   ],
   "source": [
    "def all_at_once(inc, year):\n",
    "    return inc*year.max() # Notice that the values of a pd DataFrame column is Numpy, so it has a .max() method. \n",
    "\n",
    "Y['inc_adj_year'] = all_at_once(Y.inc.values, Y.year.values)\n",
    "Y"
   ]
  },
  {
   "cell_type": "markdown",
   "metadata": {},
   "source": [
    "**Function for numpy arrays with inplace changes** (i.e. a function without any return statement):"
   ]
  },
  {
   "cell_type": "code",
   "execution_count": 201,
   "metadata": {},
   "outputs": [
    {
     "data": {
      "text/html": [
       "<div>\n",
       "<style scoped>\n",
       "    .dataframe tbody tr th:only-of-type {\n",
       "        vertical-align: middle;\n",
       "    }\n",
       "\n",
       "    .dataframe tbody tr th {\n",
       "        vertical-align: top;\n",
       "    }\n",
       "\n",
       "    .dataframe thead th {\n",
       "        text-align: right;\n",
       "    }\n",
       "</style>\n",
       "<table border=\"1\" class=\"dataframe\">\n",
       "  <thead>\n",
       "    <tr style=\"text-align: right;\">\n",
       "      <th></th>\n",
       "      <th>id</th>\n",
       "      <th>inc</th>\n",
       "      <th>name</th>\n",
       "      <th>year</th>\n",
       "      <th>inc_adj</th>\n",
       "      <th>year_name</th>\n",
       "      <th>inc_adj_year</th>\n",
       "      <th>inc_adj_inplace</th>\n",
       "    </tr>\n",
       "  </thead>\n",
       "  <tbody>\n",
       "    <tr>\n",
       "      <th>0</th>\n",
       "      <td>1</td>\n",
       "      <td>11.7</td>\n",
       "      <td>Vitus</td>\n",
       "      <td>2003</td>\n",
       "      <td>12.17268</td>\n",
       "      <td>2003 - Vitus</td>\n",
       "      <td>23517.0</td>\n",
       "      <td>23517.0</td>\n",
       "    </tr>\n",
       "    <tr>\n",
       "      <th>1</th>\n",
       "      <td>2</td>\n",
       "      <td>13.9</td>\n",
       "      <td>Maximilian</td>\n",
       "      <td>2005</td>\n",
       "      <td>13.90000</td>\n",
       "      <td>2005 - Maximilian</td>\n",
       "      <td>27939.0</td>\n",
       "      <td>27939.0</td>\n",
       "    </tr>\n",
       "    <tr>\n",
       "      <th>2</th>\n",
       "      <td>3</td>\n",
       "      <td>14.6</td>\n",
       "      <td>Bo-Bob</td>\n",
       "      <td>2010</td>\n",
       "      <td>13.22367</td>\n",
       "      <td>2010 - Bo-Bob</td>\n",
       "      <td>29346.0</td>\n",
       "      <td>29346.0</td>\n",
       "    </tr>\n",
       "  </tbody>\n",
       "</table>\n",
       "</div>"
      ],
      "text/plain": [
       "   id   inc        name  year   inc_adj          year_name  inc_adj_year  \\\n",
       "0   1  11.7       Vitus  2003  12.17268       2003 - Vitus       23517.0   \n",
       "1   2  13.9  Maximilian  2005  13.90000  2005 - Maximilian       27939.0   \n",
       "2   3  14.6      Bo-Bob  2010  13.22367      2010 - Bo-Bob       29346.0   \n",
       "\n",
       "   inc_adj_inplace  \n",
       "0          23517.0  \n",
       "1          27939.0  \n",
       "2          29346.0  "
      ]
     },
     "execution_count": 201,
     "metadata": {},
     "output_type": "execute_result"
    }
   ],
   "source": [
    "# Use referencing of a column to overwrite values in place.\n",
    "def all_at_once_inplace(inc,year):\n",
    "    inc[:] = all_at_once(inc,year)\n",
    "\n",
    "Y['inc_adj_inplace'] = Y.inc\n",
    "all_at_once_inplace(Y.inc_adj_inplace.values, Y.year.values)\n",
    "Y"
   ]
  },
  {
   "cell_type": "markdown",
   "metadata": {},
   "source": [
    "<a id=\"Reading-and-writing-data\"></a>\n",
    "\n",
    "# 2. Reading and writing data"
   ]
  },
  {
   "cell_type": "markdown",
   "metadata": {},
   "source": [
    "**Check:** We make sure that we have the **data/** subfolder, and that it has the datasets we need."
   ]
  },
  {
   "cell_type": "code",
   "execution_count": 202,
   "metadata": {},
   "outputs": [
    {
     "data": {
      "text/plain": [
       "['areal.xlsx',\n",
       " 'RAS200_long.csv',\n",
       " 'INDKP107.xlsx',\n",
       " 'RAS200.xlsx',\n",
       " '~$RAS200.xlsx',\n",
       " '.ipynb_checkpoints',\n",
       " 'area.csv',\n",
       " 'INDKP107_long.csv']"
      ]
     },
     "execution_count": 202,
     "metadata": {},
     "output_type": "execute_result"
    }
   ],
   "source": [
    "import os \n",
    "\n",
    "# Using assert to check that paths exist on computer. See L05 for details.\n",
    "assert os.path.isdir('data/')\n",
    "assert os.path.isfile('data/RAS200.xlsx')\n",
    "assert os.path.isfile('data/INDKP107.xlsx')\n",
    "\n",
    "# Print everything in data\n",
    "os.listdir('data/')"
   ]
  },
  {
   "cell_type": "markdown",
   "metadata": {},
   "source": [
    "## 2.1 Reading in data"
   ]
  },
  {
   "cell_type": "markdown",
   "metadata": {},
   "source": [
    "Pandas offers a lot of facilities for **reading and writing to different formats**. The functions have logical names: \n",
    "\n",
    "* CSV: `pd.read_csv()`\n",
    "* SAS: `pd.read_sas()`\n",
    "* Excel: `pd.read_excel()`\n",
    "* Stata: `pd.read_stata()`\n",
    "* Parquet: `pd.read_parquet()`"
   ]
  },
  {
   "cell_type": "markdown",
   "metadata": {},
   "source": [
    "**Inspecting:** \n",
    "\n",
    "* `df.head(10)` is ued to inspect the first 10 rows\n",
    "* `df.sample(10)` is ued to look at 10 random rows"
   ]
  },
  {
   "cell_type": "markdown",
   "metadata": {},
   "source": [
    "**Example:** Raw download from DST  \n",
    "\n",
    "Clearly not quite right!"
   ]
  },
  {
   "cell_type": "code",
   "execution_count": 203,
   "metadata": {},
   "outputs": [
    {
     "data": {
      "text/html": [
       "<div>\n",
       "<style scoped>\n",
       "    .dataframe tbody tr th:only-of-type {\n",
       "        vertical-align: middle;\n",
       "    }\n",
       "\n",
       "    .dataframe tbody tr th {\n",
       "        vertical-align: top;\n",
       "    }\n",
       "\n",
       "    .dataframe thead th {\n",
       "        text-align: right;\n",
       "    }\n",
       "</style>\n",
       "<table border=\"1\" class=\"dataframe\">\n",
       "  <thead>\n",
       "    <tr style=\"text-align: right;\">\n",
       "      <th></th>\n",
       "      <th>Activity and employment rates (end November) by frequency, sex, age, ancestry, region and time</th>\n",
       "      <th>Unnamed: 1</th>\n",
       "      <th>Unnamed: 2</th>\n",
       "      <th>Unnamed: 3</th>\n",
       "      <th>Unnamed: 4</th>\n",
       "      <th>Unnamed: 5</th>\n",
       "      <th>Unnamed: 6</th>\n",
       "      <th>Unnamed: 7</th>\n",
       "      <th>Unnamed: 8</th>\n",
       "      <th>Unnamed: 9</th>\n",
       "      <th>Unnamed: 10</th>\n",
       "      <th>Unnamed: 11</th>\n",
       "      <th>Unnamed: 12</th>\n",
       "      <th>Unnamed: 13</th>\n",
       "      <th>Unnamed: 14</th>\n",
       "    </tr>\n",
       "  </thead>\n",
       "  <tbody>\n",
       "    <tr>\n",
       "      <th>0</th>\n",
       "      <td>Units: per cent</td>\n",
       "      <td>NaN</td>\n",
       "      <td>NaN</td>\n",
       "      <td>NaN</td>\n",
       "      <td>NaN</td>\n",
       "      <td>NaN</td>\n",
       "      <td>NaN</td>\n",
       "      <td>NaN</td>\n",
       "      <td>NaN</td>\n",
       "      <td>NaN</td>\n",
       "      <td>NaN</td>\n",
       "      <td>NaN</td>\n",
       "      <td>NaN</td>\n",
       "      <td>NaN</td>\n",
       "      <td>NaN</td>\n",
       "    </tr>\n",
       "    <tr>\n",
       "      <th>1</th>\n",
       "      <td>NaN</td>\n",
       "      <td>NaN</td>\n",
       "      <td>NaN</td>\n",
       "      <td>NaN</td>\n",
       "      <td>NaN</td>\n",
       "      <td>2008.0</td>\n",
       "      <td>2009.0</td>\n",
       "      <td>2010.0</td>\n",
       "      <td>2011.0</td>\n",
       "      <td>2012.0</td>\n",
       "      <td>2013.0</td>\n",
       "      <td>2014.0</td>\n",
       "      <td>2015.0</td>\n",
       "      <td>2016.0</td>\n",
       "      <td>2017.0</td>\n",
       "    </tr>\n",
       "    <tr>\n",
       "      <th>2</th>\n",
       "      <td>Employment rate</td>\n",
       "      <td>Total</td>\n",
       "      <td>Age, total</td>\n",
       "      <td>Total</td>\n",
       "      <td>All Denmark</td>\n",
       "      <td>76.0</td>\n",
       "      <td>72.8</td>\n",
       "      <td>72.1</td>\n",
       "      <td>71.8</td>\n",
       "      <td>71.3</td>\n",
       "      <td>71.3</td>\n",
       "      <td>71.6</td>\n",
       "      <td>72.1</td>\n",
       "      <td>72.8</td>\n",
       "      <td>73.6</td>\n",
       "    </tr>\n",
       "    <tr>\n",
       "      <th>3</th>\n",
       "      <td>NaN</td>\n",
       "      <td>NaN</td>\n",
       "      <td>NaN</td>\n",
       "      <td>NaN</td>\n",
       "      <td>Region Hovedstaden</td>\n",
       "      <td>75.8</td>\n",
       "      <td>73.3</td>\n",
       "      <td>72.6</td>\n",
       "      <td>72.5</td>\n",
       "      <td>72.2</td>\n",
       "      <td>72.3</td>\n",
       "      <td>72.5</td>\n",
       "      <td>73.2</td>\n",
       "      <td>73.8</td>\n",
       "      <td>74.4</td>\n",
       "    </tr>\n",
       "    <tr>\n",
       "      <th>4</th>\n",
       "      <td>NaN</td>\n",
       "      <td>NaN</td>\n",
       "      <td>NaN</td>\n",
       "      <td>NaN</td>\n",
       "      <td>Province Byen København</td>\n",
       "      <td>73.4</td>\n",
       "      <td>71.0</td>\n",
       "      <td>70.5</td>\n",
       "      <td>70.5</td>\n",
       "      <td>70.4</td>\n",
       "      <td>70.6</td>\n",
       "      <td>70.9</td>\n",
       "      <td>71.6</td>\n",
       "      <td>72.3</td>\n",
       "      <td>73.0</td>\n",
       "    </tr>\n",
       "  </tbody>\n",
       "</table>\n",
       "</div>"
      ],
      "text/plain": [
       "  Activity and employment rates (end November) by frequency, sex, age, ancestry, region and time  \\\n",
       "0                                    Units: per cent                                               \n",
       "1                                                NaN                                               \n",
       "2                                    Employment rate                                               \n",
       "3                                                NaN                                               \n",
       "4                                                NaN                                               \n",
       "\n",
       "  Unnamed: 1  Unnamed: 2 Unnamed: 3               Unnamed: 4  Unnamed: 5  \\\n",
       "0        NaN         NaN        NaN                      NaN         NaN   \n",
       "1        NaN         NaN        NaN                      NaN      2008.0   \n",
       "2      Total  Age, total      Total              All Denmark        76.0   \n",
       "3        NaN         NaN        NaN       Region Hovedstaden        75.8   \n",
       "4        NaN         NaN        NaN  Province Byen København        73.4   \n",
       "\n",
       "   Unnamed: 6  Unnamed: 7  Unnamed: 8  Unnamed: 9  Unnamed: 10  Unnamed: 11  \\\n",
       "0         NaN         NaN         NaN         NaN          NaN          NaN   \n",
       "1      2009.0      2010.0      2011.0      2012.0       2013.0       2014.0   \n",
       "2        72.8        72.1        71.8        71.3         71.3         71.6   \n",
       "3        73.3        72.6        72.5        72.2         72.3         72.5   \n",
       "4        71.0        70.5        70.5        70.4         70.6         70.9   \n",
       "\n",
       "   Unnamed: 12  Unnamed: 13  Unnamed: 14  \n",
       "0          NaN          NaN          NaN  \n",
       "1       2015.0       2016.0       2017.0  \n",
       "2         72.1         72.8         73.6  \n",
       "3         73.2         73.8         74.4  \n",
       "4         71.6         72.3         73.0  "
      ]
     },
     "execution_count": 203,
     "metadata": {},
     "output_type": "execute_result"
    }
   ],
   "source": [
    "filename = 'data/RAS200.xlsx' # open the file and have a look at it\n",
    "pd.read_excel(filename).head(5)"
   ]
  },
  {
   "cell_type": "markdown",
   "metadata": {},
   "source": [
    "We need to clean this **mess** up."
   ]
  },
  {
   "cell_type": "markdown",
   "metadata": {},
   "source": [
    "### Getting the right columns and rows"
   ]
  },
  {
   "cell_type": "markdown",
   "metadata": {},
   "source": [
    "**Skipping rows:** Clearly, we should **skip** the first three rows and the first four columns"
   ]
  },
  {
   "cell_type": "code",
   "execution_count": 204,
   "metadata": {},
   "outputs": [
    {
     "data": {
      "text/html": [
       "<div>\n",
       "<style scoped>\n",
       "    .dataframe tbody tr th:only-of-type {\n",
       "        vertical-align: middle;\n",
       "    }\n",
       "\n",
       "    .dataframe tbody tr th {\n",
       "        vertical-align: top;\n",
       "    }\n",
       "\n",
       "    .dataframe thead th {\n",
       "        text-align: right;\n",
       "    }\n",
       "</style>\n",
       "<table border=\"1\" class=\"dataframe\">\n",
       "  <thead>\n",
       "    <tr style=\"text-align: right;\">\n",
       "      <th></th>\n",
       "      <th>Unnamed: 0</th>\n",
       "      <th>Unnamed: 1</th>\n",
       "      <th>Unnamed: 2</th>\n",
       "      <th>Unnamed: 3</th>\n",
       "      <th>Unnamed: 4</th>\n",
       "      <th>2008</th>\n",
       "      <th>2009</th>\n",
       "      <th>2010</th>\n",
       "      <th>2011</th>\n",
       "      <th>2012</th>\n",
       "      <th>2013</th>\n",
       "      <th>2014</th>\n",
       "      <th>2015</th>\n",
       "      <th>2016</th>\n",
       "      <th>2017</th>\n",
       "    </tr>\n",
       "  </thead>\n",
       "  <tbody>\n",
       "    <tr>\n",
       "      <th>0</th>\n",
       "      <td>Employment rate</td>\n",
       "      <td>Total</td>\n",
       "      <td>Age, total</td>\n",
       "      <td>Total</td>\n",
       "      <td>All Denmark</td>\n",
       "      <td>76.0</td>\n",
       "      <td>72.8</td>\n",
       "      <td>72.1</td>\n",
       "      <td>71.8</td>\n",
       "      <td>71.3</td>\n",
       "      <td>71.3</td>\n",
       "      <td>71.6</td>\n",
       "      <td>72.1</td>\n",
       "      <td>72.8</td>\n",
       "      <td>73.6</td>\n",
       "    </tr>\n",
       "    <tr>\n",
       "      <th>1</th>\n",
       "      <td>NaN</td>\n",
       "      <td>NaN</td>\n",
       "      <td>NaN</td>\n",
       "      <td>NaN</td>\n",
       "      <td>Region Hovedstaden</td>\n",
       "      <td>75.8</td>\n",
       "      <td>73.3</td>\n",
       "      <td>72.6</td>\n",
       "      <td>72.5</td>\n",
       "      <td>72.2</td>\n",
       "      <td>72.3</td>\n",
       "      <td>72.5</td>\n",
       "      <td>73.2</td>\n",
       "      <td>73.8</td>\n",
       "      <td>74.4</td>\n",
       "    </tr>\n",
       "    <tr>\n",
       "      <th>2</th>\n",
       "      <td>NaN</td>\n",
       "      <td>NaN</td>\n",
       "      <td>NaN</td>\n",
       "      <td>NaN</td>\n",
       "      <td>Province Byen København</td>\n",
       "      <td>73.4</td>\n",
       "      <td>71.0</td>\n",
       "      <td>70.5</td>\n",
       "      <td>70.5</td>\n",
       "      <td>70.4</td>\n",
       "      <td>70.6</td>\n",
       "      <td>70.9</td>\n",
       "      <td>71.6</td>\n",
       "      <td>72.3</td>\n",
       "      <td>73.0</td>\n",
       "    </tr>\n",
       "    <tr>\n",
       "      <th>3</th>\n",
       "      <td>NaN</td>\n",
       "      <td>NaN</td>\n",
       "      <td>NaN</td>\n",
       "      <td>NaN</td>\n",
       "      <td>Copenhagen</td>\n",
       "      <td>72.5</td>\n",
       "      <td>70.0</td>\n",
       "      <td>69.7</td>\n",
       "      <td>69.6</td>\n",
       "      <td>69.4</td>\n",
       "      <td>69.7</td>\n",
       "      <td>70.0</td>\n",
       "      <td>70.8</td>\n",
       "      <td>71.5</td>\n",
       "      <td>72.2</td>\n",
       "    </tr>\n",
       "    <tr>\n",
       "      <th>4</th>\n",
       "      <td>NaN</td>\n",
       "      <td>NaN</td>\n",
       "      <td>NaN</td>\n",
       "      <td>NaN</td>\n",
       "      <td>Frederiksberg</td>\n",
       "      <td>75.6</td>\n",
       "      <td>73.7</td>\n",
       "      <td>72.7</td>\n",
       "      <td>72.8</td>\n",
       "      <td>73.0</td>\n",
       "      <td>73.3</td>\n",
       "      <td>73.5</td>\n",
       "      <td>74.0</td>\n",
       "      <td>74.7</td>\n",
       "      <td>75.6</td>\n",
       "    </tr>\n",
       "  </tbody>\n",
       "</table>\n",
       "</div>"
      ],
      "text/plain": [
       "        Unnamed: 0 Unnamed: 1  Unnamed: 2 Unnamed: 3               Unnamed: 4  \\\n",
       "0  Employment rate      Total  Age, total      Total              All Denmark   \n",
       "1              NaN        NaN         NaN        NaN       Region Hovedstaden   \n",
       "2              NaN        NaN         NaN        NaN  Province Byen København   \n",
       "3              NaN        NaN         NaN        NaN               Copenhagen   \n",
       "4              NaN        NaN         NaN        NaN            Frederiksberg   \n",
       "\n",
       "   2008  2009  2010  2011  2012  2013  2014  2015  2016  2017  \n",
       "0  76.0  72.8  72.1  71.8  71.3  71.3  71.6  72.1  72.8  73.6  \n",
       "1  75.8  73.3  72.6  72.5  72.2  72.3  72.5  73.2  73.8  74.4  \n",
       "2  73.4  71.0  70.5  70.5  70.4  70.6  70.9  71.6  72.3  73.0  \n",
       "3  72.5  70.0  69.7  69.6  69.4  69.7  70.0  70.8  71.5  72.2  \n",
       "4  75.6  73.7  72.7  72.8  73.0  73.3  73.5  74.0  74.7  75.6  "
      ]
     },
     "execution_count": 204,
     "metadata": {},
     "output_type": "execute_result"
    }
   ],
   "source": [
    "empl = pd.read_excel(filename, skiprows=2)\n",
    "empl.head(5)"
   ]
  },
  {
   "cell_type": "markdown",
   "metadata": {},
   "source": [
    "**Dropping columns:** The first couple of columns are not needed and contain only missing values (denoted by `NaN` (not-a-number)), so we will drop those. \n",
    "\n",
    "**Note:** `df.drop()` is a function that the data frame object applies to itself. Hence, no return value is used.  "
   ]
  },
  {
   "cell_type": "code",
   "execution_count": 205,
   "metadata": {},
   "outputs": [
    {
     "name": "stdout",
     "output_type": "stream",
     "text": [
      "['Unnamed: 0', 'Unnamed: 1', 'Unnamed: 2', 'Unnamed: 3']\n"
     ]
    },
    {
     "data": {
      "text/html": [
       "<div>\n",
       "<style scoped>\n",
       "    .dataframe tbody tr th:only-of-type {\n",
       "        vertical-align: middle;\n",
       "    }\n",
       "\n",
       "    .dataframe tbody tr th {\n",
       "        vertical-align: top;\n",
       "    }\n",
       "\n",
       "    .dataframe thead th {\n",
       "        text-align: right;\n",
       "    }\n",
       "</style>\n",
       "<table border=\"1\" class=\"dataframe\">\n",
       "  <thead>\n",
       "    <tr style=\"text-align: right;\">\n",
       "      <th></th>\n",
       "      <th>Unnamed: 4</th>\n",
       "      <th>2008</th>\n",
       "      <th>2009</th>\n",
       "      <th>2010</th>\n",
       "      <th>2011</th>\n",
       "      <th>2012</th>\n",
       "      <th>2013</th>\n",
       "      <th>2014</th>\n",
       "      <th>2015</th>\n",
       "      <th>2016</th>\n",
       "      <th>2017</th>\n",
       "    </tr>\n",
       "  </thead>\n",
       "  <tbody>\n",
       "    <tr>\n",
       "      <th>0</th>\n",
       "      <td>All Denmark</td>\n",
       "      <td>76.0</td>\n",
       "      <td>72.8</td>\n",
       "      <td>72.1</td>\n",
       "      <td>71.8</td>\n",
       "      <td>71.3</td>\n",
       "      <td>71.3</td>\n",
       "      <td>71.6</td>\n",
       "      <td>72.1</td>\n",
       "      <td>72.8</td>\n",
       "      <td>73.6</td>\n",
       "    </tr>\n",
       "    <tr>\n",
       "      <th>1</th>\n",
       "      <td>Region Hovedstaden</td>\n",
       "      <td>75.8</td>\n",
       "      <td>73.3</td>\n",
       "      <td>72.6</td>\n",
       "      <td>72.5</td>\n",
       "      <td>72.2</td>\n",
       "      <td>72.3</td>\n",
       "      <td>72.5</td>\n",
       "      <td>73.2</td>\n",
       "      <td>73.8</td>\n",
       "      <td>74.4</td>\n",
       "    </tr>\n",
       "    <tr>\n",
       "      <th>2</th>\n",
       "      <td>Province Byen København</td>\n",
       "      <td>73.4</td>\n",
       "      <td>71.0</td>\n",
       "      <td>70.5</td>\n",
       "      <td>70.5</td>\n",
       "      <td>70.4</td>\n",
       "      <td>70.6</td>\n",
       "      <td>70.9</td>\n",
       "      <td>71.6</td>\n",
       "      <td>72.3</td>\n",
       "      <td>73.0</td>\n",
       "    </tr>\n",
       "    <tr>\n",
       "      <th>3</th>\n",
       "      <td>Copenhagen</td>\n",
       "      <td>72.5</td>\n",
       "      <td>70.0</td>\n",
       "      <td>69.7</td>\n",
       "      <td>69.6</td>\n",
       "      <td>69.4</td>\n",
       "      <td>69.7</td>\n",
       "      <td>70.0</td>\n",
       "      <td>70.8</td>\n",
       "      <td>71.5</td>\n",
       "      <td>72.2</td>\n",
       "    </tr>\n",
       "    <tr>\n",
       "      <th>4</th>\n",
       "      <td>Frederiksberg</td>\n",
       "      <td>75.6</td>\n",
       "      <td>73.7</td>\n",
       "      <td>72.7</td>\n",
       "      <td>72.8</td>\n",
       "      <td>73.0</td>\n",
       "      <td>73.3</td>\n",
       "      <td>73.5</td>\n",
       "      <td>74.0</td>\n",
       "      <td>74.7</td>\n",
       "      <td>75.6</td>\n",
       "    </tr>\n",
       "  </tbody>\n",
       "</table>\n",
       "</div>"
      ],
      "text/plain": [
       "                Unnamed: 4  2008  2009  2010  2011  2012  2013  2014  2015  \\\n",
       "0              All Denmark  76.0  72.8  72.1  71.8  71.3  71.3  71.6  72.1   \n",
       "1       Region Hovedstaden  75.8  73.3  72.6  72.5  72.2  72.3  72.5  73.2   \n",
       "2  Province Byen København  73.4  71.0  70.5  70.5  70.4  70.6  70.9  71.6   \n",
       "3               Copenhagen  72.5  70.0  69.7  69.6  69.4  69.7  70.0  70.8   \n",
       "4            Frederiksberg  75.6  73.7  72.7  72.8  73.0  73.3  73.5  74.0   \n",
       "\n",
       "   2016  2017  \n",
       "0  72.8  73.6  \n",
       "1  73.8  74.4  \n",
       "2  72.3  73.0  \n",
       "3  71.5  72.2  \n",
       "4  74.7  75.6  "
      ]
     },
     "execution_count": 205,
     "metadata": {},
     "output_type": "execute_result"
    }
   ],
   "source": [
    "# These columns have to go: 'Unnamed: 0' 'Unnamed: 1' 'Unnamed: 2' 'Unnamed: 3'\n",
    "drop_these = ['Unnamed: ' + str(num) for num in range(4)] # use list comprehension to create list of columns\n",
    "print(drop_these)\n",
    "empl.drop(drop_these, axis=1, inplace=True) # axis = 1 -> columns, inplace=True -> changed, no copy made\n",
    "empl.head(5)"
   ]
  },
  {
   "cell_type": "markdown",
   "metadata": {},
   "source": [
    "> **Alternative:** Use `del empl['Unnamed: 0'], empl['Unnamed: 1']..`.  \n",
    "\n",
    "**But!** that borders on code repetition.. Would give you 4 places to make code changes rather than 2 as with the list comprehension above, in case data changed. "
   ]
  },
  {
   "cell_type": "markdown",
   "metadata": {},
   "source": [
    "### Renaming variables"
   ]
  },
  {
   "cell_type": "markdown",
   "metadata": {},
   "source": [
    "We are not happy with the column comprising regions, which is currently called `Unnamed: 4`.   \n",
    "\n",
    "We rename using `df.rename(columns=dict)`, where dict must be a Python *dictionary*. Why a dictionary? It is simply the most practical solution if you are renaming several columns at once. "
   ]
  },
  {
   "cell_type": "code",
   "execution_count": 206,
   "metadata": {},
   "outputs": [
    {
     "data": {
      "text/html": [
       "<div>\n",
       "<style scoped>\n",
       "    .dataframe tbody tr th:only-of-type {\n",
       "        vertical-align: middle;\n",
       "    }\n",
       "\n",
       "    .dataframe tbody tr th {\n",
       "        vertical-align: top;\n",
       "    }\n",
       "\n",
       "    .dataframe thead th {\n",
       "        text-align: right;\n",
       "    }\n",
       "</style>\n",
       "<table border=\"1\" class=\"dataframe\">\n",
       "  <thead>\n",
       "    <tr style=\"text-align: right;\">\n",
       "      <th></th>\n",
       "      <th>municipality</th>\n",
       "      <th>2008</th>\n",
       "      <th>2009</th>\n",
       "      <th>2010</th>\n",
       "      <th>2011</th>\n",
       "      <th>2012</th>\n",
       "      <th>2013</th>\n",
       "      <th>2014</th>\n",
       "      <th>2015</th>\n",
       "      <th>2016</th>\n",
       "      <th>2017</th>\n",
       "    </tr>\n",
       "  </thead>\n",
       "  <tbody>\n",
       "    <tr>\n",
       "      <th>0</th>\n",
       "      <td>All Denmark</td>\n",
       "      <td>76.0</td>\n",
       "      <td>72.8</td>\n",
       "      <td>72.1</td>\n",
       "      <td>71.8</td>\n",
       "      <td>71.3</td>\n",
       "      <td>71.3</td>\n",
       "      <td>71.6</td>\n",
       "      <td>72.1</td>\n",
       "      <td>72.8</td>\n",
       "      <td>73.6</td>\n",
       "    </tr>\n",
       "    <tr>\n",
       "      <th>1</th>\n",
       "      <td>Region Hovedstaden</td>\n",
       "      <td>75.8</td>\n",
       "      <td>73.3</td>\n",
       "      <td>72.6</td>\n",
       "      <td>72.5</td>\n",
       "      <td>72.2</td>\n",
       "      <td>72.3</td>\n",
       "      <td>72.5</td>\n",
       "      <td>73.2</td>\n",
       "      <td>73.8</td>\n",
       "      <td>74.4</td>\n",
       "    </tr>\n",
       "    <tr>\n",
       "      <th>2</th>\n",
       "      <td>Province Byen København</td>\n",
       "      <td>73.4</td>\n",
       "      <td>71.0</td>\n",
       "      <td>70.5</td>\n",
       "      <td>70.5</td>\n",
       "      <td>70.4</td>\n",
       "      <td>70.6</td>\n",
       "      <td>70.9</td>\n",
       "      <td>71.6</td>\n",
       "      <td>72.3</td>\n",
       "      <td>73.0</td>\n",
       "    </tr>\n",
       "    <tr>\n",
       "      <th>3</th>\n",
       "      <td>Copenhagen</td>\n",
       "      <td>72.5</td>\n",
       "      <td>70.0</td>\n",
       "      <td>69.7</td>\n",
       "      <td>69.6</td>\n",
       "      <td>69.4</td>\n",
       "      <td>69.7</td>\n",
       "      <td>70.0</td>\n",
       "      <td>70.8</td>\n",
       "      <td>71.5</td>\n",
       "      <td>72.2</td>\n",
       "    </tr>\n",
       "    <tr>\n",
       "      <th>4</th>\n",
       "      <td>Frederiksberg</td>\n",
       "      <td>75.6</td>\n",
       "      <td>73.7</td>\n",
       "      <td>72.7</td>\n",
       "      <td>72.8</td>\n",
       "      <td>73.0</td>\n",
       "      <td>73.3</td>\n",
       "      <td>73.5</td>\n",
       "      <td>74.0</td>\n",
       "      <td>74.7</td>\n",
       "      <td>75.6</td>\n",
       "    </tr>\n",
       "  </tbody>\n",
       "</table>\n",
       "</div>"
      ],
      "text/plain": [
       "              municipality  2008  2009  2010  2011  2012  2013  2014  2015  \\\n",
       "0              All Denmark  76.0  72.8  72.1  71.8  71.3  71.3  71.6  72.1   \n",
       "1       Region Hovedstaden  75.8  73.3  72.6  72.5  72.2  72.3  72.5  73.2   \n",
       "2  Province Byen København  73.4  71.0  70.5  70.5  70.4  70.6  70.9  71.6   \n",
       "3               Copenhagen  72.5  70.0  69.7  69.6  69.4  69.7  70.0  70.8   \n",
       "4            Frederiksberg  75.6  73.7  72.7  72.8  73.0  73.3  73.5  74.0   \n",
       "\n",
       "   2016  2017  \n",
       "0  72.8  73.6  \n",
       "1  73.8  74.4  \n",
       "2  72.3  73.0  \n",
       "3  71.5  72.2  \n",
       "4  74.7  75.6  "
      ]
     },
     "execution_count": 206,
     "metadata": {},
     "output_type": "execute_result"
    }
   ],
   "source": [
    "empl.rename(columns = {'Unnamed: 4':'municipality'}, inplace=True)\n",
    "empl.head(5)"
   ]
  },
  {
   "cell_type": "markdown",
   "metadata": {},
   "source": [
    "**Rename all year columns:** We also see that the employment rate in 2008 has been named `2008`. This is allowed in Python, but having a **variable named as a number** can cause **problems** with some functions (and many other programming languages do not even allow it), so let us change their names.   \n",
    "To change all columns, we need to create a dictionary that maps each of the years {2008, ..., 2016} to {e2008, ..., e2016}. "
   ]
  },
  {
   "cell_type": "code",
   "execution_count": 207,
   "metadata": {},
   "outputs": [
    {
     "data": {
      "text/plain": [
       "{'2008': 'e2008',\n",
       " '2009': 'e2009',\n",
       " '2010': 'e2010',\n",
       " '2011': 'e2011',\n",
       " '2012': 'e2012',\n",
       " '2013': 'e2013',\n",
       " '2014': 'e2014',\n",
       " '2015': 'e2015',\n",
       " '2016': 'e2016',\n",
       " '2017': 'e2017'}"
      ]
     },
     "execution_count": 207,
     "metadata": {},
     "output_type": "execute_result"
    }
   ],
   "source": [
    "col_dict = {}\n",
    "for i in range(2008, 2017+1): # range goes from 2008 to but not including 2018\n",
    "    col_dict[str(i)] = f'e{i}' \n",
    "col_dict"
   ]
  },
  {
   "cell_type": "code",
   "execution_count": 208,
   "metadata": {},
   "outputs": [
    {
     "data": {
      "text/html": [
       "<div>\n",
       "<style scoped>\n",
       "    .dataframe tbody tr th:only-of-type {\n",
       "        vertical-align: middle;\n",
       "    }\n",
       "\n",
       "    .dataframe tbody tr th {\n",
       "        vertical-align: top;\n",
       "    }\n",
       "\n",
       "    .dataframe thead th {\n",
       "        text-align: right;\n",
       "    }\n",
       "</style>\n",
       "<table border=\"1\" class=\"dataframe\">\n",
       "  <thead>\n",
       "    <tr style=\"text-align: right;\">\n",
       "      <th></th>\n",
       "      <th>municipality</th>\n",
       "      <th>e2008</th>\n",
       "      <th>e2009</th>\n",
       "      <th>e2010</th>\n",
       "      <th>e2011</th>\n",
       "      <th>e2012</th>\n",
       "      <th>e2013</th>\n",
       "      <th>e2014</th>\n",
       "      <th>e2015</th>\n",
       "      <th>e2016</th>\n",
       "      <th>e2017</th>\n",
       "    </tr>\n",
       "  </thead>\n",
       "  <tbody>\n",
       "    <tr>\n",
       "      <th>0</th>\n",
       "      <td>All Denmark</td>\n",
       "      <td>76.0</td>\n",
       "      <td>72.8</td>\n",
       "      <td>72.1</td>\n",
       "      <td>71.8</td>\n",
       "      <td>71.3</td>\n",
       "      <td>71.3</td>\n",
       "      <td>71.6</td>\n",
       "      <td>72.1</td>\n",
       "      <td>72.8</td>\n",
       "      <td>73.6</td>\n",
       "    </tr>\n",
       "    <tr>\n",
       "      <th>1</th>\n",
       "      <td>Region Hovedstaden</td>\n",
       "      <td>75.8</td>\n",
       "      <td>73.3</td>\n",
       "      <td>72.6</td>\n",
       "      <td>72.5</td>\n",
       "      <td>72.2</td>\n",
       "      <td>72.3</td>\n",
       "      <td>72.5</td>\n",
       "      <td>73.2</td>\n",
       "      <td>73.8</td>\n",
       "      <td>74.4</td>\n",
       "    </tr>\n",
       "    <tr>\n",
       "      <th>2</th>\n",
       "      <td>Province Byen København</td>\n",
       "      <td>73.4</td>\n",
       "      <td>71.0</td>\n",
       "      <td>70.5</td>\n",
       "      <td>70.5</td>\n",
       "      <td>70.4</td>\n",
       "      <td>70.6</td>\n",
       "      <td>70.9</td>\n",
       "      <td>71.6</td>\n",
       "      <td>72.3</td>\n",
       "      <td>73.0</td>\n",
       "    </tr>\n",
       "    <tr>\n",
       "      <th>3</th>\n",
       "      <td>Copenhagen</td>\n",
       "      <td>72.5</td>\n",
       "      <td>70.0</td>\n",
       "      <td>69.7</td>\n",
       "      <td>69.6</td>\n",
       "      <td>69.4</td>\n",
       "      <td>69.7</td>\n",
       "      <td>70.0</td>\n",
       "      <td>70.8</td>\n",
       "      <td>71.5</td>\n",
       "      <td>72.2</td>\n",
       "    </tr>\n",
       "    <tr>\n",
       "      <th>4</th>\n",
       "      <td>Frederiksberg</td>\n",
       "      <td>75.6</td>\n",
       "      <td>73.7</td>\n",
       "      <td>72.7</td>\n",
       "      <td>72.8</td>\n",
       "      <td>73.0</td>\n",
       "      <td>73.3</td>\n",
       "      <td>73.5</td>\n",
       "      <td>74.0</td>\n",
       "      <td>74.7</td>\n",
       "      <td>75.6</td>\n",
       "    </tr>\n",
       "    <tr>\n",
       "      <th>5</th>\n",
       "      <td>Dragør</td>\n",
       "      <td>80.5</td>\n",
       "      <td>78.8</td>\n",
       "      <td>78.5</td>\n",
       "      <td>78.5</td>\n",
       "      <td>78.7</td>\n",
       "      <td>78.7</td>\n",
       "      <td>78.9</td>\n",
       "      <td>78.6</td>\n",
       "      <td>79.2</td>\n",
       "      <td>80.4</td>\n",
       "    </tr>\n",
       "    <tr>\n",
       "      <th>6</th>\n",
       "      <td>Tårnby</td>\n",
       "      <td>79.0</td>\n",
       "      <td>76.3</td>\n",
       "      <td>75.4</td>\n",
       "      <td>75.8</td>\n",
       "      <td>75.4</td>\n",
       "      <td>75.8</td>\n",
       "      <td>75.7</td>\n",
       "      <td>76.5</td>\n",
       "      <td>77.4</td>\n",
       "      <td>77.6</td>\n",
       "    </tr>\n",
       "    <tr>\n",
       "      <th>7</th>\n",
       "      <td>Province Københavns omegn</td>\n",
       "      <td>77.1</td>\n",
       "      <td>74.2</td>\n",
       "      <td>73.2</td>\n",
       "      <td>73.0</td>\n",
       "      <td>72.4</td>\n",
       "      <td>72.4</td>\n",
       "      <td>72.6</td>\n",
       "      <td>73.3</td>\n",
       "      <td>73.8</td>\n",
       "      <td>74.4</td>\n",
       "    </tr>\n",
       "    <tr>\n",
       "      <th>8</th>\n",
       "      <td>Albertslund</td>\n",
       "      <td>73.1</td>\n",
       "      <td>69.2</td>\n",
       "      <td>67.5</td>\n",
       "      <td>67.4</td>\n",
       "      <td>66.5</td>\n",
       "      <td>67.0</td>\n",
       "      <td>67.4</td>\n",
       "      <td>68.7</td>\n",
       "      <td>68.8</td>\n",
       "      <td>70.2</td>\n",
       "    </tr>\n",
       "    <tr>\n",
       "      <th>9</th>\n",
       "      <td>Ballerup</td>\n",
       "      <td>75.9</td>\n",
       "      <td>72.9</td>\n",
       "      <td>71.9</td>\n",
       "      <td>72.0</td>\n",
       "      <td>71.4</td>\n",
       "      <td>71.0</td>\n",
       "      <td>71.8</td>\n",
       "      <td>72.8</td>\n",
       "      <td>73.6</td>\n",
       "      <td>74.5</td>\n",
       "    </tr>\n",
       "  </tbody>\n",
       "</table>\n",
       "</div>"
      ],
      "text/plain": [
       "                municipality  e2008  e2009  e2010  e2011  e2012  e2013  e2014  \\\n",
       "0                All Denmark   76.0   72.8   72.1   71.8   71.3   71.3   71.6   \n",
       "1         Region Hovedstaden   75.8   73.3   72.6   72.5   72.2   72.3   72.5   \n",
       "2    Province Byen København   73.4   71.0   70.5   70.5   70.4   70.6   70.9   \n",
       "3                 Copenhagen   72.5   70.0   69.7   69.6   69.4   69.7   70.0   \n",
       "4              Frederiksberg   75.6   73.7   72.7   72.8   73.0   73.3   73.5   \n",
       "5                     Dragør   80.5   78.8   78.5   78.5   78.7   78.7   78.9   \n",
       "6                     Tårnby   79.0   76.3   75.4   75.8   75.4   75.8   75.7   \n",
       "7  Province Københavns omegn   77.1   74.2   73.2   73.0   72.4   72.4   72.6   \n",
       "8                Albertslund   73.1   69.2   67.5   67.4   66.5   67.0   67.4   \n",
       "9                   Ballerup   75.9   72.9   71.9   72.0   71.4   71.0   71.8   \n",
       "\n",
       "   e2015  e2016  e2017  \n",
       "0   72.1   72.8   73.6  \n",
       "1   73.2   73.8   74.4  \n",
       "2   71.6   72.3   73.0  \n",
       "3   70.8   71.5   72.2  \n",
       "4   74.0   74.7   75.6  \n",
       "5   78.6   79.2   80.4  \n",
       "6   76.5   77.4   77.6  \n",
       "7   73.3   73.8   74.4  \n",
       "8   68.7   68.8   70.2  \n",
       "9   72.8   73.6   74.5  "
      ]
     },
     "execution_count": 208,
     "metadata": {},
     "output_type": "execute_result"
    }
   ],
   "source": [
    "empl.rename(columns = col_dict, inplace=True)\n",
    "empl.head(10)"
   ]
  },
  {
   "cell_type": "markdown",
   "metadata": {},
   "source": [
    "**A big NO-NO!!** is to put *white spaces* in column names. You can theoretically have a column such as empl['e 2017'] in a pandas df, but this is *very likely* to get messy. And you can no longer use `.`notation. "
   ]
  },
  {
   "cell_type": "markdown",
   "metadata": {},
   "source": [
    "**Extract:** Now we can find the employment rate in the municipality where Christian grew up: "
   ]
  },
  {
   "cell_type": "code",
   "execution_count": 209,
   "metadata": {},
   "outputs": [
    {
     "data": {
      "text/html": [
       "<div>\n",
       "<style scoped>\n",
       "    .dataframe tbody tr th:only-of-type {\n",
       "        vertical-align: middle;\n",
       "    }\n",
       "\n",
       "    .dataframe tbody tr th {\n",
       "        vertical-align: top;\n",
       "    }\n",
       "\n",
       "    .dataframe thead th {\n",
       "        text-align: right;\n",
       "    }\n",
       "</style>\n",
       "<table border=\"1\" class=\"dataframe\">\n",
       "  <thead>\n",
       "    <tr style=\"text-align: right;\">\n",
       "      <th></th>\n",
       "      <th>municipality</th>\n",
       "      <th>e2008</th>\n",
       "      <th>e2009</th>\n",
       "      <th>e2010</th>\n",
       "      <th>e2011</th>\n",
       "      <th>e2012</th>\n",
       "      <th>e2013</th>\n",
       "      <th>e2014</th>\n",
       "      <th>e2015</th>\n",
       "      <th>e2016</th>\n",
       "      <th>e2017</th>\n",
       "    </tr>\n",
       "  </thead>\n",
       "  <tbody>\n",
       "    <tr>\n",
       "      <th>30</th>\n",
       "      <td>Hillerød</td>\n",
       "      <td>81.4</td>\n",
       "      <td>78.6</td>\n",
       "      <td>77.7</td>\n",
       "      <td>77.5</td>\n",
       "      <td>77.6</td>\n",
       "      <td>77.3</td>\n",
       "      <td>77.2</td>\n",
       "      <td>77.7</td>\n",
       "      <td>78.2</td>\n",
       "      <td>78.2</td>\n",
       "    </tr>\n",
       "  </tbody>\n",
       "</table>\n",
       "</div>"
      ],
      "text/plain": [
       "   municipality  e2008  e2009  e2010  e2011  e2012  e2013  e2014  e2015  \\\n",
       "30     Hillerød   81.4   78.6   77.7   77.5   77.6   77.3   77.2   77.7   \n",
       "\n",
       "    e2016  e2017  \n",
       "30   78.2   78.2  "
      ]
     },
     "execution_count": 209,
     "metadata": {},
     "output_type": "execute_result"
    }
   ],
   "source": [
    "empl.loc[empl.municipality == 'Hillerød']"
   ]
  },
  {
   "cell_type": "markdown",
   "metadata": {},
   "source": [
    "### Dropping observations that are not actually municipalities \n",
    "\n",
    "The dataset contains observations like \"Region Hovedstaden\", which is not a municipality, so we want to drop such rows. To do this, we can use the `df['var'].str` functionalities. These are all sorts of functions that work with strings, in particular searching for instances of specific content by `df['var'].str.contains('PATTERN')`. "
   ]
  },
  {
   "cell_type": "code",
   "execution_count": 210,
   "metadata": {},
   "outputs": [
    {
     "data": {
      "text/html": [
       "<div>\n",
       "<style scoped>\n",
       "    .dataframe tbody tr th:only-of-type {\n",
       "        vertical-align: middle;\n",
       "    }\n",
       "\n",
       "    .dataframe tbody tr th {\n",
       "        vertical-align: top;\n",
       "    }\n",
       "\n",
       "    .dataframe thead th {\n",
       "        text-align: right;\n",
       "    }\n",
       "</style>\n",
       "<table border=\"1\" class=\"dataframe\">\n",
       "  <thead>\n",
       "    <tr style=\"text-align: right;\">\n",
       "      <th></th>\n",
       "      <th>municipality</th>\n",
       "      <th>e2008</th>\n",
       "      <th>e2009</th>\n",
       "      <th>e2010</th>\n",
       "      <th>e2011</th>\n",
       "      <th>e2012</th>\n",
       "      <th>e2013</th>\n",
       "      <th>e2014</th>\n",
       "      <th>e2015</th>\n",
       "      <th>e2016</th>\n",
       "      <th>e2017</th>\n",
       "    </tr>\n",
       "  </thead>\n",
       "  <tbody>\n",
       "    <tr>\n",
       "      <th>0</th>\n",
       "      <td>All Denmark</td>\n",
       "      <td>76.0</td>\n",
       "      <td>72.8</td>\n",
       "      <td>72.1</td>\n",
       "      <td>71.8</td>\n",
       "      <td>71.3</td>\n",
       "      <td>71.3</td>\n",
       "      <td>71.6</td>\n",
       "      <td>72.1</td>\n",
       "      <td>72.8</td>\n",
       "      <td>73.6</td>\n",
       "    </tr>\n",
       "    <tr>\n",
       "      <th>1</th>\n",
       "      <td>Region Hovedstaden</td>\n",
       "      <td>75.8</td>\n",
       "      <td>73.3</td>\n",
       "      <td>72.6</td>\n",
       "      <td>72.5</td>\n",
       "      <td>72.2</td>\n",
       "      <td>72.3</td>\n",
       "      <td>72.5</td>\n",
       "      <td>73.2</td>\n",
       "      <td>73.8</td>\n",
       "      <td>74.4</td>\n",
       "    </tr>\n",
       "    <tr>\n",
       "      <th>2</th>\n",
       "      <td>Province Byen København</td>\n",
       "      <td>73.4</td>\n",
       "      <td>71.0</td>\n",
       "      <td>70.5</td>\n",
       "      <td>70.5</td>\n",
       "      <td>70.4</td>\n",
       "      <td>70.6</td>\n",
       "      <td>70.9</td>\n",
       "      <td>71.6</td>\n",
       "      <td>72.3</td>\n",
       "      <td>73.0</td>\n",
       "    </tr>\n",
       "    <tr>\n",
       "      <th>7</th>\n",
       "      <td>Province Københavns omegn</td>\n",
       "      <td>77.1</td>\n",
       "      <td>74.2</td>\n",
       "      <td>73.2</td>\n",
       "      <td>73.0</td>\n",
       "      <td>72.4</td>\n",
       "      <td>72.4</td>\n",
       "      <td>72.6</td>\n",
       "      <td>73.3</td>\n",
       "      <td>73.8</td>\n",
       "      <td>74.4</td>\n",
       "    </tr>\n",
       "    <tr>\n",
       "      <th>21</th>\n",
       "      <td>Province Nordsjælland</td>\n",
       "      <td>79.4</td>\n",
       "      <td>76.9</td>\n",
       "      <td>76.3</td>\n",
       "      <td>76.1</td>\n",
       "      <td>75.8</td>\n",
       "      <td>75.8</td>\n",
       "      <td>76.1</td>\n",
       "      <td>76.5</td>\n",
       "      <td>77.1</td>\n",
       "      <td>77.6</td>\n",
       "    </tr>\n",
       "    <tr>\n",
       "      <th>33</th>\n",
       "      <td>Province Bornholm</td>\n",
       "      <td>68.0</td>\n",
       "      <td>66.4</td>\n",
       "      <td>65.9</td>\n",
       "      <td>67.1</td>\n",
       "      <td>66.0</td>\n",
       "      <td>66.1</td>\n",
       "      <td>67.0</td>\n",
       "      <td>67.3</td>\n",
       "      <td>69.3</td>\n",
       "      <td>70.2</td>\n",
       "    </tr>\n",
       "    <tr>\n",
       "      <th>36</th>\n",
       "      <td>Region Sjælland</td>\n",
       "      <td>75.7</td>\n",
       "      <td>72.7</td>\n",
       "      <td>71.9</td>\n",
       "      <td>71.6</td>\n",
       "      <td>70.9</td>\n",
       "      <td>71.0</td>\n",
       "      <td>71.3</td>\n",
       "      <td>71.9</td>\n",
       "      <td>72.6</td>\n",
       "      <td>73.3</td>\n",
       "    </tr>\n",
       "    <tr>\n",
       "      <th>37</th>\n",
       "      <td>Province Østsjælland</td>\n",
       "      <td>79.5</td>\n",
       "      <td>76.7</td>\n",
       "      <td>75.8</td>\n",
       "      <td>75.7</td>\n",
       "      <td>75.0</td>\n",
       "      <td>75.0</td>\n",
       "      <td>75.3</td>\n",
       "      <td>76.0</td>\n",
       "      <td>76.7</td>\n",
       "      <td>77.7</td>\n",
       "    </tr>\n",
       "    <tr>\n",
       "      <th>43</th>\n",
       "      <td>Province Vest- og Sydsjælland</td>\n",
       "      <td>74.2</td>\n",
       "      <td>71.1</td>\n",
       "      <td>70.3</td>\n",
       "      <td>69.9</td>\n",
       "      <td>69.2</td>\n",
       "      <td>69.3</td>\n",
       "      <td>69.7</td>\n",
       "      <td>70.1</td>\n",
       "      <td>70.8</td>\n",
       "      <td>71.5</td>\n",
       "    </tr>\n",
       "    <tr>\n",
       "      <th>56</th>\n",
       "      <td>Region Syddanmark</td>\n",
       "      <td>75.7</td>\n",
       "      <td>72.0</td>\n",
       "      <td>71.2</td>\n",
       "      <td>70.7</td>\n",
       "      <td>70.0</td>\n",
       "      <td>70.1</td>\n",
       "      <td>70.5</td>\n",
       "      <td>70.8</td>\n",
       "      <td>71.6</td>\n",
       "      <td>72.5</td>\n",
       "    </tr>\n",
       "    <tr>\n",
       "      <th>57</th>\n",
       "      <td>Province Fyn</td>\n",
       "      <td>73.4</td>\n",
       "      <td>70.0</td>\n",
       "      <td>69.1</td>\n",
       "      <td>68.3</td>\n",
       "      <td>67.8</td>\n",
       "      <td>67.8</td>\n",
       "      <td>68.2</td>\n",
       "      <td>68.3</td>\n",
       "      <td>69.0</td>\n",
       "      <td>69.9</td>\n",
       "    </tr>\n",
       "    <tr>\n",
       "      <th>68</th>\n",
       "      <td>Province Sydjylland</td>\n",
       "      <td>77.2</td>\n",
       "      <td>73.4</td>\n",
       "      <td>72.6</td>\n",
       "      <td>72.3</td>\n",
       "      <td>71.6</td>\n",
       "      <td>71.7</td>\n",
       "      <td>72.1</td>\n",
       "      <td>72.5</td>\n",
       "      <td>73.4</td>\n",
       "      <td>74.3</td>\n",
       "    </tr>\n",
       "    <tr>\n",
       "      <th>81</th>\n",
       "      <td>Region Midtjylland</td>\n",
       "      <td>77.0</td>\n",
       "      <td>73.4</td>\n",
       "      <td>72.8</td>\n",
       "      <td>72.4</td>\n",
       "      <td>71.8</td>\n",
       "      <td>71.7</td>\n",
       "      <td>72.2</td>\n",
       "      <td>72.5</td>\n",
       "      <td>73.3</td>\n",
       "      <td>74.1</td>\n",
       "    </tr>\n",
       "    <tr>\n",
       "      <th>82</th>\n",
       "      <td>Province Østjylland</td>\n",
       "      <td>76.2</td>\n",
       "      <td>72.7</td>\n",
       "      <td>72.0</td>\n",
       "      <td>71.5</td>\n",
       "      <td>70.9</td>\n",
       "      <td>70.9</td>\n",
       "      <td>71.4</td>\n",
       "      <td>71.8</td>\n",
       "      <td>72.5</td>\n",
       "      <td>73.4</td>\n",
       "    </tr>\n",
       "    <tr>\n",
       "      <th>94</th>\n",
       "      <td>Province Vestjylland</td>\n",
       "      <td>78.8</td>\n",
       "      <td>74.8</td>\n",
       "      <td>74.4</td>\n",
       "      <td>74.2</td>\n",
       "      <td>73.5</td>\n",
       "      <td>73.4</td>\n",
       "      <td>73.9</td>\n",
       "      <td>74.1</td>\n",
       "      <td>74.8</td>\n",
       "      <td>75.7</td>\n",
       "    </tr>\n",
       "    <tr>\n",
       "      <th>103</th>\n",
       "      <td>Region Nordjylland</td>\n",
       "      <td>75.2</td>\n",
       "      <td>71.5</td>\n",
       "      <td>71.2</td>\n",
       "      <td>71.0</td>\n",
       "      <td>70.6</td>\n",
       "      <td>70.2</td>\n",
       "      <td>70.3</td>\n",
       "      <td>70.7</td>\n",
       "      <td>71.7</td>\n",
       "      <td>72.2</td>\n",
       "    </tr>\n",
       "    <tr>\n",
       "      <th>104</th>\n",
       "      <td>Province Nordjylland</td>\n",
       "      <td>75.2</td>\n",
       "      <td>71.5</td>\n",
       "      <td>71.2</td>\n",
       "      <td>71.0</td>\n",
       "      <td>70.6</td>\n",
       "      <td>70.2</td>\n",
       "      <td>70.3</td>\n",
       "      <td>70.7</td>\n",
       "      <td>71.7</td>\n",
       "      <td>72.2</td>\n",
       "    </tr>\n",
       "  </tbody>\n",
       "</table>\n",
       "</div>"
      ],
      "text/plain": [
       "                      municipality  e2008  e2009  e2010  e2011  e2012  e2013  \\\n",
       "0                      All Denmark   76.0   72.8   72.1   71.8   71.3   71.3   \n",
       "1               Region Hovedstaden   75.8   73.3   72.6   72.5   72.2   72.3   \n",
       "2          Province Byen København   73.4   71.0   70.5   70.5   70.4   70.6   \n",
       "7        Province Københavns omegn   77.1   74.2   73.2   73.0   72.4   72.4   \n",
       "21           Province Nordsjælland   79.4   76.9   76.3   76.1   75.8   75.8   \n",
       "33               Province Bornholm   68.0   66.4   65.9   67.1   66.0   66.1   \n",
       "36                 Region Sjælland   75.7   72.7   71.9   71.6   70.9   71.0   \n",
       "37            Province Østsjælland   79.5   76.7   75.8   75.7   75.0   75.0   \n",
       "43   Province Vest- og Sydsjælland   74.2   71.1   70.3   69.9   69.2   69.3   \n",
       "56               Region Syddanmark   75.7   72.0   71.2   70.7   70.0   70.1   \n",
       "57                    Province Fyn   73.4   70.0   69.1   68.3   67.8   67.8   \n",
       "68             Province Sydjylland   77.2   73.4   72.6   72.3   71.6   71.7   \n",
       "81              Region Midtjylland   77.0   73.4   72.8   72.4   71.8   71.7   \n",
       "82             Province Østjylland   76.2   72.7   72.0   71.5   70.9   70.9   \n",
       "94            Province Vestjylland   78.8   74.8   74.4   74.2   73.5   73.4   \n",
       "103             Region Nordjylland   75.2   71.5   71.2   71.0   70.6   70.2   \n",
       "104           Province Nordjylland   75.2   71.5   71.2   71.0   70.6   70.2   \n",
       "\n",
       "     e2014  e2015  e2016  e2017  \n",
       "0     71.6   72.1   72.8   73.6  \n",
       "1     72.5   73.2   73.8   74.4  \n",
       "2     70.9   71.6   72.3   73.0  \n",
       "7     72.6   73.3   73.8   74.4  \n",
       "21    76.1   76.5   77.1   77.6  \n",
       "33    67.0   67.3   69.3   70.2  \n",
       "36    71.3   71.9   72.6   73.3  \n",
       "37    75.3   76.0   76.7   77.7  \n",
       "43    69.7   70.1   70.8   71.5  \n",
       "56    70.5   70.8   71.6   72.5  \n",
       "57    68.2   68.3   69.0   69.9  \n",
       "68    72.1   72.5   73.4   74.3  \n",
       "81    72.2   72.5   73.3   74.1  \n",
       "82    71.4   71.8   72.5   73.4  \n",
       "94    73.9   74.1   74.8   75.7  \n",
       "103   70.3   70.7   71.7   72.2  \n",
       "104   70.3   70.7   71.7   72.2  "
      ]
     },
     "execution_count": 210,
     "metadata": {},
     "output_type": "execute_result"
    }
   ],
   "source": [
    "# Build up a logical index I\n",
    "I = empl.municipality.str.contains('Region')\n",
    "I |= empl.municipality.str.contains('Province')\n",
    "I |= empl.municipality.str.contains('All Denmark')\n",
    "empl.loc[I, :]"
   ]
  },
  {
   "cell_type": "markdown",
   "metadata": {},
   "source": [
    "**Delete these rows:**"
   ]
  },
  {
   "cell_type": "code",
   "execution_count": 211,
   "metadata": {},
   "outputs": [
    {
     "data": {
      "text/html": [
       "<div>\n",
       "<style scoped>\n",
       "    .dataframe tbody tr th:only-of-type {\n",
       "        vertical-align: middle;\n",
       "    }\n",
       "\n",
       "    .dataframe tbody tr th {\n",
       "        vertical-align: top;\n",
       "    }\n",
       "\n",
       "    .dataframe thead th {\n",
       "        text-align: right;\n",
       "    }\n",
       "</style>\n",
       "<table border=\"1\" class=\"dataframe\">\n",
       "  <thead>\n",
       "    <tr style=\"text-align: right;\">\n",
       "      <th></th>\n",
       "      <th>municipality</th>\n",
       "      <th>e2008</th>\n",
       "      <th>e2009</th>\n",
       "      <th>e2010</th>\n",
       "      <th>e2011</th>\n",
       "      <th>e2012</th>\n",
       "      <th>e2013</th>\n",
       "      <th>e2014</th>\n",
       "      <th>e2015</th>\n",
       "      <th>e2016</th>\n",
       "      <th>e2017</th>\n",
       "    </tr>\n",
       "  </thead>\n",
       "  <tbody>\n",
       "    <tr>\n",
       "      <th>3</th>\n",
       "      <td>Copenhagen</td>\n",
       "      <td>72.5</td>\n",
       "      <td>70.0</td>\n",
       "      <td>69.7</td>\n",
       "      <td>69.6</td>\n",
       "      <td>69.4</td>\n",
       "      <td>69.7</td>\n",
       "      <td>70.0</td>\n",
       "      <td>70.8</td>\n",
       "      <td>71.5</td>\n",
       "      <td>72.2</td>\n",
       "    </tr>\n",
       "    <tr>\n",
       "      <th>4</th>\n",
       "      <td>Frederiksberg</td>\n",
       "      <td>75.6</td>\n",
       "      <td>73.7</td>\n",
       "      <td>72.7</td>\n",
       "      <td>72.8</td>\n",
       "      <td>73.0</td>\n",
       "      <td>73.3</td>\n",
       "      <td>73.5</td>\n",
       "      <td>74.0</td>\n",
       "      <td>74.7</td>\n",
       "      <td>75.6</td>\n",
       "    </tr>\n",
       "    <tr>\n",
       "      <th>5</th>\n",
       "      <td>Dragør</td>\n",
       "      <td>80.5</td>\n",
       "      <td>78.8</td>\n",
       "      <td>78.5</td>\n",
       "      <td>78.5</td>\n",
       "      <td>78.7</td>\n",
       "      <td>78.7</td>\n",
       "      <td>78.9</td>\n",
       "      <td>78.6</td>\n",
       "      <td>79.2</td>\n",
       "      <td>80.4</td>\n",
       "    </tr>\n",
       "    <tr>\n",
       "      <th>6</th>\n",
       "      <td>Tårnby</td>\n",
       "      <td>79.0</td>\n",
       "      <td>76.3</td>\n",
       "      <td>75.4</td>\n",
       "      <td>75.8</td>\n",
       "      <td>75.4</td>\n",
       "      <td>75.8</td>\n",
       "      <td>75.7</td>\n",
       "      <td>76.5</td>\n",
       "      <td>77.4</td>\n",
       "      <td>77.6</td>\n",
       "    </tr>\n",
       "    <tr>\n",
       "      <th>8</th>\n",
       "      <td>Albertslund</td>\n",
       "      <td>73.1</td>\n",
       "      <td>69.2</td>\n",
       "      <td>67.5</td>\n",
       "      <td>67.4</td>\n",
       "      <td>66.5</td>\n",
       "      <td>67.0</td>\n",
       "      <td>67.4</td>\n",
       "      <td>68.7</td>\n",
       "      <td>68.8</td>\n",
       "      <td>70.2</td>\n",
       "    </tr>\n",
       "    <tr>\n",
       "      <th>9</th>\n",
       "      <td>Ballerup</td>\n",
       "      <td>75.9</td>\n",
       "      <td>72.9</td>\n",
       "      <td>71.9</td>\n",
       "      <td>72.0</td>\n",
       "      <td>71.4</td>\n",
       "      <td>71.0</td>\n",
       "      <td>71.8</td>\n",
       "      <td>72.8</td>\n",
       "      <td>73.6</td>\n",
       "      <td>74.5</td>\n",
       "    </tr>\n",
       "    <tr>\n",
       "      <th>10</th>\n",
       "      <td>Brøndby</td>\n",
       "      <td>72.3</td>\n",
       "      <td>69.6</td>\n",
       "      <td>68.3</td>\n",
       "      <td>68.2</td>\n",
       "      <td>67.4</td>\n",
       "      <td>67.5</td>\n",
       "      <td>67.3</td>\n",
       "      <td>68.0</td>\n",
       "      <td>69.1</td>\n",
       "      <td>69.4</td>\n",
       "    </tr>\n",
       "    <tr>\n",
       "      <th>11</th>\n",
       "      <td>Gentofte</td>\n",
       "      <td>79.2</td>\n",
       "      <td>76.6</td>\n",
       "      <td>76.4</td>\n",
       "      <td>76.1</td>\n",
       "      <td>75.5</td>\n",
       "      <td>75.2</td>\n",
       "      <td>74.7</td>\n",
       "      <td>75.1</td>\n",
       "      <td>75.2</td>\n",
       "      <td>76.1</td>\n",
       "    </tr>\n",
       "    <tr>\n",
       "      <th>12</th>\n",
       "      <td>Gladsaxe</td>\n",
       "      <td>77.9</td>\n",
       "      <td>75.0</td>\n",
       "      <td>74.1</td>\n",
       "      <td>73.6</td>\n",
       "      <td>73.2</td>\n",
       "      <td>73.1</td>\n",
       "      <td>73.4</td>\n",
       "      <td>74.1</td>\n",
       "      <td>74.3</td>\n",
       "      <td>75.3</td>\n",
       "    </tr>\n",
       "    <tr>\n",
       "      <th>13</th>\n",
       "      <td>Glostrup</td>\n",
       "      <td>79.2</td>\n",
       "      <td>76.1</td>\n",
       "      <td>74.5</td>\n",
       "      <td>75.0</td>\n",
       "      <td>74.7</td>\n",
       "      <td>74.8</td>\n",
       "      <td>74.4</td>\n",
       "      <td>75.0</td>\n",
       "      <td>75.5</td>\n",
       "      <td>76.0</td>\n",
       "    </tr>\n",
       "  </tbody>\n",
       "</table>\n",
       "</div>"
      ],
      "text/plain": [
       "     municipality  e2008  e2009  e2010  e2011  e2012  e2013  e2014  e2015  \\\n",
       "3      Copenhagen   72.5   70.0   69.7   69.6   69.4   69.7   70.0   70.8   \n",
       "4   Frederiksberg   75.6   73.7   72.7   72.8   73.0   73.3   73.5   74.0   \n",
       "5          Dragør   80.5   78.8   78.5   78.5   78.7   78.7   78.9   78.6   \n",
       "6          Tårnby   79.0   76.3   75.4   75.8   75.4   75.8   75.7   76.5   \n",
       "8     Albertslund   73.1   69.2   67.5   67.4   66.5   67.0   67.4   68.7   \n",
       "9        Ballerup   75.9   72.9   71.9   72.0   71.4   71.0   71.8   72.8   \n",
       "10        Brøndby   72.3   69.6   68.3   68.2   67.4   67.5   67.3   68.0   \n",
       "11       Gentofte   79.2   76.6   76.4   76.1   75.5   75.2   74.7   75.1   \n",
       "12       Gladsaxe   77.9   75.0   74.1   73.6   73.2   73.1   73.4   74.1   \n",
       "13       Glostrup   79.2   76.1   74.5   75.0   74.7   74.8   74.4   75.0   \n",
       "\n",
       "    e2016  e2017  \n",
       "3    71.5   72.2  \n",
       "4    74.7   75.6  \n",
       "5    79.2   80.4  \n",
       "6    77.4   77.6  \n",
       "8    68.8   70.2  \n",
       "9    73.6   74.5  \n",
       "10   69.1   69.4  \n",
       "11   75.2   76.1  \n",
       "12   74.3   75.3  \n",
       "13   75.5   76.0  "
      ]
     },
     "execution_count": 211,
     "metadata": {},
     "output_type": "execute_result"
    }
   ],
   "source": [
    "empl = empl.loc[I == False] # keep everything else\n",
    "empl.head(10)"
   ]
  },
  {
   "cell_type": "code",
   "execution_count": 215,
   "metadata": {},
   "outputs": [
    {
     "data": {
      "text/html": [
       "<div>\n",
       "<style scoped>\n",
       "    .dataframe tbody tr th:only-of-type {\n",
       "        vertical-align: middle;\n",
       "    }\n",
       "\n",
       "    .dataframe tbody tr th {\n",
       "        vertical-align: top;\n",
       "    }\n",
       "\n",
       "    .dataframe thead th {\n",
       "        text-align: right;\n",
       "    }\n",
       "</style>\n",
       "<table border=\"1\" class=\"dataframe\">\n",
       "  <thead>\n",
       "    <tr style=\"text-align: right;\">\n",
       "      <th></th>\n",
       "      <th>index</th>\n",
       "      <th>municipality</th>\n",
       "      <th>e2008</th>\n",
       "      <th>e2009</th>\n",
       "      <th>e2010</th>\n",
       "      <th>e2011</th>\n",
       "      <th>e2012</th>\n",
       "      <th>e2013</th>\n",
       "      <th>e2014</th>\n",
       "      <th>e2015</th>\n",
       "      <th>e2016</th>\n",
       "      <th>e2017</th>\n",
       "    </tr>\n",
       "  </thead>\n",
       "  <tbody>\n",
       "    <tr>\n",
       "      <th>0</th>\n",
       "      <td>3</td>\n",
       "      <td>Copenhagen</td>\n",
       "      <td>72.5</td>\n",
       "      <td>70.0</td>\n",
       "      <td>69.7</td>\n",
       "      <td>69.6</td>\n",
       "      <td>69.4</td>\n",
       "      <td>69.7</td>\n",
       "      <td>70.0</td>\n",
       "      <td>70.8</td>\n",
       "      <td>71.5</td>\n",
       "      <td>72.2</td>\n",
       "    </tr>\n",
       "    <tr>\n",
       "      <th>1</th>\n",
       "      <td>4</td>\n",
       "      <td>Frederiksberg</td>\n",
       "      <td>75.6</td>\n",
       "      <td>73.7</td>\n",
       "      <td>72.7</td>\n",
       "      <td>72.8</td>\n",
       "      <td>73.0</td>\n",
       "      <td>73.3</td>\n",
       "      <td>73.5</td>\n",
       "      <td>74.0</td>\n",
       "      <td>74.7</td>\n",
       "      <td>75.6</td>\n",
       "    </tr>\n",
       "  </tbody>\n",
       "</table>\n",
       "</div>"
      ],
      "text/plain": [
       "   index   municipality  e2008  e2009  e2010  e2011  e2012  e2013  e2014  \\\n",
       "0      3     Copenhagen   72.5   70.0   69.7   69.6   69.4   69.7   70.0   \n",
       "1      4  Frederiksberg   75.6   73.7   72.7   72.8   73.0   73.3   73.5   \n",
       "\n",
       "   e2015  e2016  e2017  \n",
       "0   70.8   71.5   72.2  \n",
       "1   74.0   74.7   75.6  "
      ]
     },
     "execution_count": 215,
     "metadata": {},
     "output_type": "execute_result"
    }
   ],
   "source": [
    "empl.reset_index(inplace = True)\n",
    "empl.loc[0:1,:]"
   ]
  },
  {
   "cell_type": "markdown",
   "metadata": {},
   "source": [
    "### Summary statistics \n",
    "\n",
    "To get an overview of employments across municipalities we can use the function `df.describe()`."
   ]
  },
  {
   "cell_type": "code",
   "execution_count": 216,
   "metadata": {},
   "outputs": [
    {
     "data": {
      "text/html": [
       "<div>\n",
       "<style scoped>\n",
       "    .dataframe tbody tr th:only-of-type {\n",
       "        vertical-align: middle;\n",
       "    }\n",
       "\n",
       "    .dataframe tbody tr th {\n",
       "        vertical-align: top;\n",
       "    }\n",
       "\n",
       "    .dataframe thead th {\n",
       "        text-align: right;\n",
       "    }\n",
       "</style>\n",
       "<table border=\"1\" class=\"dataframe\">\n",
       "  <thead>\n",
       "    <tr style=\"text-align: right;\">\n",
       "      <th></th>\n",
       "      <th>index</th>\n",
       "      <th>e2008</th>\n",
       "      <th>e2009</th>\n",
       "      <th>e2010</th>\n",
       "      <th>e2011</th>\n",
       "      <th>e2012</th>\n",
       "      <th>e2013</th>\n",
       "      <th>e2014</th>\n",
       "      <th>e2015</th>\n",
       "      <th>e2016</th>\n",
       "      <th>e2017</th>\n",
       "    </tr>\n",
       "  </thead>\n",
       "  <tbody>\n",
       "    <tr>\n",
       "      <th>count</th>\n",
       "      <td>99.000000</td>\n",
       "      <td>99.000000</td>\n",
       "      <td>99.000000</td>\n",
       "      <td>99.000000</td>\n",
       "      <td>99.000000</td>\n",
       "      <td>99.000000</td>\n",
       "      <td>99.000000</td>\n",
       "      <td>99.000000</td>\n",
       "      <td>99.000000</td>\n",
       "      <td>99.000000</td>\n",
       "      <td>99.000000</td>\n",
       "    </tr>\n",
       "    <tr>\n",
       "      <th>mean</th>\n",
       "      <td>59.040404</td>\n",
       "      <td>76.629293</td>\n",
       "      <td>73.419192</td>\n",
       "      <td>72.794949</td>\n",
       "      <td>72.591919</td>\n",
       "      <td>72.020202</td>\n",
       "      <td>72.091919</td>\n",
       "      <td>72.431313</td>\n",
       "      <td>72.876768</td>\n",
       "      <td>73.669697</td>\n",
       "      <td>74.463636</td>\n",
       "    </tr>\n",
       "    <tr>\n",
       "      <th>std</th>\n",
       "      <td>33.173299</td>\n",
       "      <td>3.727538</td>\n",
       "      <td>3.626537</td>\n",
       "      <td>3.617062</td>\n",
       "      <td>3.691211</td>\n",
       "      <td>3.804240</td>\n",
       "      <td>3.704484</td>\n",
       "      <td>3.660062</td>\n",
       "      <td>3.647275</td>\n",
       "      <td>3.549690</td>\n",
       "      <td>3.554114</td>\n",
       "    </tr>\n",
       "    <tr>\n",
       "      <th>min</th>\n",
       "      <td>3.000000</td>\n",
       "      <td>62.900000</td>\n",
       "      <td>63.400000</td>\n",
       "      <td>62.400000</td>\n",
       "      <td>61.500000</td>\n",
       "      <td>60.700000</td>\n",
       "      <td>61.200000</td>\n",
       "      <td>61.600000</td>\n",
       "      <td>62.200000</td>\n",
       "      <td>62.600000</td>\n",
       "      <td>63.100000</td>\n",
       "    </tr>\n",
       "    <tr>\n",
       "      <th>25%</th>\n",
       "      <td>29.500000</td>\n",
       "      <td>74.650000</td>\n",
       "      <td>71.350000</td>\n",
       "      <td>70.550000</td>\n",
       "      <td>70.000000</td>\n",
       "      <td>69.450000</td>\n",
       "      <td>69.700000</td>\n",
       "      <td>70.200000</td>\n",
       "      <td>70.750000</td>\n",
       "      <td>71.500000</td>\n",
       "      <td>72.500000</td>\n",
       "    </tr>\n",
       "    <tr>\n",
       "      <th>50%</th>\n",
       "      <td>60.000000</td>\n",
       "      <td>76.800000</td>\n",
       "      <td>73.300000</td>\n",
       "      <td>72.900000</td>\n",
       "      <td>72.600000</td>\n",
       "      <td>72.100000</td>\n",
       "      <td>72.200000</td>\n",
       "      <td>72.600000</td>\n",
       "      <td>73.100000</td>\n",
       "      <td>74.000000</td>\n",
       "      <td>74.600000</td>\n",
       "    </tr>\n",
       "    <tr>\n",
       "      <th>75%</th>\n",
       "      <td>87.500000</td>\n",
       "      <td>79.150000</td>\n",
       "      <td>75.900000</td>\n",
       "      <td>75.200000</td>\n",
       "      <td>75.050000</td>\n",
       "      <td>74.500000</td>\n",
       "      <td>74.500000</td>\n",
       "      <td>74.700000</td>\n",
       "      <td>75.200000</td>\n",
       "      <td>75.700000</td>\n",
       "      <td>76.700000</td>\n",
       "    </tr>\n",
       "    <tr>\n",
       "      <th>max</th>\n",
       "      <td>115.000000</td>\n",
       "      <td>84.000000</td>\n",
       "      <td>81.500000</td>\n",
       "      <td>81.400000</td>\n",
       "      <td>80.500000</td>\n",
       "      <td>80.700000</td>\n",
       "      <td>80.500000</td>\n",
       "      <td>80.900000</td>\n",
       "      <td>81.200000</td>\n",
       "      <td>81.800000</td>\n",
       "      <td>82.200000</td>\n",
       "    </tr>\n",
       "  </tbody>\n",
       "</table>\n",
       "</div>"
      ],
      "text/plain": [
       "            index      e2008      e2009      e2010      e2011      e2012  \\\n",
       "count   99.000000  99.000000  99.000000  99.000000  99.000000  99.000000   \n",
       "mean    59.040404  76.629293  73.419192  72.794949  72.591919  72.020202   \n",
       "std     33.173299   3.727538   3.626537   3.617062   3.691211   3.804240   \n",
       "min      3.000000  62.900000  63.400000  62.400000  61.500000  60.700000   \n",
       "25%     29.500000  74.650000  71.350000  70.550000  70.000000  69.450000   \n",
       "50%     60.000000  76.800000  73.300000  72.900000  72.600000  72.100000   \n",
       "75%     87.500000  79.150000  75.900000  75.200000  75.050000  74.500000   \n",
       "max    115.000000  84.000000  81.500000  81.400000  80.500000  80.700000   \n",
       "\n",
       "           e2013      e2014      e2015      e2016      e2017  \n",
       "count  99.000000  99.000000  99.000000  99.000000  99.000000  \n",
       "mean   72.091919  72.431313  72.876768  73.669697  74.463636  \n",
       "std     3.704484   3.660062   3.647275   3.549690   3.554114  \n",
       "min    61.200000  61.600000  62.200000  62.600000  63.100000  \n",
       "25%    69.700000  70.200000  70.750000  71.500000  72.500000  \n",
       "50%    72.200000  72.600000  73.100000  74.000000  74.600000  \n",
       "75%    74.500000  74.700000  75.200000  75.700000  76.700000  \n",
       "max    80.500000  80.900000  81.200000  81.800000  82.200000  "
      ]
     },
     "execution_count": 216,
     "metadata": {},
     "output_type": "execute_result"
    }
   ],
   "source": [
    "empl.describe()"
   ]
  },
  {
   "cell_type": "markdown",
   "metadata": {},
   "source": [
    "**Single descriptive statistic:** We can also just get the mean for each year:"
   ]
  },
  {
   "cell_type": "code",
   "execution_count": 217,
   "metadata": {},
   "outputs": [
    {
     "data": {
      "text/plain": [
       "index    59.040404\n",
       "e2008    76.629293\n",
       "e2009    73.419192\n",
       "e2010    72.794949\n",
       "e2011    72.591919\n",
       "e2012    72.020202\n",
       "e2013    72.091919\n",
       "e2014    72.431313\n",
       "e2015    72.876768\n",
       "e2016    73.669697\n",
       "e2017    74.463636\n",
       "dtype: float64"
      ]
     },
     "execution_count": 217,
     "metadata": {},
     "output_type": "execute_result"
    }
   ],
   "source": [
    "empl.mean()"
   ]
  },
  {
   "cell_type": "markdown",
   "metadata": {},
   "source": [
    "## 2.2 Long vs. wide datasets: `pd.wide_to_long()`\n",
    "\n",
    "Often in economic applications, it can be useful to switch between *wide* vs. *long* formats (long is sometimes referred to as *tall*, e.g. in Stata). This is done by the commands `pd.wide_to_long()` (and `pd.long_to_wide()`).  Many types of analysis are easier to do in one format than in another so it is extremely useful to be able to switch comfortably between formats. \n",
    "\n",
    "**Common:** Think of a dataset as having an `ID` and a `PERIOD` variable. In our dataset `empl`, the `ID` variable is `municipality`, and the `PERIOD` variable is `year`. \n",
    "\n",
    "**Wide dataset:** The default from Statistics Denmark: 1 row in data per `ID` and a variable for each `PERIOD`. If there are more than one variable per observation that varies by period, then a new block of period-wise cases must be created along columns.  \n",
    "\n",
    "**Long dataset:** There is one row for each combination of (`ID`, `PERIOD`). Vertical blocks of periods. \n",
    "\n",
    "A **long dataset** is often easier to work with if you have more than one time-varying variable in the data set. \n",
    "\n",
    "In general, Pandas will assume that the variables in the *wide* format have a particular structure: namely they are of the form `XPERIOD`, where `X` is called the \"stub\". In our case, the variable names are e.g. `e2011`, so the stub is `e` and the period (for that variable) is `2011`. You'll want to clean out the variable names if there is anything after the `period` part."
   ]
  },
  {
   "cell_type": "code",
   "execution_count": 218,
   "metadata": {},
   "outputs": [
    {
     "data": {
      "text/html": [
       "<div>\n",
       "<style scoped>\n",
       "    .dataframe tbody tr th:only-of-type {\n",
       "        vertical-align: middle;\n",
       "    }\n",
       "\n",
       "    .dataframe tbody tr th {\n",
       "        vertical-align: top;\n",
       "    }\n",
       "\n",
       "    .dataframe thead th {\n",
       "        text-align: right;\n",
       "    }\n",
       "</style>\n",
       "<table border=\"1\" class=\"dataframe\">\n",
       "  <thead>\n",
       "    <tr style=\"text-align: right;\">\n",
       "      <th></th>\n",
       "      <th></th>\n",
       "      <th>index</th>\n",
       "      <th>e</th>\n",
       "    </tr>\n",
       "    <tr>\n",
       "      <th>municipality</th>\n",
       "      <th>year</th>\n",
       "      <th></th>\n",
       "      <th></th>\n",
       "    </tr>\n",
       "  </thead>\n",
       "  <tbody>\n",
       "    <tr>\n",
       "      <th>Copenhagen</th>\n",
       "      <th>2008</th>\n",
       "      <td>3</td>\n",
       "      <td>72.5</td>\n",
       "    </tr>\n",
       "    <tr>\n",
       "      <th>Frederiksberg</th>\n",
       "      <th>2008</th>\n",
       "      <td>4</td>\n",
       "      <td>75.6</td>\n",
       "    </tr>\n",
       "    <tr>\n",
       "      <th>Dragør</th>\n",
       "      <th>2008</th>\n",
       "      <td>5</td>\n",
       "      <td>80.5</td>\n",
       "    </tr>\n",
       "    <tr>\n",
       "      <th>Tårnby</th>\n",
       "      <th>2008</th>\n",
       "      <td>6</td>\n",
       "      <td>79.0</td>\n",
       "    </tr>\n",
       "    <tr>\n",
       "      <th>Albertslund</th>\n",
       "      <th>2008</th>\n",
       "      <td>8</td>\n",
       "      <td>73.1</td>\n",
       "    </tr>\n",
       "    <tr>\n",
       "      <th>Ballerup</th>\n",
       "      <th>2008</th>\n",
       "      <td>9</td>\n",
       "      <td>75.9</td>\n",
       "    </tr>\n",
       "    <tr>\n",
       "      <th>Brøndby</th>\n",
       "      <th>2008</th>\n",
       "      <td>10</td>\n",
       "      <td>72.3</td>\n",
       "    </tr>\n",
       "    <tr>\n",
       "      <th>Gentofte</th>\n",
       "      <th>2008</th>\n",
       "      <td>11</td>\n",
       "      <td>79.2</td>\n",
       "    </tr>\n",
       "    <tr>\n",
       "      <th>Gladsaxe</th>\n",
       "      <th>2008</th>\n",
       "      <td>12</td>\n",
       "      <td>77.9</td>\n",
       "    </tr>\n",
       "    <tr>\n",
       "      <th>Glostrup</th>\n",
       "      <th>2008</th>\n",
       "      <td>13</td>\n",
       "      <td>79.2</td>\n",
       "    </tr>\n",
       "  </tbody>\n",
       "</table>\n",
       "</div>"
      ],
      "text/plain": [
       "                    index     e\n",
       "municipality  year             \n",
       "Copenhagen    2008      3  72.5\n",
       "Frederiksberg 2008      4  75.6\n",
       "Dragør        2008      5  80.5\n",
       "Tårnby        2008      6  79.0\n",
       "Albertslund   2008      8  73.1\n",
       "Ballerup      2008      9  75.9\n",
       "Brøndby       2008     10  72.3\n",
       "Gentofte      2008     11  79.2\n",
       "Gladsaxe      2008     12  77.9\n",
       "Glostrup      2008     13  79.2"
      ]
     },
     "execution_count": 218,
     "metadata": {},
     "output_type": "execute_result"
    }
   ],
   "source": [
    "empl_long = pd.wide_to_long(empl, stubnames='e', i='municipality', j='year')\n",
    "empl_long.head(10)"
   ]
  },
  {
   "cell_type": "markdown",
   "metadata": {},
   "source": [
    "**Note:** The variables `municipality` and `year`  are now in the index!! We see that because they are \"below\" `e` in the `head` overview. "
   ]
  },
  {
   "cell_type": "code",
   "execution_count": 219,
   "metadata": {},
   "outputs": [
    {
     "name": "stdout",
     "output_type": "stream",
     "text": [
      "[('Copenhagen', 2008) ('Frederiksberg', 2008) ('Dragør', 2008)\n",
      " ('Tårnby', 2008) ('Albertslund', 2008) ('Ballerup', 2008)\n",
      " ('Brøndby', 2008) ('Gentofte', 2008)]\n"
     ]
    }
   ],
   "source": [
    "# The index variable now consists of tuples. \n",
    "print(empl_long.index.values[0:8])"
   ]
  },
  {
   "cell_type": "markdown",
   "metadata": {},
   "source": [
    "We can **select a specific municipality** using ``.xs``:"
   ]
  },
  {
   "cell_type": "code",
   "execution_count": 91,
   "metadata": {
    "collapsed": true,
    "jupyter": {
     "outputs_hidden": true
    }
   },
   "outputs": [
    {
     "data": {
      "text/html": [
       "<div>\n",
       "<style scoped>\n",
       "    .dataframe tbody tr th:only-of-type {\n",
       "        vertical-align: middle;\n",
       "    }\n",
       "\n",
       "    .dataframe tbody tr th {\n",
       "        vertical-align: top;\n",
       "    }\n",
       "\n",
       "    .dataframe thead th {\n",
       "        text-align: right;\n",
       "    }\n",
       "</style>\n",
       "<table border=\"1\" class=\"dataframe\">\n",
       "  <thead>\n",
       "    <tr style=\"text-align: right;\">\n",
       "      <th></th>\n",
       "      <th>e</th>\n",
       "    </tr>\n",
       "    <tr>\n",
       "      <th>year</th>\n",
       "      <th></th>\n",
       "    </tr>\n",
       "  </thead>\n",
       "  <tbody>\n",
       "    <tr>\n",
       "      <th>2008</th>\n",
       "      <td>79.1</td>\n",
       "    </tr>\n",
       "    <tr>\n",
       "      <th>2009</th>\n",
       "      <td>76.3</td>\n",
       "    </tr>\n",
       "    <tr>\n",
       "      <th>2010</th>\n",
       "      <td>75.2</td>\n",
       "    </tr>\n",
       "    <tr>\n",
       "      <th>2011</th>\n",
       "      <td>74.9</td>\n",
       "    </tr>\n",
       "    <tr>\n",
       "      <th>2012</th>\n",
       "      <td>74.1</td>\n",
       "    </tr>\n",
       "    <tr>\n",
       "      <th>2013</th>\n",
       "      <td>74.0</td>\n",
       "    </tr>\n",
       "    <tr>\n",
       "      <th>2014</th>\n",
       "      <td>74.0</td>\n",
       "    </tr>\n",
       "    <tr>\n",
       "      <th>2015</th>\n",
       "      <td>74.5</td>\n",
       "    </tr>\n",
       "    <tr>\n",
       "      <th>2016</th>\n",
       "      <td>75.6</td>\n",
       "    </tr>\n",
       "    <tr>\n",
       "      <th>2017</th>\n",
       "      <td>76.8</td>\n",
       "    </tr>\n",
       "  </tbody>\n",
       "</table>\n",
       "</div>"
      ],
      "text/plain": [
       "         e\n",
       "year      \n",
       "2008  79.1\n",
       "2009  76.3\n",
       "2010  75.2\n",
       "2011  74.9\n",
       "2012  74.1\n",
       "2013  74.0\n",
       "2014  74.0\n",
       "2015  74.5\n",
       "2016  75.6\n",
       "2017  76.8"
      ]
     },
     "execution_count": 91,
     "metadata": {},
     "output_type": "execute_result"
    }
   ],
   "source": [
    "empl_long.xs('Roskilde',level='municipality')"
   ]
  },
  {
   "cell_type": "markdown",
   "metadata": {},
   "source": [
    "Or ``.loc[]`` in a special way:"
   ]
  },
  {
   "cell_type": "code",
   "execution_count": null,
   "metadata": {
    "collapsed": true,
    "jupyter": {
     "outputs_hidden": true
    }
   },
   "outputs": [],
   "source": [
    "empl_long.loc[empl_long.index.get_level_values('municipality') == 'Roskilde', :]"
   ]
  },
  {
   "cell_type": "markdown",
   "metadata": {},
   "source": [
    "**Alternative:** Reset the index, and use `.loc` as normal."
   ]
  },
  {
   "cell_type": "code",
   "execution_count": 220,
   "metadata": {},
   "outputs": [
    {
     "data": {
      "text/html": [
       "<div>\n",
       "<style scoped>\n",
       "    .dataframe tbody tr th:only-of-type {\n",
       "        vertical-align: middle;\n",
       "    }\n",
       "\n",
       "    .dataframe tbody tr th {\n",
       "        vertical-align: top;\n",
       "    }\n",
       "\n",
       "    .dataframe thead th {\n",
       "        text-align: right;\n",
       "    }\n",
       "</style>\n",
       "<table border=\"1\" class=\"dataframe\">\n",
       "  <thead>\n",
       "    <tr style=\"text-align: right;\">\n",
       "      <th></th>\n",
       "      <th>municipality</th>\n",
       "      <th>year</th>\n",
       "      <th>index</th>\n",
       "      <th>e</th>\n",
       "    </tr>\n",
       "  </thead>\n",
       "  <tbody>\n",
       "    <tr>\n",
       "      <th>33</th>\n",
       "      <td>Roskilde</td>\n",
       "      <td>2008</td>\n",
       "      <td>41</td>\n",
       "      <td>79.1</td>\n",
       "    </tr>\n",
       "    <tr>\n",
       "      <th>132</th>\n",
       "      <td>Roskilde</td>\n",
       "      <td>2009</td>\n",
       "      <td>41</td>\n",
       "      <td>76.3</td>\n",
       "    </tr>\n",
       "    <tr>\n",
       "      <th>231</th>\n",
       "      <td>Roskilde</td>\n",
       "      <td>2010</td>\n",
       "      <td>41</td>\n",
       "      <td>75.2</td>\n",
       "    </tr>\n",
       "    <tr>\n",
       "      <th>330</th>\n",
       "      <td>Roskilde</td>\n",
       "      <td>2011</td>\n",
       "      <td>41</td>\n",
       "      <td>74.9</td>\n",
       "    </tr>\n",
       "    <tr>\n",
       "      <th>429</th>\n",
       "      <td>Roskilde</td>\n",
       "      <td>2012</td>\n",
       "      <td>41</td>\n",
       "      <td>74.1</td>\n",
       "    </tr>\n",
       "    <tr>\n",
       "      <th>528</th>\n",
       "      <td>Roskilde</td>\n",
       "      <td>2013</td>\n",
       "      <td>41</td>\n",
       "      <td>74.0</td>\n",
       "    </tr>\n",
       "    <tr>\n",
       "      <th>627</th>\n",
       "      <td>Roskilde</td>\n",
       "      <td>2014</td>\n",
       "      <td>41</td>\n",
       "      <td>74.0</td>\n",
       "    </tr>\n",
       "    <tr>\n",
       "      <th>726</th>\n",
       "      <td>Roskilde</td>\n",
       "      <td>2015</td>\n",
       "      <td>41</td>\n",
       "      <td>74.5</td>\n",
       "    </tr>\n",
       "    <tr>\n",
       "      <th>825</th>\n",
       "      <td>Roskilde</td>\n",
       "      <td>2016</td>\n",
       "      <td>41</td>\n",
       "      <td>75.6</td>\n",
       "    </tr>\n",
       "    <tr>\n",
       "      <th>924</th>\n",
       "      <td>Roskilde</td>\n",
       "      <td>2017</td>\n",
       "      <td>41</td>\n",
       "      <td>76.8</td>\n",
       "    </tr>\n",
       "  </tbody>\n",
       "</table>\n",
       "</div>"
      ],
      "text/plain": [
       "    municipality  year  index     e\n",
       "33      Roskilde  2008     41  79.1\n",
       "132     Roskilde  2009     41  76.3\n",
       "231     Roskilde  2010     41  75.2\n",
       "330     Roskilde  2011     41  74.9\n",
       "429     Roskilde  2012     41  74.1\n",
       "528     Roskilde  2013     41  74.0\n",
       "627     Roskilde  2014     41  74.0\n",
       "726     Roskilde  2015     41  74.5\n",
       "825     Roskilde  2016     41  75.6\n",
       "924     Roskilde  2017     41  76.8"
      ]
     },
     "execution_count": 220,
     "metadata": {},
     "output_type": "execute_result"
    }
   ],
   "source": [
    "empl_long = empl_long.reset_index()\n",
    "empl_long.loc[empl_long.municipality == 'Roskilde', :]"
   ]
  },
  {
   "cell_type": "markdown",
   "metadata": {},
   "source": [
    "### Plotting interactively  \n",
    "Here's a cute little plot using the builtin pandas plot function. "
   ]
  },
  {
   "cell_type": "code",
   "execution_count": null,
   "metadata": {
    "collapsed": true,
    "jupyter": {
     "outputs_hidden": true
    }
   },
   "outputs": [],
   "source": [
    "empl_long.loc[empl_long['municipality'] == 'Roskilde', :].plot(x='year',y='e',legend=False);"
   ]
  },
  {
   "cell_type": "markdown",
   "metadata": {},
   "source": [
    "We can even do it **interactively**:"
   ]
  },
  {
   "cell_type": "code",
   "execution_count": 221,
   "metadata": {},
   "outputs": [],
   "source": [
    "import ipywidgets as widgets\n",
    "def plot_e(df, municipality): \n",
    "    I = df['municipality'] == municipality\n",
    "    ax=df.loc[I,:].plot(x='year', y='e', style='-o', legend=False)"
   ]
  },
  {
   "cell_type": "code",
   "execution_count": 222,
   "metadata": {},
   "outputs": [
    {
     "data": {
      "application/vnd.jupyter.widget-view+json": {
       "model_id": "313fc7c2a31749baa6b0c9995946f45c",
       "version_major": 2,
       "version_minor": 0
      },
      "text/plain": [
       "interactive(children=(Dropdown(description='Municipality', index=33, options=('Copenhagen', 'Frederiksberg', '…"
      ]
     },
     "metadata": {},
     "output_type": "display_data"
    }
   ],
   "source": [
    "widgets.interact(plot_e, \n",
    "    df = widgets.fixed(empl_long),\n",
    "    municipality = widgets.Dropdown(description='Municipality', \n",
    "                                    options=empl_long.municipality.unique(), \n",
    "                                    value='Roskilde')\n",
    "); "
   ]
  },
  {
   "cell_type": "markdown",
   "metadata": {},
   "source": [
    "## 2.3 Income\n",
    "\n",
    "Next, we will read in the avg. disposable income for highly educated in each municipality. Here we do the cleaning, renaming and structuring in a few condensed lines."
   ]
  },
  {
   "cell_type": "code",
   "execution_count": 95,
   "metadata": {
    "collapsed": true,
    "jupyter": {
     "outputs_hidden": true
    }
   },
   "outputs": [
    {
     "data": {
      "text/html": [
       "<div>\n",
       "<style scoped>\n",
       "    .dataframe tbody tr th:only-of-type {\n",
       "        vertical-align: middle;\n",
       "    }\n",
       "\n",
       "    .dataframe tbody tr th {\n",
       "        vertical-align: top;\n",
       "    }\n",
       "\n",
       "    .dataframe thead th {\n",
       "        text-align: right;\n",
       "    }\n",
       "</style>\n",
       "<table border=\"1\" class=\"dataframe\">\n",
       "  <thead>\n",
       "    <tr style=\"text-align: right;\">\n",
       "      <th></th>\n",
       "      <th>municipality</th>\n",
       "      <th>inc2004</th>\n",
       "      <th>inc2005</th>\n",
       "      <th>inc2006</th>\n",
       "      <th>inc2007</th>\n",
       "      <th>inc2008</th>\n",
       "      <th>inc2009</th>\n",
       "      <th>inc2010</th>\n",
       "      <th>inc2011</th>\n",
       "      <th>inc2012</th>\n",
       "      <th>inc2013</th>\n",
       "      <th>inc2014</th>\n",
       "      <th>inc2015</th>\n",
       "      <th>inc2016</th>\n",
       "      <th>inc2017</th>\n",
       "    </tr>\n",
       "  </thead>\n",
       "  <tbody>\n",
       "    <tr>\n",
       "      <th>3</th>\n",
       "      <td>Copenhagen</td>\n",
       "      <td>233204.0</td>\n",
       "      <td>244462.0</td>\n",
       "      <td>255315.0</td>\n",
       "      <td>254533.0</td>\n",
       "      <td>259216.0</td>\n",
       "      <td>266636.0</td>\n",
       "      <td>297422.0</td>\n",
       "      <td>303717.0</td>\n",
       "      <td>308601.0</td>\n",
       "      <td>316362.0</td>\n",
       "      <td>325070.0</td>\n",
       "      <td>334083.0</td>\n",
       "      <td>327179.0</td>\n",
       "      <td>333579.0</td>\n",
       "    </tr>\n",
       "    <tr>\n",
       "      <th>4</th>\n",
       "      <td>Frederiksberg</td>\n",
       "      <td>276111.0</td>\n",
       "      <td>291299.0</td>\n",
       "      <td>305539.0</td>\n",
       "      <td>301547.0</td>\n",
       "      <td>296988.0</td>\n",
       "      <td>304406.0</td>\n",
       "      <td>349249.0</td>\n",
       "      <td>356537.0</td>\n",
       "      <td>363466.0</td>\n",
       "      <td>376072.0</td>\n",
       "      <td>379308.0</td>\n",
       "      <td>397210.0</td>\n",
       "      <td>389151.0</td>\n",
       "      <td>409097.0</td>\n",
       "    </tr>\n",
       "    <tr>\n",
       "      <th>5</th>\n",
       "      <td>Dragør</td>\n",
       "      <td>326324.0</td>\n",
       "      <td>330289.0</td>\n",
       "      <td>339630.0</td>\n",
       "      <td>367640.0</td>\n",
       "      <td>371290.0</td>\n",
       "      <td>375508.0</td>\n",
       "      <td>425605.0</td>\n",
       "      <td>471854.0</td>\n",
       "      <td>457410.0</td>\n",
       "      <td>469260.0</td>\n",
       "      <td>482857.0</td>\n",
       "      <td>494313.0</td>\n",
       "      <td>475567.0</td>\n",
       "      <td>490152.0</td>\n",
       "    </tr>\n",
       "    <tr>\n",
       "      <th>6</th>\n",
       "      <td>Tårnby</td>\n",
       "      <td>264299.0</td>\n",
       "      <td>273414.0</td>\n",
       "      <td>291735.0</td>\n",
       "      <td>279844.0</td>\n",
       "      <td>288973.0</td>\n",
       "      <td>296610.0</td>\n",
       "      <td>336077.0</td>\n",
       "      <td>368789.0</td>\n",
       "      <td>347705.0</td>\n",
       "      <td>357150.0</td>\n",
       "      <td>359455.0</td>\n",
       "      <td>372565.0</td>\n",
       "      <td>360230.0</td>\n",
       "      <td>373304.0</td>\n",
       "    </tr>\n",
       "    <tr>\n",
       "      <th>8</th>\n",
       "      <td>Albertslund</td>\n",
       "      <td>253319.0</td>\n",
       "      <td>260060.0</td>\n",
       "      <td>270290.0</td>\n",
       "      <td>267863.0</td>\n",
       "      <td>269855.0</td>\n",
       "      <td>283067.0</td>\n",
       "      <td>313767.0</td>\n",
       "      <td>308977.0</td>\n",
       "      <td>320298.0</td>\n",
       "      <td>328004.0</td>\n",
       "      <td>334630.0</td>\n",
       "      <td>344447.0</td>\n",
       "      <td>334094.0</td>\n",
       "      <td>332943.0</td>\n",
       "    </tr>\n",
       "  </tbody>\n",
       "</table>\n",
       "</div>"
      ],
      "text/plain": [
       "    municipality   inc2004   inc2005   inc2006   inc2007   inc2008   inc2009  \\\n",
       "3     Copenhagen  233204.0  244462.0  255315.0  254533.0  259216.0  266636.0   \n",
       "4  Frederiksberg  276111.0  291299.0  305539.0  301547.0  296988.0  304406.0   \n",
       "5         Dragør  326324.0  330289.0  339630.0  367640.0  371290.0  375508.0   \n",
       "6         Tårnby  264299.0  273414.0  291735.0  279844.0  288973.0  296610.0   \n",
       "8    Albertslund  253319.0  260060.0  270290.0  267863.0  269855.0  283067.0   \n",
       "\n",
       "    inc2010   inc2011   inc2012   inc2013   inc2014   inc2015   inc2016  \\\n",
       "3  297422.0  303717.0  308601.0  316362.0  325070.0  334083.0  327179.0   \n",
       "4  349249.0  356537.0  363466.0  376072.0  379308.0  397210.0  389151.0   \n",
       "5  425605.0  471854.0  457410.0  469260.0  482857.0  494313.0  475567.0   \n",
       "6  336077.0  368789.0  347705.0  357150.0  359455.0  372565.0  360230.0   \n",
       "8  313767.0  308977.0  320298.0  328004.0  334630.0  344447.0  334094.0   \n",
       "\n",
       "    inc2017  \n",
       "3  333579.0  \n",
       "4  409097.0  \n",
       "5  490152.0  \n",
       "6  373304.0  \n",
       "8  332943.0  "
      ]
     },
     "execution_count": 95,
     "metadata": {},
     "output_type": "execute_result"
    }
   ],
   "source": [
    "# a. load\n",
    "inc = pd.read_excel('data/INDKP107.xlsx', skiprows=2)\n",
    "\n",
    "# b. clean and rename\n",
    "inc.drop([f'Unnamed: {i}' for i in range(4)], axis=1, inplace=True) # using list comprehension\n",
    "inc.rename(columns = {'Unnamed: 4':'municipality'}, inplace=True) \n",
    "inc.rename(columns = {str(i): f'inc{i}' for i in range(2004,2018)}, inplace=True) # using dictionary comprehension\n",
    "\n",
    "# c. drop rows with missing values. Denoted na\n",
    "inc.dropna(inplace=True)\n",
    "\n",
    "# d. remove non-municipalities. Notice how to avoid code repetition!\n",
    "for val in ['Region','Province', 'All Denmark']: \n",
    "    I = inc.municipality.str.contains(val)\n",
    "    inc.drop(inc[I].index, inplace=True) # .index -> get the indexes of the series\n",
    "    \n",
    "inc.head(5)"
   ]
  },
  {
   "cell_type": "markdown",
   "metadata": {},
   "source": [
    "**Convert** wide -> long:"
   ]
  },
  {
   "cell_type": "code",
   "execution_count": null,
   "metadata": {
    "collapsed": true,
    "jupyter": {
     "outputs_hidden": true
    }
   },
   "outputs": [],
   "source": [
    "inc_long = pd.wide_to_long(df=inc, stubnames='inc', i='municipality', j='year')\n",
    "inc_long.reset_index(inplace=True)\n",
    "inc_long.head(5)"
   ]
  },
  {
   "cell_type": "markdown",
   "metadata": {},
   "source": [
    "## 2.4 Municipal area\n",
    "\n",
    "Finally, let's read in a dataset on municipality areas in km$^2$. "
   ]
  },
  {
   "cell_type": "code",
   "execution_count": null,
   "metadata": {
    "collapsed": true,
    "jupyter": {
     "outputs_hidden": true
    }
   },
   "outputs": [],
   "source": [
    "# a. load\n",
    "area = pd.read_excel('data/areal.xlsx', skiprows=2)\n",
    "\n",
    "# b. clean and rename\n",
    "area.rename(columns = {'Unnamed: 0':'municipality','2019':'km2'}, inplace=True)\n",
    "\n",
    "# c. drop rows with missing\n",
    "area.dropna(inplace=True)\n",
    "\n",
    "# d. remove non-municipalities\n",
    "for val in ['Region','Province', 'All Denmark']: \n",
    "    I = area.municipality.str.contains(val)\n",
    "    area.drop(area[I].index, inplace=True)\n",
    "    \n",
    "area.head(5)"
   ]
  },
  {
   "cell_type": "markdown",
   "metadata": {},
   "source": [
    "## 2.5 Writing data"
   ]
  },
  {
   "cell_type": "markdown",
   "metadata": {},
   "source": [
    "As with reading in data, we have the corresponding functions for **writing data**:\n",
    "\n",
    "* CSV: `pd.to_csv()`\n",
    "* SAS: `pd.to_sas()`\n",
    "* Excel: `pd.to_excel()`\n",
    "* Stata: `pd.to_stata()`\n",
    "* Parquet: `pd.to_parquet()`"
   ]
  },
  {
   "cell_type": "markdown",
   "metadata": {},
   "source": [
    "Let's **save our dataset to CSV form**. We will set `index=False` to avoid saving the index (which does not mean anything here but can in other contexts be an annoying thing). "
   ]
  },
  {
   "cell_type": "code",
   "execution_count": null,
   "metadata": {
    "collapsed": true,
    "jupyter": {
     "outputs_hidden": true
    }
   },
   "outputs": [],
   "source": [
    "empl_long.to_csv('data/RAS200_long.csv', index=False)\n",
    "inc_long.to_csv('data/INDKP107_long.csv', index=False)\n",
    "area.to_csv('data/area.csv', index=False)"
   ]
  },
  {
   "cell_type": "markdown",
   "metadata": {},
   "source": [
    "## 2.6 Be cautious\n",
    "\n",
    "Code for cleaning data tend to get long and repetetive. But remember **DRY**! Errors crop up in data cleaning when you just copy blocks of code around. Avoid repetitions at all costs."
   ]
  },
  {
   "cell_type": "markdown",
   "metadata": {},
   "source": [
    "<a id=\"Summary\"></a>\n",
    "\n",
    "# 3. Summary"
   ]
  },
  {
   "cell_type": "markdown",
   "metadata": {},
   "source": [
    "**This lecture**: We have discussed\n",
    "\n",
    "1. The generel pandas framework (indexing, assigment, copies vs. views, functions)\n",
    "2. Loading and saving data\n",
    "3. Basic data cleaning (renaming, droping etc.)\n",
    "4. Wide $\\leftrightarrow$ long transformations"
   ]
  },
  {
   "cell_type": "markdown",
   "metadata": {},
   "source": [
    "**Your work:** Before solving Problem Set 3 read through this notebook and play around with the code."
   ]
  },
  {
   "cell_type": "markdown",
   "metadata": {},
   "source": [
    "**Next lecture:** Basic data analysis."
   ]
  },
  {
   "cell_type": "markdown",
   "metadata": {},
   "source": [
    "**Data exploration?:** Try out [dtale](https://github.com/man-group/dtale)."
   ]
  }
 ],
 "metadata": {
  "kernelspec": {
   "display_name": "Python 3",
   "language": "python",
   "name": "python3"
  },
  "language_info": {
   "codemirror_mode": {
    "name": "ipython",
    "version": 3
   },
   "file_extension": ".py",
   "mimetype": "text/x-python",
   "name": "python",
   "nbconvert_exporter": "python",
   "pygments_lexer": "ipython3",
   "version": "3.8.5"
  },
  "toc-autonumbering": false
 },
 "nbformat": 4,
 "nbformat_minor": 4
}
