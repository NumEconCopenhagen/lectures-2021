{
 "cells": [
  {
   "cell_type": "markdown",
   "metadata": {},
   "source": [
    "# Lecture 03: Optimize, print and plot"
   ]
  },
  {
   "cell_type": "markdown",
   "metadata": {},
   "source": [
    "[Download on GitHub](https://github.com/NumEconCopenhagen/lectures-2021)\n",
    "\n",
    "[<img src=\"https://mybinder.org/badge_logo.svg\">](https://mybinder.org/v2/gh/NumEconCopenhagen/lectures-2021/master?urlpath=lab/tree/03/Optimize_print_and_plot.ipynb)"
   ]
  },
  {
   "cell_type": "markdown",
   "metadata": {},
   "source": [
    "1. [The consumer problem](#The-consumer-problem)\n",
    "2. [Numerical python (numpy)](#Numerical-python-(numpy))\n",
    "3. [Utility function](#Utility-function)\n",
    "4. [Algorithm 1: Simple loops](#Algorithm-1:-Simple-loops)\n",
    "5. [Algorithm 2: Use monotonicity](#Algorithm-2:-Use-monotonicity)\n",
    "6. [Algorithm 3: Call a solver](#Algorithm-3:-Call-a-solver)\n",
    "7. [Indifference curves](#Indifference-curves)\n",
    "8. [A classy solution](#A-classy-solution)\n",
    "9. [Summary](#Summary)\n"
   ]
  },
  {
   "cell_type": "markdown",
   "metadata": {},
   "source": [
    "You will learn how to work with numerical data (**numpy**) and solve simple numerical optimization problems (**scipy.optimize**) and report the results both in text (**print**) and in figures (**matplotlib**)."
   ]
  },
  {
   "cell_type": "markdown",
   "metadata": {},
   "source": [
    "**Links:**:\n",
    "\n",
    "- **print**: [examples](https://www.python-course.eu/python3_formatted_output.php) (very detailed)\n",
    "- **numpy**: [detailed tutorial](https://www.python-course.eu/numpy.php)\n",
    "- **matplotlib**: [examples](https://matplotlib.org/tutorials/introductory/sample_plots.html#sphx-glr-tutorials-introductory-sample-plots-py), [documentation](https://matplotlib.org/users/index.html), [styles](https://matplotlib.org/3.1.0/gallery/style_sheets/style_sheets_reference.html)\n",
    "- **scipy-optimize**: [documentation](https://docs.scipy.org/doc/scipy/reference/optimize.html)"
   ]
  },
  {
   "cell_type": "markdown",
   "metadata": {},
   "source": [
    "<a id=\"The-consumer-problem\"></a>\n",
    "\n",
    "# 1. The consumer problem"
   ]
  },
  {
   "cell_type": "markdown",
   "metadata": {},
   "source": [
    "Consider the following 2-good consumer problem with \n",
    "\n",
    "* utility function $u(x_1,x_2):\\mathbb{R}^2_{+}\\rightarrow\\mathbb{R}$,\n",
    "* exogenous income $I$, and \n",
    "* price-vector $(p_1,p_2)$,"
   ]
  },
  {
   "cell_type": "markdown",
   "metadata": {},
   "source": [
    "given by\n",
    "\n",
    "$$\n",
    "\\begin{aligned}\n",
    "V(p_{1},p_{2},I) & = \\max_{x_{1},x_{2}}u(x_{1},x_{2})\\\\\n",
    " \\text{s.t.}\\\\\n",
    "p_{1}x_{1}+p_{2}x_{2} & \\leq I,\\,\\,\\,p_{1},p_{2},I>0\\\\\n",
    "x_{1},x_{2} & \\geq 0\n",
    "\\end{aligned}\n",
    "$$"
   ]
  },
  {
   "cell_type": "markdown",
   "metadata": {},
   "source": [
    "**Specific example:** Let the utility function be Cobb-Douglas,\n",
    "\n",
    "$$\n",
    "u(x_1,x_2) = x_1^{\\alpha}x_2^{1-\\alpha}\n",
    "$$\n",
    "\n",
    "We then know the solution is given by\n",
    "\n",
    "$$\n",
    "\\begin{aligned}\n",
    "x_1^{\\ast} &= \\alpha \\frac{I}{p_1} \\\\\n",
    "x_2^{\\ast} &= (1-\\alpha) \\frac{I}{p_2}\n",
    "\\end{aligned}\n",
    "$$\n",
    "\n",
    "which implies that $\\alpha$ is the budget share of the first good and $1-\\alpha$ is the budget share of the second good."
   ]
  },
  {
   "cell_type": "markdown",
   "metadata": {},
   "source": [
    "<a id=\"Numerical-python-(numpy)\"></a>\n",
    "\n",
    "# 2. Numerical python (numpy)"
   ]
  },
  {
   "cell_type": "code",
   "execution_count": 1,
   "metadata": {},
   "outputs": [],
   "source": [
    "import numpy as np # import the numpy module"
   ]
  },
  {
   "cell_type": "markdown",
   "metadata": {},
   "source": [
    "A **numpy array** is like a list, but with two important differences:\n",
    "\n",
    "1. Elements must be of **one homogenous type**\n",
    "2. A **slice returns a view** rather than extract content"
   ]
  },
  {
   "cell_type": "markdown",
   "metadata": {},
   "source": [
    "## 2.1 Basics"
   ]
  },
  {
   "cell_type": "markdown",
   "metadata": {},
   "source": [
    "Numpy arrays can be **created from lists** and can be **multi-dimensional**:"
   ]
  },
  {
   "cell_type": "code",
   "execution_count": 2,
   "metadata": {},
   "outputs": [
    {
     "name": "stdout",
     "output_type": "stream",
     "text": [
      "<class 'numpy.ndarray'> <class 'numpy.ndarray'>\n",
      "int64 float64\n",
      "1 2\n",
      "(10,) (3, 3)\n",
      "10 9\n"
     ]
    }
   ],
   "source": [
    "A = np.array([0, 1, 2, 3, 4, 5, 6, 7, 8, 9]) # one dimension\n",
    "B = np.array([[3.4, 8.7, 9.9], \n",
    "              [1.1, -7.8, -0.7],\n",
    "              [4.1, 12.3, 4.8]]) # two dimensions\n",
    "\n",
    "print(type(A),type(B)) # type\n",
    "print(A.dtype,B.dtype) # data type\n",
    "print(A.ndim,B.ndim) # dimensions\n",
    "print(A.shape,B.shape) # shape (1d: (columns,), 2d: (row,columns))\n",
    "print(A.size,B.size) # size"
   ]
  },
  {
   "cell_type": "markdown",
   "metadata": {},
   "source": [
    "**Slicing** a numpy array returns a **view**:"
   ]
  },
  {
   "cell_type": "code",
   "execution_count": 3,
   "metadata": {},
   "outputs": [
    {
     "name": "stdout",
     "output_type": "stream",
     "text": [
      "[0 1 0 0 4 5 6 7 8 9]\n",
      "[0 1 2 3 4 5 6 7 8 9]\n"
     ]
    }
   ],
   "source": [
    "A = np.array([0, 1, 2, 3, 4, 5, 6, 7, 8, 9])\n",
    "B = A.copy() # a copy of A\n",
    "C = A[2:6] # a view into A\n",
    "C[0] = 0\n",
    "C[1] = 0\n",
    "print(A) # changed\n",
    "print(B) # not changed"
   ]
  },
  {
   "cell_type": "markdown",
   "metadata": {},
   "source": [
    "Numpy array can also be created using numpy functions:"
   ]
  },
  {
   "cell_type": "code",
   "execution_count": 5,
   "metadata": {},
   "outputs": [
    {
     "name": "stdout",
     "output_type": "stream",
     "text": [
      "[[1. 1. 1.]\n",
      " [1. 1. 1.]]\n",
      "[[0. 0.]\n",
      " [0. 0.]\n",
      " [0. 0.]\n",
      " [0. 0.]]\n",
      "[0.  0.2 0.4 0.6 0.8 1. ]\n"
     ]
    }
   ],
   "source": [
    "print(np.ones((2,3)))\n",
    "print(np.zeros((4,2)))\n",
    "print(np.linspace(0,1,6)) # linear spacing\n",
    "#np.linspace()"
   ]
  },
  {
   "cell_type": "markdown",
   "metadata": {},
   "source": [
    "**Tip 1:** Try pressing <kbd>Shift</kbd>+<kbd>Tab</kbd> inside a function.<br>\n",
    "\n",
    "**Tip 2:** Try to write `?np.linspace` in a cell"
   ]
  },
  {
   "cell_type": "code",
   "execution_count": 3,
   "metadata": {},
   "outputs": [
    {
     "data": {
      "text/plain": [
       "\u001b[0;31mSignature:\u001b[0m\n",
       "\u001b[0mnp\u001b[0m\u001b[0;34m.\u001b[0m\u001b[0mlinspace\u001b[0m\u001b[0;34m(\u001b[0m\u001b[0;34m\u001b[0m\n",
       "\u001b[0;34m\u001b[0m    \u001b[0mstart\u001b[0m\u001b[0;34m,\u001b[0m\u001b[0;34m\u001b[0m\n",
       "\u001b[0;34m\u001b[0m    \u001b[0mstop\u001b[0m\u001b[0;34m,\u001b[0m\u001b[0;34m\u001b[0m\n",
       "\u001b[0;34m\u001b[0m    \u001b[0mnum\u001b[0m\u001b[0;34m=\u001b[0m\u001b[0;36m50\u001b[0m\u001b[0;34m,\u001b[0m\u001b[0;34m\u001b[0m\n",
       "\u001b[0;34m\u001b[0m    \u001b[0mendpoint\u001b[0m\u001b[0;34m=\u001b[0m\u001b[0;32mTrue\u001b[0m\u001b[0;34m,\u001b[0m\u001b[0;34m\u001b[0m\n",
       "\u001b[0;34m\u001b[0m    \u001b[0mretstep\u001b[0m\u001b[0;34m=\u001b[0m\u001b[0;32mFalse\u001b[0m\u001b[0;34m,\u001b[0m\u001b[0;34m\u001b[0m\n",
       "\u001b[0;34m\u001b[0m    \u001b[0mdtype\u001b[0m\u001b[0;34m=\u001b[0m\u001b[0;32mNone\u001b[0m\u001b[0;34m,\u001b[0m\u001b[0;34m\u001b[0m\n",
       "\u001b[0;34m\u001b[0m    \u001b[0maxis\u001b[0m\u001b[0;34m=\u001b[0m\u001b[0;36m0\u001b[0m\u001b[0;34m,\u001b[0m\u001b[0;34m\u001b[0m\n",
       "\u001b[0;34m\u001b[0m\u001b[0;34m)\u001b[0m\u001b[0;34m\u001b[0m\u001b[0;34m\u001b[0m\u001b[0m\n",
       "\u001b[0;31mDocstring:\u001b[0m\n",
       "Return evenly spaced numbers over a specified interval.\n",
       "\n",
       "Returns `num` evenly spaced samples, calculated over the\n",
       "interval [`start`, `stop`].\n",
       "\n",
       "The endpoint of the interval can optionally be excluded.\n",
       "\n",
       ".. versionchanged:: 1.16.0\n",
       "    Non-scalar `start` and `stop` are now supported.\n",
       "\n",
       "Parameters\n",
       "----------\n",
       "start : array_like\n",
       "    The starting value of the sequence.\n",
       "stop : array_like\n",
       "    The end value of the sequence, unless `endpoint` is set to False.\n",
       "    In that case, the sequence consists of all but the last of ``num + 1``\n",
       "    evenly spaced samples, so that `stop` is excluded.  Note that the step\n",
       "    size changes when `endpoint` is False.\n",
       "num : int, optional\n",
       "    Number of samples to generate. Default is 50. Must be non-negative.\n",
       "endpoint : bool, optional\n",
       "    If True, `stop` is the last sample. Otherwise, it is not included.\n",
       "    Default is True.\n",
       "retstep : bool, optional\n",
       "    If True, return (`samples`, `step`), where `step` is the spacing\n",
       "    between samples.\n",
       "dtype : dtype, optional\n",
       "    The type of the output array.  If `dtype` is not given, infer the data\n",
       "    type from the other input arguments.\n",
       "\n",
       "    .. versionadded:: 1.9.0\n",
       "\n",
       "axis : int, optional\n",
       "    The axis in the result to store the samples.  Relevant only if start\n",
       "    or stop are array-like.  By default (0), the samples will be along a\n",
       "    new axis inserted at the beginning. Use -1 to get an axis at the end.\n",
       "\n",
       "    .. versionadded:: 1.16.0\n",
       "\n",
       "Returns\n",
       "-------\n",
       "samples : ndarray\n",
       "    There are `num` equally spaced samples in the closed interval\n",
       "    ``[start, stop]`` or the half-open interval ``[start, stop)``\n",
       "    (depending on whether `endpoint` is True or False).\n",
       "step : float, optional\n",
       "    Only returned if `retstep` is True\n",
       "\n",
       "    Size of spacing between samples.\n",
       "\n",
       "\n",
       "See Also\n",
       "--------\n",
       "arange : Similar to `linspace`, but uses a step size (instead of the\n",
       "         number of samples).\n",
       "geomspace : Similar to `linspace`, but with numbers spaced evenly on a log\n",
       "            scale (a geometric progression).\n",
       "logspace : Similar to `geomspace`, but with the end points specified as\n",
       "           logarithms.\n",
       "\n",
       "Examples\n",
       "--------\n",
       ">>> np.linspace(2.0, 3.0, num=5)\n",
       "array([2.  , 2.25, 2.5 , 2.75, 3.  ])\n",
       ">>> np.linspace(2.0, 3.0, num=5, endpoint=False)\n",
       "array([2. ,  2.2,  2.4,  2.6,  2.8])\n",
       ">>> np.linspace(2.0, 3.0, num=5, retstep=True)\n",
       "(array([2.  ,  2.25,  2.5 ,  2.75,  3.  ]), 0.25)\n",
       "\n",
       "Graphical illustration:\n",
       "\n",
       ">>> import matplotlib.pyplot as plt\n",
       ">>> N = 8\n",
       ">>> y = np.zeros(N)\n",
       ">>> x1 = np.linspace(0, 10, N, endpoint=True)\n",
       ">>> x2 = np.linspace(0, 10, N, endpoint=False)\n",
       ">>> plt.plot(x1, y, 'o')\n",
       "[<matplotlib.lines.Line2D object at 0x...>]\n",
       ">>> plt.plot(x2, y + 0.5, 'o')\n",
       "[<matplotlib.lines.Line2D object at 0x...>]\n",
       ">>> plt.ylim([-0.5, 1])\n",
       "(-0.5, 1)\n",
       ">>> plt.show()\n",
       "\u001b[0;31mFile:\u001b[0m      ~/opt/anaconda3/lib/python3.8/site-packages/numpy/core/function_base.py\n",
       "\u001b[0;31mType:\u001b[0m      function\n"
      ]
     },
     "metadata": {},
     "output_type": "display_data"
    }
   ],
   "source": [
    "?np.linspace"
   ]
  },
  {
   "cell_type": "markdown",
   "metadata": {},
   "source": [
    "## 2.2 Math"
   ]
  },
  {
   "cell_type": "markdown",
   "metadata": {},
   "source": [
    "Standard **mathematical operations** can be applied:"
   ]
  },
  {
   "cell_type": "code",
   "execution_count": 6,
   "metadata": {},
   "outputs": [
    {
     "name": "stdout",
     "output_type": "stream",
     "text": [
      "[[3 2]\n",
      " [2 3]] \n",
      "\n",
      "[[-1 -2]\n",
      " [-2 -1]] \n",
      "\n",
      "[[2 0]\n",
      " [0 2]] \n",
      "\n",
      "[[0.5 0. ]\n",
      " [0.  0.5]] \n",
      "\n",
      "[[2 2]\n",
      " [2 2]] \n",
      "\n"
     ]
    }
   ],
   "source": [
    "A = np.array([[1,0],[0,1]])\n",
    "B = np.array([[2,2],[2,2]])\n",
    "\n",
    "print(A+B,'\\n')\n",
    "print(A-B,'\\n')\n",
    "print(A*B,'\\n') # element-by-element product\n",
    "print(A/B,'\\n') # element-by-element division\n",
    "print(A@B,'\\n') # matrix product"
   ]
  },
  {
   "cell_type": "markdown",
   "metadata": {},
   "source": [
    "If arrays does not fit together **broadcasting** is applied. Here is an example with multiplication:"
   ]
  },
  {
   "cell_type": "code",
   "execution_count": 7,
   "metadata": {},
   "outputs": [
    {
     "name": "stdout",
     "output_type": "stream",
     "text": [
      "[[10 20 30]\n",
      " [40 50 60]] (2, 3) \n",
      "\n",
      "[1 2 3] (3,) \n",
      "\n",
      "[[1]\n",
      " [2]] (2, 1) \n",
      "\n",
      "[[ 10  40  90]\n",
      " [ 40 100 180]] \n",
      "\n",
      "[[ 10  20  30]\n",
      " [ 80 100 120]] \n",
      "\n"
     ]
    }
   ],
   "source": [
    "A = np.array([ [10, 20, 30], [40, 50, 60] ]) # shape = (2,3) \n",
    "B = np.array([1, 2, 3]) # shape = (3,) = (1,3)\n",
    "C = np.array([[1],[2]]) # shape = (2,1)\n",
    "\n",
    "\n",
    "print(A, A.shape, '\\n')\n",
    "print(B, B.shape, '\\n') # Notice the shape 'transformation' column vector!\n",
    "print(C, C.shape, '\\n') \n",
    "\n",
    "print(A*B,'\\n') # every row is multiplied by B\n",
    "print(A*C,'\\n') # every column is multiplied by C"
   ]
  },
  {
   "cell_type": "markdown",
   "metadata": {},
   "source": [
    "If you want to e.g. add arrays where broadcasting is not possible consider **np.newaxis**:"
   ]
  },
  {
   "cell_type": "code",
   "execution_count": 8,
   "metadata": {},
   "outputs": [
    {
     "name": "stdout",
     "output_type": "stream",
     "text": [
      "[[1]\n",
      " [2]\n",
      " [3]] (3, 1) \n",
      "\n",
      "[[1 2]] (1, 2) \n",
      "\n",
      "[[1 2]\n",
      " [2 4]\n",
      " [3 6]] \n",
      "\n",
      "[[1 2 3]\n",
      " [2 4 6]]\n"
     ]
    }
   ],
   "source": [
    "A = np.array([1, 2, 3]) # Is only 1D, shape = (3,)\n",
    "B = np.array([1,2]) # Is only 1D, shape = (2,)\n",
    "\n",
    "# You cannot broadcast B on A, because neither have 2 dimensions.\n",
    "# Therefore, use newaxis\n",
    "print(A[:,np.newaxis], A[:,np.newaxis].shape, '\\n') # Is now (3,1)\n",
    "print(B[np.newaxis,:], B[np.newaxis,:].shape, '\\n') # Is now (1,2)\n",
    "\n",
    "print(A[:,np.newaxis]*B[np.newaxis,:], '\\n') # A is column vector, B is row vector\n",
    "print(A[np.newaxis,:]*B[:,np.newaxis]) # A is row vector, B is column vector"
   ]
  },
  {
   "cell_type": "markdown",
   "metadata": {},
   "source": [
    "**General rule:** Numpy arrays can be added/substracted/multiplied/divided if they in all dimensions have the same size or one of them has a size of one. If the numpy arrays differ in number of dimensions, this only has to be true for the (inner) dimensions they share. "
   ]
  },
  {
   "cell_type": "markdown",
   "metadata": {},
   "source": [
    "**More on broadcasting:** [Documentation](https://docs.scipy.org/doc/numpy-1.13.0/user/basics.broadcasting.html)."
   ]
  },
  {
   "cell_type": "markdown",
   "metadata": {},
   "source": [
    "A lot of **mathematical procedures** can easily be performed on numpy arrays."
   ]
  },
  {
   "cell_type": "code",
   "execution_count": 9,
   "metadata": {},
   "outputs": [
    {
     "name": "stdout",
     "output_type": "stream",
     "text": [
      "-2.5\n",
      "3\n",
      "4.82\n",
      "[-2.5  2.3  3.1  9.1 12.1]\n"
     ]
    }
   ],
   "source": [
    "A =  np.array([3.1, 2.3, 9.1, -2.5, 12.1])\n",
    "print(np.min(A)) # find minimum\n",
    "print(np.argmin(A)) # find index for minimum\n",
    "print(np.mean(A)) # calculate mean\n",
    "print(np.sort(A)) # sort (ascending)"
   ]
  },
  {
   "cell_type": "markdown",
   "metadata": {},
   "source": [
    "**Note:** Sometimes a method can be used instead of a function, e.g. ``A.mean()``. Personally, I typically stick to functions because that always works. "
   ]
  },
  {
   "cell_type": "markdown",
   "metadata": {},
   "source": [
    "## 2.3 Indexing"
   ]
  },
  {
   "cell_type": "markdown",
   "metadata": {},
   "source": [
    "**Multi-dimensional** indexing is done as:"
   ]
  },
  {
   "cell_type": "code",
   "execution_count": 10,
   "metadata": {},
   "outputs": [
    {
     "name": "stdout",
     "output_type": "stream",
     "text": [
      "[[11 12 13]\n",
      " [21 22 23]]\n",
      "11\n",
      "12\n",
      "23\n"
     ]
    }
   ],
   "source": [
    "X = np.array([ [11, 12, 13], [21, 22, 23] ])\n",
    "print(X)\n",
    "print(X[0,0]) # first row, first column\n",
    "print(X[0,1]) # first row, second column\n",
    "print(X[1,2]) # second row, third column"
   ]
  },
  {
   "cell_type": "code",
   "execution_count": 11,
   "metadata": {},
   "outputs": [
    {
     "data": {
      "text/plain": [
       "array([11, 12, 13])"
      ]
     },
     "execution_count": 11,
     "metadata": {},
     "output_type": "execute_result"
    }
   ],
   "source": [
    "X[0] # first row"
   ]
  },
  {
   "cell_type": "markdown",
   "metadata": {},
   "source": [
    "Indexes can be **logical**. Logical 'and' is `&` and logical 'or' is `|`."
   ]
  },
  {
   "cell_type": "code",
   "execution_count": 12,
   "metadata": {},
   "outputs": [
    {
     "name": "stdout",
     "output_type": "stream",
     "text": [
      "[ True  True False False False  True False False]\n",
      "[1 2 2] \n",
      "\n",
      "(array([0, 1, 5]),)\n",
      "(array([0, 1, 5]),)\n"
     ]
    }
   ],
   "source": [
    "A = np.array([1,2,3,4,1,2,3,4])\n",
    "B = np.array([3,3,3,3,2,3,2,2])\n",
    "I = (A < 3) & (B == 3) # note & instead of 'and'\n",
    "print(I)\n",
    "print(A[I],'\\n')\n",
    "\n",
    "# Two ways of getting indices of the elements == True\n",
    "print(np.where(I)) # A 'where' clause normally asks for where the True elements are.\n",
    "print(I.nonzero()) # Because a True boolean is a 1 while a False is a 0."
   ]
  },
  {
   "cell_type": "code",
   "execution_count": 13,
   "metadata": {},
   "outputs": [
    {
     "name": "stdout",
     "output_type": "stream",
     "text": [
      "[1 2 3 4 1 2]\n"
     ]
    }
   ],
   "source": [
    "I = (A < 3) | (B == 3) # note | instead of 'or'\n",
    "print(A[I])"
   ]
  },
  {
   "cell_type": "markdown",
   "metadata": {},
   "source": [
    "## 2.4 List of good things to know"
   ]
  },
  {
   "cell_type": "markdown",
   "metadata": {},
   "source": [
    "**Attributes and methods** to know:\n",
    "\n",
    "- size / ndim / shape\n",
    "- ravel / reshape / sort\n",
    "- copy"
   ]
  },
  {
   "cell_type": "markdown",
   "metadata": {},
   "source": [
    "**Functions** to know:\n",
    "\n",
    "- array / empty / zeros / ones / linspace\n",
    "- mean / median / std / var / sum / percentile\n",
    "- min/max, argmin/argmax / fmin / fmax / sort / clip\n",
    "- meshgrid / hstack / vstack / concatenate / tile / insert\n",
    "- allclose / isnan / isinf / isfinite / any / all"
   ]
  },
  {
   "cell_type": "markdown",
   "metadata": {},
   "source": [
    "**Concepts** to know:\n",
    "\n",
    "- view vs. copy\n",
    "- broadcasting\n",
    "- logical indexing"
   ]
  },
  {
   "cell_type": "markdown",
   "metadata": {},
   "source": [
    "**Quizz:** Follow this [link](https://forms.office.com/Pages/ResponsePage.aspx?id=kX-So6HNlkaviYyfHO_6kckJrnVYqJlJgGf8Jm3FvY9UQlM0OUs0UkJGV0tYMzhTVU81VkFMMUdCMCQlQCN0PWcu) to take a quizz on numpy arrays. \n",
    "\n",
    "**Additional question:** Consider the following code:"
   ]
  },
  {
   "cell_type": "code",
   "execution_count": 14,
   "metadata": {},
   "outputs": [],
   "source": [
    "A = np.array([1,2,3,4,5])\n",
    "B = A[3:]\n",
    "B[:] = 0"
   ]
  },
  {
   "cell_type": "markdown",
   "metadata": {},
   "source": [
    "What is `np.sum(A)` equal to?\n",
    "- **A:** 15\n",
    "- **B:** 10\n",
    "- **C:** 6\n",
    "- **D:** 0\n",
    "- **E:** Don't know"
   ]
  },
  {
   "cell_type": "markdown",
   "metadata": {},
   "source": [
    "## 2.5 Extra: Memory"
   ]
  },
  {
   "cell_type": "markdown",
   "metadata": {},
   "source": [
    "Memory is structured in **rows**:"
   ]
  },
  {
   "cell_type": "code",
   "execution_count": 15,
   "metadata": {},
   "outputs": [
    {
     "name": "stdout",
     "output_type": "stream",
     "text": [
      "(2, 2) [3.1 4.2]\n",
      "(4,) [3.1 4.2 5.7 9.3]\n"
     ]
    }
   ],
   "source": [
    "A = np.array([[3.1,4.2],[5.7,9.3]])\n",
    "B = A.ravel() # one-dimensional view of A\n",
    "print(A.shape,A[0,:])\n",
    "print(B.shape,B)"
   ]
  },
  {
   "cell_type": "markdown",
   "metadata": {},
   "source": [
    "<a id=\"Utility-function\"></a>\n",
    "\n",
    "# 3. Utility function"
   ]
  },
  {
   "cell_type": "markdown",
   "metadata": {},
   "source": [
    "Define the utility function:"
   ]
  },
  {
   "cell_type": "code",
   "execution_count": 16,
   "metadata": {},
   "outputs": [],
   "source": [
    "def u_func(x1,x2,alpha=0.50):\n",
    "    return x1**alpha*x2**(1-alpha)\n",
    "\n",
    "# x1,x2 are positional arguments\n",
    "# alpha is a keyword argument with default value 0.50"
   ]
  },
  {
   "cell_type": "markdown",
   "metadata": {},
   "source": [
    "## 3.1 Print to screen"
   ]
  },
  {
   "cell_type": "markdown",
   "metadata": {},
   "source": [
    "Print a **single evaluation** of the utility function."
   ]
  },
  {
   "cell_type": "code",
   "execution_count": 17,
   "metadata": {},
   "outputs": [
    {
     "name": "stdout",
     "output_type": "stream",
     "text": [
      "x1 = 1.000, x2 = 3.000 -> u = 1.732\n"
     ]
    }
   ],
   "source": [
    "x1 = 1\n",
    "x2 = 3\n",
    "u = u_func(x1,x2)\n",
    "\n",
    "# f'text' is called a \"formatted string\"\n",
    "# {x1:.3f} prints variable x1 as floating point number with 3 decimals\n",
    "\n",
    "print(f'x1 = {x1:.3f}, x2 = {x2:.3f} -> u = {u:.3f}') "
   ]
  },
  {
   "cell_type": "markdown",
   "metadata": {},
   "source": [
    "Print **multiple evaluations** of the utility function."
   ]
  },
  {
   "cell_type": "code",
   "execution_count": 18,
   "metadata": {},
   "outputs": [
    {
     "name": "stdout",
     "output_type": "stream",
     "text": [
      "x1 = 2.000, x2 = 3.000 -> u = 2.711\n",
      "x1 = 4.000, x2 = 3.000 -> u = 3.224\n",
      "x1 = 6.000, x2 = 3.000 -> u = 3.568\n",
      "x1 = 8.000, x2 = 3.000 -> u = 3.834\n",
      "x1 = 10.000, x2 = 3.000 -> u = 4.054\n",
      "x1 = 12.000, x2 = 3.000 -> u = 4.243\n"
     ]
    }
   ],
   "source": [
    "x1_list = [2,4,6,8,10,12]\n",
    "x2 = 3\n",
    "\n",
    "for x1 in x1_list: # loop through each element in x1_list\n",
    "    u = u_func(x1,x2,alpha=0.25)\n",
    "    print(f'x1 = {x1:.3f}, x2 = {x2:.3f} -> u = {u:.3f}')"
   ]
  },
  {
   "cell_type": "markdown",
   "metadata": {},
   "source": [
    "And a little nicer..."
   ]
  },
  {
   "cell_type": "code",
   "execution_count": 19,
   "metadata": {},
   "outputs": [
    {
     "name": "stdout",
     "output_type": "stream",
     "text": [
      " 0: x1 = 2.000  x2 = 3.000  -> u = 2.711 \n",
      " 1: x1 = 4.000  x2 = 3.000  -> u = 3.224 \n",
      " 2: x1 = 6.000  x2 = 3.000  -> u = 3.568 \n",
      " 3: x1 = 8.000  x2 = 3.000  -> u = 3.834 \n",
      " 4: x1 = 10.000 x2 = 3.000  -> u = 4.054 \n",
      " 5: x1 = 12.000 x2 = 3.000  -> u = 4.243 \n"
     ]
    }
   ],
   "source": [
    "for i,x1 in enumerate(x1_list): # i is a counter\n",
    "    u = u_func(x1,x2,alpha=0.25)\n",
    "    print(f'{i:2d}: x1 = {x1:<6.3f} x2 = {x2:<6.3f} -> u = {u:<6.3f}')\n",
    "    \n",
    "# {i:2d}: integer a width of 2 (right-aligned)\n",
    "# {x1:<6.3f}: float width of 6 and 3 decimals (<, left-aligned)"
   ]
  },
  {
   "cell_type": "markdown",
   "metadata": {},
   "source": [
    "See also [this source](https://www.geeksforgeeks.org/python-output-formatting/) for more info on output formatting.  \n",
    "**Task**: Write a loop printing the results shown in the answer below."
   ]
  },
  {
   "cell_type": "code",
   "execution_count": 72,
   "metadata": {},
   "outputs": [],
   "source": [
    "# write your code here"
   ]
  },
  {
   "cell_type": "markdown",
   "metadata": {},
   "source": [
    "**Answer:**"
   ]
  },
  {
   "cell_type": "code",
   "execution_count": 73,
   "metadata": {},
   "outputs": [
    {
     "name": "stdout",
     "output_type": "stream",
     "text": [
      " 0: u(2.00,3.00) = 2.7108\n",
      " 1: u(4.00,3.00) = 3.2237\n",
      " 2: u(6.00,3.00) = 3.5676\n",
      " 3: u(8.00,3.00) = 3.8337\n",
      " 4: u(10.00,3.00) = 4.0536\n",
      " 5: u(12.00,3.00) = 4.2426\n"
     ]
    }
   ],
   "source": [
    "for i,x1 in enumerate(x1_list): # i is a counter\n",
    "    u = u_func(x1,x2,alpha=0.25)\n",
    "    print(f'{i:2d}: u({x1:.2f},{x2:.2f}) = {u:.4f}')"
   ]
  },
  {
   "cell_type": "markdown",
   "metadata": {},
   "source": [
    "**More formatting options?** See these [examples](https://www.python-course.eu/python3_formatted_output.php)."
   ]
  },
  {
   "cell_type": "markdown",
   "metadata": {},
   "source": [
    "## 3.2 Print to file"
   ]
  },
  {
   "cell_type": "markdown",
   "metadata": {},
   "source": [
    "Open a text-file as a handle and write lines in it:"
   ]
  },
  {
   "cell_type": "code",
   "execution_count": 20,
   "metadata": {},
   "outputs": [],
   "source": [
    "with open('somefile.txt', 'w') as the_file: # 'w' is for 'write'\n",
    "    \n",
    "    for i, x1 in enumerate(x1_list):\n",
    "        u = u_func(x1,x2,alpha=0.25)\n",
    "        text = f'{i+10:2d}: x1 = {x1:<6.3f} x2 = {x2:<6.3f} -> u = {u:<6.3f}'\n",
    "        the_file.write(text + '\\n') # \\n gives a lineshift\n",
    "\n",
    "# note: the with clause ensures that the file is properly closed afterwards"
   ]
  },
  {
   "cell_type": "markdown",
   "metadata": {},
   "source": [
    "Open a text-file and read the lines in it and then print them:"
   ]
  },
  {
   "cell_type": "code",
   "execution_count": 21,
   "metadata": {},
   "outputs": [
    {
     "name": "stdout",
     "output_type": "stream",
     "text": [
      "10: x1 = 2.000  x2 = 3.000  -> u = 2.711 \n",
      "11: x1 = 4.000  x2 = 3.000  -> u = 3.224 \n",
      "12: x1 = 6.000  x2 = 3.000  -> u = 3.568 \n",
      "13: x1 = 8.000  x2 = 3.000  -> u = 3.834 \n",
      "14: x1 = 10.000 x2 = 3.000  -> u = 4.054 \n",
      "15: x1 = 12.000 x2 = 3.000  -> u = 4.243 \n"
     ]
    }
   ],
   "source": [
    "with open('somefile.txt', 'r') as the_file: # 'r' is for 'read'\n",
    "    \n",
    "    lines = the_file.readlines()\n",
    "    for line in lines:\n",
    "        print(line,end='') # end='' removes the extra lineshift print creates"
   ]
  },
  {
   "cell_type": "markdown",
   "metadata": {},
   "source": [
    "> **Note:** You could also write tables in LaTeX format and the import them in your LaTeX document."
   ]
  },
  {
   "cell_type": "markdown",
   "metadata": {},
   "source": [
    "## 3.3 Calculate the utility function on a grid"
   ]
  },
  {
   "cell_type": "markdown",
   "metadata": {},
   "source": [
    "**Calculate the utility function** on a 2-dimensional grid with $N$ elements in each dimension:"
   ]
  },
  {
   "cell_type": "code",
   "execution_count": 22,
   "metadata": {},
   "outputs": [],
   "source": [
    "# a. settings\n",
    "N = 100 # number of elements\n",
    "x_max = 10 # maximum value\n",
    "\n",
    "# b. allocate numpy arrays\n",
    "shape_tuple = (N,N)\n",
    "x1_values = np.empty(shape_tuple) # allocate 2d numpy array with shape=(N,N)\n",
    "x2_values = np.empty(shape_tuple)\n",
    "u_values = np.empty(shape_tuple)\n",
    "\n",
    "# Note: x1_values and x2_values are 2d. This is not strictly necessary in the present case. 1d arrays would suffice below in the nested loop and filling out of u_values. \n",
    "# However, it makes them isomorphic with the mesh grids used for countour plots, which often need 2d mesh grids. \n",
    "\n",
    "# c. fill numpy arrays\n",
    "for i in range(N): # 0,1,...,N-1\n",
    "    for j in range(N): # 0,1,...,N-1\n",
    "        x1_values[i,j] = (i/(N-1))*x_max # in [0,x_max]\n",
    "        x2_values[i,j] = (j/(N-1))*x_max # in [0,x_max]\n",
    "        u_values[i,j] = u_func(x1_values[i,j],x2_values[i,j],alpha=0.25)"
   ]
  },
  {
   "cell_type": "markdown",
   "metadata": {},
   "source": [
    "**Alternatively:** Use internal numpy functions:"
   ]
  },
  {
   "cell_type": "code",
   "execution_count": 25,
   "metadata": {},
   "outputs": [
    {
     "name": "stdout",
     "output_type": "stream",
     "text": [
      "Dimension of grid over x1 (and x2):  (100, 100)\n"
     ]
    }
   ],
   "source": [
    "x_vec = np.linspace(0,x_max,N)\n",
    "x1_values_alt,x2_values_alt = np.meshgrid(x_vec,x_vec,indexing='ij')\n",
    "print('Dimension of grid over x1 (and x2): ', x1_values_alt.shape) # Note that the grid is 2d. u_func needs 2d to calculate element by element. \n",
    "u_values_alt = u_func(x1_values_alt, x2_values_alt, alpha=0.25)"
   ]
  },
  {
   "cell_type": "markdown",
   "metadata": {},
   "source": [
    "**Mesh grids** are a little tricky to understand, but important for creating surface plots. You can read more at:  \n",
    "[GeeksforGeeks](https://www.geeksforgeeks.org/numpy-meshgrid-function/), [stack overflow](https://stackoverflow.com/questions/36013063/what-is-the-purpose-of-meshgrid-in-python-numpy) and the [numpy doc](https://numpy.org/doc/stable/reference/generated/numpy.meshgrid.html)"
   ]
  },
  {
   "cell_type": "markdown",
   "metadata": {},
   "source": [
    "Test whether the results are the same:"
   ]
  },
  {
   "cell_type": "code",
   "execution_count": 27,
   "metadata": {},
   "outputs": [
    {
     "name": "stdout",
     "output_type": "stream",
     "text": [
      "2.6645352591003757e-15\n",
      "True\n"
     ]
    }
   ],
   "source": [
    "# a. maximum absolute difference\n",
    "max_abs_diff = np.max(np.abs(u_values-u_values_alt))\n",
    "print(max_abs_diff) # very close to zero     \n",
    "\n",
    "# b. test if all values are \"close\"\n",
    "print(np.allclose(u_values,u_values_alt))"
   ]
  },
  {
   "cell_type": "markdown",
   "metadata": {},
   "source": [
    "**Note:** The results are not exactly the same due to floating point arithmetics."
   ]
  },
  {
   "cell_type": "markdown",
   "metadata": {},
   "source": [
    "## 3.4 Plot the utility function"
   ]
  },
  {
   "cell_type": "markdown",
   "metadata": {},
   "source": [
    "Import modules and state that the figures should be inlined:"
   ]
  },
  {
   "cell_type": "code",
   "execution_count": 8,
   "metadata": {},
   "outputs": [],
   "source": [
    "%matplotlib inline\n",
    "import matplotlib.pyplot as plt # baseline modul\n",
    "from mpl_toolkits.mplot3d import Axes3D # for 3d figures\n",
    "plt.style.use('seaborn-whitegrid') # whitegrid nice with 3d"
   ]
  },
  {
   "cell_type": "markdown",
   "metadata": {},
   "source": [
    "Construct the actual plot:"
   ]
  },
  {
   "cell_type": "code",
   "execution_count": 10,
   "metadata": {},
   "outputs": [
    {
     "data": {
      "image/png": "[encoded data removed]",
      "text/plain": [
       "<Figure size 432x288 with 1 Axes>"
      ]
     },
     "metadata": {},
     "output_type": "display_data"
    }
   ],
   "source": [
    "fig = plt.figure() # create the figure\n",
    "ax = fig.add_subplot(1,1,1,projection='3d') # create a 3d axis in the figure \n",
    "ax.plot_surface(x1_values,x2_values,u_values); # create surface plot in the axis\n",
    "\n",
    "# note: fig.add_subplot(a,b,c) creates the c'th subplot in a grid of a times b plots"
   ]
  },
  {
   "cell_type": "markdown",
   "metadata": {},
   "source": [
    "Make the figure **zoomable** and **panable** using a widget:"
   ]
  },
  {
   "cell_type": "code",
   "execution_count": 11,
   "metadata": {},
   "outputs": [
    {
     "data": {
      "application/vnd.jupyter.widget-view+json": {
       "model_id": "42c524b35868455fabcee77ec24d9723",
       "version_major": 2,
       "version_minor": 0
      },
      "text/plain": [
       "Canvas(toolbar=Toolbar(toolitems=[('Home', 'Reset original view', 'home', 'home'), ('Back', 'Back to previous …"
      ]
     },
     "metadata": {},
     "output_type": "display_data"
    }
   ],
   "source": [
    "%matplotlib widget\n",
    "fig = plt.figure() # create the figure\n",
    "ax = fig.add_subplot(1,1,1,projection='3d') # create a 3d axis in the figure \n",
    "ax.plot_surface(x1_values,x2_values,u_values); # create surface plot in the axis"
   ]
  },
  {
   "cell_type": "markdown",
   "metadata": {},
   "source": [
    "Turn back to normal inlining:"
   ]
  },
  {
   "cell_type": "code",
   "execution_count": 12,
   "metadata": {},
   "outputs": [],
   "source": [
    "%matplotlib inline"
   ]
  },
  {
   "cell_type": "markdown",
   "metadata": {},
   "source": [
    "**Extensions**: Use a colormap, make it pretier, and save to disk."
   ]
  },
  {
   "cell_type": "code",
   "execution_count": 13,
   "metadata": {},
   "outputs": [
    {
     "data": {
      "image/png": "[encoded data removed]",
      "text/plain": [
       "<Figure size 432x288 with 1 Axes>"
      ]
     },
     "metadata": {
      "needs_background": "light"
     },
     "output_type": "display_data"
    }
   ],
   "source": [
    "from matplotlib import cm # for colormaps\n",
    "\n",
    "# a. actual plot\n",
    "fig = plt.figure()\n",
    "ax = fig.add_subplot(1,1,1,projection='3d')\n",
    "ax.plot_surface(x1_values,x2_values,u_values,cmap=cm.jet)\n",
    "\n",
    "# b. add labels\n",
    "ax.set_xlabel('$x_1$')\n",
    "ax.set_ylabel('$x_2$')\n",
    "ax.set_zlabel('$u$')\n",
    "\n",
    "# c. invert xaxis to bring Origin in center front\n",
    "ax.invert_xaxis()\n",
    "\n",
    "# d. save\n",
    "fig.tight_layout()\n",
    "fig.savefig('someplot.pdf') # or e.g. .png "
   ]
  },
  {
   "cell_type": "markdown",
   "metadata": {},
   "source": [
    "**More formatting options?** See these [examples](https://matplotlib.org/tutorials/introductory/sample_plots.html#sphx-glr-tutorials-introductory-sample-plots-py)."
   ]
  },
  {
   "cell_type": "markdown",
   "metadata": {},
   "source": [
    "**Quizz:** follow [this link](https://forms.office.com/Pages/ResponsePage.aspx?id=kX-So6HNlkaviYyfHO_6kckJrnVYqJlJgGf8Jm3FvY9UREZRUU1BNDdJOEZDSTNMTzNTSVg1UlZNRSQlQCN0PWcu) to take a quizz on 3d plotting."
   ]
  },
  {
   "cell_type": "markdown",
   "metadata": {},
   "source": [
    "**Task**: Construct the following plot:"
   ]
  },
  {
   "cell_type": "markdown",
   "metadata": {},
   "source": [
    "![wireframeplot](https://github.com/NumEconCopenhagen/lectures-2020/raw/master/03/someplot_wireframe.png)"
   ]
  },
  {
   "cell_type": "markdown",
   "metadata": {},
   "source": [
    "**Answer:**"
   ]
  },
  {
   "cell_type": "code",
   "execution_count": 32,
   "metadata": {
    "collapsed": true,
    "jupyter": {
     "outputs_hidden": true
    }
   },
   "outputs": [],
   "source": [
    "# write your code here"
   ]
  },
  {
   "cell_type": "code",
   "execution_count": 33,
   "metadata": {
    "collapsed": true,
    "jupyter": {
     "outputs_hidden": true
    }
   },
   "outputs": [
    {
     "data": {
      "image/png": "[encoded data removed]",
      "text/plain": [
       "<Figure size 432x288 with 1 Axes>"
      ]
     },
     "metadata": {
      "needs_background": "light"
     },
     "output_type": "display_data"
    }
   ],
   "source": [
    "# a. actual plot\n",
    "fig = plt.figure()\n",
    "ax = fig.add_subplot(1,1,1,projection='3d')\n",
    "ax.plot_wireframe(x1_values,x2_values,u_values,edgecolor='black')\n",
    "\n",
    "# b. add labels\n",
    "ax.set_xlabel('$x_1$')\n",
    "ax.set_ylabel('$x_2$')\n",
    "ax.set_zlabel('$u$')\n",
    "\n",
    "# c. invert xaxis\n",
    "ax.invert_xaxis()\n",
    "\n",
    "# e. save\n",
    "fig.tight_layout()\n",
    "fig.savefig('someplot_wireframe.png')\n",
    "fig.savefig('someplot_wireframe.pdf')"
   ]
  },
  {
   "cell_type": "markdown",
   "metadata": {},
   "source": [
    "## 3.5 Summary"
   ]
  },
  {
   "cell_type": "markdown",
   "metadata": {},
   "source": [
    "We have talked about:\n",
    "\n",
    "1. Print (to screen and file)\n",
    "2. Figures (matplotlib)"
   ]
  },
  {
   "cell_type": "markdown",
   "metadata": {},
   "source": [
    "**Other plotting libraries:** [seaborn](https://seaborn.pydata.org/) and [bokeh](https://bokeh.pydata.org/en/latest/)."
   ]
  },
  {
   "cell_type": "markdown",
   "metadata": {},
   "source": [
    "<a id=\"Algorithm-1:-Simple-loops\"></a>\n",
    "\n",
    "# 4. Algorithm 1: Simple loops"
   ]
  },
  {
   "cell_type": "markdown",
   "metadata": {},
   "source": [
    "Remember the problem we wanted to solve:"
   ]
  },
  {
   "cell_type": "markdown",
   "metadata": {},
   "source": [
    "$$\n",
    "\\begin{aligned}\n",
    "V(p_{1},p_{2},I) & = \\max_{x_{1},x_{2}}u(x_{1},x_{2})\\\\\n",
    " & \\text{s.t.}\\\\\n",
    "p_{1}x_{1}+p_{2}x_{2} & \\leq I,\\,\\,\\,p_{1},p_{2},I>0\\\\\n",
    "x_{1},x_{2} & \\geq 0\n",
    "\\end{aligned}\n",
    "$$"
   ]
  },
  {
   "cell_type": "markdown",
   "metadata": {},
   "source": [
    "**Idea:** Loop through a grid of $N_1 \\times N_2$ possible solutions. This is the same as solving:\n",
    "\n",
    "$$\n",
    "\\begin{aligned}\n",
    "V(p_{1},p_{2},I) & = \\max_{x_{1}\\in X_1,x_{2} \\in X_2} x_1^{\\alpha}x_2^{1-\\alpha}\\\\\n",
    " & \\text{s.t.}\\\\\n",
    " X_1 & = \\left\\{0,\\frac{1}{N_1-1}\\frac{I}{p_1},\\frac{2}{N_1-1}\\frac{I}{p_1},\\dots,\\frac{I}{p_1}\\right\\} \\\\\n",
    " X_2 & = \\left\\{0,\\frac{1}{N_2-1}\\frac{I}{p_2},\\frac{2}{N_2-1}\\frac{ I}{p_2},\\dots,\\frac{ I}{p_2}\\right\\} \\\\\n",
    "p_{1}x_{1}+p_{2}x_{2} & \\leq I\\\\\n",
    "\\end{aligned}\n",
    "$$"
   ]
  },
  {
   "cell_type": "markdown",
   "metadata": {},
   "source": [
    "Function doing just this:"
   ]
  },
  {
   "cell_type": "code",
   "execution_count": 37,
   "metadata": {},
   "outputs": [],
   "source": [
    "def find_best_choice(alpha,I,p1,p2,N1,N2,do_print=True):\n",
    "    \n",
    "    # a. allocate numpy arrays\n",
    "    shape_tuple = (N1,N2)\n",
    "    x1_values = np.empty(shape_tuple)\n",
    "    x2_values = np.empty(shape_tuple)\n",
    "    u_values = np.empty(shape_tuple)\n",
    "    \n",
    "    # b. start from guess of x1=x2=0\n",
    "    x1_best = 0\n",
    "    x2_best = 0\n",
    "    u_best = u_func(0,0,alpha=alpha)\n",
    "    \n",
    "    # c. loop through all possibilities\n",
    "    for i in range(N1):\n",
    "        for j in range(N2):\n",
    "            \n",
    "            # i. x1 and x2 (chained assignment)\n",
    "            x1_values[i,j] = x1 = (i/(N1-1))*I/p1\n",
    "            x2_values[i,j] = x2 = (j/(N2-1))*I/p2\n",
    "            \n",
    "            # ii. utility\n",
    "            if p1*x1 + p2*x2 <= I: # u(x1,x2) if expenditures <= income \n",
    "                u_values[i,j] = u_func(x1,x2,alpha=alpha)\n",
    "            else: # u(0,0) if expenditures > income\n",
    "                u_values[i,j] = u_func(0,0,alpha=alpha)\n",
    "            \n",
    "            # iii. check if best sofar\n",
    "            if u_values[i,j] > u_best:\n",
    "                x1_best = x1_values[i,j]\n",
    "                x2_best = x2_values[i,j] \n",
    "                u_best = u_values[i,j]\n",
    "    \n",
    "    # d. print\n",
    "    if do_print:\n",
    "        print_solution(x1_best,x2_best,u_best,I,p1,p2)\n",
    "\n",
    "    return x1_best,x2_best,u_best,x1_values,x2_values,u_values\n",
    "\n",
    "# function for printing the solution\n",
    "def print_solution(x1,x2,u,I,p1,p2):\n",
    "    print(f'x1 = {x1:.8f}')\n",
    "    print(f'x2 = {x2:.8f}')\n",
    "    print(f'u  = {u:.8f}')\n",
    "    print(f'I-p1*x1-p2*x2 = {I-p1*x1-p2*x2:.8f}') "
   ]
  },
  {
   "cell_type": "markdown",
   "metadata": {},
   "source": [
    "Call the function:"
   ]
  },
  {
   "cell_type": "code",
   "execution_count": 17,
   "metadata": {},
   "outputs": [
    {
     "name": "stdout",
     "output_type": "stream",
     "text": [
      "x1 = 2.50501002\n",
      "x2 = 3.74686717\n",
      "u  = 3.38807948\n",
      "I-p1*x1-p2*x2 = 0.00125564\n"
     ]
    }
   ],
   "source": [
    "sol = find_best_choice(alpha=0.25,I=10,p1=1,p2=2,N1=500,N2=400)"
   ]
  },
  {
   "cell_type": "markdown",
   "metadata": {},
   "source": [
    "Plot the solution:"
   ]
  },
  {
   "cell_type": "code",
   "execution_count": 18,
   "metadata": {},
   "outputs": [
    {
     "data": {
      "application/vnd.jupyter.widget-view+json": {
       "model_id": "5875f11fd5b3489fa20a56e3c31102b1",
       "version_major": 2,
       "version_minor": 0
      },
      "text/plain": [
       "Canvas(toolbar=Toolbar(toolitems=[('Home', 'Reset original view', 'home', 'home'), ('Back', 'Back to previous …"
      ]
     },
     "metadata": {},
     "output_type": "display_data"
    }
   ],
   "source": [
    "%matplotlib widget\n",
    "\n",
    "# a. unpack solution\n",
    "x1_best,x2_best,u_best,x1_values,x2_values,u_values = sol\n",
    "\n",
    "# b. setup figure\n",
    "fig = plt.figure(dpi=100,num='')\n",
    "ax = fig.add_subplot(1,1,1,projection='3d')\n",
    "\n",
    "# c. plot 3d surface of utility values for different choices\n",
    "ax.plot_surface(x1_values,x2_values,u_values,cmap=cm.jet)\n",
    "ax.invert_xaxis()\n",
    "\n",
    "# d. plot optimal choice\n",
    "ax.scatter(x1_best,x2_best,u_best,s=50,color='black');"
   ]
  },
  {
   "cell_type": "markdown",
   "metadata": {},
   "source": [
    "**Quizz:** take a quick [quizz](https://forms.office.com/Pages/ResponsePage.aspx?id=kX-So6HNlkaviYyfHO_6kckJrnVYqJlJgGf8Jm3FvY9UOFVXRE5YSEQwVjdETDY4MDVCODlTMk5UQiQlQCN0PWcu) on plotting the simple loop."
   ]
  },
  {
   "cell_type": "code",
   "execution_count": 105,
   "metadata": {},
   "outputs": [],
   "source": [
    "%matplotlib inline"
   ]
  },
  {
   "cell_type": "markdown",
   "metadata": {},
   "source": [
    "**Task**: Can you find a better solution with higher utility and lower left-over income, $I-p_1 x_1-p_2 x_2$?"
   ]
  },
  {
   "cell_type": "code",
   "execution_count": 38,
   "metadata": {
    "collapsed": true,
    "jupyter": {
     "outputs_hidden": true
    }
   },
   "outputs": [],
   "source": [
    "# write your code here\n",
    "# sol = find_best_choice()"
   ]
  },
  {
   "cell_type": "markdown",
   "metadata": {},
   "source": [
    "**Answer:**"
   ]
  },
  {
   "cell_type": "code",
   "execution_count": 39,
   "metadata": {
    "collapsed": true,
    "jupyter": {
     "outputs_hidden": true
    }
   },
   "outputs": [
    {
     "name": "stdout",
     "output_type": "stream",
     "text": [
      "x1 = 2.50250250\n",
      "x2 = 3.74874875\n",
      "u  = 3.38850695\n",
      "I-p1*x1-p2*x2 = 0.00000000\n"
     ]
    }
   ],
   "source": [
    "sol = find_best_choice(alpha=0.25,I=10,p1=1,p2=2,N1=1000,N2=1000)"
   ]
  },
  {
   "cell_type": "markdown",
   "metadata": {},
   "source": [
    "<a id=\"Algorithm-2:-Use-monotonicity\"></a>\n",
    "\n",
    "# 5. Algorithm 2: Use monotonicity"
   ]
  },
  {
   "cell_type": "markdown",
   "metadata": {},
   "source": [
    "**Idea:** Loop through a grid of $N$ possible solutions for $x_1$ and assume the remainder is spent on $x_2$. This is the same as solving:\n",
    "\n",
    "$$\n",
    "\\begin{aligned}\n",
    "V(p_{1},p_{2},I) & = \\max_{x_{1}\\in X_1} x_1^{\\alpha}x_2^{1-\\alpha}\\\\\n",
    " \\text{s.t.}\\\\\n",
    " X_1 & = \\left\\{0,\\frac{1}{N-1}\\frac{}{p_1},\\frac{2}{N-1}\\frac{I}{p_1},\\dots,\\frac{I}{p_1}\\right\\} \\\\\n",
    "x_{2} & = \\frac{I-p_{1}x_{1}}{p_2}\\\\\n",
    "\\end{aligned}\n",
    "$$"
   ]
  },
  {
   "cell_type": "markdown",
   "metadata": {},
   "source": [
    "Function doing just this:"
   ]
  },
  {
   "cell_type": "code",
   "execution_count": 102,
   "metadata": {},
   "outputs": [],
   "source": [
    "def find_best_choice_monotone(alpha,I,p1,p2,N,do_print=True):\n",
    "    \n",
    "    # a. allocate numpy arrays\n",
    "    shape_tuple = (N)\n",
    "    x1_values = np.empty(shape_tuple)\n",
    "    x2_values = np.empty(shape_tuple)\n",
    "    u_values = np.empty(shape_tuple)\n",
    "    \n",
    "    # b. start from guess of x1=x2=0\n",
    "    x1_best = 0\n",
    "    x2_best = 0\n",
    "    u_best = u_func(0,0,alpha)\n",
    "    \n",
    "    # c. loop through all possibilities\n",
    "    for i in range(N):\n",
    "        \n",
    "        # i. x1\n",
    "        x1_values[i] = x1 = i/(N-1)*I/p1\n",
    "        \n",
    "        # ii. implied x2\n",
    "        x2_values[i] = x2 = (I-p1*x1)/p2\n",
    "            \n",
    "        # iii. utility    \n",
    "        u_values[i] = u_func(x1,x2,alpha)\n",
    "        \n",
    "        if u_values[i] >= u_best:    \n",
    "            x1_best = x1_values[i]\n",
    "            x2_best = x2_values[i] \n",
    "            u_best = u_values[i]\n",
    "            \n",
    "    # d. print\n",
    "    if do_print:\n",
    "        print_solution(x1_best,x2_best,u_best,I,p1,p2)   \n",
    "\n",
    "    return x1_best,x2_best,u_best,x1_values,x2_values,u_values"
   ]
  },
  {
   "cell_type": "code",
   "execution_count": 103,
   "metadata": {},
   "outputs": [
    {
     "name": "stdout",
     "output_type": "stream",
     "text": [
      "x1 = 2.50250250\n",
      "x2 = 3.74874875\n",
      "u  = 3.38850695\n",
      "I-p1*x1-p2*x2 = 0.00000000\n"
     ]
    }
   ],
   "source": [
    "sol_monotone = find_best_choice_monotone(alpha=0.25,I=10,p1=1,p2=2,N=1000) "
   ]
  },
  {
   "cell_type": "markdown",
   "metadata": {},
   "source": [
    "Plot the solution:"
   ]
  },
  {
   "cell_type": "code",
   "execution_count": 106,
   "metadata": {},
   "outputs": [
    {
     "data": {
      "image/png": "[encoded data removed]",
      "text/plain": [
       "<Figure size 720x288 with 2 Axes>"
      ]
     },
     "metadata": {},
     "output_type": "display_data"
    }
   ],
   "source": [
    "plt.style.use(\"seaborn-whitegrid\")\n",
    "\n",
    "# a. create the figure\n",
    "fig = plt.figure(figsize=(10,4))# figsize is in inches...\n",
    "\n",
    "# b. unpack solution\n",
    "x1_best,x2_best,u_best,x1_values,x2_values,u_values = sol_monotone\n",
    "\n",
    "# c. left plot\n",
    "ax_left = fig.add_subplot(1,2,1)\n",
    "\n",
    "ax_left.plot(x1_values,u_values)\n",
    "ax_left.scatter(x1_best,u_best) # Add the solution as a dot\n",
    "\n",
    "ax_left.set_title('value of choice, $u(x_1,x_2)$')\n",
    "ax_left.set_xlabel('$x_1$')\n",
    "ax_left.set_ylabel('$u(x_1,(I-p_1 x_1)/p_2)$')\n",
    "ax_left.grid(True)\n",
    "\n",
    "# c. right plot\n",
    "ax_right = fig.add_subplot(1,2,2)\n",
    "\n",
    "ax_right.plot(x1_values,x2_values)\n",
    "ax_right.scatter(x1_best,x2_best)\n",
    "\n",
    "ax_right.set_title('implied $x_2$')\n",
    "ax_right.set_xlabel('$x_1$')\n",
    "ax_right.set_ylabel('$x_2$')\n",
    "ax_right.grid(True)"
   ]
  },
  {
   "cell_type": "markdown",
   "metadata": {},
   "source": [
    "<a id=\"Algorithm-3:-Call-a-solver\"></a>\n",
    "\n",
    "# 6. Algorithm 3: Call a solver\n"
   ]
  },
  {
   "cell_type": "code",
   "execution_count": 34,
   "metadata": {},
   "outputs": [],
   "source": [
    "from scipy import optimize"
   ]
  },
  {
   "cell_type": "markdown",
   "metadata": {},
   "source": [
    "Choose paramters:"
   ]
  },
  {
   "cell_type": "code",
   "execution_count": 35,
   "metadata": {},
   "outputs": [],
   "source": [
    "alpha = 0.25 # preference parameter\n",
    "I = 10 # income\n",
    "p1 = 1 # price 1\n",
    "p2 = 2 # price 2"
   ]
  },
  {
   "cell_type": "markdown",
   "metadata": {},
   "source": [
    "**Case 1**: Scalar solver using monotonicity."
   ]
  },
  {
   "cell_type": "code",
   "execution_count": 38,
   "metadata": {},
   "outputs": [
    {
     "name": "stdout",
     "output_type": "stream",
     "text": [
      "x1 = 2.50000006\n",
      "x2 = 3.74999997\n",
      "u  = 3.38850751\n",
      "I-p1*x1-p2*x2 = 0.00000000\n"
     ]
    }
   ],
   "source": [
    "# a. objective funciton (to minimize)\n",
    "def value_of_choice(x1,alpha,I,p1,p2):\n",
    "    x2 = (I-p1*x1)/p2\n",
    "    return -u_func(x1,x2,alpha)\n",
    "\n",
    "# b. call solver\n",
    "sol_case1 = optimize.minimize_scalar(\n",
    "    value_of_choice,method='bounded',\n",
    "    bounds=(0,I/p1),args=(alpha,I,p1,p2))\n",
    "\n",
    "# c. unpack solution\n",
    "x1 = sol_case1.x\n",
    "x2 = (I-p1*x1)/p2\n",
    "u = u_func(x1,x2,alpha)\n",
    "print_solution(x1,x2,u,I,p1,p2)"
   ]
  },
  {
   "cell_type": "markdown",
   "metadata": {},
   "source": [
    "**Case 2**: Multi-dimensional constrained solver."
   ]
  },
  {
   "cell_type": "code",
   "execution_count": 39,
   "metadata": {},
   "outputs": [
    {
     "name": "stdout",
     "output_type": "stream",
     "text": [
      "x1 = 2.49937952\n",
      "x2 = 3.75031024\n",
      "u  = 3.38850748\n",
      "I-p1*x1-p2*x2 = 0.00000000\n"
     ]
    }
   ],
   "source": [
    "# a. objective function (to minimize)\n",
    "def value_of_choice(x,alpha,I,p1,p2):\n",
    "    # note: x is a vector\n",
    "    x1 = x[0]\n",
    "    x2 = x[1]\n",
    "    return -u_func(x1,x2,alpha)\n",
    "\n",
    "# b. constraints (violated if negative) and bounds\n",
    "constraints = ({'type': 'ineq', 'fun': lambda x:  I-p1*x[0]-p2*x[1]})\n",
    "bounds = ((0,I/p1),(0,I/p2))\n",
    "\n",
    "# c. call solver\n",
    "initial_guess = [I/p1/2,I/p2/2]\n",
    "sol_case2 = optimize.minimize(\n",
    "    value_of_choice,initial_guess,args=(alpha,I,p1,p2),\n",
    "    method='SLSQP',bounds=bounds,constraints=constraints)\n",
    "\n",
    "# d. unpack solution\n",
    "x1 = sol_case2.x[0]\n",
    "x2 = sol_case2.x[1]\n",
    "u = u_func(x1,x2,alpha)\n",
    "print_solution(x1,x2,u,I,p1,p2)"
   ]
  },
  {
   "cell_type": "markdown",
   "metadata": {},
   "source": [
    "**Case 3**: Multi-dimensional unconstrained solver with constrains implemented via penalties."
   ]
  },
  {
   "cell_type": "code",
   "execution_count": 41,
   "metadata": {},
   "outputs": [
    {
     "name": "stdout",
     "output_type": "stream",
     "text": [
      "x1 = 2.58573053\n",
      "x2 = 3.87859581\n",
      "u  = 3.50470694\n",
      "I-p1*x1-p2*x2 = -0.34292214\n"
     ]
    }
   ],
   "source": [
    "# a. objective function (to minimize)\n",
    "def value_of_choice(x,alpha,I,p1,p2):\n",
    "    \n",
    "    # i. unpack\n",
    "    x1 = x[0]\n",
    "    x2 = x[1]\n",
    "    \n",
    "    # ii. penalty\n",
    "    penalty = 0\n",
    "    E = p1*x1+p2*x2 # total expenses\n",
    "    if E > I: # expenses > income -> not allowed\n",
    "        fac = I/E\n",
    "        penalty += 1000*(E-I) # calculate penalty        \n",
    "        x1 *= fac # force E = I\n",
    "        x2 *= fac # force E = I\n",
    "        \n",
    "    return -u_func(x1,x2,alpha) \n",
    "\n",
    "# b. call solver\n",
    "initial_guess = [I/p1/2,I/p2/2]\n",
    "sol_case3 = optimize.minimize(\n",
    "    value_of_choice,initial_guess,method='Nelder-Mead',\n",
    "    args=(alpha,I,p1,p2))\n",
    "\n",
    "# c. unpack solution\n",
    "x1 = sol_case3.x[0]\n",
    "x2 = sol_case3.x[1]\n",
    "u = u_func(x1,x2,alpha)\n",
    "print_solution(x1,x2,u,I,p1,p2)"
   ]
  },
  {
   "cell_type": "markdown",
   "metadata": {},
   "source": [
    "**Task:** Find the <font color='red'>**error**</font> in the code in the previous cell."
   ]
  },
  {
   "cell_type": "code",
   "execution_count": 48,
   "metadata": {},
   "outputs": [],
   "source": [
    "# write your code here"
   ]
  },
  {
   "cell_type": "markdown",
   "metadata": {},
   "source": [
    "**Answer:**"
   ]
  },
  {
   "cell_type": "code",
   "execution_count": 49,
   "metadata": {
    "collapsed": true,
    "jupyter": {
     "outputs_hidden": true
    }
   },
   "outputs": [
    {
     "name": "stdout",
     "output_type": "stream",
     "text": [
      "x1 = 2.49995337\n",
      "x2 = 3.75002332\n",
      "u  = 3.38850751\n",
      "I-p1*x1-p2*x2 = 0.00000000\n"
     ]
    }
   ],
   "source": [
    "# a. objective function (to minimize)\n",
    "def value_of_choice(x,alpha,I,p1,p2):\n",
    "    \n",
    "    # i. unpack\n",
    "    x1 = x[0]\n",
    "    x2 = x[1]\n",
    "    \n",
    "    # ii. penalty\n",
    "    penalty = 0\n",
    "    E = p1*x1+p2*x2 # total expenses\n",
    "    if E > I: # expenses > income -> not allowed\n",
    "        fac = I/E\n",
    "        penalty += 1000*(E-I) # calculate penalty        \n",
    "        x1 *= fac # force E = I\n",
    "        x2 *= fac # force E = I\n",
    "        \n",
    "    return -u_func(x1,x2,alpha) + penalty # the error\n",
    "\n",
    "# b. call solver\n",
    "initial_guess = [I/p1/2,I/p2/2]\n",
    "sol_case3 = optimize.minimize(\n",
    "    value_of_choice,initial_guess,method='Nelder-Mead',\n",
    "    args=(alpha,I,p1,p2))\n",
    "\n",
    "# c. unpack solution\n",
    "x1 = sol_case3.x[0]\n",
    "x2 = sol_case3.x[1]\n",
    "u = u_func(x1,x2,alpha)\n",
    "print_solution(x1,x2,u,I,p1,p2)"
   ]
  },
  {
   "cell_type": "markdown",
   "metadata": {},
   "source": [
    "<a id=\"Indifference-curves\"></a>\n",
    "\n",
    "# 7. Indifference curves"
   ]
  },
  {
   "cell_type": "markdown",
   "metadata": {},
   "source": [
    "Remember that the indifference curve through the point $(y_1,y_2)$ is given by\n",
    "\n",
    "$$\n",
    "\\big\\{(x_1,x_2) \\in \\mathbb{R}^2_+ \\,|\\, u(x_1,x_2) = u(y_1,y_2)\\big\\}\n",
    "$$\n",
    "\n",
    "To find the indifference curve, we can fix a grid for $x_2$, and then find the corresponding $x_1$ which solves $u(x_1,x_2) = u(y_1,y_2)$ for each value of $x_2$."
   ]
  },
  {
   "cell_type": "code",
   "execution_count": 96,
   "metadata": {},
   "outputs": [],
   "source": [
    "def objective(x1,x2,alpha,u):\n",
    "    return u_func(x1,x2,alpha)-u \n",
    "    # = 0 then on indifference curve with utility = u\n",
    "\n",
    "def find_indifference_curve(y1,y2,alpha,N,x2_max):\n",
    "    \n",
    "    # a. utility in (y1,y2)\n",
    "    u_y1y2 = u_func(y1,y2,alpha)\n",
    "    \n",
    "    # b. allocate numpy arrays\n",
    "    x1_vec = np.empty(N)\n",
    "    x2_vec = np.linspace(1e-8,x2_max,N)\n",
    "    \n",
    "    # c. loop through x2\n",
    "    for i,x2 in enumerate(x2_vec):\n",
    "\n",
    "        x1_guess = 0 # initial guess\n",
    "        sol = optimize.root(objective, x1_guess, args=(x2,alpha,u_y1y2)) \n",
    "        # optimize.root -> solve objective = 0 starting from x1 = x1_guess\n",
    "        \n",
    "        x1_vec[i] = sol.x[0]\n",
    "    \n",
    "    return x1_vec,x2_vec"
   ]
  },
  {
   "cell_type": "markdown",
   "metadata": {},
   "source": [
    "Find and plot an inddifference curve:"
   ]
  },
  {
   "cell_type": "code",
   "execution_count": 107,
   "metadata": {},
   "outputs": [
    {
     "data": {
      "image/png": "[encoded data removed]",
      "text/plain": [
       "<Figure size 432x432 with 1 Axes>"
      ]
     },
     "metadata": {},
     "output_type": "display_data"
    }
   ],
   "source": [
    "# a. find indifference curve through (4,4) for x2 in [0,10]\n",
    "x2_max = 10\n",
    "x1_vec,x2_vec = find_indifference_curve(y1=4,y2=4,alpha=0.25,N=100,x2_max=x2_max) \n",
    "\n",
    "# b. plot inddifference curve\n",
    "fig = plt.figure(figsize=(6,6))\n",
    "ax = fig.add_subplot(1,1,1)\n",
    "\n",
    "ax.plot(x1_vec,x2_vec)\n",
    "\n",
    "ax.set_xlabel('$x_1$')\n",
    "ax.set_ylabel('$x_2$')\n",
    "ax.set_xlim([0,x2_max])\n",
    "ax.set_ylim([0,x2_max])\n",
    "ax.grid(True)"
   ]
  },
  {
   "cell_type": "markdown",
   "metadata": {},
   "source": [
    "**Task:** Find the indifference curve through $x_1 = 15$ and $x_2 = 3$ with $\\alpha = 0.5$."
   ]
  },
  {
   "cell_type": "code",
   "execution_count": 52,
   "metadata": {
    "code_folding": [],
    "collapsed": true,
    "hidden": true,
    "jupyter": {
     "outputs_hidden": true
    }
   },
   "outputs": [],
   "source": [
    "# write your code here"
   ]
  },
  {
   "cell_type": "code",
   "execution_count": 53,
   "metadata": {
    "collapsed": true,
    "jupyter": {
     "outputs_hidden": true
    }
   },
   "outputs": [
    {
     "data": {
      "image/png": "[encoded data removed]",
      "text/plain": [
       "<Figure size 432x432 with 1 Axes>"
      ]
     },
     "metadata": {},
     "output_type": "display_data"
    }
   ],
   "source": [
    "x2_max = 20\n",
    "x1_vec,x2_vec = find_indifference_curve(y1=15,y2=3,alpha=0.5,N=100,x2_max=x2_max) \n",
    "\n",
    "fig = plt.figure(figsize=(6,6))\n",
    "ax = fig.add_subplot(1,1,1)\n",
    "ax.plot(x1_vec,x2_vec)\n",
    "\n",
    "ax.set_xlabel('$x_1$')\n",
    "ax.set_ylabel('$x_2$')\n",
    "ax.set_xlim([0,x2_max])\n",
    "ax.set_ylim([0,x2_max])\n",
    "ax.grid(True)"
   ]
  },
  {
   "cell_type": "markdown",
   "metadata": {},
   "source": [
    "<a id=\"A-classy-solution\"></a>\n",
    "\n",
    "# 8. A classy solution"
   ]
  },
  {
   "cell_type": "markdown",
   "metadata": {},
   "source": [
    "> **Note:** This section is advanced due to the use of a module with a class. It is, however, a good example of how to structure code for solving and illustrating a model."
   ]
  },
  {
   "cell_type": "markdown",
   "metadata": {},
   "source": [
    "**Load module** I have written (consumer_module.py in the same folder as this notebook)."
   ]
  },
  {
   "cell_type": "code",
   "execution_count": 57,
   "metadata": {},
   "outputs": [],
   "source": [
    "from consumer_module import consumer"
   ]
  },
  {
   "cell_type": "markdown",
   "metadata": {},
   "source": [
    "## 8.1 Jeppe"
   ]
  },
  {
   "cell_type": "markdown",
   "metadata": {},
   "source": [
    "Give birth to a consumer called **jeppe**:"
   ]
  },
  {
   "cell_type": "code",
   "execution_count": 45,
   "metadata": {},
   "outputs": [
    {
     "name": "stdout",
     "output_type": "stream",
     "text": [
      "alpha = 0.500\n",
      "price vector = (p1,p2) = (1.000,2.000)\n",
      "income = I = 10.000\n",
      "\n"
     ]
    }
   ],
   "source": [
    "jeppe = consumer() # create an instance of the consumer class called jeppe\n",
    "print(jeppe)"
   ]
  },
  {
   "cell_type": "markdown",
   "metadata": {},
   "source": [
    "Solve **jeppe**'s problem."
   ]
  },
  {
   "cell_type": "code",
   "execution_count": 59,
   "metadata": {},
   "outputs": [
    {
     "name": "stdout",
     "output_type": "stream",
     "text": [
      "alpha = 0.500\n",
      "price vector = (p1,p2) = (1.000,2.000)\n",
      "income = I = 10.000\n",
      "solution:\n",
      " x1 = 5.00\n",
      " x2 = 2.50\n",
      "\n"
     ]
    }
   ],
   "source": [
    "jeppe.solve()\n",
    "print(jeppe)"
   ]
  },
  {
   "cell_type": "markdown",
   "metadata": {},
   "source": [
    "## 8.2 Mette"
   ]
  },
  {
   "cell_type": "markdown",
   "metadata": {},
   "source": [
    "Create a new consumer, called Mette, and solve her problem."
   ]
  },
  {
   "cell_type": "code",
   "execution_count": 61,
   "metadata": {},
   "outputs": [
    {
     "name": "stdout",
     "output_type": "stream",
     "text": [
      "alpha = 0.250\n",
      "price vector = (p1,p2) = (1.000,2.000)\n",
      "income = I = 10.000\n",
      "solution:\n",
      " x1 = 2.50\n",
      " x2 = 3.75\n",
      "\n"
     ]
    }
   ],
   "source": [
    "mette = consumer(alpha=0.25)\n",
    "mette.solve()\n",
    "mette.find_indifference_curves()\n",
    "print(mette)"
   ]
  },
  {
   "cell_type": "markdown",
   "metadata": {},
   "source": [
    "Make an illustration of Mette's problem and it's solution:"
   ]
  },
  {
   "cell_type": "code",
   "execution_count": 108,
   "metadata": {},
   "outputs": [
    {
     "data": {
      "image/png": "[encoded data removed]",
      "text/plain": [
       "<Figure size 432x432 with 1 Axes>"
      ]
     },
     "metadata": {},
     "output_type": "display_data"
    }
   ],
   "source": [
    "fig = plt.figure(figsize=(6,6))\n",
    "ax = fig.add_subplot(1,1,1)\n",
    "\n",
    "mette.plot_indifference_curves(ax)\n",
    "mette.plot_budgetset(ax)\n",
    "mette.plot_solution(ax)\n",
    "mette.plot_details(ax)"
   ]
  },
  {
   "cell_type": "markdown",
   "metadata": {},
   "source": [
    "**Advanced note:** Looking at the code behind the consumer class, you'll notice the 'self' argument a lot. This argument links the functions in the class definition, which holds all the instructions for behavior, and the specific object. And exactly because 'self' is the first argument in class functions, one can actually call the general class and provide it with the object one wants to evaluate a function on. "
   ]
  },
  {
   "cell_type": "code",
   "execution_count": 65,
   "metadata": {},
   "outputs": [
    {
     "name": "stdout",
     "output_type": "stream",
     "text": [
      "call to consumer class: \n",
      " alpha = 0.500\n",
      "price vector = (p1,p2) = (1.000,2.000)\n",
      "income = I = 10.000\n",
      "solution:\n",
      " x1 = 5.00\n",
      " x2 = 2.50\n",
      "\n",
      "2\n",
      "call to the object christian directly: \n",
      " alpha = 0.500\n",
      "price vector = (p1,p2) = (1.000,2.000)\n",
      "income = I = 10.000\n",
      "solution:\n",
      " x1 = 5.00\n",
      " x2 = 2.50\n",
      "\n"
     ]
    }
   ],
   "source": [
    "# Example: \n",
    "christian = consumer()\n",
    "\n",
    "# Calling the consumer class function and providing the object christian :\n",
    "consumer.solve(christian)\n",
    "print('call to consumer class: \\n',christian)\n",
    "\n",
    "# is the same as the call to the christian object directly\n",
    "christian.solve()\n",
    "print('call to the object christian directly: \\n',christian)"
   ]
  },
  {
   "cell_type": "markdown",
   "metadata": {},
   "source": [
    "<a id=\"Summary\"></a>\n",
    "\n",
    "# 9. Summary"
   ]
  },
  {
   "cell_type": "markdown",
   "metadata": {},
   "source": [
    "**This lecture:** We have talked about:\n",
    "\n",
    "1. Numpy (view vs. copy, indexing, broadcasting, functions, methods)\n",
    "2. Print (to screen and file)\n",
    "3. Figures (matplotlib)\n",
    "4. Optimization (using loops or scipy.optimize)\n",
    "5. Advanced: Consumer class"
   ]
  },
  {
   "cell_type": "markdown",
   "metadata": {},
   "source": [
    "Most economic models contain optimizing agents solving a constrained optimization problem. The tools applied in this lecture is not specific to the consumer problem in anyway."
   ]
  },
  {
   "cell_type": "markdown",
   "metadata": {},
   "source": [
    "**Your work:** Before solving Problem Set 1 read through this notebook and play around with the code. To solve the problem set, you only need to modify the code used here slightly."
   ]
  },
  {
   "cell_type": "markdown",
   "metadata": {},
   "source": [
    "**Next lecture:** Random numbers and simulation."
   ]
  }
 ],
 "metadata": {
  "kernelspec": {
   "display_name": "Python 3",
   "language": "python",
   "name": "python3"
  },
  "language_info": {
   "codemirror_mode": {
    "name": "ipython",
    "version": 3
   },
   "file_extension": ".py",
   "mimetype": "text/x-python",
   "name": "python",
   "nbconvert_exporter": "python",
   "pygments_lexer": "ipython3",
   "version": "3.8.5"
  },
  "toc-autonumbering": false,
  "toc-showcode": false,
  "toc-showmarkdowntxt": false,
  "toc-showtags": false
 },
 "nbformat": 4,
 "nbformat_minor": 4
}
