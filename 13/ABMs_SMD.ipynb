{
 "cells": [
  {
   "cell_type": "markdown",
   "metadata": {},
   "source": [
    "# The Schelling model"
   ]
  },
  {
   "cell_type": "markdown",
   "metadata": {},
   "source": [
    "The Schelling model demontrates how racial seggregation may occur in equilibrium, even though no citizen has particularly strong racist feelings. The model is from the seminal paper Schelling, T. (1971), \"Dynamic Models of Segregation\", *Journal of Mathematical Sociology*. It is very intuitive **and** widely cited. It also lends itself nicely to demonstrate Object Oriented Programming, which we will talk more about in the first part today.  \n",
    "* [Thomas Schelling's paper](https://www.uzh.ch/cmsssl/suz/dam/jcr:00000000-68cb-72db-ffff-ffffff8071db/04.02%7B_%7Dschelling%7B_%7D71.pdf)"
   ]
  },
  {
   "cell_type": "code",
   "execution_count": null,
   "metadata": {},
   "outputs": [],
   "source": [
    "import schelling\n",
    "import ConsumptionSaving as cs\n",
    "%load_ext autoreload\n",
    "%autoreload 2\n",
    "from types import SimpleNamespace\n",
    "from copy import copy\n",
    "from scipy import optimize\n",
    "import numpy as np\n",
    "%matplotlib inline\n",
    "import matplotlib.pyplot as plt\n",
    "plt.style.use('seaborn-whitegrid')"
   ]
  },
  {
   "cell_type": "markdown",
   "metadata": {},
   "source": [
    "## Model background\n",
    "* A lot of research since the 70s has gone into understanding the forces that drives segregation between ethnic groups.\n",
    "* This goes especially in the US, where heavy segregeation mostly entails poor outcomes for ethnic minorities.\n",
    "* \"White flight\" out of urban centres was a common observation in the 70s and 80s, both in the US and Europe.\n",
    "* The question then quickly becomes, how much does racism factor into this trend?\n",
    "* The Schelling model shows that even **weak preferences** for having similar type neighbors are enough to drive segregation. "
   ]
  },
  {
   "cell_type": "markdown",
   "metadata": {},
   "source": [
    "## Model outline  \n",
    "**Agent-based** model\n",
    "* The model is a simple **agent-based** model. \n",
    "* \"Agent-based\" means that the model is entirely defined by the behavior of individual agents. \n",
    "* There are no market clearing/equilibrium conditions imposed.\n",
    "* The equilibrium must therefore emerge endogenously through a simulation.\n",
    "\n",
    "**The city**\n",
    "* The model represents a city or a landscape with $L$ locations and $N<L$ citizens.\n",
    "* Locations are similarly sized squares, making the landscape like a chess board. \n",
    "* Each \"location square\" therefore has 8 neighbouring squares. (Unless it is on the edge of the landscape)"
   ]
  },
  {
   "cell_type": "markdown",
   "metadata": {},
   "source": [
    "<img src=\"square.png\" alt=\"Drawing\" style=\"width: 200px;\"/>  "
   ]
  },
  {
   "cell_type": "markdown",
   "metadata": {},
   "source": [
    "**Citizens**\n",
    "* A citizen can only occupy 1 square at a time.\n",
    "* There are 2 groups of citizens: A and B.\n",
    "* Both groups of citizens prefer, *to some degree*, having neighbours of the same group.\n",
    "* A citizen may become **discontent and moves** from its current location. \n",
    "* This happens if the share of same-group neighbours fall below a cut-off threshold $\\sigma$\n",
    "* Consider the example below:\n",
    "    * Citizens of group A are green and group B is blue.\n",
    "    * Citizen $i$ in the middle square has 2 other A neighbours, 4 group B neighbours and 2 empty squares. \n",
    "    * The share of same type neighbours is thus $\\frac{2}{2+4} = \\frac{1}{3}$\n",
    "    * If $\\sigma > \\frac{1}{3}$, then citizen $i$ decides to move.\n",
    "    * When moving, citizen $i$ will choose a random location that was observed to be satisfactory in the previous period. (static expectations)"
   ]
  },
  {
   "cell_type": "markdown",
   "metadata": {},
   "source": [
    "<img src=\"square_citizens.png\" alt=\"Drawing\" style=\"width: 200px;\"/> "
   ]
  },
  {
   "cell_type": "markdown",
   "metadata": {},
   "source": [
    "**Model question**\n",
    "* A what level of the preference threshold $\\sigma$ will we get segregation? \n",
    "\n",
    "\n",
    "**Quiz:** What do you think?"
   ]
  },
  {
   "cell_type": "markdown",
   "metadata": {},
   "source": [
    "## Running the model\n",
    "\n",
    "* The simulation is implemented as an object that can be called.  \n",
    "* The module `schelling` has 3 classes: `Simulation`, `Square` and `Citizen`\n",
    "* Only need to create a `Simulation` object."
   ]
  },
  {
   "cell_type": "code",
   "execution_count": null,
   "metadata": {
    "tags": []
   },
   "outputs": [],
   "source": [
    "# Create simulation object and get default settings\n",
    "sim = schelling.Simulation()\n",
    "mp = sim.get_model_params()\n",
    "display(mp) # The settings displayed here can be modified"
   ]
  },
  {
   "cell_type": "markdown",
   "metadata": {},
   "source": [
    "* `n_dim` is the number of squares along each dimension of the landscape (n_dim$^2$ squares in total).\n",
    "* `cutoff` is the threshold $\\sigma$.\n",
    "* `T` is the number of simulation iterations.\n",
    "* `share_pop` is the ration of citizens to squares.\n",
    "* `share_A` and `share_B` is the share of each population group. "
   ]
  },
  {
   "cell_type": "markdown",
   "metadata": {},
   "source": [
    "Set up the simulation for default parameter values"
   ]
  },
  {
   "cell_type": "code",
   "execution_count": 27,
   "metadata": {
    "tags": []
   },
   "outputs": [
    {
     "data": {
      "image/png": "[encoded data removed]",
      "text/plain": [
       "<Figure size 432x288 with 1 Axes>"
      ]
     },
     "metadata": {},
     "output_type": "display_data"
    }
   ],
   "source": [
    "sim.setup_sim(mp)\n",
    "sim.plot_state()"
   ]
  },
  {
   "cell_type": "markdown",
   "metadata": {},
   "source": [
    "In the initial state of the model, citizens of both groups are randomly scattered over the landscape\n",
    "* Type A citizens are azure blue\n",
    "* Type B citizens are marine blue\n",
    "* Empty squares are beige"
   ]
  },
  {
   "cell_type": "markdown",
   "metadata": {},
   "source": [
    "Maybe we want a larger landscape with more citizens:"
   ]
  },
  {
   "cell_type": "code",
   "execution_count": null,
   "metadata": {
    "tags": []
   },
   "outputs": [],
   "source": [
    "# Update parameters and simulation object\n",
    "mp.n_dim = 100\n",
    "sim.setup_sim(mp)\n",
    "sim.plot_state()"
   ]
  },
  {
   "cell_type": "markdown",
   "metadata": {},
   "source": [
    "**Quizz:** [link](https://forms.office.com/Pages/ResponsePage.aspx?id=kX-So6HNlkaviYyfHO_6kckJrnVYqJlJgGf8Jm3FvY9UQ0lKNFo5UTBUN0ZIQVk3TkxEOTVCWjZMViQlQCN0PWcu)"
   ]
  },
  {
   "cell_type": "markdown",
   "metadata": {},
   "source": [
    "Run the simulation $T$ periods and plot the state of the simulation again"
   ]
  },
  {
   "cell_type": "code",
   "execution_count": null,
   "metadata": {},
   "outputs": [],
   "source": [
    "sim.run_sim()\n",
    "sim.plot_state()"
   ]
  },
  {
   "cell_type": "markdown",
   "metadata": {},
   "source": [
    "Obviously, the segregation happened quickly!"
   ]
  },
  {
   "cell_type": "code",
   "execution_count": null,
   "metadata": {},
   "outputs": [],
   "source": [
    "# See state at various iterations\n",
    "sim.plot_state(2)"
   ]
  },
  {
   "cell_type": "markdown",
   "metadata": {},
   "source": [
    "We can make a GIF of the development. Needs a stored image for each iteration. "
   ]
  },
  {
   "cell_type": "code",
   "execution_count": null,
   "metadata": {},
   "outputs": [],
   "source": [
    "sim.make_gif()# See GIF in folder"
   ]
  },
  {
   "cell_type": "markdown",
   "metadata": {},
   "source": [
    "Lets **experiment** a bit with the cutoff: "
   ]
  },
  {
   "cell_type": "code",
   "execution_count": null,
   "metadata": {},
   "outputs": [],
   "source": [
    "mp.cutoff = 0.5\n",
    "sim.setup_sim(mp)\n",
    "sim.run_sim()\n",
    "sim.plot_state()"
   ]
  },
  {
   "cell_type": "markdown",
   "metadata": {},
   "source": [
    "## Code structure\n",
    "\n",
    "The code is organized around object oriented programming principles. \n",
    "* The simulation is an object\n",
    "* Each square is an object\n",
    "* Each citizen is an object"
   ]
  },
  {
   "cell_type": "markdown",
   "metadata": {},
   "source": [
    "**Key attributes of the model objects**\n",
    "* *The simulation object:*\n",
    "    * A list of references to all squares in the landscape\n",
    "    * A list of references to all citizens\n",
    "* *A square object:*\n",
    "    * A list of references to all neighbouring squares\n",
    "    * A reference to the citizen occupying the square (if any)\n",
    "    * Number of group A and B neighbours\n",
    "* *A citizen object:*\n",
    "    * A reference to its current square   \n",
    "  "
   ]
  },
  {
   "cell_type": "markdown",
   "metadata": {},
   "source": [
    "### A quick refresher on objects and references\n",
    " \n",
    "* Everything in Python is an object   \n",
    "* Lists and assignments only contain **references** to the underlying objects.\n",
    "\n",
    "Let's say we create the objects `a` and `b`. \n",
    "\n",
    "If we put those into `list1` and `list2`, then these lists only contain a **reference** to `a` and `b`.\n",
    "\n",
    "So that if we update an element in `list1`, we **also** update `list2`, because their elements refer to the same underlying objects. \n",
    "\n",
    "See the diagram below:\n",
    "\n",
    "<img src=\"references_diagram.png\" alt=\"Drawing\" style=\"width: 400px;\"/> "
   ]
  },
  {
   "cell_type": "markdown",
   "metadata": {},
   "source": [
    "The code shows how to harness references for making a robust implementation!"
   ]
  },
  {
   "cell_type": "markdown",
   "metadata": {},
   "source": [
    "### The model \"algorithm\"\n",
    "\n",
    "Create simulation object, model parameter object and initialize simulation.   \n",
    "**for** t = 1:T   \n",
    "&emsp;fetch all discontent citizens   \n",
    "&emsp;fetch all free squares that would make citizens of each group content   \n",
    "&emsp;**for** `dc` in discontent_citizens:   \n",
    "&emsp;&emsp;Fetch a new avaible, satisfactory square   \n",
    "&emsp;&emsp;**for** all neighbors to `dc`'s current square   \n",
    "&emsp;&emsp;&emsp;**-1** to counter of `dc.type` neighbours (A or B)   \n",
    "&emsp;&emsp;**delete** references between current square and `dc` (moving away)   \n",
    "&emsp;&emsp;**create** references between new square and `dc` (moving in)   \n",
    "&emsp;&emsp;**for** all neighbors to new square   \n",
    "&emsp;&emsp;&emsp;**+1** to counter of `dc.type` neighbours"
   ]
  },
  {
   "cell_type": "markdown",
   "metadata": {},
   "source": [
    "**How does OOP help the implementation?**\n",
    "* When a citizen considers moving into a new square, all necessary information is stored in that square.\n",
    "* That is, the square has a reference to each neighbour, which in turn has a reference to the residing citizen.\n",
    "* You can say that the object form a *chain* through referencing.\n",
    "* Thereby, through referencing each square \"knows\" its type of neighbours.\n",
    "* Pro: references are very lightweight, so it does not cost a lot of memory that each square is referenced 8 times. \n",
    "* Pro: code becomes easy to interpret and easy to change. E.g. a square may get 2 surrounding rows of neighbours instead of 1 (let's try that). \n",
    "* Con: the simulation is running in pure Python. Not terribly fast. "
   ]
  },
  {
   "cell_type": "markdown",
   "metadata": {},
   "source": [
    "We'll have a look at the code if time permits."
   ]
  },
  {
   "cell_type": "markdown",
   "metadata": {},
   "source": [
    "# Structural estimation and the consumption savings model"
   ]
  },
  {
   "cell_type": "markdown",
   "metadata": {},
   "source": [
    "We have already encountered the canonical consumption-savings model back in L11 and in the problem set. \n",
    " \n",
    "* The great **benefit** of such a model is that it can be used to run **counter factual scenarios** based on economic policy.\n",
    "* For example, we may want to know how people react to stimulus packages during covid. [An example of such an exercise](carroll_2020.pdf).\n",
    "* But then we need the model to be **empirically relevant**!\n",
    "* When we solved it, we just plugged in some parameters that seemed reasonable.\n",
    "* That is not good enough for proper policy guidance.\n",
    "* We need to estimate the core parameters from data.\n",
    "* This is called **structural estimation**. \n",
    "* Structural estimation means that you impose behavioral structure (given by the model) on your data to get statistical predictions.\n",
    "* In our current example, we impose that people are forward looking, optimizing and derive utility from choices in a certain way. \n",
    "* For more material, go to Jeppes repository [ConsumptionSavingNotebooks](https://github.com/NumEconCopenhagen/ConsumptionSavingNotebooks) and check out the links on [numeconcopenhagen](https://numeconcopenhagen.netlify.app/)."
   ]
  },
  {
   "cell_type": "markdown",
   "metadata": {},
   "source": [
    "<font size=\"4\">Quick refresher on the consumption savings model</font>   \n",
    "A household lives for 2 periods and makes decisions on consumption and saving in each period.  \n",
    "\n",
    "The problem of the household is **solved backwards**, since choices today affects the household's state tomorrow.\n",
    "\n",
    "**Second period:**   \n",
    "household gets utility from **consuming** and **leaving a bequest** (warm glow),\n",
    "\n",
    "$$\n",
    "\\begin{aligned}\n",
    "v_{2}(m_{2})&= \\max_{c_{2}}\\frac{c_{2}^{1-\\rho}}{1-\\rho}+\\nu\\frac{(a_2+\\kappa)^{1-\\rho}}{1-\\rho}\\\\\n",
    "\\text{s.t.} \\\\\n",
    "a_2 &= m_2-c_2 \\\\\n",
    "a_2 &\\geq 0\n",
    "\\end{aligned}\n",
    "$$\n",
    "\n",
    "where\n",
    "* $m_t$ is cash-on-hand \n",
    "* $c_t$ is consumption\n",
    "* $a_t$ is end-of-period assets \n",
    "* $\\rho > 1$ is the risk aversion coefficient\n",
    "* $\\nu > 0 $ is the strength of the bequest motive\n",
    "* $\\kappa > 0$ is the degree of luxuriousness in the bequest motive  \n",
    "* $a_2\\geq0$ ensures the household *cannot* die in debt"
   ]
  },
  {
   "cell_type": "markdown",
   "metadata": {},
   "source": [
    "**First period:**   \n",
    "the household gets utility from immediate consumption.  Household takes into account that next period income is stochastic.\n",
    "\n",
    "$$\n",
    "\\begin{aligned}\n",
    "v_1(m_1)&=\\max_{c_1}\\frac{c_{1}^{1-\\rho}}{1-\\rho}+\\beta\\mathbb{E}_{1}\\left[v_2(m_2)\\right]\\\\&\\text{s.t.}&\\\\\n",
    "a_1&=m_1-c_1\\\\\n",
    "m_2&= (1+r)(m_1-c_1)+y_2 \\\\\n",
    "y_{2}&= \\begin{cases}\n",
    "1-\\Delta & \\text{with prob. }0.5\\\\\n",
    "1+\\Delta & \\text{with prob. }0.5 \n",
    "\\end{cases}\\\\\n",
    "a_1&\\geq0\n",
    "\\end{aligned}\n",
    "$$\n",
    "\n",
    "where\n",
    "* $\\beta > 0$ is the discount factor\n",
    "* $\\mathbb{E}_1$ is the expectation operator conditional on information in period 1\n",
    "* $y_2$ is income in period 2\n",
    "* $\\Delta \\in (0,1)$ is the level of income risk (mean-preserving)\n",
    "* $r$ is the interest rate\n",
    "* $a_1\\geq0$ ensures the household *cannot* borrow"
   ]
  },
  {
   "cell_type": "markdown",
   "metadata": {},
   "source": [
    "<font size=\"5\">How are the parameters of such a model estimated?</font>\n",
    "\n",
    "* We can use **Simulated Minimum Distance** (SMD), aka Simulated Method of Moments, aka matching on moments. \n",
    "* Yes, it is closely related to GMM.\n",
    "* It is a Swiss-army knife of structural estimation, generally available. \n",
    "* Word on the street: *\"if you can simulate it, you can estimate it\"*\n",
    "* Other structural models may be estimated by maximum likelihood (preferable when possible). \n",
    "* Today, we will only look at parameters estimates to get the intuition right. \n",
    "* Standard errors are for another day, see [here](https://github.com/NumEconCopenhagen/ConsumptionSavingNotebooks/blob/master/00.%20DynamicProgramming/04.%20Structural%20Estimation.ipynb) if you are interested. "
   ]
  },
  {
   "cell_type": "markdown",
   "metadata": {},
   "source": [
    "## Simulated Minimum Distance\n",
    "\n",
    "**Outline**   \n",
    "1. Define the set of parameters to be estimated, denoted $\\theta$. We set $\\theta = \\rho$, the risk aversion. \n",
    "2. Define a set of moments from data that can identify $\\theta$. (The tricksy part)\n",
    "3. We will use 3 moments: mean consumption in period 1 and 2, and mean variance in consumption across periods.\n",
    "4. These moments are calculated from an empirical data set.\n",
    "5. We then simulate the model with trial values of $\\rho$ until the moments from the simulated data is close to the empirical moments. \n"
   ]
  },
  {
   "cell_type": "markdown",
   "metadata": {},
   "source": [
    "**Definitions**\n",
    "\n",
    "* We have individual observations on $N^d$ individuals over $T^d$ periods, denoted $w_i$.\n",
    "* We assume that the empirical  data is generated by our model which is parameterized by $\\theta_{dgp}$\n",
    "* We define a moment generating function: \n",
    "    * $\\Lambda = \\frac{1}{N}\\sum_{i=1}^N m(\\theta|w_i)$\n",
    "* As noted $\\Lambda$, holds the mean of $c_1$, mean of $c_2$ and mean of $\\text{var}(c_1,c_2)$\n",
    "* Thus, the moments from data is given by \n",
    "    * $\\Lambda_{data} = \\frac{1}{N^d}\\sum_{i=1}^{N^d} m(\\theta_{dgp}|w_i)$\n",
    "* Given the *guess* $\\theta$ on the data generating parameter $\\theta_{dgp}$, we can simulate the same set of moments from the model.\n",
    "* Therefore, we simulate $N^s$ individuals over $T^s$ periods, and the outcome observation is denoted $w_s$\n",
    "* The simulated set of moments are given by \n",
    "    * $\\Lambda_{sim}(\\theta) = \\frac{1}{N_{sim}}\\sum_{s=1}^{N_{sim}} m(\\theta|w_s)$ \n",
    "* Finally, we define the function $g(\\theta)$, which is the difference between data moments and simulation moments:\n",
    "    * $g(\\theta)=\\Lambda_{data}-\\Lambda_{sim}(\\theta)$"
   ]
  },
  {
   "cell_type": "markdown",
   "metadata": {},
   "source": [
    "**Simulated Minimum Distance (SMD)** estimator is then given by\n",
    "\n",
    "$$\n",
    "\\hat{\\theta} = \\arg\\min_{\\theta} g(\\theta)'Wg(\\theta)\n",
    "$$\n",
    "\n",
    "where $W$ is a **weighting matrix**. $W$ is $J \\times J$, where $J$ is the number of moments. The relative size of elements in $W$ determines the importance of the corresponding moments.   \n",
    "One can derive an optimal $W$, but in practice, the Identity matrix often works well. So in our case:\n",
    "$$ \n",
    "\\begin{aligned}\n",
    "W = \n",
    "\\begin{bmatrix} \n",
    "1 & 0 & 0 \\\\ \n",
    "0 & 1 & 0 \\\\\n",
    "0 & 0 & 1\n",
    "\\end{bmatrix} \n",
    "\\end{aligned}\n",
    "$$\n"
   ]
  },
  {
   "cell_type": "markdown",
   "metadata": {},
   "source": [
    "**Quick quizz** on the SMD. Go [here](https://forms.office.com/Pages/ResponsePage.aspx?id=kX-So6HNlkaviYyfHO_6kckJrnVYqJlJgGf8Jm3FvY9UQVBKWlg3RVpJV1ZPRURVRVo0Q0dWTEVBRiQlQCN0PWcu) for a link."
   ]
  },
  {
   "cell_type": "markdown",
   "metadata": {},
   "source": [
    "### Estimating our model\n",
    "\n",
    "Firstly, the consumption savings model of Lecture 11 has been moved into the class `ConsumptionSavingModel` in the module ConsumptionSaving.    \n",
    "\n",
    "Based on a set of \"true\" parameters we simulate the model for $N^d$ individuals. The outcome is our \"empirical\" data set.  \n",
    "\n",
    "We therefore know exactly what our estimation should lead to. This is an **important exercise** whenever you do structural estimation. Test if you can estimate on synthetical data.  \n",
    "\n",
    "The \"true\" data generating parameters."
   ]
  },
  {
   "cell_type": "code",
   "execution_count": null,
   "metadata": {},
   "outputs": [],
   "source": [
    "par_dgp = SimpleNamespace()\n",
    "par_dgp.rho = 8\n",
    "par_dgp.kappa = 0.5\n",
    "par_dgp.nu = 0.1\n",
    "par_dgp.r = 0.04\n",
    "par_dgp.beta = 0.94\n",
    "par_dgp.Delta = 0.5"
   ]
  },
  {
   "cell_type": "markdown",
   "metadata": {},
   "source": [
    "Create a model object based on true parameters and solve it:"
   ]
  },
  {
   "cell_type": "code",
   "execution_count": null,
   "metadata": {},
   "outputs": [],
   "source": [
    "true_model = cs.ConsumptionSavingModel(par_dgp)\n",
    "m1,c1,m2,c2 = true_model.solve()"
   ]
  },
  {
   "cell_type": "markdown",
   "metadata": {},
   "source": [
    "Visualize the solution just to be sure that it looks right"
   ]
  },
  {
   "cell_type": "code",
   "execution_count": 28,
   "metadata": {
    "tags": []
   },
   "outputs": [
    {
     "data": {
      "image/png": "[encoded data removed]",
      "text/plain": [
       "<Figure size 432x288 with 1 Axes>"
      ]
     },
     "metadata": {},
     "output_type": "display_data"
    }
   ],
   "source": [
    "fig = plt.figure()\n",
    "ax = fig.add_subplot(1,1,1)\n",
    "ax.plot(m1,c1, label=f'Period {1}')\n",
    "ax.plot(m2,c2, label=f'Period {2}')\n",
    "ax.legend(loc='lower right',facecolor='white',frameon=True)\n",
    "ax.set_xlabel('$m_t$')\n",
    "ax.set_ylabel('$c_t$')\n",
    "ax.set_title('Policy functions')\n",
    "ax.set_xlim([0,2])\n",
    "ax.set_ylim([0,1.5]);"
   ]
  },
  {
   "cell_type": "markdown",
   "metadata": {},
   "source": [
    "Based on the solution, we can create a distribution of initial cash-on-hand, $m_1$, and simulate the following consumption savings paths "
   ]
  },
  {
   "cell_type": "code",
   "execution_count": null,
   "metadata": {},
   "outputs": [],
   "source": [
    "# Simulate a data set based on the true model\n",
    "simN = 100_000\n",
    "true_model.sim_m1 = np.fmax(np.random.normal(1,0.1,size=simN), 0) #np.fmax: One cannot have negative m\n",
    "data_c1, data_c2 = true_model.simulate() # Simulate choices based on initial m"
   ]
  },
  {
   "cell_type": "markdown",
   "metadata": {},
   "source": [
    "We also need to set up a model for estimation.   \n",
    "We want to estimate $\\rho$. This info is provided as an attribute to the model."
   ]
  },
  {
   "cell_type": "code",
   "execution_count": null,
   "metadata": {
    "tags": []
   },
   "outputs": [],
   "source": [
    "# Create model object for estimation\n",
    "par = copy(par_dgp)\n",
    "est_model = cs.ConsumptionSavingModel(par)\n",
    "est_model.theta_name = 'rho'\n",
    "est_model.sim_m1 = np.fmax(np.random.normal(1,0.1,size=simN),0)"
   ]
  },
  {
   "cell_type": "markdown",
   "metadata": {},
   "source": [
    "The function $\\Lambda = \\frac{1}{N}\\sum_{i=1}^N m(\\theta|w_i)$ is called `moment_func()`"
   ]
  },
  {
   "cell_type": "code",
   "execution_count": null,
   "metadata": {
    "tags": []
   },
   "outputs": [],
   "source": [
    "def moment_func(c1, c2):\n",
    "    mom1 = c1.mean()\n",
    "    mom2 = c2.mean()\n",
    "    mom3 = np.var(np.stack((c1, c2)), axis=0).mean() # Averaging the variance of [c_1, c_2] over individuals\n",
    "    return np.array([mom1, mom2, mom3])"
   ]
  },
  {
   "cell_type": "markdown",
   "metadata": {},
   "source": [
    "The function $g(\\theta)=\\Lambda_{data}-\\Lambda_{sim}(\\theta)$ is called `moments_diff()`"
   ]
  },
  {
   "cell_type": "code",
   "execution_count": null,
   "metadata": {
    "tags": []
   },
   "outputs": [],
   "source": [
    "def moments_diff(model, data_moms):\n",
    "    sim_c1, sim_c2 = model.simulate() # sim_c1 and sim_c2 are arrays \n",
    "    sim_moms = moment_func(sim_c1, sim_c2) \n",
    "    return sim_moms - data_moms "
   ]
  },
  {
   "cell_type": "markdown",
   "metadata": {},
   "source": [
    "Our objective $g(\\theta)'Wg(\\theta)$ is in the function `obj_func()` "
   ]
  },
  {
   "cell_type": "code",
   "execution_count": null,
   "metadata": {
    "tags": []
   },
   "outputs": [],
   "source": [
    "def obj_func(theta, model, data_moms, W):\n",
    "    setattr(model.par, model.theta_name, theta)\n",
    "    diff = moments_diff(model, data_moms)\n",
    "    obj = diff @ W @ diff\n",
    "    return obj"
   ]
  },
  {
   "cell_type": "markdown",
   "metadata": {},
   "source": [
    "We can now calculate data moments, $\\Lambda_{data}$ and define $W$"
   ]
  },
  {
   "cell_type": "code",
   "execution_count": null,
   "metadata": {
    "tags": []
   },
   "outputs": [],
   "source": [
    "data_moms = moment_func(data_c1, data_c2)\n",
    "W = np.eye(len(data_moms))\n",
    "\n",
    "print('Data moments\\n', data_moms)\n",
    "print('Weighting matrix\\n',W)"
   ]
  },
  {
   "cell_type": "markdown",
   "metadata": {},
   "source": [
    "We are now ready to estimate!   \n",
    "\n",
    "**The estimation algorithm is as follows:**\n",
    "1. Calculate data moments, define $W$ and initial guess at estimated parameter $\\theta = \\theta^{guess}_0$. Set stopping threshold $\\epsilon > 0$.  \n",
    "2. Solve the model.\n",
    "3. Simulate moments from the solution.\n",
    "4. Calculate the objective based on simulated moments.\n",
    "5. Make a new guess $\\theta^{guess}_1$ \n",
    "6. Perform 2.-4. based on $\\theta^{guess}_1$ \n",
    "7. If the **change** in objective value from the two simulations is below $\\epsilon$, then stop.  \n",
    "    Otherwise reiterate 5.-7."
   ]
  },
  {
   "cell_type": "markdown",
   "metadata": {},
   "source": [
    "**Warning:** Estimation by simulation can be very time consuming.\n",
    "\n",
    "Here we use **Nelder-Mead** as the objective function can be rugged, which it handles well."
   ]
  },
  {
   "cell_type": "code",
   "execution_count": null,
   "metadata": {},
   "outputs": [],
   "source": [
    "# Estimation of rho\n",
    "rho_guess = 6\n",
    "res = optimize.minimize(obj_func, rho_guess, \n",
    "                            args=(est_model, data_moms, W), method='nelder-mead')\n",
    "\n",
    "display(res)"
   ]
  },
  {
   "cell_type": "code",
   "execution_count": null,
   "metadata": {},
   "outputs": [],
   "source": [
    "print(f'rho_hat = {res.x[0]:1.4f}')"
   ]
  },
  {
   "cell_type": "markdown",
   "metadata": {},
   "source": [
    "**Profile of the objective function**"
   ]
  },
  {
   "cell_type": "code",
   "execution_count": null,
   "metadata": {},
   "outputs": [],
   "source": [
    "npoints = 20\n",
    "rhos = np.linspace(6.5, 9.5, npoints)\n",
    "obj_vals = np.empty((npoints,))\n",
    "for i,rho in enumerate(rhos):\n",
    "    obj_vals[i] = obj_func(rho, est_model, data_moms, W)"
   ]
  },
  {
   "cell_type": "code",
   "execution_count": null,
   "metadata": {},
   "outputs": [],
   "source": [
    "fig = plt.figure()\n",
    "ax = fig.add_subplot(1,1,1)\n",
    "ax.plot(rhos,obj_vals)\n",
    "ax.set_xlabel(r'$\\rho_{guess}$')\n",
    "ax.set_ylabel('Objective')\n",
    "ax.set_title(r'Profile of objective function. True $\\rho = 8.0$')\n",
    "plt.show()"
   ]
  }
 ],
 "metadata": {
  "kernelspec": {
   "display_name": "Python 3",
   "language": "python",
   "name": "python3"
  },
  "language_info": {
   "codemirror_mode": {
    "name": "ipython",
    "version": 3
   },
   "file_extension": ".py",
   "mimetype": "text/x-python",
   "name": "python",
   "nbconvert_exporter": "python",
   "pygments_lexer": "ipython3",
   "version": "3.8.8"
  }
 },
 "nbformat": 4,
 "nbformat_minor": 4
}
