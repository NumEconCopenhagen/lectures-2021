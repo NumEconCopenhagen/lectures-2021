{
 "cells": [
  {
   "cell_type": "code",
   "execution_count": 1,
   "id": "5250ec06",
   "metadata": {},
   "outputs": [],
   "source": [
    "import numpy as np\n",
    "from types import SimpleNamespace\n",
    "%load_ext autoreload\n",
    "%autoreload 2\n",
    "\n",
    "%matplotlib inline\n",
    "import matplotlib.pyplot as plt\n",
    "plt.style.use('seaborn-whitegrid')\n",
    "\n",
    "# Import additional libraries: "
   ]
  },
  {
   "cell_type": "markdown",
   "id": "4650aed5",
   "metadata": {},
   "source": [
    "# The logit model\n",
    "\n",
    "In the following, we will consider the logit model for a binary discrete choice. That is, an agent is either taking a specific action, or not taking it (Think buying a car, exit the labor market etc). \n",
    "\n",
    "We imagine that the benefit of taking the action in question is described by a linear utility index $y_i^*$. This depends on two exogenous variables $x_1$ and $x_2$ and a random shock $\\epsilon$:\n",
    "\n",
    "$$\n",
    "\\begin{aligned}\n",
    "\ty_{i}^*  =&\\beta_{0} + \\beta_{1}x^1_{i} + \\beta_{2}x^2_{i} + \\epsilon_i \\\\\n",
    "    =& x_{i}\\beta + \\epsilon_i \\\\\n",
    "    & \\epsilon \\sim logistic(0,1)\n",
    "\\end{aligned}\n",
    "$$\n",
    "\n",
    "The econometrician does not observe the utility index; only the *actual choice* based on the index is observed. We therefore associate the indicator variable $y_i$ with the choice taken by individual $i$\n",
    "\n",
    "$$\n",
    "\\begin{aligned}\n",
    "\ty_i & = 1 \\Leftrightarrow y^* > 0 \\Leftrightarrow \\text{Choice is taken} \\\\\n",
    "\ty_i & = 0 \\Leftrightarrow y^* \\le 0 \\Leftrightarrow \\text{Choice is not taken}\n",
    "\\end{aligned}\n",
    "$$\n",
    "\n",
    "Because we assume that the utility shocks follow a logistic distribution, we can formulate the **probability** that an individual chooses to take the action by\n",
    "\n",
    "$$\n",
    "\\begin{aligned}\n",
    "\tP(y_i = 1|x_i;\\beta) &= \\frac{\\exp(x_i \\beta)}{1 + \\exp(x_i \\beta)} \\\\\n",
    "\tP(y_i = 0|x_i;\\beta) &= 1 - P(y_i = 1|x_i;\\beta)\n",
    "\\end{aligned}\n",
    "$$\n",
    "\n",
    "We can now use the formulation of choice probabilities to estimate the parameters $\\beta$ by maximum likelihood. That is, we write up the log-likelihood function \n",
    "\n",
    "$$\n",
    "\\begin{equation}\n",
    "\tLL(\\beta) = \\sum \\limits_{i=1}^{N}y_i\\log(P(y_i = 1|x_i;\\beta)) + (1-y_i)\\log(1-P(y_i = 1|x_i;\\beta))\n",
    "\\end{equation}\n",
    "$$\n",
    "\n",
    "Maximizing $LL(\\beta)$ with respect to $\\beta$ yields the estimated parameters $\\hat{\\beta}$\n",
    "\n",
    "$$\n",
    "\\hat{\\beta} = \\arg\\max \\limits_{\\beta}LL(\\beta)\n",
    "$$"
   ]
  },
  {
   "cell_type": "markdown",
   "id": "c90f80e4",
   "metadata": {},
   "source": [
    "The function `DGP()` will create the $N$ observations of $(y_i,x_i)$:"
   ]
  },
  {
   "cell_type": "code",
   "execution_count": 2,
   "id": "03f37f92",
   "metadata": {},
   "outputs": [],
   "source": [
    "def DGP(mp):\n",
    "    ''' The data generating process behind binary choice model\n",
    "    \n",
    "    Args:\n",
    "        mp (SimpleNamespace): object containing parameters for data generation\n",
    "    \n",
    "    Returns:\n",
    "        y_obs (ndarray): indicator for binary choices made by individuals\n",
    "        x_obs (ndarray): independent variables \n",
    "    \n",
    "    '''\n",
    "\n",
    "    # a. Exogenous variables\n",
    "    x0 = np.tile(1.0, mp.N)\n",
    "    x1 = np.random.normal(**mp.x1_distr)\n",
    "    x2 = np.random.normal(**mp.x2_distr)\n",
    "    x_obs = np.vstack((x0, x1, x2)).T\n",
    "\n",
    "    # b. Probabilities of action choice \n",
    "    y_prb = np.exp(x_obs @ mp.beta) / (1 + np.exp(x_obs @ mp.beta))\n",
    "\n",
    "    # c. Draw binary choices from the binomial distribution \n",
    "    y_obs = np.random.binomial(1, y_prb)\n",
    "    return y_obs, x_obs"
   ]
  },
  {
   "cell_type": "markdown",
   "id": "d755334d",
   "metadata": {},
   "source": [
    "Create your data using the following parameterization:"
   ]
  },
  {
   "cell_type": "code",
   "execution_count": 3,
   "id": "67e81e0b",
   "metadata": {},
   "outputs": [],
   "source": [
    "# Parameters\n",
    "mp = SimpleNamespace()\n",
    "mp.beta = np.array([0.15, 0.1, 0.2])\n",
    "mp.N = 100_000\n",
    "mp.x1_distr = {'loc': 4, 'scale': 3, 'size': mp.N}\n",
    "mp.x2_distr = {'loc': 1, 'scale': 0.5, 'size': mp.N}\n",
    "\n",
    "# Create data\n",
    "np.random.seed(2021)\n",
    "y_obs, x_obs = DGP(mp)"
   ]
  },
  {
   "cell_type": "markdown",
   "id": "407d46d2",
   "metadata": {},
   "source": [
    "**Question 1:** Create a function that calculates the log-likelihood of your data based on a $\\beta$. That is, the function must take as arguments an array `beta`, `y_obs` and `x_obs` "
   ]
  },
  {
   "cell_type": "code",
   "execution_count": null,
   "id": "fae1f0ae",
   "metadata": {},
   "outputs": [],
   "source": [
    "# Example\n",
    "def log_likelihood(beta, y_obs, x_obs):\n",
    "    pass"
   ]
  },
  {
   "cell_type": "markdown",
   "id": "b3fbeb66",
   "metadata": {},
   "source": [
    "**Question 2:** Make a 3d-plot of the likelihood function where $\\beta_1$ and $\\beta_2$ are on the horizontal axes, and the log-likelihood is on the vertical axis. Visually confirm that it peaks at the data generating $\\beta_1$ and $\\beta_2$.    \n",
    "\n",
    "*Note:* You can let $\\beta_0$=`mp.beta[0]`. Make sure that `mp.beta[1]` and `mp.beta[2]` are in the grids over $\\beta_1$ and $\\beta_2$. "
   ]
  },
  {
   "cell_type": "markdown",
   "id": "1852bbe3",
   "metadata": {},
   "source": [
    "**Question 3:** Estimate $\\beta$ by maximum likelihood. You may use a gradient-free approach or gradients if you will. "
   ]
  },
  {
   "cell_type": "markdown",
   "id": "2dd4e164",
   "metadata": {},
   "source": [
    "**Question 4:** Based on your estimated parameters, simulate a choice `y_sim` pr individual in `x_obs`. Create an output table that shows the following 4 statistics:   \n",
    "The number of times where:\n",
    "* `y_obs` = 1 and `y_sim` = 1\n",
    "* `y_obs` = 1 and `y_sim` = 0\n",
    "* `y_obs` = 0 and `y_sim` = 1\n",
    "* `y_obs` = 0 and `y_sim` = 0 \n",
    "\n",
    "Comment on the distribution of occurances across cells in the table."
   ]
  },
  {
   "cell_type": "markdown",
   "id": "1cb3bb6e",
   "metadata": {},
   "source": [
    "**Question 5:** Test if your initial guess of $\\beta$ will have an impact on the final estimate. Why do you think there is/is not an impact? "
   ]
  },
  {
   "cell_type": "markdown",
   "id": "7d157b79",
   "metadata": {},
   "source": [
    "# Consumption saving with borrowing"
   ]
  },
  {
   "cell_type": "markdown",
   "id": "c59a6135",
   "metadata": {},
   "source": [
    "We are now considering the consumption-savings model with an extension: households may **borrow** money in the first period. Additionally, there are **2 kinds** of households: the first type will likely see a **low level** of period 2 income, whereas the second type will likely see a **high** second period income. \n",
    "\n",
    "A household lives for 2 periods and makes decisions on consumption and saving in each period.  \n",
    "\n",
    "**Second period:**   \n",
    "Solving the consumer problem in the second period is similar to the baseline case we have seen before.\n",
    "\n",
    "The household gets utility from **consuming** and **leaving a bequest** (warm glow),\n",
    "\n",
    "$$\n",
    "\\begin{aligned}\n",
    "v_{2}(m_{2})&= \\max_{c_{2}}\\frac{c_{2}^{1-\\rho}}{1-\\rho}+\\nu\\frac{(a_2+\\kappa)^{1-\\rho}}{1-\\rho}\\\\\n",
    "\\text{s.t.} \\\\\n",
    "a_2 &= m_2-c_2 \\\\\n",
    "a_2 &\\geq 0\n",
    "\\end{aligned}\n",
    "$$\n",
    "\n",
    "where\n",
    "* $m_t$ is cash-on-hand \n",
    "* $c_t$ is consumption\n",
    "* $a_t$ is end-of-period assets \n",
    "* $\\rho > 1$ is the risk aversion coefficient\n",
    "* $\\nu > 0 $ is the strength of the bequest motive\n",
    "* $\\kappa > 0$ is the degree of luxuriousness in the bequest motive  \n",
    "* $a_2\\geq0$ ensures the household *cannot* die in debt"
   ]
  },
  {
   "cell_type": "markdown",
   "id": "fc5ff5a3",
   "metadata": {},
   "source": [
    "**First period:**   \n",
    "The household gets utility from immediate consumption.  Household takes into account that next period income is stochastic.\n",
    "\n",
    "$$\n",
    "\\begin{aligned}\n",
    "v_1(m_1)&=\\max_{c_1}\\frac{c_{1}^{1-\\rho}}{1-\\rho}+\\beta\\mathbb{E}_{1}\\left[v_2(m_2)\\right]\\\\&\\text{s.t.}&\\\\\n",
    "a_1 & = m_1 - c_1 \\\\\n",
    "m_2 & = (1+r)a_1 + y_2 \\\\\n",
    "y_{2} & = \\begin{cases}\n",
    "1 - \\Delta & \\text{with prob. } P_{low}\\\\\n",
    "1 + \\Delta & \\text{with prob. } P_{high} \n",
    "\\end{cases}\\\\\n",
    "a_1 & > -\\frac{1-\\Delta}{1+r} \n",
    "\\end{aligned}\n",
    "$$\n",
    "\n",
    "where\n",
    "* $\\beta > 0$ is the discount factor\n",
    "* $\\mathbb{E}_1$ is the expectation operator conditional on information in period 1\n",
    "* $y_2$ is income in period 2\n",
    "* $\\Delta \\in (0,1)$ is the level of income risk \n",
    "* $r$ is the interest rate\n",
    "* $\\frac{1-\\Delta}{1+r} > c_1 - m_1$ ensures the household cannot borrow *more* than it will be able to repay in next period when $y_2$ is received.\n",
    "\n",
    "The **2 types** of households are defined by their different $(P_{low},P_{high})$:\n",
    "* Type 1: \n",
    "    * $P_{low} = 0.9$ \n",
    "    * $P_{high} = 0.1$\n",
    "* Type 2:\n",
    "    * $P_{low} = 0.1$ \n",
    "    * $P_{high} = 0.9$"
   ]
  },
  {
   "cell_type": "code",
   "execution_count": 82,
   "id": "203c8a96",
   "metadata": {},
   "outputs": [],
   "source": [
    "# Parameters\n",
    "rho = 3\n",
    "kappa = 0.5\n",
    "nu = 0.1\n",
    "r = 0.04\n",
    "beta = 0.95\n",
    "Delta = 0.5\n",
    "# Add income prb parameters\n",
    "\n",
    "# Tip: for each household type, create a SimpleNamespace \n",
    "# or dictionary for storing all the parameters "
   ]
  },
  {
   "cell_type": "markdown",
   "id": "b73dd21f",
   "metadata": {},
   "source": [
    "**Question 1** Solve the model for each type of household. Plot the value functions $v_1(m_1)$ and $v_2(m_2)$ in one graph for each household type. Comment on the differences."
   ]
  },
  {
   "cell_type": "markdown",
   "id": "eeafd888",
   "metadata": {},
   "source": [
    "**Question 2** From the model solution, obtain the optimal consumption functions $c_1^*(m_1)$ and $c_2^*(m_2)$. Plot these in one graph for each type of household. Comment on the observed differences between household types. "
   ]
  },
  {
   "cell_type": "markdown",
   "id": "0422cce9",
   "metadata": {},
   "source": [
    "**Question 3** Simulate `simN` households of each type based on the distribution of $m_1$ below. You can use the same distribution for both household types. What is the fraction of households who *borrow* in period 1, $c_1 > m_1$, in each group?"
   ]
  },
  {
   "cell_type": "code",
   "execution_count": null,
   "id": "eb83dc12",
   "metadata": {},
   "outputs": [],
   "source": [
    "np.random.seed(2021)\n",
    "simN = 1000\n",
    "# No one gets negative m in first period\n",
    "sim_m1 = np.fmax(np.random.normal(1, 1, size = simN), 0) "
   ]
  },
  {
   "cell_type": "markdown",
   "id": "a6df4b0f",
   "metadata": {},
   "source": [
    "# Division by Newton's method"
   ]
  },
  {
   "cell_type": "markdown",
   "id": "700c9bfb",
   "metadata": {},
   "source": [
    "One can obtain the numerical ratio of 2 real numbers **using only multiplication** and harnessing Newton's method! This may be helpful when the numbers are very large because division methods of large numbers is costly.  \n",
    "\n",
    "Our objective is to find the numerical $x$ \n",
    "$$\n",
    "x = \\frac{n}{d}\n",
    "$$\n",
    "given the two numbers $n,d$. \n",
    "\n",
    "**First note** that if we can find the numeric value $\\tilde{d}$ \n",
    "$$\n",
    "\\tilde{d} = \\frac{1}{d}\n",
    "$$\n",
    "then we can readily obtain $x$ by \n",
    "$$\n",
    "x = n \\times \\tilde{d}\n",
    "$$\n",
    "\n",
    "Therefore, our objective comes down to finding the value of $\\tilde{d}$ and the rest is trivial.\n",
    "\n",
    "**Second, note** that Newton's method can be used to find the root $x^*$ of a function $f(x)$ by the iteration steps\n",
    "\n",
    "$$\n",
    "x_{k+1} = x_{k} - \\frac{f(x_{k})}{f^{\\prime}(x_{k})} \\equiv \\mathcal{N}(x_k) \n",
    "$$\n",
    "\n",
    "This means that if we can define some function $f(x)$ such that \n",
    "$$\n",
    "f(x) = 0 \\Leftrightarrow x = \\frac{1}{d}\n",
    "$$\n",
    "then the root $x^*$ provides us with the numerical value that we want.\n",
    "\n",
    "**Third, note** that the function $g(x)$\n",
    "$$\n",
    "g(x) = \\frac{1}{x}-d\n",
    "$$\n",
    "has the property $g(\\tilde{d}) = 0$, which means that $g(x)$ is a good candidate for $f(x)$.\n"
   ]
  },
  {
   "cell_type": "markdown",
   "id": "fc38369d",
   "metadata": {},
   "source": [
    "**Question 1:** By applying the function $g(x)$ in Newton's method, we can avoid any use of division during the run of the algorithm.   \n",
    "Derive the expression $\\frac{g(x)}{g'(x)}$. Do you see why there is no division involved?\n",
    "\n",
    "**Question 2:** Implement the algorithm below in code and test it. \n",
    "\n",
    "<font size=\"4\">Division algorithm</font>\n",
    "1. Choose a tolerance level $\\epsilon > 0$. Provide an initial guess $\\tilde{d}_0 \\ne 0$. Set $k = 0$.\n",
    "2. Calculate a new candidate root $\\tilde{d}_{k+1} = \\mathcal{N}(\\tilde{d}_k)$.\n",
    "3. If $|\\tilde{d}_{k+1} - \\tilde{d}_{k}| < \\epsilon$ then stop and return $x = n \\times \\tilde{d}_{k+1}$.\n",
    "4. Else, set $k = k + 1$ and return to step 2.\n",
    "\n",
    "**Important:** if the starting point $\\tilde{d}_0$ is too far off target, then you might not get convergence.   \n",
    "You can test your implementation with the example:   \n",
    "$n$ = 37.581    \n",
    "$d$ = 5.9   \n",
    "$\\tilde{d}_0$ = 0.2"
   ]
  },
  {
   "cell_type": "code",
   "execution_count": null,
   "id": "d3ef1c84",
   "metadata": {},
   "outputs": [],
   "source": [
    "def newton_division(n, d, d0, max_iter=500, tol=1e-8):\n",
    "    pass"
   ]
  }
 ],
 "metadata": {
  "kernelspec": {
   "display_name": "Python 3",
   "language": "python",
   "name": "python3"
  },
  "language_info": {
   "codemirror_mode": {
    "name": "ipython",
    "version": 3
   },
   "file_extension": ".py",
   "mimetype": "text/x-python",
   "name": "python",
   "nbconvert_exporter": "python",
   "pygments_lexer": "ipython3",
   "version": "3.8.8"
  }
 },
 "nbformat": 4,
 "nbformat_minor": 5
}
